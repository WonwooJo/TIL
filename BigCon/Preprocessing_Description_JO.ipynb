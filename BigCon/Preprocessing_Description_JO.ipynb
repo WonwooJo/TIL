{
 "cells": [
  {
   "cell_type": "code",
   "execution_count": 1,
   "metadata": {},
   "outputs": [],
   "source": [
    "import pandas as pd\n",
    "import numpy as np\n",
    "from sklearn.preprocessing import MinMaxScaler\n",
    "from sklearn.preprocessing import minmax_scale\n",
    "from scipy.stats import zscore\n",
    "from sklearn.preprocessing import StandardScaler, RobustScaler\n",
    "from sklearn.preprocessing import binarize\n",
    "from sklearn.preprocessing import Binarizer\n",
    "import matplotlib.pyplot as plt\n",
    "from datetime import datetime\n",
    "\n",
    "# 한글깨짐방지코드\n",
    "import matplotlib\n",
    "from matplotlib import font_manager, rc\n",
    "import platform\n",
    "if platform.system()==\"Windows\":\n",
    "    font_name=font_manager.FontProperties(fname=\"c:/Windows/Fonts/malgun.ttf\").get_name()\n",
    "    rc('font', family=font_name)\n",
    "matplotlib.rcParams['axes.unicode_minus']=False\n",
    "\n",
    "import warnings\n",
    "warnings.filterwarnings(\"ignore\")\n",
    "\n",
    "# 그래프 라이브러리\n",
    "import seaborn as sns\n",
    "import matplotlib.pyplot as plt\n",
    "\n",
    "# 통계 라이브러리 임포트\n",
    "import scipy.stats as stats"
   ]
  },
  {
   "cell_type": "code",
   "execution_count": 2,
   "metadata": {},
   "outputs": [],
   "source": [
    "Test=pd.read_excel('Evaluation_data.xlsx', skiprows=1,parse_dates=['방송일시'])"
   ]
  },
  {
   "cell_type": "code",
   "execution_count": null,
   "metadata": {},
   "outputs": [],
   "source": [
    "# "
   ]
  },
  {
   "cell_type": "code",
   "execution_count": 3,
   "metadata": {},
   "outputs": [],
   "source": [
    "# 요일 구분\n",
    "list1 = []\n",
    "for i in Test['방송일시']:\n",
    "    list1.append(i.weekday())\n",
    "weekday = pd.Series(list1)\n",
    "\n",
    "Test['요일'] = weekday\n",
    "Test['요일'] = Test['요일'].astype('category')"
   ]
  },
  {
   "cell_type": "code",
   "execution_count": 4,
   "metadata": {},
   "outputs": [],
   "source": [
    "# 요일 분류 → 월~일\n",
    "Test.loc[Test['요일'] == 0, '월'] = True\n",
    "Test.loc[Test['요일'] == 1, '화'] = True\n",
    "Test.loc[Test['요일'] == 2, '수'] = True\n",
    "Test.loc[Test['요일'] == 3, '목'] = True\n",
    "Test.loc[Test['요일'] == 4, '금'] = True\n",
    "Test.loc[Test['요일'] == 5, '토'] = True\n",
    "Test.loc[Test['요일'] == 6, '일'] = True\n",
    "\n",
    "Test['월'].fillna(False, inplace = True)\n",
    "Test['화'].fillna(False, inplace = True)\n",
    "Test['수'].fillna(False, inplace = True)\n",
    "Test['목'].fillna(False, inplace = True)\n",
    "Test['금'].fillna(False, inplace = True)\n",
    "Test['토'].fillna(False, inplace = True)\n",
    "Test['일'].fillna(False, inplace = True)"
   ]
  },
  {
   "cell_type": "code",
   "execution_count": 5,
   "metadata": {},
   "outputs": [],
   "source": [
    "# 2019년 공휴일\n",
    "from datetime import date, datetime\n",
    " \n",
    "MON, TUE, WED, THU, FRI, SAT, SUN = range(7)\n",
    " \n",
    "class holiday2020():\n",
    "    HOLIDAYS = ((1,1), # new Year\n",
    "                (1,24), # new Year0\n",
    "                (1,25), # new Year1\n",
    "                (1,26), # new Year2\n",
    "                (3,1), # 3.1\n",
    "                (4,15), # 21st Vote Day\n",
    "                (4,30), # Buddha Day\n",
    "                (5,5), # Children's Day\n",
    "                (6,6), # Memorial Day\n",
    "                (8,15), # Liberation Day\n",
    "                (9,30), # Thanksgiving0\n",
    "                (10,1), # Thanksgiving1\n",
    "                (10,2), # Thanksgiving2\n",
    "                (10,3), # National Foundation Day\n",
    "                (10,9), # Hangul Day\n",
    "                (12,25)) # Christmas\n",
    " \n",
    "    def is_holiday(self, daytuple):\n",
    "        HOLIDAYS = self.HOLIDAYS\n",
    "        if daytuple in HOLIDAYS:\n",
    "            return 1\n",
    "        else:\n",
    "            return 0"
   ]
  },
  {
   "cell_type": "code",
   "execution_count": 6,
   "metadata": {},
   "outputs": [],
   "source": [
    "l = []\n",
    "if __name__=='__main__':\n",
    "    for i in Test['방송일시']:\n",
    "        now = i\n",
    "        daytuple = ((now.month),(now.day))\n",
    "        nowholiday = holiday2020()\n",
    "        l.append(nowholiday.is_holiday(daytuple))\n",
    "        \n",
    "holiday = pd.Series(l).astype('category')\n",
    "Test['휴일'] = holiday"
   ]
  },
  {
   "cell_type": "code",
   "execution_count": 7,
   "metadata": {},
   "outputs": [],
   "source": [
    "# 휴일 / 평일 구분\n",
    "Test.loc[Test['휴일'] == 1, 'resting_day'] = 1\n",
    "Test.loc[Test['휴일'] == 0, 'working_day'] = 1\n",
    "\n",
    "Test['working_day'].fillna(0, inplace = True)\n",
    "Test['resting_day'].fillna(0, inplace = True)"
   ]
  },
  {
   "cell_type": "code",
   "execution_count": 8,
   "metadata": {},
   "outputs": [],
   "source": [
    "# 월, 일, 시간 컬럼 생성\n",
    "Test['month'] = Test['방송일시'].dt.month\n",
    "Test['day'] = Test['방송일시'].dt.day\n",
    "Test['hour'] = Test['방송일시'].dt.hour"
   ]
  },
  {
   "cell_type": "code",
   "execution_count": 9,
   "metadata": {},
   "outputs": [
    {
     "name": "stdout",
     "output_type": "stream",
     "text": [
      "<class 'pandas.core.frame.DataFrame'>\n",
      "RangeIndex: 2891 entries, 0 to 2890\n",
      "Data columns (total 22 columns):\n",
      " #   Column       Non-Null Count  Dtype         \n",
      "---  ------       --------------  -----         \n",
      " 0   방송일시         2891 non-null   datetime64[ns]\n",
      " 1   노출(분)        1780 non-null   float64       \n",
      " 2   마더코드         2891 non-null   int64         \n",
      " 3   상품코드         2891 non-null   int64         \n",
      " 4   상품명          2891 non-null   object        \n",
      " 5   상품군          2891 non-null   object        \n",
      " 6   판매단가         2891 non-null   int64         \n",
      " 7   취급액          0 non-null      float64       \n",
      " 8   요일           2891 non-null   category      \n",
      " 9   월            2891 non-null   bool          \n",
      " 10  화            2891 non-null   bool          \n",
      " 11  수            2891 non-null   bool          \n",
      " 12  목            2891 non-null   bool          \n",
      " 13  금            2891 non-null   bool          \n",
      " 14  토            2891 non-null   bool          \n",
      " 15  일            2891 non-null   bool          \n",
      " 16  휴일           2891 non-null   category      \n",
      " 17  resting_day  2891 non-null   float64       \n",
      " 18  working_day  2891 non-null   float64       \n",
      " 19  month        2891 non-null   int64         \n",
      " 20  day          2891 non-null   int64         \n",
      " 21  hour         2891 non-null   int64         \n",
      "dtypes: bool(7), category(2), datetime64[ns](1), float64(4), int64(6), object(2)\n",
      "memory usage: 319.6+ KB\n"
     ]
    }
   ],
   "source": [
    "Test.info()"
   ]
  },
  {
   "cell_type": "code",
   "execution_count": 10,
   "metadata": {},
   "outputs": [
    {
     "ename": "AttributeError",
     "evalue": "module 'pandas' has no attribute 'read'",
     "output_type": "error",
     "traceback": [
      "\u001b[1;31m---------------------------------------------------------------------------\u001b[0m",
      "\u001b[1;31mAttributeError\u001b[0m                            Traceback (most recent call last)",
      "\u001b[1;32m<ipython-input-10-03032a82f0cc>\u001b[0m in \u001b[0;36m<module>\u001b[1;34m\u001b[0m\n\u001b[1;32m----> 1\u001b[1;33m \u001b[0mpd\u001b[0m\u001b[1;33m.\u001b[0m\u001b[0mread\u001b[0m\u001b[1;33m\u001b[0m\u001b[1;33m\u001b[0m\u001b[0m\n\u001b[0m",
      "\u001b[1;32mC:\\Anaconda3\\lib\\site-packages\\pandas\\__init__.py\u001b[0m in \u001b[0;36m__getattr__\u001b[1;34m(name)\u001b[0m\n\u001b[0;32m    261\u001b[0m             \u001b[1;32mreturn\u001b[0m \u001b[0m_SparseArray\u001b[0m\u001b[1;33m\u001b[0m\u001b[1;33m\u001b[0m\u001b[0m\n\u001b[0;32m    262\u001b[0m \u001b[1;33m\u001b[0m\u001b[0m\n\u001b[1;32m--> 263\u001b[1;33m         \u001b[1;32mraise\u001b[0m \u001b[0mAttributeError\u001b[0m\u001b[1;33m(\u001b[0m\u001b[1;34mf\"module 'pandas' has no attribute '{name}'\"\u001b[0m\u001b[1;33m)\u001b[0m\u001b[1;33m\u001b[0m\u001b[1;33m\u001b[0m\u001b[0m\n\u001b[0m\u001b[0;32m    264\u001b[0m \u001b[1;33m\u001b[0m\u001b[0m\n\u001b[0;32m    265\u001b[0m \u001b[1;33m\u001b[0m\u001b[0m\n",
      "\u001b[1;31mAttributeError\u001b[0m: module 'pandas' has no attribute 'read'"
     ]
    }
   ],
   "source": [
    "pd.read_csv(\"final/"
   ]
  }
 ],
 "metadata": {
  "kernelspec": {
   "display_name": "Python 3",
   "language": "python",
   "name": "python3"
  },
  "language_info": {
   "codemirror_mode": {
    "name": "ipython",
    "version": 3
   },
   "file_extension": ".py",
   "mimetype": "text/x-python",
   "name": "python",
   "nbconvert_exporter": "python",
   "pygments_lexer": "ipython3",
   "version": "3.7.7"
  }
 },
 "nbformat": 4,
 "nbformat_minor": 4
}
