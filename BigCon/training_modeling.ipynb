{
 "cells": [
  {
   "cell_type": "code",
   "execution_count": 66,
   "metadata": {},
   "outputs": [],
   "source": [
    "import pandas as pd\n",
    "import numpy as np"
   ]
  },
  {
   "cell_type": "code",
   "execution_count": 67,
   "metadata": {},
   "outputs": [],
   "source": [
    "Train = pd.read_excel('df_final.xlsx')"
   ]
  },
  {
   "cell_type": "code",
   "execution_count": 68,
   "metadata": {},
   "outputs": [],
   "source": [
    "from sklearn.model_selection import train_test_split"
   ]
  },
  {
   "cell_type": "code",
   "execution_count": 69,
   "metadata": {
    "scrolled": true
   },
   "outputs": [
    {
     "data": {
      "text/html": [
       "<div>\n",
       "<style scoped>\n",
       "    .dataframe tbody tr th:only-of-type {\n",
       "        vertical-align: middle;\n",
       "    }\n",
       "\n",
       "    .dataframe tbody tr th {\n",
       "        vertical-align: top;\n",
       "    }\n",
       "\n",
       "    .dataframe thead th {\n",
       "        text-align: right;\n",
       "    }\n",
       "</style>\n",
       "<table border=\"1\" class=\"dataframe\">\n",
       "  <thead>\n",
       "    <tr style=\"text-align: right;\">\n",
       "      <th></th>\n",
       "      <th>Unnamed: 0</th>\n",
       "      <th>20분당시청률</th>\n",
       "      <th>방송일시</th>\n",
       "      <th>노출(분)</th>\n",
       "      <th>마더코드</th>\n",
       "      <th>상품코드</th>\n",
       "      <th>상품명</th>\n",
       "      <th>상품군</th>\n",
       "      <th>판매단가</th>\n",
       "      <th>취급액</th>\n",
       "      <th>...</th>\n",
       "      <th>가을</th>\n",
       "      <th>겨울</th>\n",
       "      <th>봄</th>\n",
       "      <th>여름</th>\n",
       "      <th>20분당시청률_Band</th>\n",
       "      <th>0_(-0.00185, 0.37]</th>\n",
       "      <th>0_(0.37, 0.741]</th>\n",
       "      <th>0_(0.741, 1.111]</th>\n",
       "      <th>0_(1.111, 1.482]</th>\n",
       "      <th>0_(1.482, 1.852]</th>\n",
       "    </tr>\n",
       "  </thead>\n",
       "  <tbody>\n",
       "    <tr>\n",
       "      <th>0</th>\n",
       "      <td>0</td>\n",
       "      <td>0.0</td>\n",
       "      <td>2019-01-01 06:20:00</td>\n",
       "      <td>20.0</td>\n",
       "      <td>100346</td>\n",
       "      <td>201072</td>\n",
       "      <td>테이트 남성 셀린니트3종</td>\n",
       "      <td>의류</td>\n",
       "      <td>39900</td>\n",
       "      <td>3262000</td>\n",
       "      <td>...</td>\n",
       "      <td>False</td>\n",
       "      <td>True</td>\n",
       "      <td>False</td>\n",
       "      <td>False</td>\n",
       "      <td>(-0.00185, 0.37]</td>\n",
       "      <td>1</td>\n",
       "      <td>0</td>\n",
       "      <td>0</td>\n",
       "      <td>0</td>\n",
       "      <td>0</td>\n",
       "    </tr>\n",
       "    <tr>\n",
       "      <th>1</th>\n",
       "      <td>1</td>\n",
       "      <td>0.0</td>\n",
       "      <td>2019-01-01 06:20:00</td>\n",
       "      <td>20.0</td>\n",
       "      <td>100346</td>\n",
       "      <td>201079</td>\n",
       "      <td>테이트 여성 셀린니트3종</td>\n",
       "      <td>의류</td>\n",
       "      <td>39900</td>\n",
       "      <td>6955000</td>\n",
       "      <td>...</td>\n",
       "      <td>False</td>\n",
       "      <td>True</td>\n",
       "      <td>False</td>\n",
       "      <td>False</td>\n",
       "      <td>(-0.00185, 0.37]</td>\n",
       "      <td>1</td>\n",
       "      <td>0</td>\n",
       "      <td>0</td>\n",
       "      <td>0</td>\n",
       "      <td>0</td>\n",
       "    </tr>\n",
       "    <tr>\n",
       "      <th>2</th>\n",
       "      <td>2</td>\n",
       "      <td>0.0</td>\n",
       "      <td>2019-01-01 06:20:00</td>\n",
       "      <td>20.0</td>\n",
       "      <td>100346</td>\n",
       "      <td>201072</td>\n",
       "      <td>테이트 남성 셀린니트3종</td>\n",
       "      <td>의류</td>\n",
       "      <td>39900</td>\n",
       "      <td>6672000</td>\n",
       "      <td>...</td>\n",
       "      <td>False</td>\n",
       "      <td>True</td>\n",
       "      <td>False</td>\n",
       "      <td>False</td>\n",
       "      <td>(-0.00185, 0.37]</td>\n",
       "      <td>1</td>\n",
       "      <td>0</td>\n",
       "      <td>0</td>\n",
       "      <td>0</td>\n",
       "      <td>0</td>\n",
       "    </tr>\n",
       "    <tr>\n",
       "      <th>3</th>\n",
       "      <td>3</td>\n",
       "      <td>0.0</td>\n",
       "      <td>2019-01-01 06:20:00</td>\n",
       "      <td>20.0</td>\n",
       "      <td>100346</td>\n",
       "      <td>201079</td>\n",
       "      <td>테이트 여성 셀린니트3종</td>\n",
       "      <td>의류</td>\n",
       "      <td>39900</td>\n",
       "      <td>9337000</td>\n",
       "      <td>...</td>\n",
       "      <td>False</td>\n",
       "      <td>True</td>\n",
       "      <td>False</td>\n",
       "      <td>False</td>\n",
       "      <td>(-0.00185, 0.37]</td>\n",
       "      <td>1</td>\n",
       "      <td>0</td>\n",
       "      <td>0</td>\n",
       "      <td>0</td>\n",
       "      <td>0</td>\n",
       "    </tr>\n",
       "    <tr>\n",
       "      <th>4</th>\n",
       "      <td>4</td>\n",
       "      <td>0.0</td>\n",
       "      <td>2019-01-01 06:40:00</td>\n",
       "      <td>20.0</td>\n",
       "      <td>100305</td>\n",
       "      <td>200974</td>\n",
       "      <td>오모떼 레이스 파운데이션 브라</td>\n",
       "      <td>속옷</td>\n",
       "      <td>59000</td>\n",
       "      <td>6819000</td>\n",
       "      <td>...</td>\n",
       "      <td>False</td>\n",
       "      <td>True</td>\n",
       "      <td>False</td>\n",
       "      <td>False</td>\n",
       "      <td>(-0.00185, 0.37]</td>\n",
       "      <td>1</td>\n",
       "      <td>0</td>\n",
       "      <td>0</td>\n",
       "      <td>0</td>\n",
       "      <td>0</td>\n",
       "    </tr>\n",
       "  </tbody>\n",
       "</table>\n",
       "<p>5 rows × 48 columns</p>\n",
       "</div>"
      ],
      "text/plain": [
       "   Unnamed: 0  20분당시청률                방송일시  노출(분)    마더코드    상품코드  \\\n",
       "0           0      0.0 2019-01-01 06:20:00   20.0  100346  201072   \n",
       "1           1      0.0 2019-01-01 06:20:00   20.0  100346  201079   \n",
       "2           2      0.0 2019-01-01 06:20:00   20.0  100346  201072   \n",
       "3           3      0.0 2019-01-01 06:20:00   20.0  100346  201079   \n",
       "4           4      0.0 2019-01-01 06:40:00   20.0  100305  200974   \n",
       "\n",
       "                상품명 상품군   판매단가      취급액  ...     가을    겨울      봄     여름  \\\n",
       "0     테이트 남성 셀린니트3종  의류  39900  3262000  ...  False  True  False  False   \n",
       "1     테이트 여성 셀린니트3종  의류  39900  6955000  ...  False  True  False  False   \n",
       "2     테이트 남성 셀린니트3종  의류  39900  6672000  ...  False  True  False  False   \n",
       "3     테이트 여성 셀린니트3종  의류  39900  9337000  ...  False  True  False  False   \n",
       "4  오모떼 레이스 파운데이션 브라  속옷  59000  6819000  ...  False  True  False  False   \n",
       "\n",
       "       20분당시청률_Band  0_(-0.00185, 0.37]  0_(0.37, 0.741]  0_(0.741, 1.111]  \\\n",
       "0  (-0.00185, 0.37]                   1                0                 0   \n",
       "1  (-0.00185, 0.37]                   1                0                 0   \n",
       "2  (-0.00185, 0.37]                   1                0                 0   \n",
       "3  (-0.00185, 0.37]                   1                0                 0   \n",
       "4  (-0.00185, 0.37]                   1                0                 0   \n",
       "\n",
       "   0_(1.111, 1.482]  0_(1.482, 1.852]  \n",
       "0                 0                 0  \n",
       "1                 0                 0  \n",
       "2                 0                 0  \n",
       "3                 0                 0  \n",
       "4                 0                 0  \n",
       "\n",
       "[5 rows x 48 columns]"
      ]
     },
     "execution_count": 69,
     "metadata": {},
     "output_type": "execute_result"
    }
   ],
   "source": [
    "Train.head()"
   ]
  },
  {
   "cell_type": "code",
   "execution_count": 70,
   "metadata": {},
   "outputs": [],
   "source": [
    "Train[['월', '화', '수', '목', '금', '토','일', \n",
    "    'month', 'day', 'hour', 'resting_day', 'working_day', \n",
    "    '가구', '가전', '건강기능', '농수축', '생활용품', '속옷', '의류', '이미용', '잡화', '주방', '침구',\n",
    "    '가을', '겨울', '봄', '여름']] = Train[['월', '화', '수', '목', '금', '토','일', \n",
    "    'month', 'day', 'hour', 'resting_day', 'working_day', \n",
    "    '가구', '가전', '건강기능', '농수축', '생활용품', '속옷', '의류', '이미용', '잡화', '주방', '침구',\n",
    "    '가을', '겨울', '봄', '여름']] * 1"
   ]
  },
  {
   "cell_type": "code",
   "execution_count": 71,
   "metadata": {
    "scrolled": true
   },
   "outputs": [
    {
     "name": "stdout",
     "output_type": "stream",
     "text": [
      "<class 'pandas.core.frame.DataFrame'>\n",
      "RangeIndex: 36899 entries, 0 to 36898\n",
      "Data columns (total 48 columns):\n",
      " #   Column              Non-Null Count  Dtype         \n",
      "---  ------              --------------  -----         \n",
      " 0   Unnamed: 0          36899 non-null  int64         \n",
      " 1   20분당시청률             36899 non-null  float64       \n",
      " 2   방송일시                36899 non-null  datetime64[ns]\n",
      " 3   노출(분)               36899 non-null  float64       \n",
      " 4   마더코드                36899 non-null  int64         \n",
      " 5   상품코드                36899 non-null  int64         \n",
      " 6   상품명                 36899 non-null  object        \n",
      " 7   상품군                 36899 non-null  object        \n",
      " 8   판매단가                36899 non-null  int64         \n",
      " 9   취급액                 36899 non-null  int64         \n",
      " 10  주문량                 36899 non-null  float64       \n",
      " 11  월                   36899 non-null  int32         \n",
      " 12  화                   36899 non-null  int32         \n",
      " 13  수                   36899 non-null  int32         \n",
      " 14  목                   36899 non-null  int32         \n",
      " 15  금                   36899 non-null  int32         \n",
      " 16  토                   36899 non-null  int32         \n",
      " 17  일                   36899 non-null  int32         \n",
      " 18  요일                  36899 non-null  int64         \n",
      " 19  month               36899 non-null  int64         \n",
      " 20  day                 36899 non-null  int64         \n",
      " 21  hour                36899 non-null  int64         \n",
      " 22  휴일                  36899 non-null  int64         \n",
      " 23  resting_day         36899 non-null  int32         \n",
      " 24  working_day         36899 non-null  int32         \n",
      " 25  소비자심리지수             36899 non-null  float64       \n",
      " 26  season              36899 non-null  object        \n",
      " 27  가구                  36899 non-null  int32         \n",
      " 28  가전                  36899 non-null  int32         \n",
      " 29  건강기능                36899 non-null  int32         \n",
      " 30  농수축                 36899 non-null  int32         \n",
      " 31  생활용품                36899 non-null  int32         \n",
      " 32  속옷                  36899 non-null  int32         \n",
      " 33  의류                  36899 non-null  int32         \n",
      " 34  이미용                 36899 non-null  int32         \n",
      " 35  잡화                  36899 non-null  int32         \n",
      " 36  주방                  36899 non-null  int32         \n",
      " 37  침구                  36899 non-null  int32         \n",
      " 38  가을                  36899 non-null  int32         \n",
      " 39  겨울                  36899 non-null  int32         \n",
      " 40  봄                   36899 non-null  int32         \n",
      " 41  여름                  36899 non-null  int32         \n",
      " 42  20분당시청률_Band        36899 non-null  object        \n",
      " 43  0_(-0.00185, 0.37]  36899 non-null  int64         \n",
      " 44  0_(0.37, 0.741]     36899 non-null  int64         \n",
      " 45  0_(0.741, 1.111]    36899 non-null  int64         \n",
      " 46  0_(1.111, 1.482]    36899 non-null  int64         \n",
      " 47  0_(1.482, 1.852]    36899 non-null  int64         \n",
      "dtypes: datetime64[ns](1), float64(4), int32(24), int64(15), object(4)\n",
      "memory usage: 10.1+ MB\n"
     ]
    }
   ],
   "source": [
    "Train.info()"
   ]
  },
  {
   "cell_type": "code",
   "execution_count": 84,
   "metadata": {},
   "outputs": [],
   "source": [
    "x = Train.drop(['취급액','상품군','주문량','상품명','Unnamed: 0','방송일시','20분당시청률_Band',\n",
    "                'season'],axis = 1)\n",
    "y = Train['취급액']"
   ]
  },
  {
   "cell_type": "code",
   "execution_count": 85,
   "metadata": {},
   "outputs": [],
   "source": [
    "xTrain, xTest, yTrain, yTest = train_test_split(x,y,test_size = 0.3, random_state = 924)"
   ]
  },
  {
   "cell_type": "code",
   "execution_count": 86,
   "metadata": {},
   "outputs": [
    {
     "data": {
      "text/plain": [
       "(25829, 40)"
      ]
     },
     "execution_count": 86,
     "metadata": {},
     "output_type": "execute_result"
    }
   ],
   "source": [
    "xTrain.shape"
   ]
  },
  {
   "cell_type": "code",
   "execution_count": 87,
   "metadata": {},
   "outputs": [
    {
     "data": {
      "text/plain": [
       "(25829,)"
      ]
     },
     "execution_count": 87,
     "metadata": {},
     "output_type": "execute_result"
    }
   ],
   "source": [
    "yTrain.shape"
   ]
  },
  {
   "cell_type": "code",
   "execution_count": 88,
   "metadata": {},
   "outputs": [
    {
     "data": {
      "text/plain": [
       "(11070, 40)"
      ]
     },
     "execution_count": 88,
     "metadata": {},
     "output_type": "execute_result"
    }
   ],
   "source": [
    "xTest.shape"
   ]
  },
  {
   "cell_type": "code",
   "execution_count": 89,
   "metadata": {},
   "outputs": [
    {
     "data": {
      "text/plain": [
       "(11070,)"
      ]
     },
     "execution_count": 89,
     "metadata": {},
     "output_type": "execute_result"
    }
   ],
   "source": [
    "yTest.shape"
   ]
  },
  {
   "cell_type": "code",
   "execution_count": 90,
   "metadata": {
    "scrolled": true
   },
   "outputs": [],
   "source": [
    "from sklearn.model_selection import GridSearchCV\n",
    "from sklearn.ensemble import RandomForestRegressor\n",
    "myparam = { \n",
    "'n_estimators':[21,51,101,201,],\n",
    "'min_samples_split':[2,4,6,8,10],\n",
    "'max_depth':[3,5,7,9,11,13]}"
   ]
  },
  {
   "cell_type": "code",
   "execution_count": 91,
   "metadata": {
    "scrolled": true
   },
   "outputs": [],
   "source": [
    "rfModel =  RandomForestRegressor(n_estimators=151,\n",
    "                              max_depth=13,\n",
    "                              min_samples_split=10,\n",
    "                              n_jobs=2,\n",
    "                              random_state=42)"
   ]
  },
  {
   "cell_type": "code",
   "execution_count": 26,
   "metadata": {
    "scrolled": true
   },
   "outputs": [
    {
     "name": "stdout",
     "output_type": "stream",
     "text": [
      "{'max_depth': 13, 'min_samples_split': 10, 'n_estimators': 51}\n"
     ]
    },
    {
     "data": {
      "text/plain": [
       "0.5261398968689216"
      ]
     },
     "execution_count": 26,
     "metadata": {},
     "output_type": "execute_result"
    }
   ],
   "source": [
    "gridCV = GridSearchCV(rfModel, param_grid = myparam, cv = 5, n_jobs = 3)\n",
    "gridCV.fit(xTrain,yTrain)\n",
    "print(gridCV.best_params_)\n",
    "gridCV.best_score_"
   ]
  },
  {
   "cell_type": "code",
   "execution_count": 92,
   "metadata": {
    "scrolled": true
   },
   "outputs": [
    {
     "data": {
      "text/plain": [
       "RandomForestRegressor(max_depth=13, min_samples_split=10, n_estimators=151,\n",
       "                      n_jobs=2, random_state=42)"
      ]
     },
     "execution_count": 92,
     "metadata": {},
     "output_type": "execute_result"
    }
   ],
   "source": [
    "rfModel.fit(xTrain, yTrain)"
   ]
  },
  {
   "cell_type": "code",
   "execution_count": 93,
   "metadata": {},
   "outputs": [],
   "source": [
    "pred = rfModel.predict(xTest)"
   ]
  },
  {
   "cell_type": "code",
   "execution_count": 94,
   "metadata": {},
   "outputs": [
    {
     "data": {
      "text/plain": [
       "0.6543929801469792"
      ]
     },
     "execution_count": 94,
     "metadata": {},
     "output_type": "execute_result"
    }
   ],
   "source": [
    "pred.shape\n",
    "rfModel.score(xTrain,yTrain)\n",
    "# 0.645"
   ]
  },
  {
   "cell_type": "code",
   "execution_count": null,
   "metadata": {},
   "outputs": [],
   "source": [
    "y_True = yTest.to_numpy()\n",
    "y_True"
   ]
  },
  {
   "cell_type": "code",
   "execution_count": null,
   "metadata": {},
   "outputs": [],
   "source": [
    "pred"
   ]
  },
  {
   "cell_type": "code",
   "execution_count": null,
   "metadata": {},
   "outputs": [],
   "source": [
    "def MAPE(y_true, y_pred): \n",
    "    return np.mean(np.abs((y_true - y_pred) / y_true)) * 100\n",
    "\n",
    "MAPE(y_True, pred)"
   ]
  },
  {
   "cell_type": "code",
   "execution_count": null,
   "metadata": {},
   "outputs": [],
   "source": [
    "def mean_absolute_percentage_error(y_true, y_pred): \n",
    "    y_true, y_pred = np.array(y_true), np.array(y_pred)\n",
    "    return np.mean(np.abs((y_true - y_pred) / y_true)) * 100\n",
    "\n",
    "mean_absolute_percentage_error(y_True,pred)"
   ]
  },
  {
   "cell_type": "code",
   "execution_count": null,
   "metadata": {},
   "outputs": [],
   "source": [
    "predictions = rfModel.predict(xTest)\n",
    "\n",
    "# Calculate the absolute errors\n",
    "errors = abs(predictions - y_True)\n",
    "\n",
    "# Print out the mean absolute error (mae)\n",
    "print('Mean Absolute Error:', round(np.mean(errors), 2), 'degrees.')\n",
    "mape = 100 * (errors / y_True)\n",
    "\n",
    "# Calculate and display accuracy\n",
    "accuracy = 100 - np.mean(mape)\n",
    "print('Accuracy:', round(accuracy, 2), '%.')"
   ]
  },
  {
   "cell_type": "code",
   "execution_count": null,
   "metadata": {},
   "outputs": [],
   "source": [
    "def percentage_error(actual, predicted):\n",
    "    res = np.empty(actual.shape)\n",
    "    for j in range(actual.shape[0]):\n",
    "        if actual[j] != 0:\n",
    "            res[j] = (actual[j] - predicted[j]) / actual[j]\n",
    "        else:\n",
    "            res[j] = predicted[j] / np.mean(actual)\n",
    "    return res\n",
    "\n",
    "def mean_absolute_percentage_error(y_true, y_pred): \n",
    "    return np.mean(np.abs(percentage_error(np.asarray(y_true), np.asarray(y_pred)))) * 100\n",
    "\n",
    "mean_absolute_percentage_error(yTest,pred)"
   ]
  }
 ],
 "metadata": {
  "kernelspec": {
   "display_name": "Python 3",
   "language": "python",
   "name": "python3"
  },
  "language_info": {
   "codemirror_mode": {
    "name": "ipython",
    "version": 3
   },
   "file_extension": ".py",
   "mimetype": "text/x-python",
   "name": "python",
   "nbconvert_exporter": "python",
   "pygments_lexer": "ipython3",
   "version": "3.7.7"
  }
 },
 "nbformat": 4,
 "nbformat_minor": 4
}
