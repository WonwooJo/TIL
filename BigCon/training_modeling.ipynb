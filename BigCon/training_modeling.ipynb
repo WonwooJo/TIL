{
 "cells": [
  {
   "cell_type": "code",
   "execution_count": 94,
   "metadata": {},
   "outputs": [],
   "source": [
    "import pandas as pd\n",
    "import numpy as np"
   ]
  },
  {
   "cell_type": "code",
   "execution_count": 95,
   "metadata": {},
   "outputs": [],
   "source": [
    "Train = pd.read_csv('preprocesed.csv')"
   ]
  },
  {
   "cell_type": "code",
   "execution_count": 96,
   "metadata": {},
   "outputs": [],
   "source": [
    "from sklearn.model_selection import train_test_split"
   ]
  },
  {
   "cell_type": "code",
   "execution_count": 97,
   "metadata": {
    "scrolled": true
   },
   "outputs": [
    {
     "data": {
      "text/html": [
       "<div>\n",
       "<style scoped>\n",
       "    .dataframe tbody tr th:only-of-type {\n",
       "        vertical-align: middle;\n",
       "    }\n",
       "\n",
       "    .dataframe tbody tr th {\n",
       "        vertical-align: top;\n",
       "    }\n",
       "\n",
       "    .dataframe thead th {\n",
       "        text-align: right;\n",
       "    }\n",
       "</style>\n",
       "<table border=\"1\" class=\"dataframe\">\n",
       "  <thead>\n",
       "    <tr style=\"text-align: right;\">\n",
       "      <th></th>\n",
       "      <th>노출(분)</th>\n",
       "      <th>마더코드</th>\n",
       "      <th>상품코드</th>\n",
       "      <th>상품명</th>\n",
       "      <th>상품군</th>\n",
       "      <th>판매단가</th>\n",
       "      <th>취급액</th>\n",
       "      <th>주문량</th>\n",
       "      <th>월</th>\n",
       "      <th>화</th>\n",
       "      <th>...</th>\n",
       "      <th>속옷</th>\n",
       "      <th>의류</th>\n",
       "      <th>이미용</th>\n",
       "      <th>잡화</th>\n",
       "      <th>주방</th>\n",
       "      <th>침구</th>\n",
       "      <th>가을</th>\n",
       "      <th>겨울</th>\n",
       "      <th>봄</th>\n",
       "      <th>여름</th>\n",
       "    </tr>\n",
       "  </thead>\n",
       "  <tbody>\n",
       "    <tr>\n",
       "      <th>0</th>\n",
       "      <td>20.0</td>\n",
       "      <td>100346</td>\n",
       "      <td>201072</td>\n",
       "      <td>테이트 남성 셀린니트3종</td>\n",
       "      <td>의류</td>\n",
       "      <td>39900</td>\n",
       "      <td>3262000</td>\n",
       "      <td>81.754386</td>\n",
       "      <td>False</td>\n",
       "      <td>True</td>\n",
       "      <td>...</td>\n",
       "      <td>False</td>\n",
       "      <td>True</td>\n",
       "      <td>False</td>\n",
       "      <td>False</td>\n",
       "      <td>False</td>\n",
       "      <td>False</td>\n",
       "      <td>False</td>\n",
       "      <td>True</td>\n",
       "      <td>False</td>\n",
       "      <td>False</td>\n",
       "    </tr>\n",
       "    <tr>\n",
       "      <th>1</th>\n",
       "      <td>20.0</td>\n",
       "      <td>100346</td>\n",
       "      <td>201079</td>\n",
       "      <td>테이트 여성 셀린니트3종</td>\n",
       "      <td>의류</td>\n",
       "      <td>39900</td>\n",
       "      <td>6955000</td>\n",
       "      <td>174.310777</td>\n",
       "      <td>False</td>\n",
       "      <td>True</td>\n",
       "      <td>...</td>\n",
       "      <td>False</td>\n",
       "      <td>True</td>\n",
       "      <td>False</td>\n",
       "      <td>False</td>\n",
       "      <td>False</td>\n",
       "      <td>False</td>\n",
       "      <td>False</td>\n",
       "      <td>True</td>\n",
       "      <td>False</td>\n",
       "      <td>False</td>\n",
       "    </tr>\n",
       "    <tr>\n",
       "      <th>2</th>\n",
       "      <td>20.0</td>\n",
       "      <td>100346</td>\n",
       "      <td>201072</td>\n",
       "      <td>테이트 남성 셀린니트3종</td>\n",
       "      <td>의류</td>\n",
       "      <td>39900</td>\n",
       "      <td>6672000</td>\n",
       "      <td>167.218045</td>\n",
       "      <td>False</td>\n",
       "      <td>True</td>\n",
       "      <td>...</td>\n",
       "      <td>False</td>\n",
       "      <td>True</td>\n",
       "      <td>False</td>\n",
       "      <td>False</td>\n",
       "      <td>False</td>\n",
       "      <td>False</td>\n",
       "      <td>False</td>\n",
       "      <td>True</td>\n",
       "      <td>False</td>\n",
       "      <td>False</td>\n",
       "    </tr>\n",
       "    <tr>\n",
       "      <th>3</th>\n",
       "      <td>20.0</td>\n",
       "      <td>100346</td>\n",
       "      <td>201079</td>\n",
       "      <td>테이트 여성 셀린니트3종</td>\n",
       "      <td>의류</td>\n",
       "      <td>39900</td>\n",
       "      <td>9337000</td>\n",
       "      <td>234.010025</td>\n",
       "      <td>False</td>\n",
       "      <td>True</td>\n",
       "      <td>...</td>\n",
       "      <td>False</td>\n",
       "      <td>True</td>\n",
       "      <td>False</td>\n",
       "      <td>False</td>\n",
       "      <td>False</td>\n",
       "      <td>False</td>\n",
       "      <td>False</td>\n",
       "      <td>True</td>\n",
       "      <td>False</td>\n",
       "      <td>False</td>\n",
       "    </tr>\n",
       "    <tr>\n",
       "      <th>4</th>\n",
       "      <td>20.0</td>\n",
       "      <td>100305</td>\n",
       "      <td>200974</td>\n",
       "      <td>오모떼 레이스 파운데이션 브라</td>\n",
       "      <td>속옷</td>\n",
       "      <td>59000</td>\n",
       "      <td>6819000</td>\n",
       "      <td>115.576271</td>\n",
       "      <td>False</td>\n",
       "      <td>True</td>\n",
       "      <td>...</td>\n",
       "      <td>True</td>\n",
       "      <td>False</td>\n",
       "      <td>False</td>\n",
       "      <td>False</td>\n",
       "      <td>False</td>\n",
       "      <td>False</td>\n",
       "      <td>False</td>\n",
       "      <td>True</td>\n",
       "      <td>False</td>\n",
       "      <td>False</td>\n",
       "    </tr>\n",
       "  </tbody>\n",
       "</table>\n",
       "<p>5 rows × 39 columns</p>\n",
       "</div>"
      ],
      "text/plain": [
       "   노출(분)    마더코드    상품코드               상품명 상품군   판매단가      취급액         주문량  \\\n",
       "0   20.0  100346  201072     테이트 남성 셀린니트3종  의류  39900  3262000   81.754386   \n",
       "1   20.0  100346  201079     테이트 여성 셀린니트3종  의류  39900  6955000  174.310777   \n",
       "2   20.0  100346  201072     테이트 남성 셀린니트3종  의류  39900  6672000  167.218045   \n",
       "3   20.0  100346  201079     테이트 여성 셀린니트3종  의류  39900  9337000  234.010025   \n",
       "4   20.0  100305  200974  오모떼 레이스 파운데이션 브라  속옷  59000  6819000  115.576271   \n",
       "\n",
       "       월     화  ...     속옷     의류    이미용     잡화     주방     침구     가을    겨울  \\\n",
       "0  False  True  ...  False   True  False  False  False  False  False  True   \n",
       "1  False  True  ...  False   True  False  False  False  False  False  True   \n",
       "2  False  True  ...  False   True  False  False  False  False  False  True   \n",
       "3  False  True  ...  False   True  False  False  False  False  False  True   \n",
       "4  False  True  ...   True  False  False  False  False  False  False  True   \n",
       "\n",
       "       봄     여름  \n",
       "0  False  False  \n",
       "1  False  False  \n",
       "2  False  False  \n",
       "3  False  False  \n",
       "4  False  False  \n",
       "\n",
       "[5 rows x 39 columns]"
      ]
     },
     "execution_count": 97,
     "metadata": {},
     "output_type": "execute_result"
    }
   ],
   "source": [
    "Train.head()"
   ]
  },
  {
   "cell_type": "code",
   "execution_count": 98,
   "metadata": {},
   "outputs": [],
   "source": [
    "Train[['월', '화', '수', '목', '금', '토','일', \n",
    "    'month', 'day', 'hour', 'resting_day', 'working_day', \n",
    "    '가구', '가전', '건강기능', '농수축', '생활용품', '속옷', '의류', '이미용', '잡화', '주방', '침구',\n",
    "    '가을', '겨울', '봄', '여름']] = Train[['월', '화', '수', '목', '금', '토','일', \n",
    "    'month', 'day', 'hour', 'resting_day', 'working_day', \n",
    "    '가구', '가전', '건강기능', '농수축', '생활용품', '속옷', '의류', '이미용', '잡화', '주방', '침구',\n",
    "    '가을', '겨울', '봄', '여름']] * 1"
   ]
  },
  {
   "cell_type": "code",
   "execution_count": 99,
   "metadata": {
    "scrolled": true
   },
   "outputs": [
    {
     "name": "stdout",
     "output_type": "stream",
     "text": [
      "<class 'pandas.core.frame.DataFrame'>\n",
      "RangeIndex: 36899 entries, 0 to 36898\n",
      "Data columns (total 39 columns):\n",
      " #   Column       Non-Null Count  Dtype  \n",
      "---  ------       --------------  -----  \n",
      " 0   노출(분)        36899 non-null  float64\n",
      " 1   마더코드         36899 non-null  int64  \n",
      " 2   상품코드         36899 non-null  int64  \n",
      " 3   상품명          36899 non-null  object \n",
      " 4   상품군          36899 non-null  object \n",
      " 5   판매단가         36899 non-null  int64  \n",
      " 6   취급액          36899 non-null  int64  \n",
      " 7   주문량          36899 non-null  float64\n",
      " 8   월            36899 non-null  int32  \n",
      " 9   화            36899 non-null  int32  \n",
      " 10  수            36899 non-null  int32  \n",
      " 11  목            36899 non-null  int32  \n",
      " 12  금            36899 non-null  int32  \n",
      " 13  토            36899 non-null  int32  \n",
      " 14  일            36899 non-null  int32  \n",
      " 15  요일           36899 non-null  int64  \n",
      " 16  month        36899 non-null  int64  \n",
      " 17  day          36899 non-null  int64  \n",
      " 18  hour         36899 non-null  int64  \n",
      " 19  휴일           36899 non-null  int64  \n",
      " 20  resting_day  36899 non-null  int32  \n",
      " 21  working_day  36899 non-null  int32  \n",
      " 22  소비자심리지수      36899 non-null  float64\n",
      " 23  season       36899 non-null  object \n",
      " 24  가구           36899 non-null  int32  \n",
      " 25  가전           36899 non-null  int32  \n",
      " 26  건강기능         36899 non-null  int32  \n",
      " 27  농수축          36899 non-null  int32  \n",
      " 28  생활용품         36899 non-null  int32  \n",
      " 29  속옷           36899 non-null  int32  \n",
      " 30  의류           36899 non-null  int32  \n",
      " 31  이미용          36899 non-null  int32  \n",
      " 32  잡화           36899 non-null  int32  \n",
      " 33  주방           36899 non-null  int32  \n",
      " 34  침구           36899 non-null  int32  \n",
      " 35  가을           36899 non-null  int32  \n",
      " 36  겨울           36899 non-null  int32  \n",
      " 37  봄            36899 non-null  int32  \n",
      " 38  여름           36899 non-null  int32  \n",
      "dtypes: float64(3), int32(24), int64(9), object(3)\n",
      "memory usage: 7.6+ MB\n"
     ]
    }
   ],
   "source": [
    "Train.info()"
   ]
  },
  {
   "cell_type": "code",
   "execution_count": 119,
   "metadata": {},
   "outputs": [],
   "source": [
    "x = Train.drop(['취급액','상품군','주문량','상품명',\n",
    "                'season'],axis = 1)\n",
    "y = Train['취급액']"
   ]
  },
  {
   "cell_type": "code",
   "execution_count": 120,
   "metadata": {
    "scrolled": true
   },
   "outputs": [
    {
     "name": "stdout",
     "output_type": "stream",
     "text": [
      "<class 'pandas.core.frame.DataFrame'>\n",
      "RangeIndex: 36899 entries, 0 to 36898\n",
      "Data columns (total 34 columns):\n",
      " #   Column       Non-Null Count  Dtype  \n",
      "---  ------       --------------  -----  \n",
      " 0   노출(분)        36899 non-null  float64\n",
      " 1   마더코드         36899 non-null  int64  \n",
      " 2   상품코드         36899 non-null  int64  \n",
      " 3   판매단가         36899 non-null  int64  \n",
      " 4   월            36899 non-null  int32  \n",
      " 5   화            36899 non-null  int32  \n",
      " 6   수            36899 non-null  int32  \n",
      " 7   목            36899 non-null  int32  \n",
      " 8   금            36899 non-null  int32  \n",
      " 9   토            36899 non-null  int32  \n",
      " 10  일            36899 non-null  int32  \n",
      " 11  요일           36899 non-null  int64  \n",
      " 12  month        36899 non-null  int64  \n",
      " 13  day          36899 non-null  int64  \n",
      " 14  hour         36899 non-null  int64  \n",
      " 15  휴일           36899 non-null  int64  \n",
      " 16  resting_day  36899 non-null  int32  \n",
      " 17  working_day  36899 non-null  int32  \n",
      " 18  소비자심리지수      36899 non-null  float64\n",
      " 19  가구           36899 non-null  int32  \n",
      " 20  가전           36899 non-null  int32  \n",
      " 21  건강기능         36899 non-null  int32  \n",
      " 22  농수축          36899 non-null  int32  \n",
      " 23  생활용품         36899 non-null  int32  \n",
      " 24  속옷           36899 non-null  int32  \n",
      " 25  의류           36899 non-null  int32  \n",
      " 26  이미용          36899 non-null  int32  \n",
      " 27  잡화           36899 non-null  int32  \n",
      " 28  주방           36899 non-null  int32  \n",
      " 29  침구           36899 non-null  int32  \n",
      " 30  가을           36899 non-null  int32  \n",
      " 31  겨울           36899 non-null  int32  \n",
      " 32  봄            36899 non-null  int32  \n",
      " 33  여름           36899 non-null  int32  \n",
      "dtypes: float64(2), int32(24), int64(8)\n",
      "memory usage: 6.2 MB\n"
     ]
    }
   ],
   "source": [
    "x.info()"
   ]
  },
  {
   "cell_type": "code",
   "execution_count": 121,
   "metadata": {},
   "outputs": [],
   "source": [
    "xTrain, xTest, yTrain, yTest = train_test_split(x,y,test_size = 0.3, random_state = 924)"
   ]
  },
  {
   "cell_type": "code",
   "execution_count": 122,
   "metadata": {},
   "outputs": [
    {
     "data": {
      "text/plain": [
       "(25829, 34)"
      ]
     },
     "execution_count": 122,
     "metadata": {},
     "output_type": "execute_result"
    }
   ],
   "source": [
    "xTrain.shape"
   ]
  },
  {
   "cell_type": "code",
   "execution_count": 123,
   "metadata": {},
   "outputs": [
    {
     "data": {
      "text/plain": [
       "(25829,)"
      ]
     },
     "execution_count": 123,
     "metadata": {},
     "output_type": "execute_result"
    }
   ],
   "source": [
    "yTrain.shape"
   ]
  },
  {
   "cell_type": "code",
   "execution_count": 124,
   "metadata": {},
   "outputs": [
    {
     "data": {
      "text/plain": [
       "(11070, 34)"
      ]
     },
     "execution_count": 124,
     "metadata": {},
     "output_type": "execute_result"
    }
   ],
   "source": [
    "xTest.shape"
   ]
  },
  {
   "cell_type": "code",
   "execution_count": 125,
   "metadata": {},
   "outputs": [
    {
     "data": {
      "text/plain": [
       "(11070,)"
      ]
     },
     "execution_count": 125,
     "metadata": {},
     "output_type": "execute_result"
    }
   ],
   "source": [
    "yTest.shape"
   ]
  },
  {
   "cell_type": "code",
   "execution_count": 126,
   "metadata": {
    "scrolled": true
   },
   "outputs": [],
   "source": [
    "from sklearn.model_selection import GridSearchCV\n",
    "from sklearn.ensemble import RandomForestRegressor\n",
    "myparam = { \n",
    "'n_estimators':[21,51,101,201,],\n",
    "'min_samples_split':[2,4,6,8,10],\n",
    "'max_depth':[3,5,7,9,11,13]}"
   ]
  },
  {
   "cell_type": "code",
   "execution_count": 127,
   "metadata": {
    "scrolled": true
   },
   "outputs": [],
   "source": [
    "rfModel =  RandomForestRegressor(n_estimators=151,\n",
    "                              max_depth=13,\n",
    "                              min_samples_split=10,\n",
    "                              n_jobs=2,\n",
    "                              random_state=42)"
   ]
  },
  {
   "cell_type": "code",
   "execution_count": 128,
   "metadata": {},
   "outputs": [
    {
     "name": "stdout",
     "output_type": "stream",
     "text": [
      "{'max_depth': 13, 'min_samples_split': 10, 'n_estimators': 51}\n"
     ]
    },
    {
     "data": {
      "text/plain": [
       "0.5279000021869382"
      ]
     },
     "execution_count": 128,
     "metadata": {},
     "output_type": "execute_result"
    }
   ],
   "source": [
    "gridCV = GridSearchCV(rfModel, param_grid = myparam, cv = 5, n_jobs = 3)\n",
    "gridCV.fit(xTrain,yTrain)\n",
    "print(gridCV.best_params_)\n",
    "gridCV.best_score_"
   ]
  },
  {
   "cell_type": "code",
   "execution_count": 129,
   "metadata": {
    "scrolled": true
   },
   "outputs": [
    {
     "data": {
      "text/plain": [
       "RandomForestRegressor(max_depth=13, min_samples_split=10, n_estimators=151,\n",
       "                      n_jobs=2, random_state=42)"
      ]
     },
     "execution_count": 129,
     "metadata": {},
     "output_type": "execute_result"
    }
   ],
   "source": [
    "rfModel.fit(xTrain, yTrain)"
   ]
  },
  {
   "cell_type": "code",
   "execution_count": 130,
   "metadata": {},
   "outputs": [],
   "source": [
    "pred = rfModel.predict(xTest)"
   ]
  },
  {
   "cell_type": "code",
   "execution_count": 131,
   "metadata": {},
   "outputs": [
    {
     "data": {
      "text/plain": [
       "0.6496916145876858"
      ]
     },
     "execution_count": 131,
     "metadata": {},
     "output_type": "execute_result"
    }
   ],
   "source": [
    "pred.shape\n",
    "rfModel.score(xTrain,yTrain)\n",
    "# 0.645"
   ]
  },
  {
   "cell_type": "code",
   "execution_count": 132,
   "metadata": {},
   "outputs": [
    {
     "data": {
      "text/plain": [
       "array([ 4842000, 24908000,  2837000, ..., 40553000, 32439000,  3782000],\n",
       "      dtype=int64)"
      ]
     },
     "execution_count": 132,
     "metadata": {},
     "output_type": "execute_result"
    }
   ],
   "source": [
    "y_True = yTest.to_numpy()\n",
    "y_True"
   ]
  },
  {
   "cell_type": "code",
   "execution_count": 133,
   "metadata": {},
   "outputs": [
    {
     "data": {
      "text/plain": [
       "array([12482470.20716422, 38162204.36176737,  7684397.02919988, ...,\n",
       "       40732690.45776679, 20697818.02254661, 11694515.16853559])"
      ]
     },
     "execution_count": 133,
     "metadata": {},
     "output_type": "execute_result"
    }
   ],
   "source": [
    "pred"
   ]
  },
  {
   "cell_type": "code",
   "execution_count": 134,
   "metadata": {},
   "outputs": [
    {
     "name": "stderr",
     "output_type": "stream",
     "text": [
      "C:\\Users\\joww0\\AppData\\Roaming\\Python\\Python37\\site-packages\\ipykernel_launcher.py:2: RuntimeWarning: divide by zero encountered in true_divide\n",
      "  \n"
     ]
    },
    {
     "data": {
      "text/plain": [
       "inf"
      ]
     },
     "execution_count": 134,
     "metadata": {},
     "output_type": "execute_result"
    }
   ],
   "source": [
    "def MAPE(y_true, y_pred): \n",
    "    return np.mean(np.abs((y_true - y_pred) / y_true)) * 100\n",
    "\n",
    "MAPE(y_True, pred)"
   ]
  },
  {
   "cell_type": "code",
   "execution_count": 135,
   "metadata": {},
   "outputs": [
    {
     "name": "stderr",
     "output_type": "stream",
     "text": [
      "C:\\Users\\joww0\\AppData\\Roaming\\Python\\Python37\\site-packages\\ipykernel_launcher.py:3: RuntimeWarning: divide by zero encountered in true_divide\n",
      "  This is separate from the ipykernel package so we can avoid doing imports until\n"
     ]
    },
    {
     "data": {
      "text/plain": [
       "inf"
      ]
     },
     "execution_count": 135,
     "metadata": {},
     "output_type": "execute_result"
    }
   ],
   "source": [
    "def mean_absolute_percentage_error(y_true, y_pred): \n",
    "    y_true, y_pred = np.array(y_true), np.array(y_pred)\n",
    "    return np.mean(np.abs((y_true - y_pred) / y_true)) * 100\n",
    "\n",
    "mean_absolute_percentage_error(y_True,pred)"
   ]
  },
  {
   "cell_type": "code",
   "execution_count": 136,
   "metadata": {},
   "outputs": [
    {
     "name": "stdout",
     "output_type": "stream",
     "text": [
      "Mean Absolute Error: 9716114.65 degrees.\n",
      "Accuracy: -inf %.\n"
     ]
    },
    {
     "name": "stderr",
     "output_type": "stream",
     "text": [
      "C:\\Users\\joww0\\AppData\\Roaming\\Python\\Python37\\site-packages\\ipykernel_launcher.py:8: RuntimeWarning: divide by zero encountered in true_divide\n",
      "  \n"
     ]
    }
   ],
   "source": [
    "predictions = rfModel.predict(xTest)\n",
    "\n",
    "# Calculate the absolute errors\n",
    "errors = abs(predictions - y_True)\n",
    "\n",
    "# Print out the mean absolute error (mae)\n",
    "print('Mean Absolute Error:', round(np.mean(errors), 2), 'degrees.')\n",
    "mape = 100 * (errors / y_True)\n",
    "\n",
    "# Calculate and display accuracy\n",
    "accuracy = 100 - np.mean(mape)\n",
    "print('Accuracy:', round(accuracy, 2), '%.')"
   ]
  },
  {
   "cell_type": "code",
   "execution_count": 137,
   "metadata": {},
   "outputs": [
    {
     "data": {
      "text/plain": [
       "89.64016427384688"
      ]
     },
     "execution_count": 137,
     "metadata": {},
     "output_type": "execute_result"
    }
   ],
   "source": [
    "def percentage_error(actual, predicted):\n",
    "    res = np.empty(actual.shape)\n",
    "    for j in range(actual.shape[0]):\n",
    "        if actual[j] != 0:\n",
    "            res[j] = (actual[j] - predicted[j]) / actual[j]\n",
    "        else:\n",
    "            res[j] = predicted[j] / np.mean(actual)\n",
    "    return res\n",
    "\n",
    "def mean_absolute_percentage_error(y_true, y_pred): \n",
    "    return np.mean(np.abs(percentage_error(np.asarray(y_true), np.asarray(y_pred)))) * 100\n",
    "\n",
    "mean_absolute_percentage_error(yTest,pred)"
   ]
  },
  {
   "cell_type": "code",
   "execution_count": null,
   "metadata": {},
   "outputs": [],
   "source": []
  }
 ],
 "metadata": {
  "kernelspec": {
   "display_name": "Python 3",
   "language": "python",
   "name": "python3"
  },
  "language_info": {
   "codemirror_mode": {
    "name": "ipython",
    "version": 3
   },
   "file_extension": ".py",
   "mimetype": "text/x-python",
   "name": "python",
   "nbconvert_exporter": "python",
   "pygments_lexer": "ipython3",
   "version": "3.7.7"
  }
 },
 "nbformat": 4,
 "nbformat_minor": 4
}
