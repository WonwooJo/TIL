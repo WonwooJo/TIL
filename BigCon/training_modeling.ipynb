{
 "cells": [
  {
   "cell_type": "code",
   "execution_count": 22,
   "metadata": {},
   "outputs": [],
   "source": [
    "import pandas as pd\n",
    "import numpy as np"
   ]
  },
  {
   "cell_type": "code",
   "execution_count": 23,
   "metadata": {},
   "outputs": [],
   "source": [
    "Train = pd.read_excel('df_final.xlsx')"
   ]
  },
  {
   "cell_type": "code",
   "execution_count": 24,
   "metadata": {},
   "outputs": [],
   "source": [
    "from sklearn.model_selection import train_test_split"
   ]
  },
  {
   "cell_type": "code",
   "execution_count": 25,
   "metadata": {},
   "outputs": [],
   "source": [
    "Train[['월', '화', '수', '목', '금', '토','일', \n",
    "    'month', 'day', 'hour', 'resting_day', 'working_day', \n",
    "    '가구', '가전', '건강기능', '농수축', '생활용품', '속옷', '의류', '이미용', '잡화', '주방', '침구',\n",
    "    '가을', '겨울', '봄', '여름']] = Train[['월', '화', '수', '목', '금', '토','일', \n",
    "    'month', 'day', 'hour', 'resting_day', 'working_day', \n",
    "    '가구', '가전', '건강기능', '농수축', '생활용품', '속옷', '의류', '이미용', '잡화', '주방', '침구',\n",
    "    '가을', '겨울', '봄', '여름']] * 1"
   ]
  },
  {
   "cell_type": "code",
   "execution_count": 26,
   "metadata": {
    "scrolled": true
   },
   "outputs": [
    {
     "name": "stdout",
     "output_type": "stream",
     "text": [
      "<class 'pandas.core.frame.DataFrame'>\n",
      "RangeIndex: 36899 entries, 0 to 36898\n",
      "Data columns (total 48 columns):\n",
      " #   Column              Non-Null Count  Dtype         \n",
      "---  ------              --------------  -----         \n",
      " 0   Unnamed: 0          36899 non-null  int64         \n",
      " 1   20분당시청률             36899 non-null  float64       \n",
      " 2   방송일시                36899 non-null  datetime64[ns]\n",
      " 3   노출(분)               36899 non-null  float64       \n",
      " 4   마더코드                36899 non-null  int64         \n",
      " 5   상품코드                36899 non-null  int64         \n",
      " 6   상품명                 36899 non-null  object        \n",
      " 7   상품군                 36899 non-null  object        \n",
      " 8   판매단가                36899 non-null  int64         \n",
      " 9   취급액                 36899 non-null  int64         \n",
      " 10  주문량                 36899 non-null  float64       \n",
      " 11  월                   36899 non-null  int32         \n",
      " 12  화                   36899 non-null  int32         \n",
      " 13  수                   36899 non-null  int32         \n",
      " 14  목                   36899 non-null  int32         \n",
      " 15  금                   36899 non-null  int32         \n",
      " 16  토                   36899 non-null  int32         \n",
      " 17  일                   36899 non-null  int32         \n",
      " 18  요일                  36899 non-null  int64         \n",
      " 19  month               36899 non-null  int64         \n",
      " 20  day                 36899 non-null  int64         \n",
      " 21  hour                36899 non-null  int64         \n",
      " 22  휴일                  36899 non-null  int64         \n",
      " 23  resting_day         36899 non-null  int32         \n",
      " 24  working_day         36899 non-null  int32         \n",
      " 25  소비자심리지수             36899 non-null  float64       \n",
      " 26  season              36899 non-null  object        \n",
      " 27  가구                  36899 non-null  int32         \n",
      " 28  가전                  36899 non-null  int32         \n",
      " 29  건강기능                36899 non-null  int32         \n",
      " 30  농수축                 36899 non-null  int32         \n",
      " 31  생활용품                36899 non-null  int32         \n",
      " 32  속옷                  36899 non-null  int32         \n",
      " 33  의류                  36899 non-null  int32         \n",
      " 34  이미용                 36899 non-null  int32         \n",
      " 35  잡화                  36899 non-null  int32         \n",
      " 36  주방                  36899 non-null  int32         \n",
      " 37  침구                  36899 non-null  int32         \n",
      " 38  가을                  36899 non-null  int32         \n",
      " 39  겨울                  36899 non-null  int32         \n",
      " 40  봄                   36899 non-null  int32         \n",
      " 41  여름                  36899 non-null  int32         \n",
      " 42  20분당시청률_Band        36899 non-null  object        \n",
      " 43  0_(-0.00185, 0.37]  36899 non-null  int64         \n",
      " 44  0_(0.37, 0.741]     36899 non-null  int64         \n",
      " 45  0_(0.741, 1.111]    36899 non-null  int64         \n",
      " 46  0_(1.111, 1.482]    36899 non-null  int64         \n",
      " 47  0_(1.482, 1.852]    36899 non-null  int64         \n",
      "dtypes: datetime64[ns](1), float64(4), int32(24), int64(15), object(4)\n",
      "memory usage: 10.1+ MB\n"
     ]
    }
   ],
   "source": [
    "Train.info()"
   ]
  },
  {
   "cell_type": "code",
   "execution_count": 27,
   "metadata": {},
   "outputs": [],
   "source": [
    "x = Train.drop(['취급액','상품군','주문량','상품명','Unnamed: 0','방송일시','20분당시청률_Band',\n",
    "                'season'],axis = 1)\n",
    "y = Train['취급액']"
   ]
  },
  {
   "cell_type": "code",
   "execution_count": 28,
   "metadata": {},
   "outputs": [],
   "source": [
    "xTrain, xTest, yTrain, yTest = train_test_split(x,y,test_size = 0.3, random_state = 924)"
   ]
  },
  {
   "cell_type": "code",
   "execution_count": 29,
   "metadata": {},
   "outputs": [
    {
     "data": {
      "text/plain": [
       "(25829, 40)"
      ]
     },
     "execution_count": 29,
     "metadata": {},
     "output_type": "execute_result"
    }
   ],
   "source": [
    "xTrain.shape"
   ]
  },
  {
   "cell_type": "code",
   "execution_count": 30,
   "metadata": {},
   "outputs": [
    {
     "data": {
      "text/plain": [
       "(25829,)"
      ]
     },
     "execution_count": 30,
     "metadata": {},
     "output_type": "execute_result"
    }
   ],
   "source": [
    "yTrain.shape"
   ]
  },
  {
   "cell_type": "code",
   "execution_count": 31,
   "metadata": {},
   "outputs": [
    {
     "data": {
      "text/plain": [
       "(11070, 40)"
      ]
     },
     "execution_count": 31,
     "metadata": {},
     "output_type": "execute_result"
    }
   ],
   "source": [
    "xTest.shape"
   ]
  },
  {
   "cell_type": "code",
   "execution_count": 32,
   "metadata": {},
   "outputs": [
    {
     "data": {
      "text/plain": [
       "(11070,)"
      ]
     },
     "execution_count": 32,
     "metadata": {},
     "output_type": "execute_result"
    }
   ],
   "source": [
    "yTest.shape"
   ]
  },
  {
   "cell_type": "code",
   "execution_count": 33,
   "metadata": {
    "scrolled": true
   },
   "outputs": [],
   "source": [
    "from sklearn.model_selection import GridSearchCV\n",
    "from sklearn.ensemble import RandomForestRegressor\n",
    "myparam = { \n",
    "'n_estimators':[21,51,101,201,],\n",
    "'min_samples_split':[2,4,6,8,10],\n",
    "'max_depth':[3,5,7,9,11,13]}"
   ]
  },
  {
   "cell_type": "code",
   "execution_count": 42,
   "metadata": {
    "scrolled": true
   },
   "outputs": [],
   "source": [
    "rfModel =  RandomForestRegressor(n_estimators=51,\n",
    "                              max_depth=13,\n",
    "                              min_samples_split=10,\n",
    "                              n_jobs=2,\n",
    "                              random_state=42)"
   ]
  },
  {
   "cell_type": "code",
   "execution_count": 35,
   "metadata": {
    "scrolled": true
   },
   "outputs": [
    {
     "name": "stdout",
     "output_type": "stream",
     "text": [
      "{'max_depth': 13, 'min_samples_split': 10, 'n_estimators': 51}\n"
     ]
    },
    {
     "data": {
      "text/plain": [
       "0.525978317379622"
      ]
     },
     "execution_count": 35,
     "metadata": {},
     "output_type": "execute_result"
    }
   ],
   "source": [
    "gridCV = GridSearchCV(rfModel, param_grid = myparam, cv = 5, n_jobs = 3)\n",
    "gridCV.fit(xTrain,yTrain)\n",
    "print(gridCV.best_params_)\n",
    "gridCV.best_score_"
   ]
  },
  {
   "cell_type": "code",
   "execution_count": 43,
   "metadata": {
    "scrolled": true
   },
   "outputs": [
    {
     "data": {
      "text/plain": [
       "RandomForestRegressor(max_depth=13, min_samples_split=10, n_estimators=51,\n",
       "                      n_jobs=2, random_state=42)"
      ]
     },
     "execution_count": 43,
     "metadata": {},
     "output_type": "execute_result"
    }
   ],
   "source": [
    "rfModel.fit(xTrain, yTrain)"
   ]
  },
  {
   "cell_type": "code",
   "execution_count": 44,
   "metadata": {},
   "outputs": [],
   "source": [
    "pred = rfModel.predict(xTest)"
   ]
  },
  {
   "cell_type": "code",
   "execution_count": 45,
   "metadata": {},
   "outputs": [
    {
     "data": {
      "text/plain": [
       "0.6544279638800792"
      ]
     },
     "execution_count": 45,
     "metadata": {},
     "output_type": "execute_result"
    }
   ],
   "source": [
    "pred.shape\n",
    "rfModel.score(xTrain,yTrain)\n",
    "# 0.65"
   ]
  },
  {
   "cell_type": "code",
   "execution_count": 46,
   "metadata": {},
   "outputs": [
    {
     "data": {
      "text/plain": [
       "array([ 4842000, 24908000,  2837000, ..., 40553000, 32439000,  3782000],\n",
       "      dtype=int64)"
      ]
     },
     "execution_count": 46,
     "metadata": {},
     "output_type": "execute_result"
    }
   ],
   "source": [
    "y_True = yTest.to_numpy()\n",
    "y_True"
   ]
  },
  {
   "cell_type": "code",
   "execution_count": 47,
   "metadata": {},
   "outputs": [
    {
     "data": {
      "text/plain": [
       "array([12480185.48369479, 37418703.67121711,  8108287.65488197, ...,\n",
       "       41478085.25206506, 20076657.77400089, 11798727.16823836])"
      ]
     },
     "execution_count": 47,
     "metadata": {},
     "output_type": "execute_result"
    }
   ],
   "source": [
    "pred"
   ]
  },
  {
   "cell_type": "code",
   "execution_count": 48,
   "metadata": {},
   "outputs": [
    {
     "data": {
      "text/plain": [
       "89.66108884213662"
      ]
     },
     "execution_count": 48,
     "metadata": {},
     "output_type": "execute_result"
    }
   ],
   "source": [
    "def percentage_error(actual, predicted):\n",
    "    res = np.empty(actual.shape)\n",
    "    for j in range(actual.shape[0]):\n",
    "        if actual[j] != 0:\n",
    "            res[j] = (actual[j] - predicted[j]) / actual[j]\n",
    "        else:\n",
    "            res[j] = predicted[j] / np.mean(actual)\n",
    "    return res\n",
    "\n",
    "def mean_absolute_percentage_error(y_true, y_pred): \n",
    "    return np.mean(np.abs(percentage_error(np.asarray(y_true), np.asarray(y_pred)))) * 100\n",
    "\n",
    "mean_absolute_percentage_error(yTest,pred)"
   ]
  },
  {
   "cell_type": "code",
   "execution_count": null,
   "metadata": {},
   "outputs": [],
   "source": []
  },
  {
   "cell_type": "code",
   "execution_count": null,
   "metadata": {},
   "outputs": [],
   "source": []
  },
  {
   "cell_type": "code",
   "execution_count": null,
   "metadata": {},
   "outputs": [],
   "source": []
  }
 ],
 "metadata": {
  "kernelspec": {
   "display_name": "Python 3",
   "language": "python",
   "name": "python3"
  },
  "language_info": {
   "codemirror_mode": {
    "name": "ipython",
    "version": 3
   },
   "file_extension": ".py",
   "mimetype": "text/x-python",
   "name": "python",
   "nbconvert_exporter": "python",
   "pygments_lexer": "ipython3",
   "version": "3.7.7"
  }
 },
 "nbformat": 4,
 "nbformat_minor": 4
}
