{
 "cells": [
  {
   "cell_type": "markdown",
   "metadata": {},
   "source": [
    "### [파이썬과 웹크롤링]\n",
    "#### 1. 다음은 인스타그램 접속과 관련된 코드의 일부이다. 밑줄친 부분에 시간을 2초간 지연하는 코드를 작성하시오.\n",
    "driver.get('https://www.instargram.com')"
   ]
  },
  {
   "cell_type": "code",
   "execution_count": 11,
   "metadata": {},
   "outputs": [],
   "source": [
    "import time\n",
    "time.sleep(2)"
   ]
  },
  {
   "cell_type": "markdown",
   "metadata": {},
   "source": [
    "#### 2. 다음과 같은 데이터프레임을 생성하시오."
   ]
  },
  {
   "cell_type": "code",
   "execution_count": 57,
   "metadata": {},
   "outputs": [],
   "source": [
    "import pandas as pd\n",
    "import numpy as np"
   ]
  },
  {
   "cell_type": "code",
   "execution_count": 8,
   "metadata": {
    "scrolled": true
   },
   "outputs": [
    {
     "data": {
      "text/html": [
       "<div>\n",
       "<style scoped>\n",
       "    .dataframe tbody tr th:only-of-type {\n",
       "        vertical-align: middle;\n",
       "    }\n",
       "\n",
       "    .dataframe tbody tr th {\n",
       "        vertical-align: top;\n",
       "    }\n",
       "\n",
       "    .dataframe thead th {\n",
       "        text-align: right;\n",
       "    }\n",
       "</style>\n",
       "<table border=\"1\" class=\"dataframe\">\n",
       "  <thead>\n",
       "    <tr style=\"text-align: right;\">\n",
       "      <th></th>\n",
       "      <th>city</th>\n",
       "      <th>year</th>\n",
       "      <th>pop</th>\n",
       "    </tr>\n",
       "  </thead>\n",
       "  <tbody>\n",
       "    <tr>\n",
       "      <th>0</th>\n",
       "      <td>Seoul</td>\n",
       "      <td>2000</td>\n",
       "      <td>9.0</td>\n",
       "    </tr>\n",
       "    <tr>\n",
       "      <th>1</th>\n",
       "      <td>Daegu</td>\n",
       "      <td>2001</td>\n",
       "      <td>2.0</td>\n",
       "    </tr>\n",
       "    <tr>\n",
       "      <th>2</th>\n",
       "      <td>Busan</td>\n",
       "      <td>2002</td>\n",
       "      <td>3.0</td>\n",
       "    </tr>\n",
       "    <tr>\n",
       "      <th>3</th>\n",
       "      <td>Gwangju</td>\n",
       "      <td>2003</td>\n",
       "      <td>0.1</td>\n",
       "    </tr>\n",
       "  </tbody>\n",
       "</table>\n",
       "</div>"
      ],
      "text/plain": [
       "       city  year  pop\n",
       "0     Seoul  2000  9.0\n",
       "1     Daegu  2001  2.0\n",
       "2     Busan  2002  3.0\n",
       "3   Gwangju  2003  0.1"
      ]
     },
     "execution_count": 8,
     "metadata": {},
     "output_type": "execute_result"
    }
   ],
   "source": [
    "data = {'city' : ['Seoul','Daegu','Busan',' Gwangju'],\n",
    "        'year' : [2000,2001,2002,2003],\n",
    "        'pop' : [9.0,2.0,3.0,0.1]}\n",
    "pd.DataFrame(data,columns = ['city','year','pop'])"
   ]
  },
  {
   "cell_type": "markdown",
   "metadata": {},
   "source": [
    "#### [웹 데이터 전처리 및 정제/표준화]\n",
    "1. 다음과 같은 배열을 생성하시오."
   ]
  },
  {
   "cell_type": "code",
   "execution_count": 81,
   "metadata": {},
   "outputs": [
    {
     "data": {
      "text/plain": [
       "array([[0., 0., 0., 0., 0., 0., 0., 0., 0., 0.],\n",
       "       [0., 1., 1., 1., 1., 1., 1., 1., 1., 0.],\n",
       "       [0., 1., 1., 1., 1., 1., 1., 1., 1., 0.],\n",
       "       [0., 1., 1., 1., 1., 1., 1., 1., 1., 0.],\n",
       "       [0., 1., 1., 1., 1., 1., 1., 1., 1., 0.],\n",
       "       [0., 1., 1., 1., 1., 1., 1., 1., 1., 0.],\n",
       "       [0., 1., 1., 1., 1., 1., 1., 1., 1., 0.],\n",
       "       [0., 1., 1., 1., 1., 1., 1., 1., 1., 0.],\n",
       "       [0., 1., 1., 1., 1., 1., 1., 1., 1., 0.],\n",
       "       [0., 0., 0., 0., 0., 0., 0., 0., 0., 0.]])"
      ]
     },
     "execution_count": 81,
     "metadata": {},
     "output_type": "execute_result"
    }
   ],
   "source": [
    "one1 = np.ones((10,10))\n",
    "one1[:,0] = 0\n",
    "one1[0,:] = 0\n",
    "one1[:,-1] = 0\n",
    "one1[-1,:] = 0\n",
    "one1"
   ]
  },
  {
   "cell_type": "markdown",
   "metadata": {},
   "source": [
    "#### 2. 데이터 정규화 / 표준화에 대해 비교 설명하시오."
   ]
  },
  {
   "cell_type": "markdown",
   "metadata": {},
   "source": [
    "#### 데이터 정규화 / 표준화\n",
    "- 정규화: 관계형 데이터베이스의 설계에서 중복을 최소화하게 데이터를 구조화하는 프로세스. 서로 다른 범위를 가진 데이터들의 범위를 동일하게 하여 상대적인 크기 차이를 제거한다.  특정한 분포(ex. 정규분포)들의 평균과 분산\n",
    "혹은 표준편차를 이용해 “속성값-평균/표준편차”로 해당 분포에서의 이 속성값이 평균으로부터의 위치를 표준편차 단위로 옮겨서 다시 나타낸 것이라고 할 수 있다.\n",
    "\n",
    "- 표준화: 서로 다른 정규분포 사이에 비교를 하거나, 특정 정규분포를 토대로 하여 통계적 추정 등의 분석작업을 해야 할 때, 필요에 따라 정규분포의 분산과 표준편차를 표준에 맞게 통일시키는 것. 표준화를 하면 정규분포의 최고점으로부터 얼마나 데이터가 떨어져있는지 분포를 확인할 수 있다."
   ]
  },
  {
   "cell_type": "markdown",
   "metadata": {},
   "source": [
    "#### 2. 다음과 같은 데이터프레임을 생성하시오."
   ]
  },
  {
   "cell_type": "code",
   "execution_count": 3,
   "metadata": {},
   "outputs": [],
   "source": [
    "import pandas as pd\n",
    "import numpy as np"
   ]
  },
  {
   "cell_type": "code",
   "execution_count": 8,
   "metadata": {
    "scrolled": true
   },
   "outputs": [
    {
     "data": {
      "text/html": [
       "<div>\n",
       "<style scoped>\n",
       "    .dataframe tbody tr th:only-of-type {\n",
       "        vertical-align: middle;\n",
       "    }\n",
       "\n",
       "    .dataframe tbody tr th {\n",
       "        vertical-align: top;\n",
       "    }\n",
       "\n",
       "    .dataframe thead th {\n",
       "        text-align: right;\n",
       "    }\n",
       "</style>\n",
       "<table border=\"1\" class=\"dataframe\">\n",
       "  <thead>\n",
       "    <tr style=\"text-align: right;\">\n",
       "      <th></th>\n",
       "      <th>city</th>\n",
       "      <th>year</th>\n",
       "      <th>pop</th>\n",
       "    </tr>\n",
       "  </thead>\n",
       "  <tbody>\n",
       "    <tr>\n",
       "      <th>0</th>\n",
       "      <td>Seoul</td>\n",
       "      <td>2000</td>\n",
       "      <td>9.0</td>\n",
       "    </tr>\n",
       "    <tr>\n",
       "      <th>1</th>\n",
       "      <td>Daegu</td>\n",
       "      <td>2001</td>\n",
       "      <td>2.0</td>\n",
       "    </tr>\n",
       "    <tr>\n",
       "      <th>2</th>\n",
       "      <td>Busan</td>\n",
       "      <td>2002</td>\n",
       "      <td>3.0</td>\n",
       "    </tr>\n",
       "    <tr>\n",
       "      <th>3</th>\n",
       "      <td>Gwangju</td>\n",
       "      <td>2003</td>\n",
       "      <td>0.1</td>\n",
       "    </tr>\n",
       "  </tbody>\n",
       "</table>\n",
       "</div>"
      ],
      "text/plain": [
       "       city  year  pop\n",
       "0     Seoul  2000  9.0\n",
       "1     Daegu  2001  2.0\n",
       "2     Busan  2002  3.0\n",
       "3   Gwangju  2003  0.1"
      ]
     },
     "execution_count": 8,
     "metadata": {},
     "output_type": "execute_result"
    }
   ],
   "source": [
    "data = {'city' : ['Seoul','Daegu','Busan',' Gwangju'],\n",
    "        'year' : [2000,2001,2002,2003],\n",
    "        'pop' : [9.0,2.0,3.0,0.1]}\n",
    "pd.DataFrame(data,columns = ['city','year','pop'])"
   ]
  },
  {
   "cell_type": "markdown",
   "metadata": {},
   "source": [
    "#### [정형 데이터처리 RDB]\n",
    "다음 실행 예시처럼 교환할 돈을 입력받아서, 최소한의 동전의 개수로 교환해 주는 파이썬 코드를 작성하시오.\n",
    "바꿀 돈 -->7777\n",
    "500원: 15 , 100원: 2 , 50원: 1 , 10원 2 , 나머지: 7    "
   ]
  },
  {
   "cell_type": "code",
   "execution_count": 86,
   "metadata": {},
   "outputs": [
    {
     "name": "stdout",
     "output_type": "stream",
     "text": [
      "바꿀 돈 입력: 7777\n"
     ]
    }
   ],
   "source": [
    "money = int(input('바꿀 돈 입력: '))"
   ]
  },
  {
   "cell_type": "code",
   "execution_count": 87,
   "metadata": {},
   "outputs": [
    {
     "name": "stdout",
     "output_type": "stream",
     "text": [
      "500원: 15개, 100원: 0개, 50원: 1개, 10원: 2개, 나머지: 7원\n"
     ]
    }
   ],
   "source": [
    "\n",
    "n500 = money // 500\n",
    "money = money % 500\n",
    "n100 = money // 100\n",
    "money = money % 100\n",
    "n100 = money // 100\n",
    "money = money % 100\n",
    "n50 = money // 50\n",
    "money = money % 50\n",
    "n10 = money // 10\n",
    "change = money % 10\n",
    "print(\"500원: {}개, 100원: {}개, 50원: {}개, 10원: {}개, 나머지: {}원\".format(n500, n100, n50, n10, change))"
   ]
  },
  {
   "cell_type": "code",
   "execution_count": 98,
   "metadata": {},
   "outputs": [
    {
     "name": "stdout",
     "output_type": "stream",
     "text": [
      "바꿀 돈 입력: 7777\n",
      "500원: 15개, 100원: 0개, 50원: 1개, 10원: 2개, 나머지: 7원\n"
     ]
    }
   ],
   "source": [
    "def moneyChanger():\n",
    "    money = int(input('바꿀 돈 입력: '))\n",
    "    while True:\n",
    "        if money >= 500:\n",
    "            n500 = money // 500\n",
    "            money = money % 500\n",
    "            n100 = money // 100\n",
    "            money = money % 100\n",
    "            n100 = money // 100\n",
    "            money = money % 100\n",
    "            n50 = money // 50\n",
    "            money = money % 50\n",
    "            n10 = money // 10\n",
    "            change = money % 10\n",
    "        elif money >= 100 and money < 500:\n",
    "            n500 = 0\n",
    "            n100 = money // 100\n",
    "            money = money % 100\n",
    "            n100 = money // 100\n",
    "            money = money % 100\n",
    "            n50 = money // 50\n",
    "            money = money % 50\n",
    "            n10 = money // 10\n",
    "            change = money % 10\n",
    "        elif money >= 50 and money < 100:\n",
    "            n500 = 0\n",
    "            n100 = 0\n",
    "            n50 = money // 50\n",
    "            money = money % 50\n",
    "            n10 = money // 10\n",
    "            change = money % 10\n",
    "        elif money >= 10 and money < 50:\n",
    "            n500 = 0\n",
    "            n100 = 0\n",
    "            n50 = 0\n",
    "            n10 = money // 10\n",
    "            change = money % 10\n",
    "        elif money < 10:\n",
    "            n500 = 0\n",
    "            n100 = 0\n",
    "            n50 = 0\n",
    "            n10 = 0\n",
    "            change = money\n",
    "\n",
    "        return print(\"500원: {}개, 100원: {}개, 50원: {}개, 10원: {}개, 나머지: {}원\".format(n500, n100, n50, n10, change))\n",
    "\n",
    "moneyChanger()"
   ]
  },
  {
   "cell_type": "code",
   "execution_count": null,
   "metadata": {},
   "outputs": [],
   "source": []
  },
  {
   "cell_type": "code",
   "execution_count": null,
   "metadata": {},
   "outputs": [],
   "source": []
  }
 ],
 "metadata": {
  "kernelspec": {
   "display_name": "Python 3",
   "language": "python",
   "name": "python3"
  },
  "language_info": {
   "codemirror_mode": {
    "name": "ipython",
    "version": 3
   },
   "file_extension": ".py",
   "mimetype": "text/x-python",
   "name": "python",
   "nbconvert_exporter": "python",
   "pygments_lexer": "ipython3",
   "version": "3.7.7"
  }
 },
 "nbformat": 4,
 "nbformat_minor": 4
}
