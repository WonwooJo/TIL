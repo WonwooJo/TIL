{
 "metadata": {
  "language_info": {
   "codemirror_mode": {
    "name": "ipython",
    "version": 3
   },
   "file_extension": ".py",
   "mimetype": "text/x-python",
   "name": "python",
   "nbconvert_exporter": "python",
   "pygments_lexer": "ipython3",
   "version": 3
  },
  "orig_nbformat": 2,
  "kernelspec": {
   "name": "python_defaultSpec_1596506287064",
   "display_name": "Python 3.7.8 64-bit"
  }
 },
 "nbformat": 4,
 "nbformat_minor": 2,
 "cells": [
  {
   "cell_type": "code",
   "execution_count": 24,
   "metadata": {
    "tags": []
   },
   "outputs": [
    {
     "output_type": "stream",
     "name": "stdout",
     "text": "850101-*******\n950202-*******\n\nkim 850101-*******\nlee 950202-*******\n\n매치안됨\n<re.Match object; span=(1, 5), match='test'>\n<re.Match object; span=(7, 11), match='test'>\n<re.Match object; span=(13, 17), match='test'>\nNone\n<re.Match object; span=(2, 8), match='python'>\n"
    }
   ],
   "source": [
    "'''\n",
    "정규표현식: 규칙(패턴)을 가진 문자열을 표현하는 방법\n",
    "영화 댓글, 커뮤니티 질문/답변, 지식인 등...\n",
    "\n",
    "###### 웹 크롤링(스크랩핑) ######\n",
    "\n",
    "###### Regular Expression ######\n",
    "import re\n",
    "# 모듈: *.py가 붙은 파이썬 파일(함수, 클래스 등 포함)\n",
    "# 패키지: 모듈, 패키지들의 집합.\n",
    "'''\n",
    "\n",
    "import re\n",
    "# re.match('패턴','문자열')\n",
    "# 문자열 속에 패턴이 있습니까?\n",
    "re.match('hello','hello, world')\n",
    "# re.match('python','hello, world')\n",
    "# ^문자열 : 문자열이 맨 앞에 오냐?\n",
    "# 문자열$ : 문자열이 맨 마지막에 오냐?\n",
    "re.search('^hello', 'hello, world')\n",
    "re.search('hello$', 'hello, world')\n",
    "\n",
    "# | = or의 의미. hello or world가 있냐?\n",
    "re.match('hello|world','hello')\n",
    "jumin = '''\n",
    "kim 850101-1234567\n",
    "lee 950202-2345678\n",
    "'''\n",
    "res = []\n",
    "for l in jumin.split('\\n'):\n",
    "    for w in l.split(' '):\n",
    "        if len(w) == 14 and w[7:].isdigit():  #isdigit: 숫자냐 아니냐?\n",
    "            print(w[:6]+'-'+'*******')\n",
    "\n",
    "mypat = re.compile('(\\d{6})[-]\\d{7}') #match(패턴, 문자열),search / ():그룹  / []: 기호가 들어가야해  /  즉 6자리 숫자 - 7자리 숫자의 패턴\n",
    "print(mypat.sub('\\g<1>-*******', jumin)) # \\g<1>: 1번 그룹은 그대로 출력, 그 뒷자리는 *로 출력\n",
    "\n",
    "# []: 대괄호 내부에 있는 문자들과 매치(숫자, 문자, 특수문자 가능.) 1개만!\n",
    "# [abc]: a와 b 또는 c와 매치되는지? 어느 한개의 문자와 매치가 되는가?\n",
    "# 패턴식: [abc], 문자열:'a'  → 'a'가 abc에 포함되니까!\n",
    "#                문자열:'d'  → 매치 안됨.\n",
    "# [abc], 문자열:'bye' → 첫글자 'b'만 매치\n",
    "# [a-z]: 알파벳 소문자\n",
    "# [a-zA-Z0-9]: 알파벳, 숫자 모두 포함\n",
    "# [가-힣ㄱ-ㅎ]: 한글 모두 포함\n",
    "# [^A-Z]: []안에 ^를 쓰면 'not'의 의미, 알파벳 대문자를 제외한 모두와 매치.\n",
    "# [^0-9]: 숫자를 제외한 모두와 매치.\n",
    "\n",
    "# \\d: 숫자와 매치 == [0-9]\n",
    "# \\D: 숫자를 제외하고 매치 == [^0-9]\n",
    "# \\w: 문자와 숫자 전부 매치 → [a-zA-Z0-9_] 알파벳 소문자, 대문자, 숫자, 언더바(특수문자 중 하나만)\n",
    "# \\W: 문자와 숫자를 제외하고 매치 == [^a-zA-Z0-9_]\n",
    "\n",
    "# . (dot): 모든 문자와 매치(\\n 제외)\n",
    "# 정규표현식 패턴: a.b  →  a 다음 아무거나 와도 되고 그 다음 b\n",
    "# 문자열: akb, a2b는 a.b에 매치됨.\n",
    "# aby → 매치 안됨. (왜? a와 b 사이에 무조건 문자 하나가 와야함.)\n",
    "# 정규표현식: a.b → a[.]b: 문자열 a.b와 매치.(즉, []안에 .을 넣어서 그냥 문자로 인식.)\n",
    "\n",
    "# +: 1번 이상 반복\n",
    "# 정규표현식: do+g\n",
    "# 문자열: dog, doog, doooooooog 도 매치됨.   ('o'가 최소한 1번 이상은 나와야 함.)\n",
    "#       : dg → 매치안됨.\n",
    "\n",
    "# *: 0번 이상 반복\n",
    "# 정규표현식:do*g\n",
    "# 문자열: dog, doog, dooooooog, dg → 매치됨.\n",
    "\n",
    "# {}: 반복횟수의 범위 지정\n",
    "# 정규표현식: do{2}g → o문자가 반드시 2번 출현해야함. → doog만 매치.\n",
    "# do{2,5}g: doog, dooog, dooooog → 매치됨 / dog → 매치안됨.\n",
    "# do{1,}g: d[o]+g → o가 1번이상 나와야 함.\n",
    "\n",
    "# ?: {0,1}과 같음. → 문자가 없어도 되고, 최대 1번까지 있어도 됨.\n",
    "# 정규표현식: ab?c → abc, ac 매치됨\n",
    "\n",
    "\n",
    "pat=re.compile('[a-z]+') # [a부터 z까지 하나]에 +가 붙어서 수많은 단어가 가능함.\n",
    "pat.match('test') # match는 처음부터 매치가 되야함.\n",
    "pat.match('1test') \n",
    "# compile함수를 이용하여 정의한 패턴이 주어진 문자열에 대해\n",
    "# 매치가 되는지를 확인하는데 사용하는 함수가 4가지 있음.\n",
    "# search, match, find\n",
    "if pat.match('1test'): # None과 뜻하는 바가 같다.\n",
    "    print('매치됨')\n",
    "else:\n",
    "    print('매치안됨')\n",
    "\n",
    "pat.search('test')\n",
    "# <re.Match object; span=(0, 4), match='test'>  → span: 0번부터 4번 앞까지 매치가 된다.\n",
    "pat.search(\"1test\")\n",
    "# <re.Match object; span=(1, 5), match='test'>  → search는 match와 다르게 문자열 전체에 대해 조사한다.\n",
    "pat.search(\"1test 2test 3test\")\n",
    "# <re.Match object; span=(1, 5), match='test'>\n",
    "\n",
    "pat.findall(\"1test 2test 3test\")\n",
    "# ['test', 'test', 'test']  → 문자열 전체에 대해 조사(공백 포함).\n",
    "res = pat.finditer(\"1test 2test 3test\")\n",
    "for r in res:\n",
    "    print(r)\n",
    "# <re.Match object; span=(1, 5), match='test'>   → iterator를 만들어내고, for문을 통해 뽑아낼 수 있다. \n",
    "#                                                  findall과는 달리 span까지 표현해줘서 위치까지 알 수 있음.\n",
    "# <re.Match object; span=(7, 11), match='test'>\n",
    "# <re.Match object; span=(13, 17), match='test'>\n",
    "# pat=re.compile('[a-z]+')\n",
    "pat.match(\"mypython\")\n",
    "# <re.Match object; span=(0, 8), match='mypython'>\n",
    "res = pat.match(\"mypython\")\n",
    "# res: 객체 → 매소드, 속성을 사용할 수 있음.\n",
    "# 클래스: 매소드, 속성을 가짐. \n",
    "res.group() # 매치된 문자열 리턴.\n",
    "res.start() # 매치된 문자열의 시작 위치.\n",
    "res.end()   # 매치된 문자열의 끝 위치.\n",
    "res.span()  # 매치된 시작위치, 끝위치를 튜플로 리턴.\n",
    "\n",
    "res2 = pat.match('7 mypython')\n",
    "print(res2) # None\n",
    "res2 = pat.search('7 mypython')\n",
    "print(res2) # 문장 전체에 대해 조사.\n",
    "\n",
    "###### 작성방법 ######\n",
    "# 1 \n",
    "pat = re.compile(\"패턴식\")\n",
    "res = pat.match(\"문자열\")\n",
    "\n",
    "# 2\n",
    "# re.match('패턴식','문자열')\n"
   ]
  },
  {
   "cell_type": "code",
   "execution_count": 30,
   "metadata": {},
   "outputs": [],
   "source": [
    "re.match(\"[0-9]\", \"1234\")\n",
    "re.match(\"[0-9]*\", \"1234\")  #  *: 0번 이상\n",
    "re.match(\"[0-9]+\", \"1234\")  #  +: 1번 이상\n",
    "re.match(\"[0-9]\", \"abc\")"
   ]
  },
  {
   "cell_type": "code",
   "execution_count": 40,
   "metadata": {},
   "outputs": [
    {
     "output_type": "execute_result",
     "data": {
      "text/plain": "<re.Match object; span=(0, 4), match='aaab'>"
     },
     "metadata": {},
     "execution_count": 40
    }
   ],
   "source": [
    "re.match(\"a*b\",\"a\")  #  매치 안됨. 패턴에 대해 문자열이 매치되는가?\n",
    "re.match(\"a*b\",\"b\")  #  매치 됨.\n",
    "re.match(\"a+b\",\"b\")  #  매치 안됨.\n",
    "re.match(\"a*b\",\"aaab\") #  매치 됨.\n",
    "re.match(\"a+b\",\"aaab\") #  매치 됨."
   ]
  },
  {
   "cell_type": "code",
   "execution_count": 50,
   "metadata": {},
   "outputs": [
    {
     "output_type": "execute_result",
     "data": {
      "text/plain": "<re.Match object; span=(0, 4), match='abkc'>"
     },
     "metadata": {},
     "execution_count": 50
    }
   ],
   "source": [
    "re.match(\"abc?d\", 'abd')\n",
    "re.match(\"abc?d\", 'abcd')\n",
    "re.match(\"abc?d\", 'abccd') \n",
    "re.match(\"ab[0-9]c\",\"ab2c\")\n",
    "re.match(\"ab[0-9]?c\",\"abc\")\n",
    "re.match(\"ab.c\",'abkc')  #  매치 .은 모든 문자(\\n 제외)"
   ]
  },
  {
   "cell_type": "code",
   "execution_count": 57,
   "metadata": {},
   "outputs": [
    {
     "output_type": "execute_result",
     "data": {
      "text/plain": "<re.Match object; span=(0, 6), match='hihihi'>"
     },
     "metadata": {},
     "execution_count": 57
    }
   ],
   "source": [
    "re.match(\"h{3}\",\"hhhkkk\")   #  {3}: 3번 반복! 따라서 h문자가 반드시 3번 나와야함.\n",
    "re.match(\"h{3}\",\"hhkkk\")   #  매치X\n",
    "re.match(\"(hi){3}\",'hihihi')   #  (): ()안에 있는 것은 그룹으로 본다."
   ]
  },
  {
   "cell_type": "code",
   "execution_count": 66,
   "metadata": {
    "tags": []
   },
   "outputs": [
    {
     "output_type": "execute_result",
     "data": {
      "text/plain": "<re.Match object; span=(0, 13), match='010-1234-5678'>"
     },
     "metadata": {},
     "execution_count": 66
    }
   ],
   "source": [
    "# re.match(\"완성\",\"010-1234-5678\")  #  정상적인 폰 번호인지 구분할 수 있는 패턴식 완성.\n",
    "re.match(\"[0-9]{3}[-][0-9]{4}[-][0-9]{4}\", '010-1234-5678')\n",
    "re.match(\"[0-9]{3}[-][0-9]{4}[-][0-9]{4}\", '010-12345-5678')\n",
    "re.match(\"[0-9]{3}[-][0-9]{4}[-][0-9]{4}\", '01012345-5678')\n",
    "re.match(\"[0-9]{3}[-][0-9]{4}[-][0-9]{4}\", '010-1234-56789')\n"
   ]
  },
  {
   "cell_type": "code",
   "execution_count": 73,
   "metadata": {},
   "outputs": [
    {
     "output_type": "execute_result",
     "data": {
      "text/plain": "<re.Match object; span=(0, 11), match='01-234-5678'>"
     },
     "metadata": {},
     "execution_count": 73
    }
   ],
   "source": [
    "# re.match(\"\",\"\")  #  2자리 or 3자리 - 3자리 또는 4자리 - 4자리\n",
    "re.match(\"[0-9]{2,3}[-][0-9]{3,4}[-][0-9]{4}\", '01-234-5678')"
   ]
  },
  {
   "cell_type": "code",
   "execution_count": 93,
   "metadata": {},
   "outputs": [],
   "source": [
    "re.match(\"[a-zA-Z0-9]+\", \"Hello1234\")\n",
    "re.match(\"[A-Z]+\",\"Hello\")  # 첫 글자만 매치됨\n",
    "re.match(\"[^A-Z]+\",\"Hello\")  # 첫 글자가 대문자라서 매치가 안됨.\n",
    "re.search(\"[^A-Z]+\",\"Hello\")  # 뒤에 ello만 출력.\n",
    "re.search(\"[A-Z]+\", 'Hello')  # H만 매치.\n",
    "re.search(\"^[A-Z]+\", 'Hello')  # ~으로 시작할 때 ^[]\n",
    "re.search(\"[0-9]+\",'Hi123Hello')  # 123만 매치.\n",
    "re.search(\"[0-9]+$\",'Hi123')  # ~으로 끝나는 것만 찾고싶다 []$\n",
    "re.search(\"[0-9]+$\",\"Hi123Hello\")  # 출력X"
   ]
  },
  {
   "cell_type": "code",
   "execution_count": 100,
   "metadata": {},
   "outputs": [
    {
     "output_type": "execute_result",
     "data": {
      "text/plain": "<re.Match object; span=(2, 4), match='**'>"
     },
     "metadata": {},
     "execution_count": 100
    }
   ],
   "source": [
    "re.search(\"\\*+\",\"1 ** 2\")  # 역슬래쉬 \\를 붙이면 메타문자X\n",
    "re.search(\"[$()a-z]+\",'$(test)')  # [] 대괄호로 감싸도 됨.\n",
    "re.search(\"[*$()a-z]+\",'1 ** 2')"
   ]
  },
  {
   "cell_type": "code",
   "execution_count": 110,
   "metadata": {},
   "outputs": [
    {
     "output_type": "execute_result",
     "data": {
      "text/plain": "<re.Match object; span=(0, 5), match='?!@#$'>"
     },
     "metadata": {},
     "execution_count": 110
    }
   ],
   "source": [
    "re.match(\"\\d\",'1234')  # 출력 1  \\d → 숫자를 의미함.\n",
    "re.match(\"\\d+\",'1234')  # 출력 1234\n",
    "re.match(\"\\D+\",'1234')  # 매치 X숫자를 제외함.\n",
    "re.match(\"\\D+\",'hiHello')  # 매치 O\n",
    "re.match(\"\\w+\",'hi_1234_Hello')  # 문자, 숫자, _까지 매치 가능\n",
    "re.match('\\W+','?!@#$')  # 특수문자만 매치(_ 제외)\n"
   ]
  },
  {
   "cell_type": "code",
   "execution_count": 144,
   "metadata": {},
   "outputs": [
    {
     "output_type": "execute_result",
     "data": {
      "text/plain": "'123'"
     },
     "metadata": {},
     "execution_count": 144
    }
   ],
   "source": [
    "re.match(\"[a-zA-Z0-9]+\", \"Hello 123\")  # 공백은 매치가 안됨. 따라서 Hello만 출력\n",
    "re.match(\"[a-zA-Z0-9 ]+\",\"Hello 123\")  # 공백을 넣어서 공백이 매치가 되도록 함.\n",
    "re.match(\"[a-zA-Z0-9\\s]+\",\"Hello 123\")   # \\s를 넣어서 공백도 매치가 되도록 함.\n",
    "re.match(\"[0-9]+ [0-9]+\",'123 456')  # 0-9  공백  0-9\n",
    "res = re.match(\"([0-9]+) ([0-9]+)\",\"123 456\")  # 그룹 지정으로 '123', '456' 묶어서 매치 가능\n",
    "res.group()\n",
    "res.group(1,2)\n",
    "res.groups()\n",
    "res.groups()[0] # 이런 방법으로 추출도 가능함."
   ]
  },
  {
   "cell_type": "code",
   "execution_count": 224,
   "metadata": {},
   "outputs": [
    {
     "output_type": "execute_result",
     "data": {
      "text/plain": "'print'"
     },
     "metadata": {},
     "execution_count": 224
    }
   ],
   "source": [
    "# 주어진 문자열이 함수 호출 구문 형식에 맞는지 확인하는 패턴식 정의.\n",
    "# 모든 함수명은 영문자 또는 _(언더바)로 시작해야하고,\n",
    "# 2번째 글자부터는 영문자 언더바 뿐만 아니라 숫자도 가능함.\n",
    "# 반드시 소괄호의 쌍이 등장. 소괄호 내부에는 문자나 숫자가 올 수 있음.\n",
    "# print777(abc), print888(100), Print333(10) 모두 가능.\n",
    "\n",
    "re.match(\"[A-Za-z_][A-Za-z0-9]+[\\()\\w]+\",\"_2p3r4i5n1t_(_1_2_3_)\") \n",
    "res = re.match(\"[A-Za-z_][A-Za-z0-9]+\\((\\w+)\\)\",\"print(123)\")  \n",
    "\n",
    "#(  ) 소괄호로 그룹을 나눔. → 많으면 힘들어\n",
    "res = re.match(\"([A-Za-z_][A-Za-z0-9]+)\\((\\w+)\\)\",\"print(123)\")  \n",
    "res.group(1) # 그룹은 튜플 형식으로 나옴.\n",
    "res.group(2)\n",
    "res.group()\n",
    "\n",
    "# 그룹명을 알면 그룹 내용을 추출할 수 있도록 하는 방법\n",
    "# 그룹 이름 정의: (?P<그룹명> )\n",
    "res = re.match(\"(?P<fn>[A-Za-z_][A-Za-z0-9]+)\\((?P<arg>\\w+)\\)\",\"print(123)\")   # fn / arg로 그룹명 지정.\n",
    "res.group('arg')\n",
    "res.group('fn')\n"
   ]
  },
  {
   "cell_type": "code",
   "execution_count": 226,
   "metadata": {},
   "outputs": [
    {
     "output_type": "execute_result",
     "data": {
      "text/plain": "'대한민국 대한민국 대한민국'"
     },
     "metadata": {},
     "execution_count": 226
    }
   ],
   "source": [
    "## Find all ##\n",
    "re.findall(\"[0-9]+\",'1 2 three 4 5 six')\n",
    "# 우리나라, 한국, 대한민국, 남한, 코리아  >> 모두 같은 뜻. >> 반드시 한 단어로 통일해줘야함 >> 모델이 제대로 안나오기 때문.\n",
    "# sub를 이용해 통일 가능!\n",
    "# 형식: re.sub(\"패턴\", \"바꿀 문자열\", \"크롤링 한 원문 전체\")\n",
    "re.sub(\"대한민국|한국|남한|코리아\",\"대한민국\",\"대한민국 한국 코리아\")\n",
    "# be동사: is, am, were, was ... >> re.sub(\"is|am|were|was\",\"be\",\"크롤링 한 원문 전체\")"
   ]
  },
  {
   "cell_type": "code",
   "execution_count": 242,
   "metadata": {
    "tags": []
   },
   "outputs": [
    {
     "output_type": "execute_result",
     "data": {
      "text/plain": "'10 20 three 40 500 6000 seven'"
     },
     "metadata": {},
     "execution_count": 242
    }
   ],
   "source": [
    "# 숫자만 모두 찾아서 su로 변경\n",
    "re.sub(\"[0-9]+\",\"su\",\"1 2 three 4 50 600 seven\")    # findall처럼 모두 스캔해서 바꾸는 느낌!\n",
    "\n",
    "# \n",
    "# re.sub(\"[0-9]+\",\"함수이름\",\"1 2 three 4 50 600 seven\")    # 함수이름이 오면 함수가 호출됨.\n",
    "def mul10(arg):     # arg에는 매치된 객체가 전달됨\n",
    "    # print(arg.group())  # 매치된 객체만 그룹이 되어 전달됨\n",
    "    # print(int(arg.group())*10)\n",
    "    res = int(arg.group())*10   # 문자열로 인식\n",
    "    return str(res)\n",
    "\n",
    "re.sub(\"[0-9]+\",mul10,\"1 2 three 4 50 600 seven\")\n"
   ]
  }
 ]
}