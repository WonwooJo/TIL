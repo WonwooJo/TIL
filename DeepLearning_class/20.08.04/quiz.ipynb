{
 "metadata": {
  "language_info": {
   "codemirror_mode": {
    "name": "ipython",
    "version": 3
   },
   "file_extension": ".py",
   "mimetype": "text/x-python",
   "name": "python",
   "nbconvert_exporter": "python",
   "pygments_lexer": "ipython3",
   "version": 3
  },
  "orig_nbformat": 2,
  "kernelspec": {
   "name": "python_defaultSpec_1596523560188",
   "display_name": "Python 3.7.8 64-bit"
  }
 },
 "nbformat": 4,
 "nbformat_minor": 2,
 "cells": [
  {
   "cell_type": "code",
   "execution_count": 16,
   "metadata": {
    "tags": []
   },
   "outputs": [
    {
     "output_type": "stream",
     "name": "stdout",
     "text": "[0, 4, 7, 2, 6, -11, -91, -86, -4, 0, 3, -2, 2, -15, -95, -90, -7, -3, 0, -5, -1, -18, -98, -93, -2, 2, 5, 0, 4, -13, -93, -88, -6, -2, 1, -4, 0, -17, -97, -92, 11, 15, 18, 13, 17, 0, -80, -75, 91, 95, 98, 93, 97, 80, 0, 5, 86, 90, 93, 88, 92, 75, -5, 0]\n"
    }
   ],
   "source": [
    "list1 = []\n",
    "s = [9,5,2,7,3,20,100,95]\n",
    "for i in s:\n",
    "    for j in s:\n",
    "        list1.append(i-j)\n",
    "\n",
    "print(list1)\n"
   ]
  }
 ]
}