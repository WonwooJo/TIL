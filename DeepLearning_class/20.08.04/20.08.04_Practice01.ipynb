{
 "metadata": {
  "language_info": {
   "codemirror_mode": {
    "name": "ipython",
    "version": 3
   },
   "file_extension": ".py",
   "mimetype": "text/x-python",
   "name": "python",
   "nbconvert_exporter": "python",
   "pygments_lexer": "ipython3",
   "version": 3
  },
  "orig_nbformat": 2,
  "kernelspec": {
   "name": "python_defaultSpec_1596506287064",
   "display_name": "Python 3.7.8 64-bit"
  }
 },
 "nbformat": 4,
 "nbformat_minor": 2,
 "cells": [
  {
   "cell_type": "code",
   "execution_count": 9,
   "metadata": {
    "tags": []
   },
   "outputs": [
    {
     "output_type": "stream",
     "name": "stdout",
     "text": "850101-*******\n950202-*******\n\nkim 850101-*******\nlee 950202-*******\n\n매치안됨\n"
    }
   ],
   "source": [
    "'''\n",
    "정규표현식: 규칙(패턴)을 가진 문자열을 표현하는 방법\n",
    "영화 댓글, 커뮤니티 질문/답변, 지식인 등...\n",
    "\n",
    "###### 웹 크롤링(스크랩핑) ######\n",
    "\n",
    "###### Regular Expression ######\n",
    "import re\n",
    "# 모듈: *.py가 붙은 파이썬 파일(함수, 클래스 등 포함)\n",
    "# 패키지: 모듈, 패키지들의 집합.\n",
    "'''\n",
    "\n",
    "import re\n",
    "# re.match('패턴','문자열')\n",
    "# 문자열 속에 패턴이 있습니까?\n",
    "re.match('hello','hello, world')\n",
    "# re.match('python','hello, world')\n",
    "# ^문자열 : 문자열이 맨 앞에 오냐?\n",
    "# 문자열$ : 문자열이 맨 마지막에 오냐?\n",
    "re.search('^hello', 'hello, world')\n",
    "re.search('hello$', 'hello, world')\n",
    "\n",
    "# | = or의 의미. hello or world가 있냐?\n",
    "re.match('hello|world','hello')\n",
    "jumin = '''\n",
    "kim 850101-1234567\n",
    "lee 950202-2345678\n",
    "'''\n",
    "res = []\n",
    "for l in jumin.split('\\n'):\n",
    "    for w in l.split(' '):\n",
    "        if len(w) == 14 and w[7:].isdigit():  #isdigit: 숫자냐 아니냐?\n",
    "            print(w[:6]+'-'+'*******')\n",
    "\n",
    "mypat = re.compile('(\\d{6})[-]\\d{7}') #match(패턴, 문자열),search / ():그룹  / []: 기호가 들어가야해  /  즉 6자리 숫자 - 7자리 숫자의 패턴\n",
    "print(mypat.sub('\\g<1>-*******', jumin)) # \\g<1>: 1번 그룹은 그대로 출력, 그 뒷자리는 *로 출력\n",
    "\n",
    "# []: 대괄호 내부에 있는 문자들과 매치(숫자, 문자, 특수문자 가능.)\n",
    "# [abc]: a와 b 또는 c와 매치되는지? 어느 한개의 문자와 매치가 되는가?\n",
    "# 패턴식: [abc], 문자열:'a'  → 'a'가 abc에 포함되니까!\n",
    "#                문자열:'d'  → 매치 안됨.\n",
    "# [abc], 문자열:'bye' → 첫글자 'b'만 매치\n",
    "# [a-z]: 알파벳 소문자\n",
    "# [a-zA-Z0-9]: 알파벳, 숫자 모두 포함\n",
    "# [가-힣ㄱ-ㅎ]: 한글 모두 포함\n",
    "# [^A-Z]: []안에 ^를 쓰면 'not'의 의미, 알파벳 대문자를 제외한 모두와 매치.\n",
    "# [^0-9]: 숫자를 제외한 모두와 매치.\n",
    "\n",
    "# \\d: 숫자와 매치 == [0-9]\n",
    "# \\D: 숫자를 제외하고 매치 == [^0-9]\n",
    "# \\w: 문자와 숫자 전부 매치 → [a-zA-Z0-9_] 알파벳 소문자, 대문자, 숫자, 언더바(특수문자 중 하나만)\n",
    "# \\W: 문자와 숫자를 제외하고 매치 == [^a-zA-Z0-9_]\n",
    "\n",
    "# . (dot): 모든 문자와 매치(\\n 제외)\n",
    "# 정규표현식 패턴: a.b  →  a 다음 아무거나 와도 되고 그 다음 b\n",
    "# 문자열: akb, a2b는 a.b에 매치됨.\n",
    "# aby → 매치 안됨. (왜? a와 b 사이에 무조건 문자 하나가 와야함.)\n",
    "# 정규표현식: a.b → a[.]b: 문자열 a.b와 매치.(즉, []안에 .을 넣어서 그냥 문자로 인식.)\n",
    "\n",
    "# +: 1번 이상 반복\n",
    "# 정규표현식: do+g\n",
    "# 문자열: dog, doog, doooooooog 도 매치됨.   ('o'가 최소한 1번 이상은 나와야 함.)\n",
    "#       : dg → 매치안됨.\n",
    "\n",
    "# *: 0번 이상 반복\n",
    "# 정규표현식:do*g\n",
    "# 문자열: dog, doog, dooooooog, dg → 매치됨.\n",
    "\n",
    "# {}: 반복횟수의 범위 지정\n",
    "# 정규표현식: do{2}g → o문자가 반드시 2번 출현해야함. → doog만 매치.\n",
    "# do{2,5}g: doog, dooog, dooooog → 매치됨 / dog → 매치안됨.\n",
    "# do{1,}g: d[o]+g → o가 1번이상 나와야 함.\n",
    "\n",
    "# ?: {0,1}과 같음. → 문자가 없어도 되고, 최대 1번까지 있어도 됨.\n",
    "# 정규표현식: ab?c → abc, ac 매치됨\n",
    "\n",
    "\n",
    "pat=re.compile('[a-z]+') # [a부터 z까지 하나]에 +가 붙어서 수많은 단어가 가능함.\n",
    "pat.match('test')\n",
    "pat.match('1test')\n",
    "# compile함수를 이용하여 정의한 패턴이 주어진 문자열에 대해\n",
    "# 매치가 되는지를 확인하는데 사용하는 함수가 4가지 있음.\n",
    "# search, match, find\n",
    "if pat.match('1test'): # None과 뜻하는 바가 같다.\n",
    "    print('매치됨')\n",
    "else:\n",
    "    print('매치안됨')\n",
    "\n"
   ]
  },
  {
   "cell_type": "code",
   "execution_count": null,
   "metadata": {},
   "outputs": [],
   "source": []
  },
  {
   "cell_type": "code",
   "execution_count": null,
   "metadata": {},
   "outputs": [],
   "source": []
  },
  {
   "cell_type": "code",
   "execution_count": null,
   "metadata": {},
   "outputs": [],
   "source": []
  },
  {
   "cell_type": "code",
   "execution_count": null,
   "metadata": {},
   "outputs": [],
   "source": []
  },
  {
   "cell_type": "code",
   "execution_count": null,
   "metadata": {},
   "outputs": [],
   "source": []
  },
  {
   "cell_type": "code",
   "execution_count": null,
   "metadata": {},
   "outputs": [],
   "source": []
  },
  {
   "cell_type": "code",
   "execution_count": null,
   "metadata": {},
   "outputs": [],
   "source": []
  },
  {
   "cell_type": "code",
   "execution_count": null,
   "metadata": {},
   "outputs": [],
   "source": []
  },
  {
   "cell_type": "code",
   "execution_count": null,
   "metadata": {},
   "outputs": [],
   "source": []
  }
 ]
}