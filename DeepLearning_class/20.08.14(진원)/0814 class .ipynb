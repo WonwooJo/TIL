{
 "cells": [
  {
   "cell_type": "markdown",
   "metadata": {},
   "source": [
    "# Numpy\n",
    "\n",
    "- numpy 배열: 동일한 자료형, 원소의 개수를 변경할 수 없음\n",
    "- 벡터/정렬 : 선형대수 연산\n",
    "- 파이썬 리스트"
   ]
  },
  {
   "cell_type": "code",
   "execution_count": null,
   "metadata": {},
   "outputs": [],
   "source": [
    "import numpy as np"
   ]
  },
  {
   "cell_type": "code",
   "execution_count": null,
   "metadata": {},
   "outputs": [],
   "source": [
    "type(np.array([1,2,3]))"
   ]
  },
  {
   "cell_type": "code",
   "execution_count": null,
   "metadata": {},
   "outputs": [],
   "source": [
    "data = np.array([1,2,3]) *2"
   ]
  },
  {
   "cell_type": "code",
   "execution_count": null,
   "metadata": {},
   "outputs": [],
   "source": [
    "data == 4 #빠르게 연산 할 수 있다."
   ]
  },
  {
   "cell_type": "code",
   "execution_count": null,
   "metadata": {},
   "outputs": [],
   "source": [
    "(data == 4) | (data>2)"
   ]
  },
  {
   "cell_type": "code",
   "execution_count": null,
   "metadata": {},
   "outputs": [],
   "source": [
    "c = np.array([[1,2,3],[4,5,6]]) # 다차원 배열구조를 사용한다. 2차원 배열: 행렬, 1차원 배열: 벡터\n",
    "c\n",
    "len(c) # 행의 개수를 구하고 싶을때\n",
    "len(c[0]) # 열의 개수를 구하고 싶을 때"
   ]
  },
  {
   "cell_type": "code",
   "execution_count": null,
   "metadata": {},
   "outputs": [],
   "source": [
    "d=np.array(list(range(24))).reshape(2,3,4)\n",
    "# 3차원 배열 행, 열, 깊이 2*3*4 qoduf\n",
    "d"
   ]
  },
  {
   "cell_type": "code",
   "execution_count": null,
   "metadata": {},
   "outputs": [],
   "source": [
    "len(d)\n",
    "d.ndim # 배열의 차원을 알 수 있음\n",
    "d.shape # 배열의 크기를 알 수 있음\n",
    "\n",
    "# 배열 인덱싱, 슬라이싱을 잘 활용해야하므로 못하면 공부하기"
   ]
  },
  {
   "cell_type": "code",
   "execution_count": null,
   "metadata": {},
   "outputs": [],
   "source": [
    "a = np.array([2,3,4,5,6])\n",
    "a[-1]\n",
    "a[-2]"
   ]
  },
  {
   "cell_type": "code",
   "execution_count": null,
   "metadata": {},
   "outputs": [],
   "source": [
    "a = np.array([[1,2,3],[4,5,6]])\n",
    "a"
   ]
  },
  {
   "cell_type": "code",
   "execution_count": null,
   "metadata": {},
   "outputs": [],
   "source": [
    "#인덱싱\n",
    "a[0,0] \n",
    "a[-1,-1] # 마지막 글자"
   ]
  },
  {
   "cell_type": "code",
   "execution_count": null,
   "metadata": {},
   "outputs": [],
   "source": [
    "#슬라이싱\n",
    "a[0] # 첫번째행 참조\n",
    "a[0:]\n",
    "a[:1,:1]"
   ]
  },
  {
   "cell_type": "code",
   "execution_count": null,
   "metadata": {},
   "outputs": [],
   "source": [
    "# 팬시 인덱싱"
   ]
  },
  {
   "cell_type": "code",
   "execution_count": null,
   "metadata": {},
   "outputs": [],
   "source": [
    "names = np.array(['Bob','Joe','Bob','Will'])\n",
    "data=np.random.randn(4,4)"
   ]
  },
  {
   "cell_type": "code",
   "execution_count": null,
   "metadata": {},
   "outputs": [],
   "source": [
    "names\n",
    "data"
   ]
  },
  {
   "cell_type": "code",
   "execution_count": null,
   "metadata": {},
   "outputs": [],
   "source": [
    "names == 'Bob'\n",
    "\n",
    "data[names == 'Bob']\n",
    "\n",
    "data[names == 'Bob',2:]"
   ]
  },
  {
   "cell_type": "code",
   "execution_count": null,
   "metadata": {},
   "outputs": [],
   "source": [
    "cond = names != 'Bob'\n",
    "\n",
    "~(names == 'Bob') # 위에거랑 같은 의미"
   ]
  },
  {
   "cell_type": "code",
   "execution_count": null,
   "metadata": {},
   "outputs": [],
   "source": [
    "data[~cond]"
   ]
  },
  {
   "cell_type": "code",
   "execution_count": null,
   "metadata": {},
   "outputs": [],
   "source": [
    "mask = (names == 'Bob') | (names== 'Will')\n",
    "data[mask]"
   ]
  },
  {
   "cell_type": "code",
   "execution_count": null,
   "metadata": {},
   "outputs": [],
   "source": [
    "data < 0"
   ]
  },
  {
   "cell_type": "code",
   "execution_count": null,
   "metadata": {},
   "outputs": [],
   "source": [
    "data[data<0]=0"
   ]
  },
  {
   "cell_type": "code",
   "execution_count": null,
   "metadata": {},
   "outputs": [],
   "source": [
    "data"
   ]
  },
  {
   "cell_type": "code",
   "execution_count": null,
   "metadata": {},
   "outputs": [],
   "source": [
    "print(names)\n",
    "print(data)\n",
    "# Bob을 제외한 모든 사람들의 데이터를 10으로 변경하시오\n",
    "data[names != 'Bob'] = 10"
   ]
  },
  {
   "cell_type": "code",
   "execution_count": null,
   "metadata": {},
   "outputs": [],
   "source": [
    "arr = np.empty((8,4))\n",
    "arr\n",
    "for i in range(8):\n",
    "    arr[i] =i\n",
    "arr"
   ]
  },
  {
   "cell_type": "code",
   "execution_count": null,
   "metadata": {},
   "outputs": [],
   "source": [
    "arr[[4,3,0,6]] # 참조가 가능하다 행의 번호를 순서로 해서 리스트로 만들어 준다.\n",
    "arr[[-4,-5]]"
   ]
  },
  {
   "cell_type": "code",
   "execution_count": null,
   "metadata": {},
   "outputs": [],
   "source": [
    "np.arange(32) # np.array(list(range(32))) 이렇게 사용할 수 있지만 arange함수를 써서 더 간단하게 쓸 수 있다.\n",
    "arr = np.arange(32).reshape((8,4))"
   ]
  },
  {
   "cell_type": "code",
   "execution_count": null,
   "metadata": {},
   "outputs": [],
   "source": [
    "print(arr)\n",
    "arr[[1,5,7,2]]"
   ]
  },
  {
   "cell_type": "code",
   "execution_count": null,
   "metadata": {},
   "outputs": [],
   "source": [
    "arr[[1,5,7,2]][:,[0,3,2,1]] # 행 , 열 순서"
   ]
  },
  {
   "cell_type": "code",
   "execution_count": null,
   "metadata": {},
   "outputs": [],
   "source": [
    "arr= np.arange(15).reshape((3,5))\n",
    "arr"
   ]
  },
  {
   "cell_type": "code",
   "execution_count": null,
   "metadata": {},
   "outputs": [],
   "source": [
    "arr.T #행과 열이 바뀌었음"
   ]
  },
  {
   "cell_type": "code",
   "execution_count": null,
   "metadata": {},
   "outputs": [],
   "source": [
    "arr.transpose()"
   ]
  },
  {
   "cell_type": "code",
   "execution_count": null,
   "metadata": {},
   "outputs": [],
   "source": []
  },
  {
   "cell_type": "code",
   "execution_count": null,
   "metadata": {},
   "outputs": [],
   "source": [
    "############################################################################################"
   ]
  },
  {
   "cell_type": "markdown",
   "metadata": {},
   "source": [
    "### 선형대수? 데이터분석 연산\n",
    "\n",
    "- 대량의 data 복잡한 계산과정 -> 간단한 수식\n",
    "\n",
    "#### 데이터 유형: 스칼라/벡터/행렬/텐서 (텐서플로우)\n",
    "- 스칼라:  숫자 하나로 이루어진 data\n",
    "- 벡터: 여러 숫자로 이루어진 data\n",
    "- 행렬: 벡터가 여러개 모여서 만들어진 data\n",
    "- 텐서: 같은 크기의 행렬이 여러개 있는것 3D -> 4D -> 5D\n",
    "                           - 3D텐서를 배열로 합치면 4D텐서 -> 4D텐서를 배열로 합치면 5D텐서\n"
   ]
  },
  {
   "cell_type": "code",
   "execution_count": 20,
   "metadata": {},
   "outputs": [
    {
     "data": {
      "text/plain": [
       "(150, 4)"
      ]
     },
     "execution_count": 20,
     "metadata": {},
     "output_type": "execute_result"
    }
   ],
   "source": [
    "from sklearn.datasets import load_iris\n",
    "import numpy as np\n",
    "#sklearn: 머신러닝 알고리즘들이 구현되어 있는 패키지 (싸이킷런) : 머신러닝 알고리즘 뿐만아니라 연습가능한 것들도 포함\n",
    "iris=load_iris()\n",
    "np.shape(iris['data']) #(150, 4) 150건의 붓꽃 데이터가 있는데 꽃밭침과 꽃잎의 ((넓이 와 높이) , (꽃잎의 넓이 높이) )\n",
    "# print(iris) #setosa', 'versicolor', 'virginica  [0,1,2] 총 150 건의 종류별 꽃 데이터\n",
    "# 'target': array([0, 0, 0, 0, 0, 0, 0, 0, 0, 0, 0, 0, 0, 0, 0, 0, 0, 0, 0, 0, 0, 0,\n",
    "#         0, 0, 0, 0, 0, 0, 0, 0, 0, 0, 0, 0, 0, 0, 0, 0, 0, 0, 0, 0, 0, 0,\n",
    "#         0, 0, 0, 0, 0, 0, 1, 1, 1, 1, 1, 1, 1, 1, 1, 1, 1, 1, 1, 1, 1, 1,\n",
    "#         1, 1, 1, 1, 1, 1, 1, 1, 1, 1, 1, 1, 1, 1, 1, 1, 1, 1, 1, 1, 1, 1,\n",
    "#         1, 1, 1, 1, 1, 1, 1, 1, 1, 1, 1, 1, 2, 2, 2, 2, 2, 2, 2, 2, 2, 2,\n",
    "#         2, 2, 2, 2, 2, 2, 2, 2, 2, 2, 2, 2, 2, 2, 2, 2, 2, 2, 2, 2, 2, 2,\n",
    "#         2, 2, 2, 2, 2, 2, 2, 2, 2, 2, 2, 2, 2, 2, 2, 2, 2, 2]),\n",
    "# 현재 dictionary 구조임.\n",
    "# iris.data #array 니까 [0,:] 하면 첫번째 데이터 추출\n",
    "# iris.data[0,:]\n",
    "# iris.target\n"
   ]
  },
  {
   "cell_type": "code",
   "execution_count": 22,
   "metadata": {},
   "outputs": [
    {
     "data": {
      "text/plain": [
       "array([5.1, 3.5, 1.4, 0.2])"
      ]
     },
     "execution_count": 22,
     "metadata": {},
     "output_type": "execute_result"
    }
   ],
   "source": [
    "# 벡터?: 여러 개의 숫자가 특정한 순서대로 모여 있는 것\n",
    "iris.data[0,:] #array([꽃밭침의 길이: 5.1, 폭:3.5, 꽃잎의 길이: 1.4, 폭: 0.2])  ***약속된 순서이므로 이 순서가 굉장히 중요함!!!\n",
    "# Attribute Information:\\n  - sepal length in cm\\n - sepal width in cm\\n  - petal length in cm\\n - petal width in cm\\n\n",
    "# 즉 이것은 여러 개의 숫자가 특정한 순서대로 모여 있는 벡터이다! \n",
    "#붓꽃의 크기 벡터는 4개의 데이터가 하나로 묶여 있음\n",
    "#     [5.1]\n",
    "# x=  [3.5]\n",
    "#     [1.4]\n",
    "#     [0.2]\n",
    "#     벡터를 구성하는 data가 4개니까 4차원 벡터임\n",
    "#     n개 = n차원 데이터\n",
    "\n",
    "# 얼굴 [100*100] = 10000개의 데이터 .. 얼굴 벡터는 10000차원 벡터임. 선형대수 표기법: R^10000 "
   ]
  },
  {
   "cell_type": "code",
   "execution_count": 30,
   "metadata": {},
   "outputs": [],
   "source": [
    "#넘파이 벡터 표현\n",
    "#벡터는 열의 개수가 1개인 2차원 배열 객체로 표현\n",
    "    #**배열의 차원은 벡터의 차원과 다름!!!**\n",
    "np.array([[5.5],\n",
    "        [3.4],\n",
    "        [1.2],\n",
    "        [0.1]])\n",
    "    #***대괄호 잘보기!! 위아래 비교해보기 2차원과 1차원의 차이임.\n",
    "#2차원 배열 \n",
    "#4차원 백터 를 2차원 배열로 표현한것임.\n",
    "x=np.array([5.5,3.4,1.2,0.1]) #1차원 배열이지만 4차원 벡터로 볼수 있다 #이 가로 모양을 열로 보아야함 (위에것처럼)"
   ]
  },
  {
   "cell_type": "code",
   "execution_count": 32,
   "metadata": {},
   "outputs": [
    {
     "data": {
      "text/plain": [
       "array([[5.5],\n",
       "       [3.4],\n",
       "       [1.2],\n",
       "       [0.1]])"
      ]
     },
     "execution_count": 32,
     "metadata": {},
     "output_type": "execute_result"
    }
   ],
   "source": [
    "x\n",
    "#주의할점\n",
    "#사이킷런에서 벡터를 정의하고자 하는 경우에는,\n",
    "#반드시 열의 개수가 1개인 2차원 배열로 표현해야함! *안그러면 에러남 \n",
    "#이렇게 나타내야함\n",
    "np.array([[5.5],\n",
    "        [3.4],\n",
    "        [1.2],\n",
    "        [0.1]])"
   ]
  },
  {
   "cell_type": "raw",
   "metadata": {},
   "source": [
    "(고양이일까요 강아지 일까요) \n",
    "분류/예측 모델을 만들었다는 가정하에 \n",
    "주식을 예측하는 모델을 만들었다는 가정하에\n",
    "내일 주식을 예측하고 싶은경우: \n",
    "    입력 데이터 => 주식 예측 모델 => 예측 결과\n",
    "    *이때 입력데이터를 (벡터)형태로 일반적으로 표현해서 입력한다."
   ]
  },
  {
   "cell_type": "code",
   "execution_count": 38,
   "metadata": {},
   "outputs": [
    {
     "name": "stdout",
     "output_type": "stream",
     "text": [
      "[[ 0.  0.  5. ...  0.  0.  0.]\n",
      " [ 0.  0.  0. ... 10.  0.  0.]\n",
      " [ 0.  0.  0. ... 16.  9.  0.]\n",
      " ...\n",
      " [ 0.  0.  1. ...  6.  0.  0.]\n",
      " [ 0.  0.  2. ... 12.  0.  0.]\n",
      " [ 0.  0. 10. ... 12.  1.  0.]]\n",
      "(1797, 64)\n",
      "[0 1 2 ... 8 9 8]\n",
      "(1797,)\n"
     ]
    }
   ],
   "source": [
    "from sklearn.datasets import load_digits\n",
    "#load_digits 는 함수임\n",
    "digits=load_digits()\n",
    "digits\n",
    "print(digits.data) #data변수 안에 수치데이터가 있음.\n",
    "print(digits.data.shape) #64개의 열로 구성이 되어져 있다. (1797, 64)숫자가 1797개 64픽셀\n",
    "print(digits.target)\n",
    "print(digits.target.shape)"
   ]
  },
  {
   "cell_type": "code",
   "execution_count": 49,
   "metadata": {},
   "outputs": [
    {
     "name": "stdout",
     "output_type": "stream",
     "text": [
      "[[ 0.  0. 11. 12.  0.  0.  0.  0.]\n",
      " [ 0.  2. 16. 16. 16. 13.  0.  0.]\n",
      " [ 0.  3. 16. 12. 10. 14.  0.  0.]\n",
      " [ 0.  1. 16.  1. 12. 15.  0.  0.]\n",
      " [ 0.  0. 13. 16.  9. 15.  2.  0.]\n",
      " [ 0.  0.  0.  3.  0.  9. 11.  0.]\n",
      " [ 0.  0.  0.  0.  9. 15.  4.  0.]\n",
      " [ 0.  0.  9. 12. 13.  3.  0.  0.]]\n"
     ]
    }
   ],
   "source": [
    "print(digits.data[9].reshape(8,8)) #0 모양임"
   ]
  },
  {
   "cell_type": "code",
   "execution_count": 44,
   "metadata": {},
   "outputs": [
    {
     "data": {
      "text/plain": [
       "1"
      ]
     },
     "execution_count": 44,
     "metadata": {},
     "output_type": "execute_result"
    }
   ],
   "source": [
    "digits.target[1]"
   ]
  },
  {
   "cell_type": "code",
   "execution_count": 62,
   "metadata": {},
   "outputs": [
    {
     "data": {
      "image/png": "[encoded data removed]",
      "text/plain": [
       "<Figure size 432x288 with 8 Axes>"
      ]
     },
     "metadata": {
      "needs_background": "light"
     },
     "output_type": "display_data"
    }
   ],
   "source": [
    "d=[]\n",
    "samples=[0,10,20,30,1,11,21,31]\n",
    "for i in range(8):\n",
    "    d.append(digits.images[samples[i]])\n",
    "    plt.subplot(1,8,i+1) #1줄 8칸으로 나눈 다음, 1번~8번 위치에이미지를 .. 선생님 소스코드 확인\n",
    "    plt.imshow(d[i], cmap=plt.cm.bone_r)"
   ]
  },
  {
   "cell_type": "code",
   "execution_count": 61,
   "metadata": {},
   "outputs": [
    {
     "data": {
      "text/plain": [
       "<matplotlib.image.AxesImage at 0x1ef9a1beca0>"
      ]
     },
     "execution_count": 61,
     "metadata": {},
     "output_type": "execute_result"
    },
    {
     "data": {
      "image/png": "[encoded data removed]",
      "text/plain": [
       "<Figure size 432x288 with 1 Axes>"
      ]
     },
     "metadata": {
      "needs_background": "light"
     },
     "output_type": "display_data"
    }
   ],
   "source": [
    "import matplotlib.pyplot as plt\n",
    "plt.imshow(d[0])\n",
    "plt.imshow(d[0], cmap=plt.cm.bone_r)"
   ]
  },
  {
   "cell_type": "code",
   "execution_count": 59,
   "metadata": {},
   "outputs": [
    {
     "data": {
      "text/plain": [
       "<matplotlib.image.AxesImage at 0x1ef9a146730>"
      ]
     },
     "execution_count": 59,
     "metadata": {},
     "output_type": "execute_result"
    },
    {
     "data": {
      "image/png": "[encoded data removed]",
      "text/plain": [
       "<Figure size 432x288 with 1 Axes>"
      ]
     },
     "metadata": {
      "needs_background": "light"
     },
     "output_type": "display_data"
    }
   ],
   "source": [
    "plt.imshow(d[1])"
   ]
  },
  {
   "cell_type": "raw",
   "metadata": {},
   "source": [
    "숫자: 크기(스칼라) \n",
    "벡터: 크기 & 방향 => 벡터\n",
    "    벡터의 크기는 화살표의 길이 --------------> (큼) / ----> (작음)\n",
    "    \n",
    "주택 가격 분석\n",
    "           [100m^2]\n",
    "주택 가격 = [1억   ]\n",
    "           가로 축이 면적이고/ 세로축이 가격일경우 \n",
    "           이 두지점이 만나는 부분에 점을 찍으면 순서쌍이고  origin 0 부터 화살표를 이어주면 벡터가 됨.\n",
    "           \n",
    "           \n",
    "           벡터 * 벡터 = 스칼라 (내적)\n",
    "                      = 벡터 (외적)\n",
    "           벡터 연산이 자연어 처리에서 많이 사용하게된다.\n",
    "           : 모든 단어들이 벡터가 됨으로 단어들간의 연산으로 동의어 및 반의어 등을 찾아 낼 수 있다.\n",
    "벡터의 스케일링: 벡터 * 스칼라  ex: 벡터 *2 는 벡터가 2배 커짐 ----> *2 = -------->  (스케일링 확대 및 축소 조정)           "
   ]
  },
  {
   "cell_type": "code",
   "execution_count": 277,
   "metadata": {},
   "outputs": [
    {
     "data": {
      "image/png": "[encoded data removed]",
      "text/plain": [
       "<Figure size 432x288 with 8 Axes>"
      ]
     },
     "metadata": {
      "needs_background": "light"
     },
     "output_type": "display_data"
    }
   ],
   "source": [
    "d=[]\n",
    "samples=[0,10,20,30,1,11,21,31]\n",
    "for i in range(8):\n",
    "    d.append(digits.images[samples[i]])\n",
    "    plt.subplot(1,8,i+1) #1줄 8칸으로 나눈 다음, 1번~8번 위치에이미지를 .. 선생님 소스코드 확인\n",
    "    plt.imshow(d[i], cmap=plt.cm.bone_r)"
   ]
  },
  {
   "cell_type": "code",
   "execution_count": 278,
   "metadata": {},
   "outputs": [
    {
     "data": {
      "image/png": "[encoded data removed]",
      "text/plain": [
       "<Figure size 432x288 with 8 Axes>"
      ]
     },
     "metadata": {
      "needs_background": "light"
     },
     "output_type": "display_data"
    }
   ],
   "source": [
    "#2차원배열 을 1차원으로 써보기\n",
    "vec=[]\n",
    "for i in range(8):\n",
    "    vec.append(d[i].reshape(64,1))\n",
    "    plt.subplot(1,8,i+1) #1줄 8칸으로 나눈 다음, 1번~8번 위치에이미지를 .. 선생님 소스코드 확인\n",
    "    plt.imshow(vec[i], cmap=plt.cm.bone_r)\n",
    "#벡터의 내적: 유사한 이미지 끼리 벡터에 내적할경우 결과가 크게나오고.  유사하지 않은 이미지는 작게 나옴.\n",
    "#             ex) 비슷한 이미지 0*0 = 큰값   비슷하지 않은 이미지 0*7 = 작은값\n",
    "# print(vec)"
   ]
  },
  {
   "cell_type": "code",
   "execution_count": 74,
   "metadata": {},
   "outputs": [],
   "source": [
    "# 벡터의 내적으로 유사한 이미지 찾기:\n",
    "d1=digits.images[0] #0\n",
    "d2=digits.images[10] #0\n",
    "d3=digits.images[1] #1\n",
    "d4=digits.images[11] #1\n",
    "#전부다 shape 이 8by8임.   \n",
    "# d1.shape #(8,8)\n",
    "v1=d1.reshape(64,1) #열이 1개 있는 벡터\n",
    "v2=d2.reshape(64,1)\n",
    "v3=d3.reshape(64,1)\n",
    "v4=d4.reshape(64,1)"
   ]
  },
  {
   "cell_type": "code",
   "execution_count": 85,
   "metadata": {},
   "outputs": [
    {
     "data": {
      "image/png": "[encoded data removed]",
      "text/plain": [
       "<Figure size 432x288 with 4 Axes>"
      ]
     },
     "metadata": {
      "needs_background": "light"
     },
     "output_type": "display_data"
    }
   ],
   "source": [
    "for i in range(4):\n",
    "    plt.subplot(1,4,i+1)\n",
    "    plt.imshow(eval(\"v\"+str(i+1)), cmap=plt.cm.bone_r) #eval() 함수를 사용하면 사용가능~ 무슨 함수인지 알아보기"
   ]
  },
  {
   "cell_type": "code",
   "execution_count": 279,
   "metadata": {},
   "outputs": [
    {
     "data": {
      "text/plain": [
       "<Figure size 648x648 with 0 Axes>"
      ]
     },
     "execution_count": 279,
     "metadata": {},
     "output_type": "execute_result"
    },
    {
     "data": {
      "text/plain": [
       "<Figure size 648x648 with 0 Axes>"
      ]
     },
     "metadata": {},
     "output_type": "display_data"
    }
   ],
   "source": [
    "plt.figure(figsize=(9,9))"
   ]
  },
  {
   "cell_type": "code",
   "execution_count": 87,
   "metadata": {},
   "outputs": [],
   "source": [
    "import matplotlib.gridspec as gridspec\n",
    "#화면의 크기를 직접주어서 설정할 수 있다.\n",
    "gs=gridspec.GridSpec(1,8, height_ratios=[1], width_ratios=[9,1,9,1,9,1,9,1]) #여덟개로 나누어줌 , 및 높이는 같게, 넓이는 각각 따로"
   ]
  },
  {
   "cell_type": "code",
   "execution_count": 93,
   "metadata": {},
   "outputs": [
    {
     "data": {
      "image/png": "[encoded data removed]",
      "text/plain": [
       "<Figure size 432x288 with 8 Axes>"
      ]
     },
     "metadata": {
      "needs_background": "light"
     },
     "output_type": "display_data"
    }
   ],
   "source": [
    "# eval() 함수는 \"문자열\" 을 참조가능한 변수로 변환해줌 \"2\" -> 2\n",
    "for i in range(4):\n",
    "    plt.subplot(gs[2*i]) #0,2,4,8\n",
    "    plt.imshow(eval(\"d\"+str(i+1)),cmap=plt.cm.bone_r)\n",
    "    plt.subplot(gs[2*i+1]) #0,2,4,8\n",
    "    plt.imshow(eval(\"v\"+str(i+1)),cmap=plt.cm.bone_r)\n",
    "plt.tight_layout()\n",
    "plt.show()\n"
   ]
  },
  {
   "cell_type": "raw",
   "metadata": {},
   "source": [
    "v1 v2 # v1 벡터와 v2벡터간 내적(벡터의 요소끼리 곱셈 -> 모두 합침 -> ) 행렬의 곱셈\n",
    "(64,1) * (64,1) 은 곱셈이 안됨\n",
    "(1,64) * (64,1) 은 곱셈이 됨 그래서 TRANSPOSE 해야함."
   ]
  },
  {
   "cell_type": "code",
   "execution_count": 99,
   "metadata": {},
   "outputs": [
    {
     "name": "stdout",
     "output_type": "stream",
     "text": [
      "[[3064.]]\n",
      "[3064.]\n",
      "3064.0\n",
      "1866.0\n",
      "1883.0\n"
     ]
    }
   ],
   "source": [
    "print(v1.T @ v2) #벡터 내적\n",
    "print((v1.T @ v2)[0])\n",
    "print((v1.T @ v2)[0][0]) #scalar 값 추출\n",
    "print((v1.T @ v3)[0][0]) #scalar 값 추출\n",
    "print((v1.T @ v4)[0][0]) #scalar 값 추출\n",
    "#결론 v1 과 v2를 내적 하였을때 연산 값이 가장 큼으로 v1과 v2가 비슷한 이미지이다.\n",
    "#벡터의 내적을 이용한 이미지 분류 모델은 이런식으로 하는데, 현재 한것은 크기를 고려하지 않은 매우 허접스한 모델이므로 모델이라 할 수 없다.\n",
    "#확대 축소를 고려 해야함. (실제 모델)"
   ]
  },
  {
   "cell_type": "code",
   "execution_count": 100,
   "metadata": {},
   "outputs": [
    {
     "name": "stdout",
     "output_type": "stream",
     "text": [
      "1866.0\n",
      "2421.0\n",
      "3661.0\n"
     ]
    }
   ],
   "source": [
    "print((v3.T @ v1)[0][0])\n",
    "print((v3.T @ v2)[0][0])\n",
    "print((v3.T @ v4)[0][0])\n",
    "#결론 v3 과 v4를 내적 하였을때 연산 값이 가장 큼으로 v3과 v4가 비슷한 이미지이다."
   ]
  },
  {
   "cell_type": "markdown",
   "metadata": {},
   "source": [
    "##################################################################################################################"
   ]
  },
  {
   "cell_type": "code",
   "execution_count": 113,
   "metadata": {},
   "outputs": [
    {
     "name": "stdout",
     "output_type": "stream",
     "text": [
      "0\n",
      "2\n",
      "4\n",
      "6\n",
      "8\n",
      "10\n"
     ]
    },
    {
     "data": {
      "text/plain": [
       "array([ 0,  2,  4,  6,  8, 10])"
      ]
     },
     "execution_count": 113,
     "metadata": {},
     "output_type": "execute_result"
    }
   ],
   "source": [
    "a=np.arange(12)\n",
    "a\n",
    "#a 배열 요소값 중에서 짝수만 추출\n",
    "for i in a:\n",
    "    if i % 2 == 0:\n",
    "        print(i)\n",
    "        \n",
    "a[a % 2 == 0] # boolean 참조로 추출"
   ]
  },
  {
   "cell_type": "code",
   "execution_count": 116,
   "metadata": {},
   "outputs": [
    {
     "data": {
      "text/plain": [
       "array([11, 22, 44])"
      ]
     },
     "execution_count": 116,
     "metadata": {},
     "output_type": "execute_result"
    }
   ],
   "source": [
    "a=np.array([11,22,33,44,55])\n",
    "idx=np.array([0,1,3])\n",
    "a[idx] #직접 수치를 주어서 참조도 가능함."
   ]
  },
  {
   "cell_type": "code",
   "execution_count": 120,
   "metadata": {},
   "outputs": [
    {
     "data": {
      "text/plain": [
       "array([11, 11, 11, 22, 22, 22, 33, 33, 33])"
      ]
     },
     "execution_count": 120,
     "metadata": {},
     "output_type": "execute_result"
    }
   ],
   "source": [
    "idx=np.array([0,0,0,1,1,1,2,2,2])\n",
    "a[idx] #배열의 인덱스 크기가 참조할때 크기가 달라도 상관없고, 같은것을 여러번 참조 가능함.\n",
    "#그때그때 상황에 맞추어서 참조"
   ]
  },
  {
   "cell_type": "raw",
   "metadata": {},
   "source": [
    "문서1: I like Python\n",
    "문서2: I like DL\n",
    "문서3: DL is AI\n",
    "# 컴퓨터에서 처리되어지는 모든 데이터는 수치데이터 이어야 함으로 위에 택스트 상태로는 처리가 불가능함.\n",
    "문서 단어-> 벡터공간 [에 출력을 시킬수 있도록 수치변환을 해야함. 이것을 imbedding이라고함 임베딩 (정확하게는 word imbedding)]\n",
    "ex) 원핫 인코딩\n",
    "원핫 인코딩으로 단어를 임베딩을 하게되면 : 중복을 제외한 단어만큼의 벡터를 만드는데 n이 총 6개니까 6차원 배터가 나오게됨\n",
    "중복을 제외한 단어: I, like, Python, DL, is, AI \n",
    "위치상 위의 단어에서 \n",
    "     I = 1 0 0 0 0 0    유클리디안 공식으로 생각할 경우: (p1, p2, p3, p4, p5, p6)\n",
    "  like = 0 1 0 0 0 0 \n",
    "Python = 0 0 1 0 0 0\n",
    "...\n",
    "    AI = 0 0 0 0 0 1\n",
    "1. I like Python => [[1 0 0 0 0 0], [0 1 0 0 0 0], [0 0 1 0 0 0]] 텍스트의 경우 이런식으로 인코딩이 된다 (원핫 인코딩일 경우)\n",
    "2. I like DL     => [[1 0 0 0 0 0], [0 1 0 0 0 0], [0 0 0 1 0 0]] \n",
    "3. DL is AI      => [[0 0 0 1 0 0], [0 0 0 0 1 0], [0 0 0 0 0 1]]\n",
    "유사한 문서 = 1번 2번 인데 \n",
    "문서 1,2,3 중 어느정도 유사한지 찾는 방법이 있다. \n",
    "유클리디안 디스턴스: \"유클리드 거리는 두 점 사이의 거리를 계산할 때 흔히 쓰는 방법이다. 이 거리를 사용하여 유클리드 공간을 정의할 수 있으며, 이 거리에 대응하는 노름을 유클리드 노름이라고 부른다.\"\n",
    "3차원 부터 n차원에서 즉 3차원 이상은 기본적인 유클리디안 공식(두점)을 이용해서 거리를 계산할 수가 없다.\n",
    "다차원 공간에서는 공식에 값만 추가하는 방법으로 하면 된다. \n",
    "https://needjarvis.tistory.com/454\n",
    "https://jason0425.tistory.com/74\n",
    "\n",
    "etc: \n",
    "코사인 유사도 : https://specialscene.tistory.com/48\n"
   ]
  },
  {
   "cell_type": "code",
   "execution_count": 127,
   "metadata": {},
   "outputs": [
    {
     "data": {
      "text/plain": [
       "array([1., 2., 3., 4.], dtype=float32)"
      ]
     },
     "execution_count": 127,
     "metadata": {},
     "output_type": "execute_result"
    }
   ],
   "source": [
    "#넘파이 배열(ndarray) 데이터가 반드시! 같은 자료형 이어야함\n",
    "x=np.array([1,2,3]) #이 자료는 정수라고 명시한적은 없지만 이 시스템이 추론한 것임 #dtype('int32')\n",
    "x=np.array([1,2,3.0]) #dtype('float64') 추론되어서 자동 형변환이 일어남. 왜 float으로 통일이 되냐면, \n",
    "# 자료형의 수의 허용범위가 더 큰쪽으로 형변환이 되어짐. 그렇게 자료형이 통일이됨.\n",
    "x.dtype\n",
    "#직접 명시를 하는 방법도 있음\n",
    "y=np.array([1,2,3,4], dtype='f') #float으로 명시함  'b' boolean, 'i' integer, 'U' 3byte unicode, 's'\n",
    "y.dtype #dtype('float32')\n",
    "y #= array([1., 2., 3., 4.], dtype=float32)\n"
   ]
  },
  {
   "cell_type": "code",
   "execution_count": 129,
   "metadata": {},
   "outputs": [
    {
     "data": {
      "text/plain": [
       "3.0"
      ]
     },
     "execution_count": 129,
     "metadata": {},
     "output_type": "execute_result"
    }
   ],
   "source": [
    "x=np.array([1,2],dtype='f')\n",
    "x[0]+x[1] #ans: 3.0 (float)"
   ]
  },
  {
   "cell_type": "code",
   "execution_count": 130,
   "metadata": {},
   "outputs": [
    {
     "data": {
      "text/plain": [
       "'12'"
      ]
     },
     "execution_count": 130,
     "metadata": {},
     "output_type": "execute_result"
    }
   ],
   "source": [
    "x=np.array([1,2],dtype='U')\n",
    "x[0]+x[1] #ans: '12' (unicode)"
   ]
  },
  {
   "cell_type": "code",
   "execution_count": 133,
   "metadata": {},
   "outputs": [
    {
     "name": "stdout",
     "output_type": "stream",
     "text": [
      "inf\n"
     ]
    }
   ],
   "source": [
    "# inf / NaN\n",
    "np.inf #(무한 이란뜻)\n",
    "print(np.inf+1) # inf (무한이 나옴)"
   ]
  },
  {
   "cell_type": "code",
   "execution_count": 134,
   "metadata": {},
   "outputs": [
    {
     "name": "stdout",
     "output_type": "stream",
     "text": [
      "nan\n"
     ]
    }
   ],
   "source": [
    "#정의할 수 없는 숫자: NaN (Not a Number)\n",
    "print(np.nan)"
   ]
  },
  {
   "cell_type": "code",
   "execution_count": 144,
   "metadata": {},
   "outputs": [
    {
     "name": "stderr",
     "output_type": "stream",
     "text": [
      "<ipython-input-144-6d86ad00468a>:3: RuntimeWarning: divide by zero encountered in true_divide\n",
      "  np.array([0,1,-1, 0]) / np.array([1,0,0, 0])\n",
      "<ipython-input-144-6d86ad00468a>:3: RuntimeWarning: invalid value encountered in true_divide\n",
      "  np.array([0,1,-1, 0]) / np.array([1,0,0, 0])\n"
     ]
    },
    {
     "data": {
      "text/plain": [
       "array([  0.,  inf, -inf,  nan])"
      ]
     },
     "execution_count": 144,
     "metadata": {},
     "output_type": "execute_result"
    }
   ],
   "source": [
    "#어떤경우에 무한이고 어떤경우에 NaN일까?\n",
    "# print(1/0)  #ZeroDivisionError (python error)\n",
    "np.array([0,1,-1, 0]) / np.array([1,0,0, 0]) \n",
    "# array([  0.,  inf, -inf,  nan])   "
   ]
  },
  {
   "cell_type": "code",
   "execution_count": 145,
   "metadata": {},
   "outputs": [
    {
     "name": "stdout",
     "output_type": "stream",
     "text": [
      "0.0\n"
     ]
    }
   ],
   "source": [
    "print(np.exp(-np.inf))"
   ]
  },
  {
   "cell_type": "raw",
   "metadata": {},
   "source": [
    "#넘파이-유니버설 함수 라는것이 있는데 : ndarray 데이터를 원소별로 연산을 수행하는 함수\n",
    "#한개 이상의 스칼라값을 받아서 -> 한개 이상의 스칼라값을 리턴해줌\n",
    "#빠르게 수행가능한 벡터화된 래퍼 함수 "
   ]
  },
  {
   "cell_type": "code",
   "execution_count": 146,
   "metadata": {},
   "outputs": [
    {
     "data": {
      "text/plain": [
       "array([0, 1, 2, 3, 4, 5, 6, 7, 8, 9])"
      ]
     },
     "execution_count": 146,
     "metadata": {},
     "output_type": "execute_result"
    }
   ],
   "source": [
    "arr=np.arange(10)\n",
    "arr"
   ]
  },
  {
   "cell_type": "code",
   "execution_count": 147,
   "metadata": {},
   "outputs": [
    {
     "data": {
      "text/plain": [
       "array([0.        , 1.        , 1.41421356, 1.73205081, 2.        ,\n",
       "       2.23606798, 2.44948974, 2.64575131, 2.82842712, 3.        ])"
      ]
     },
     "execution_count": 147,
     "metadata": {},
     "output_type": "execute_result"
    }
   ],
   "source": [
    "np.sqrt(arr) #square root 제곱근 sqrt() 도 유니버설 함수라고 할수 있음."
   ]
  },
  {
   "cell_type": "code",
   "execution_count": 148,
   "metadata": {},
   "outputs": [
    {
     "data": {
      "text/plain": [
       "array([1.00000000e+00, 2.71828183e+00, 7.38905610e+00, 2.00855369e+01,\n",
       "       5.45981500e+01, 1.48413159e+02, 4.03428793e+02, 1.09663316e+03,\n",
       "       2.98095799e+03, 8.10308393e+03])"
      ]
     },
     "execution_count": 148,
     "metadata": {},
     "output_type": "execute_result"
    }
   ],
   "source": [
    "np.exp(arr) #exponential e: 2.71828..\n",
    "# 딥러닝 신경망 학습에서 시그모이드 함수(Sigmoid Function)를 활성화함수로 사용한다. 시그모이드 함수는 1/1+exp(-x) 로 나타나는데 여기서 exp(-x) exponential function으로 자연상수e(약2.71)에 대한 지수함수를 의미한다. exp(-2)일 경우 약 2.71의 제곱.. 시그모이드 함수의 사용 이유는 비선형적으로 출력값을 매끄럽게 하기 위한 것이며\n",
    "\n",
    "# 출처: https://sacko.tistory.com/40 [데이터 분석하는 문과생, 싸코] # https://sacko.tistory.com/37"
   ]
  },
  {
   "cell_type": "code",
   "execution_count": 149,
   "metadata": {},
   "outputs": [
    {
     "name": "stdout",
     "output_type": "stream",
     "text": [
      "[ 1.01410716 -1.01127139  0.24690502  1.16496559  0.73336537 -0.80833991\n",
      " -2.06643015 -0.82296318]\n",
      "[-0.02307816 -0.60438481  1.19436108 -0.30066352 -2.84354436  2.06103318\n",
      " -0.77955937  0.03186276]\n",
      "[ 1.01410716 -0.60438481  1.19436108  1.16496559  0.73336537  2.06103318\n",
      " -0.77955937  0.03186276]\n"
     ]
    }
   ],
   "source": [
    "x=np.random.randn(8)\n",
    "y=np.random.randn(8)\n",
    "print(x)\n",
    "print(y)\n",
    "print(np.maximum(x,y)) #x와 y의 요소끼리 비교해서 큰값을 선택함 (유니버설 함수)"
   ]
  },
  {
   "cell_type": "code",
   "execution_count": 153,
   "metadata": {},
   "outputs": [
    {
     "name": "stdout",
     "output_type": "stream",
     "text": [
      "[  0.90302095   0.30636087 -12.16917294  -4.95396174   9.77519712\n",
      "   9.37258176   5.6210365 ]\n",
      "[ 0.90302095  0.30636087 -0.16917294 -0.95396174  0.77519712  0.37258176\n",
      "  0.6210365 ]\n",
      "[  0.   0. -12.  -4.   9.   9.   5.]\n"
     ]
    }
   ],
   "source": [
    "arr=np.random.randn(7)*5\n",
    "print(arr)\n",
    "remainder, whole_part=np.modf(arr) #modf() 나머지와 몫을 나누어줌\n",
    "print(remainder)\n",
    "print(whole_part)"
   ]
  },
  {
   "cell_type": "code",
   "execution_count": 156,
   "metadata": {},
   "outputs": [
    {
     "name": "stdout",
     "output_type": "stream",
     "text": [
      "2\n",
      "1\n",
      "(2, 1)\n"
     ]
    }
   ],
   "source": [
    "#numpy와 다른점, 파이썬에서는:\n",
    "print(7//3) #몫\n",
    "print(7%3) #나머지\n",
    "print(divmod(7,3)) #몫,나머지 (함수)"
   ]
  },
  {
   "cell_type": "code",
   "execution_count": 163,
   "metadata": {},
   "outputs": [
    {
     "data": {
      "text/plain": [
       "array([[0, 0, 0, 0, 0],\n",
       "       [0, 0, 0, 0, 0],\n",
       "       [0, 0, 0, 0, 0]], dtype=int32)"
      ]
     },
     "execution_count": 163,
     "metadata": {},
     "output_type": "execute_result"
    }
   ],
   "source": [
    "np.zeros(5) #크기는 5이면서 모든 값이 0을 원한다면..\n",
    "np.zeros((3,5))\n",
    "np.zeros((3,5),dtype=\"i\")"
   ]
  },
  {
   "cell_type": "code",
   "execution_count": 168,
   "metadata": {},
   "outputs": [
    {
     "data": {
      "text/plain": [
       "array([[[1, 1, 1, 1],\n",
       "        [1, 1, 1, 1],\n",
       "        [1, 1, 1, 1]],\n",
       "\n",
       "       [[1, 1, 1, 1],\n",
       "        [1, 1, 1, 1],\n",
       "        [1, 1, 1, 1]]], dtype=int64)"
      ]
     },
     "execution_count": 168,
     "metadata": {},
     "output_type": "execute_result"
    }
   ],
   "source": [
    "# 모든값을 1로 초기화 하고 싶은 경우\n",
    "np.ones((2,3,4),dtype='i')\n",
    "\n",
    "# array([[[1, 1, 1, 1],\n",
    "#         [1, 1, 1, 1],\n",
    "#         [1, 1, 1, 1]],\n",
    "\n",
    "#        [[1, 1, 1, 1],\n",
    "#         [1, 1, 1, 1],\n",
    "#         [1, 1, 1, 1]]], dtype=int32) 32 bit 면 숫자가 -22~+22  대략적 표현범위 \n",
    "np.ones((2,3,4),dtype='i8') \n",
    "# array([[[1, 1, 1, 1],\n",
    "#         [1, 1, 1, 1],\n",
    "#         [1, 1, 1, 1]],\n",
    "\n",
    "#        [[1, 1, 1, 1],\n",
    "#         [1, 1, 1, 1],\n",
    "#         [1, 1, 1, 1]]], dtype=int64) 64bit면 -~+ 22경 "
   ]
  },
  {
   "cell_type": "code",
   "execution_count": 170,
   "metadata": {},
   "outputs": [],
   "source": [
    "x=np.zeros((3,4))"
   ]
  },
  {
   "cell_type": "code",
   "execution_count": 171,
   "metadata": {},
   "outputs": [
    {
     "data": {
      "text/plain": [
       "array([[1., 1., 1., 1.],\n",
       "       [1., 1., 1., 1.],\n",
       "       [1., 1., 1., 1.]])"
      ]
     },
     "execution_count": 171,
     "metadata": {},
     "output_type": "execute_result"
    }
   ],
   "source": [
    "# np.ones_like    #like함수 = 단어 의미처럼 ~처럼 ~와같이 형상을 만들어서 1로 채워라 라는뜻.\n",
    "np.ones_like(x) #x 모양의 (3,4) 가 나오며 1로 채움.\n",
    "# array([[1., 1., 1., 1.],\n",
    "#        [1., 1., 1., 1.],\n",
    "#        [1., 1., 1., 1.]])"
   ]
  },
  {
   "cell_type": "code",
   "execution_count": 173,
   "metadata": {},
   "outputs": [
    {
     "data": {
      "text/plain": [
       "array([[1., 1., 1.],\n",
       "       [1., 1., 1.],\n",
       "       [1., 1., 1.],\n",
       "       [1., 1., 1.]])"
      ]
     },
     "execution_count": 173,
     "metadata": {},
     "output_type": "execute_result"
    }
   ],
   "source": [
    "np.empty((4,3)) #empty 함수는 배열 생성만 하고 초기화 작업은 하지 않는 명령.. 초기화는 나중에 하고 생성만하는것\n",
    "# 배열을 의 크기가 크면 요소의 값을 초기화하는데 시간이 너무오래걸려서 일단 생성만 하겠다 할때 이 함수를 사용하면 된다.\n",
    "#배열의 생성에만 의미를 두면 된다. \n",
    "# array([[1., 1., 1.],\n",
    "#        [1., 1., 1.],\n",
    "#        [1., 1., 1.],\n",
    "#        [1., 1., 1.]])\n",
    "# 1이 나오는이유는 일단 생성한 메모리에 이미 1이 들어가 있었음. 위에서 이미 ones등 작업을해서 1이 채워저 있음."
   ]
  },
  {
   "cell_type": "code",
   "execution_count": 174,
   "metadata": {},
   "outputs": [
    {
     "data": {
      "text/plain": [
       "array([0, 1, 2, 3, 4, 5, 6, 7, 8, 9])"
      ]
     },
     "execution_count": 174,
     "metadata": {},
     "output_type": "execute_result"
    }
   ],
   "source": [
    "np.arange(10)"
   ]
  },
  {
   "cell_type": "code",
   "execution_count": 175,
   "metadata": {},
   "outputs": [
    {
     "data": {
      "text/plain": [
       "array([2, 3, 4, 5, 6, 7, 8, 9])"
      ]
     },
     "execution_count": 175,
     "metadata": {},
     "output_type": "execute_result"
    }
   ],
   "source": [
    "np.arange(2,10)"
   ]
  },
  {
   "cell_type": "code",
   "execution_count": 176,
   "metadata": {},
   "outputs": [
    {
     "data": {
      "text/plain": [
       "array([2, 4, 6, 8])"
      ]
     },
     "execution_count": 176,
     "metadata": {},
     "output_type": "execute_result"
    }
   ],
   "source": [
    "np.arange(2,10,2)\n",
    "#단계를 건너뛰며 초기화 한경우"
   ]
  },
  {
   "cell_type": "code",
   "execution_count": 177,
   "metadata": {},
   "outputs": [
    {
     "data": {
      "text/plain": [
       "array([  0.,  25.,  50.,  75., 100.])"
      ]
     },
     "execution_count": 177,
     "metadata": {},
     "output_type": "execute_result"
    }
   ],
   "source": [
    "np.linspace(0,100,5) #linear space 선형 공간. (시작,끝,개수)"
   ]
  },
  {
   "cell_type": "code",
   "execution_count": 178,
   "metadata": {},
   "outputs": [
    {
     "data": {
      "text/plain": [
       "array([ 1.25892541,  1.58489319,  1.99526231,  2.51188643,  3.16227766,\n",
       "        3.98107171,  5.01187234,  6.30957344,  7.94328235, 10.        ])"
      ]
     },
     "execution_count": 178,
     "metadata": {},
     "output_type": "execute_result"
    }
   ],
   "source": [
    "np.logspace(0.1,1,10)"
   ]
  },
  {
   "cell_type": "code",
   "execution_count": 187,
   "metadata": {},
   "outputs": [
    {
     "name": "stdout",
     "output_type": "stream",
     "text": [
      "[[ 0  1  2  3]\n",
      " [ 4  5  6  7]\n",
      " [ 8  9 10 11]]\n",
      "========================================\n",
      "[[ 0  1  2  3]\n",
      " [ 4  5  6  7]\n",
      " [ 8  9 10 11]]\n",
      "========================================\n",
      "[[ 0  1  2]\n",
      " [ 3  4  5]\n",
      " [ 6  7  8]\n",
      " [ 9 10 11]]\n",
      "========================================\n",
      "[[[ 0  1  2]\n",
      "  [ 3  4  5]]\n",
      "\n",
      " [[ 6  7  8]\n",
      "  [ 9 10 11]]]\n",
      "========================================\n",
      "[[[ 0  1]\n",
      "  [ 2  3]\n",
      "  [ 4  5]]\n",
      "\n",
      " [[ 6  7]\n",
      "  [ 8  9]\n",
      "  [10 11]]]\n"
     ]
    }
   ],
   "source": [
    "#배열의 크기를 변경할 경우가 많이 있음.\n",
    "a=np.arange(12)\n",
    "b=a.reshape(3,4)\n",
    "print(b)\n",
    "print(\"=\"*40)\n",
    "# a 를 2차원배열로 바꿀때 일반적으로(3,4) 이면 자연적으로 4가 올수 있도록 알아서 계산하려면 (3,-1)넣으면 됨\n",
    "c=a.reshape(3,-1)\n",
    "print(c)\n",
    "print(\"=\"*40)\n",
    "d=a.reshape(-1,3)\n",
    "print(d)\n",
    "print(\"=\"*40)\n",
    "# reshape(-1,-1) 은 안된다. computer gets angry\n",
    "print(a.reshape(2,2,-1))\n",
    "print(\"=\"*40)\n",
    "print(a.reshape(2,-1,2))"
   ]
  },
  {
   "cell_type": "code",
   "execution_count": 189,
   "metadata": {},
   "outputs": [
    {
     "data": {
      "text/plain": [
       "array([ 0,  1,  2,  3,  4,  5,  6,  7,  8,  9, 10, 11])"
      ]
     },
     "execution_count": 189,
     "metadata": {},
     "output_type": "execute_result"
    }
   ],
   "source": [
    "d.flatten() #flat 평평히   : 다차원 배열을 1차원으로 만들어줌"
   ]
  },
  {
   "cell_type": "code",
   "execution_count": 196,
   "metadata": {},
   "outputs": [
    {
     "data": {
      "text/plain": [
       "array([ 0,  1,  2,  3,  4,  5,  6,  7,  8,  9, 10, 11])"
      ]
     },
     "execution_count": 196,
     "metadata": {},
     "output_type": "execute_result"
    }
   ],
   "source": [
    "a.reshape(2,2,-1)\n",
    "a.ravel() #다차원 배열을 1차원으로 만들어줌"
   ]
  },
  {
   "cell_type": "code",
   "execution_count": 198,
   "metadata": {},
   "outputs": [
    {
     "data": {
      "text/plain": [
       "array([0, 1, 2, 3, 4])"
      ]
     },
     "execution_count": 198,
     "metadata": {},
     "output_type": "execute_result"
    }
   ],
   "source": [
    "x=np.arange(5) #길이가 5인 1차원 배열\n",
    "x"
   ]
  },
  {
   "cell_type": "code",
   "execution_count": 199,
   "metadata": {},
   "outputs": [
    {
     "data": {
      "text/plain": [
       "array([[0, 1, 2, 3, 4]])"
      ]
     },
     "execution_count": 199,
     "metadata": {},
     "output_type": "execute_result"
    }
   ],
   "source": [
    "x.reshape(1,5) #행1 열5 2차원 배열 위의 cell보다 []가 하나더 많은것을 확인!"
   ]
  },
  {
   "cell_type": "code",
   "execution_count": 200,
   "metadata": {},
   "outputs": [
    {
     "data": {
      "text/plain": [
       "array([[0],\n",
       "       [1],\n",
       "       [2],\n",
       "       [3],\n",
       "       [4]])"
      ]
     },
     "execution_count": 200,
     "metadata": {},
     "output_type": "execute_result"
    }
   ],
   "source": [
    "x.reshape(5,1) #2차원 배열"
   ]
  },
  {
   "cell_type": "code",
   "execution_count": 201,
   "metadata": {},
   "outputs": [
    {
     "data": {
      "text/plain": [
       "array([[0],\n",
       "       [1],\n",
       "       [2],\n",
       "       [3],\n",
       "       [4]])"
      ]
     },
     "execution_count": 201,
     "metadata": {},
     "output_type": "execute_result"
    }
   ],
   "source": [
    "#배열의 1차원 증가: newaxis\n",
    "x #array([0, 1, 2, 3, 4])\n",
    "x[:,np.newaxis] \n",
    "# array([[0],\n",
    "#        [1],\n",
    "#        [2],\n",
    "#        [3],\n",
    "#        [4]]) 차원이 한단계더 증가됨. +[]"
   ]
  },
  {
   "cell_type": "markdown",
   "metadata": {},
   "source": [
    "# 1번 문제\n",
    "\n",
    "08-14 내용은 여기까지\n",
    "\n",
    "내적을 이용한 연습문제 "
   ]
  },
  {
   "cell_type": "code",
   "execution_count": null,
   "metadata": {},
   "outputs": [],
   "source": [
    "from sklearn.datasets import load_digits\n",
    "#load_digits 는 함수임\n",
    "digits=load_digits()\n",
    "digits\n",
    "print(digits.data) #data변수 안에 수치데이터가 있음.\n",
    "print(digits.data.shape) #64개의 열로 구성이 되어져 있다. (1797, 64)숫자가 1797개 64픽셀\n",
    "print(digits.target)\n",
    "print(digits.target.shape)"
   ]
  },
  {
   "cell_type": "raw",
   "metadata": {},
   "source": [
    "#digit의 data가 1797개가 있는데 digits.data[0]~digits.data[9]에는 숫자 0~9까지 데이터 저장\n",
    "#digits.data[0] 데이터와 digits.data[10]~digits.data[1796] 데이터 간에 내적을 구한 후,\n",
    "#최대 내적을 갖는 숫자 이미지 데이터를 화면에 출력하시오.\n",
    "#1. digits.data[0] 이미지 출력 및 최대내적 이미지 출력\n",
    "# digits.data[1] 이미지 출력 \n",
    "# digits.data[2] 이미지 출력 \n",
    "# digits.data[3] 이미지 출력 \n",
    "# digits.data[4] 이미지 출력 \n",
    "# digits.data[5] 이미지 출력 \n",
    "# digits.data[6] 이미지 출력 \n",
    "# digits.data[7] 이미지 출력 \n",
    "# digits.data[8] 이미지 출력 \n",
    "# digits.data[9] 이미지 출력 "
   ]
  },
  {
   "cell_type": "code",
   "execution_count": 275,
   "metadata": {},
   "outputs": [
    {
     "data": {
      "text/plain": [
       "array([[ 0.,  0.,  5., ...,  0.,  0.,  0.],\n",
       "       [ 0.,  0.,  0., ..., 10.,  0.,  0.],\n",
       "       [ 0.,  0.,  0., ..., 16.,  9.,  0.],\n",
       "       ...,\n",
       "       [ 0.,  0.,  1., ...,  6.,  0.,  0.],\n",
       "       [ 0.,  0.,  2., ..., 12.,  0.,  0.],\n",
       "       [ 0.,  0., 10., ..., 12.,  1.,  0.]])"
      ]
     },
     "execution_count": 275,
     "metadata": {},
     "output_type": "execute_result"
    }
   ],
   "source": [
    "digits.data"
   ]
  },
  {
   "cell_type": "code",
   "execution_count": null,
   "metadata": {},
   "outputs": [],
   "source": []
  },
  {
   "cell_type": "code",
   "execution_count": null,
   "metadata": {},
   "outputs": [],
   "source": []
  },
  {
   "cell_type": "code",
   "execution_count": null,
   "metadata": {},
   "outputs": [],
   "source": []
  },
  {
   "cell_type": "code",
   "execution_count": null,
   "metadata": {},
   "outputs": [],
   "source": []
  },
  {
   "cell_type": "code",
   "execution_count": null,
   "metadata": {},
   "outputs": [],
   "source": []
  },
  {
   "cell_type": "markdown",
   "metadata": {},
   "source": [
    "# 2번문제"
   ]
  },
  {
   "cell_type": "code",
   "execution_count": 207,
   "metadata": {},
   "outputs": [
    {
     "name": "stdout",
     "output_type": "stream",
     "text": [
      "downloading Olivetti faces from https://ndownloader.figshare.com/files/5976027 to C:\\Users\\i\\scikit_learn_data\n"
     ]
    },
    {
     "data": {
      "text/plain": [
       "dict_keys(['data', 'images', 'target', 'DESCR'])"
      ]
     },
     "execution_count": 207,
     "metadata": {},
     "output_type": "execute_result"
    }
   ],
   "source": [
    "from sklearn.datasets import fetch_olivetti_faces\n",
    "data=fetch_olivetti_faces()\n",
    "data.keys()"
   ]
  },
  {
   "cell_type": "code",
   "execution_count": 209,
   "metadata": {},
   "outputs": [
    {
     "data": {
      "text/plain": [
       "(400, 64, 64)"
      ]
     },
     "execution_count": 209,
     "metadata": {},
     "output_type": "execute_result"
    }
   ],
   "source": [
    "data.data.shape #(400, 4096) 400장의 이미지, 4096차원 벡터\n",
    "data.images.shape #(400, 64, 64) 400장을 2차원으로"
   ]
  },
  {
   "cell_type": "code",
   "execution_count": 246,
   "metadata": {},
   "outputs": [
    {
     "data": {
      "text/plain": [
       "<matplotlib.image.AxesImage at 0x1ef9c104040>"
      ]
     },
     "execution_count": 246,
     "metadata": {},
     "output_type": "execute_result"
    },
    {
     "data": {
      "image/png": "[encoded data removed]",
      "text/plain": [
       "<Figure size 432x288 with 1 Axes>"
      ]
     },
     "metadata": {
      "needs_background": "light"
     },
     "output_type": "display_data"
    }
   ],
   "source": [
    "plt.imshow(data.images[100], cmap=plt.cm.bone) #100 번째 사람 \n",
    "# 400-1=399장의 이미지 중에서 내적이 가장 크게 나오는 사람의 사진을 출력\n",
    "#실제로는 이미지처리를 이런방식으로 하면 안됨.. 이건 연습용임"
   ]
  },
  {
   "cell_type": "code",
   "execution_count": null,
   "metadata": {},
   "outputs": [],
   "source": []
  },
  {
   "cell_type": "code",
   "execution_count": null,
   "metadata": {},
   "outputs": [],
   "source": []
  },
  {
   "cell_type": "code",
   "execution_count": null,
   "metadata": {},
   "outputs": [],
   "source": []
  },
  {
   "cell_type": "code",
   "execution_count": null,
   "metadata": {},
   "outputs": [],
   "source": []
  }
 ],
 "metadata": {
  "kernelspec": {
   "display_name": "Python 3",
   "language": "python",
   "name": "python3"
  },
  "language_info": {
   "codemirror_mode": {
    "name": "ipython",
    "version": 3
   },
   "file_extension": ".py",
   "mimetype": "text/x-python",
   "name": "python",
   "nbconvert_exporter": "python",
   "pygments_lexer": "ipython3",
   "version": "3.8.3"
  }
 },
 "nbformat": 4,
 "nbformat_minor": 4
}
