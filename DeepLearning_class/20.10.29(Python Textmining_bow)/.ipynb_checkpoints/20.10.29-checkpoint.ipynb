{
 "cells": [
  {
   "cell_type": "markdown",
   "metadata": {},
   "source": [
    "## BOW 만들기"
   ]
  },
  {
   "cell_type": "code",
   "execution_count": 1,
   "metadata": {},
   "outputs": [
    {
     "data": {
      "text/plain": [
       "'\\nBow: 단어의 순서 고려 x, 단어의 빈도수를 기반으로 만든 행렬\\n1) 단어 추출 → 단어에 대해 정수 인덱스 설정\\n2) 단어의 등장 횟수를 저장한 벡터를 생성\\n'"
      ]
     },
     "execution_count": 1,
     "metadata": {},
     "output_type": "execute_result"
    }
   ],
   "source": [
    "'''\n",
    "Bow: 단어의 순서 고려 x, 단어의 빈도수를 기반으로 만든 행렬\n",
    "1) 단어 추출 → 단어에 대해 정수 인덱스 설정\n",
    "2) 단어의 등장 횟수를 저장한 벡터를 생성\n",
    "'''"
   ]
  },
  {
   "cell_type": "code",
   "execution_count": 2,
   "metadata": {},
   "outputs": [],
   "source": [
    "text='정부가 발표하는 물가상승률과 소비자가 느끼는 물가상승률은 다르다'"
   ]
  },
  {
   "cell_type": "code",
   "execution_count": 5,
   "metadata": {},
   "outputs": [
    {
     "data": {
      "text/plain": [
       "'정부가 발표하는 물가상승률과 소비자가 느끼는 물가상승률은 다르다'"
      ]
     },
     "execution_count": 5,
     "metadata": {},
     "output_type": "execute_result"
    }
   ],
   "source": [
    "# 마침표 제거\n",
    "import re\n",
    "re.sub('\\.','',text)"
   ]
  },
  {
   "cell_type": "code",
   "execution_count": 6,
   "metadata": {},
   "outputs": [],
   "source": [
    "from konlpy.tag import Okt"
   ]
  },
  {
   "cell_type": "code",
   "execution_count": 7,
   "metadata": {},
   "outputs": [],
   "source": [
    "okt=Okt()"
   ]
  },
  {
   "cell_type": "code",
   "execution_count": 10,
   "metadata": {},
   "outputs": [],
   "source": [
    "token = okt.morphs(text)"
   ]
  },
  {
   "cell_type": "code",
   "execution_count": 16,
   "metadata": {},
   "outputs": [
    {
     "data": {
      "text/plain": [
       "['정부', '가', '발표', '하는', '물가상승률', '과', '소비자', '가', '느끼는', '물가상승률', '은', '다르다']"
      ]
     },
     "execution_count": 16,
     "metadata": {},
     "output_type": "execute_result"
    }
   ],
   "source": [
    "token"
   ]
  },
  {
   "cell_type": "code",
   "execution_count": 24,
   "metadata": {},
   "outputs": [],
   "source": [
    "# word2index에 BOW 저장\n",
    "word2index={} # {정부:1, 단어:index번호}\n",
    "bow=[] # [1, 단어빈도수, 단어빈도수, ... ]"
   ]
  },
  {
   "cell_type": "code",
   "execution_count": 25,
   "metadata": {},
   "outputs": [
    {
     "name": "stdout",
     "output_type": "stream",
     "text": [
      "{'정부': 0, '가': 1, '발표': 2, '하는': 3, '물가상승률': 4, '과': 5, '소비자': 6, '느끼는': 7, '은': 8, '다르다': 9}\n",
      "[1, 2, 1, 1, 2, 1, 1, 1, 1, 1]\n"
     ]
    }
   ],
   "source": [
    "for v in token:\n",
    "    if v not in word2index.keys():\n",
    "        word2index[v]=len(word2index) # word2index의 크기로 넘버링을 하면 좋겠네.\n",
    "        bow.insert(len(word2index)-1,1) # bow의 len(word2index)-1 위치에 1을 넣어라.\n",
    "    else:\n",
    "        idx = word2index.get(v)\n",
    "        bow[idx]=bow[idx]+1\n",
    "print(word2index)\n",
    "print(bow)"
   ]
  },
  {
   "cell_type": "code",
   "execution_count": null,
   "metadata": {},
   "outputs": [],
   "source": [
    "'''\n",
    "전체문서(n개 문서)={d1,d2, ... , dn}\n",
    "단어집합(m개 단어)={t1,t2, ... , tm}\n",
    "Xij = 문서 di에 있는 단어tj의 출현 빈도수\n",
    "'''"
   ]
  }
 ],
 "metadata": {
  "kernelspec": {
   "display_name": "Python 3",
   "language": "python",
   "name": "python3"
  },
  "language_info": {
   "codemirror_mode": {
    "name": "ipython",
    "version": 3
   },
   "file_extension": ".py",
   "mimetype": "text/x-python",
   "name": "python",
   "nbconvert_exporter": "python",
   "pygments_lexer": "ipython3",
   "version": "3.7.7"
  }
 },
 "nbformat": 4,
 "nbformat_minor": 4
}
