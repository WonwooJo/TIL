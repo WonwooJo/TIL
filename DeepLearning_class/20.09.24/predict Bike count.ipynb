{
 "cells": [
  {
   "cell_type": "code",
   "execution_count": 1,
   "metadata": {
    "scrolled": false
   },
   "outputs": [
    {
     "data": {
      "text/plain": [
       "'\\n의사결정트리: 오버피팅 가능성이 높다. -> 가지치기를 잘 알아야해 -> 부족한 알고리즘\\n랜덤포레스트: 의사결정 트리의 한계를 극복하기 위한 알고리즘\\n\\n의사결정트리생성? 배깅이용!!\\nex) 학습데이터 1000개(행), 25개(속성) -> 임의로 100개의 데이터 선택(31번 반복) -> 트리(31개) 구성\\n-> 트리 작성 시 사용될 Features 제한 -> 나무에 대한 다양성\\n- 그럼 속성 몇 개? => 전체 속성 갯수(25)의 제곱근이 가장 좋다!! -> 5개의 속성 활용\\n\\n*RandomForest 중요 옵션*\\nRandomForestClassifier(\\n- <트리 갯수>n_estimators=100, / 크게 할수록 좋음 (시간은 오래걸림)\\n- min_samples_split int or float, default=2 / 노드를 분할하기위한 최소한의 데이터 수 (과적합 제어)\\n                                            작게 설정할수록 분할 노드가 많아지므로 과적합이 증가할 수 있음.\\n(과적합: 모델을 훈련데이터로 평가했을 때 성능 >>> 실제 데이터로 평가했을 때 성능)\\n\\n- <트리 깊이>max_depth = None/ 완전하게 클래스 값이 결정될때까지 분할 \\n                              또는 데이터 갯수가 min_samples_split보다 작아질 때까지 분할\\n\\n- min_samples_leaf / 리프노드(터미널노드)가 되기 위해 필요로하는 최소한의 샘플 데이터 갯수\\n                     일반적으로 작게 설정함.\\n<samples> -> 데이터로 이해.\\n==>> 최적의 RandomForest Parameter를 설정하는 게 매우 중요! \\n과거(현재)는 수동으로 튜닝했음.(매번 바꿔가면서) # 너무 괴롭다...\\n=> GridSearchCV라는 클래스를 사용해서 RandomForest Hyper Parameter 튜닝 가능!\\nmyparam = { \\nn_estimators:[5,10,30,50,100,200]\\nmin_samples_split:[3,5,7,9,11]\\nmax_depth:[3,5,7,9,11,13]\\nn_jobs = -1 # 모든 CPU 모두 돌림\\n}\\nGridSearchCV(param_grid = myparam)\\n\\n\\n\\n'"
      ]
     },
     "execution_count": 1,
     "metadata": {},
     "output_type": "execute_result"
    }
   ],
   "source": [
    "'''\n",
    "의사결정트리: 오버피팅 가능성이 높다. -> 가지치기를 잘 알아야해 -> 부족한 알고리즘\n",
    "랜덤포레스트: 의사결정 트리의 한계를 극복하기 위한 알고리즘\n",
    "\n",
    "의사결정트리생성? 배깅이용!!\n",
    "ex) 학습데이터 1000개(행), 25개(속성) -> 임의로 100개의 데이터 선택(31번 반복) -> 트리(31개) 구성\n",
    "-> 트리 작성 시 사용될 Features 제한 -> 나무에 대한 다양성\n",
    "- 그럼 속성 몇 개? => 전체 속성 갯수(25)의 제곱근이 가장 좋다!! -> 5개의 속성 활용\n",
    "\n",
    "*RandomForest 중요 옵션*\n",
    "RandomForestClassifier(\n",
    "- <트리 갯수>n_estimators=100, / 크게 할수록 좋음 (시간은 오래걸림)\n",
    "- min_samples_split int or float, default=2 / 노드를 분할하기위한 최소한의 데이터 수 (과적합 제어)\n",
    "                                            작게 설정할수록 분할 노드가 많아지므로 과적합이 증가할 수 있음.\n",
    "(과적합: 모델을 훈련데이터로 평가했을 때 성능 >>> 실제 데이터로 평가했을 때 성능)\n",
    "\n",
    "- <트리 깊이>max_depth = None/ 완전하게 클래스 값이 결정될때까지 분할 \n",
    "                              또는 데이터 갯수가 min_samples_split보다 작아질 때까지 분할\n",
    "\n",
    "- min_samples_leaf / 리프노드(터미널노드)가 되기 위해 필요로하는 최소한의 샘플 데이터 갯수\n",
    "                     일반적으로 작게 설정함.\n",
    "<samples> -> 데이터로 이해.\n",
    "==>> 최적의 RandomForest Parameter를 설정하는 게 매우 중요! \n",
    "과거(현재)는 수동으로 튜닝했음.(매번 바꿔가면서) # 너무 괴롭다...\n",
    "=> GridSearchCV라는 클래스를 사용해서 RandomForest Hyper Parameter 튜닝 가능!\n",
    "myparam = { \n",
    "n_estimators:[5,10,30,50,100,200]\n",
    "min_samples_split:[3,5,7,9,11]\n",
    "max_depth:[3,5,7,9,11,13]\n",
    "n_jobs = -1 # 모든 CPU 모두 돌림\n",
    "}\n",
    "GridSearchCV(param_grid = myparam)\n",
    "\n",
    "\n",
    "\n",
    "'''"
   ]
  },
  {
   "attachments": {
    "image.png": {
     "image/png": "[encoded data removed]"
    }
   },
   "cell_type": "markdown",
   "metadata": {},
   "source": [
    "- RMSLE\n",
    "- 예측값: P\n",
    "- 답: a\n",
    "![image.png](attachment:image.png)\n"
   ]
  },
  {
   "cell_type": "code",
   "execution_count": 2,
   "metadata": {},
   "outputs": [],
   "source": [
    "import pandas as pd\n",
    "import numpy as np\n",
    "import matplotlib.pyplot as plt\n",
    "import seaborn as sns"
   ]
  },
  {
   "cell_type": "code",
   "execution_count": 3,
   "metadata": {},
   "outputs": [
    {
     "name": "stdout",
     "output_type": "stream",
     "text": [
      "<class 'pandas.core.frame.DataFrame'>\n",
      "RangeIndex: 10886 entries, 0 to 10885\n",
      "Data columns (total 12 columns):\n",
      " #   Column      Non-Null Count  Dtype         \n",
      "---  ------      --------------  -----         \n",
      " 0   datetime    10886 non-null  datetime64[ns]\n",
      " 1   season      10886 non-null  int64         \n",
      " 2   holiday     10886 non-null  int64         \n",
      " 3   workingday  10886 non-null  int64         \n",
      " 4   weather     10886 non-null  int64         \n",
      " 5   temp        10886 non-null  float64       \n",
      " 6   atemp       10886 non-null  float64       \n",
      " 7   humidity    10886 non-null  int64         \n",
      " 8   windspeed   10886 non-null  float64       \n",
      " 9   casual      10886 non-null  int64         \n",
      " 10  registered  10886 non-null  int64         \n",
      " 11  count       10886 non-null  int64         \n",
      "dtypes: datetime64[ns](1), float64(3), int64(8)\n",
      "memory usage: 1020.7 KB\n"
     ]
    }
   ],
   "source": [
    "train = pd.read_csv('train.csv',parse_dates = ['datetime'])\n",
    "train.info()"
   ]
  },
  {
   "cell_type": "code",
   "execution_count": 4,
   "metadata": {},
   "outputs": [
    {
     "name": "stdout",
     "output_type": "stream",
     "text": [
      "<class 'pandas.core.frame.DataFrame'>\n",
      "RangeIndex: 6493 entries, 0 to 6492\n",
      "Data columns (total 9 columns):\n",
      " #   Column      Non-Null Count  Dtype         \n",
      "---  ------      --------------  -----         \n",
      " 0   datetime    6493 non-null   datetime64[ns]\n",
      " 1   season      6493 non-null   int64         \n",
      " 2   holiday     6493 non-null   int64         \n",
      " 3   workingday  6493 non-null   int64         \n",
      " 4   weather     6493 non-null   int64         \n",
      " 5   temp        6493 non-null   float64       \n",
      " 6   atemp       6493 non-null   float64       \n",
      " 7   humidity    6493 non-null   int64         \n",
      " 8   windspeed   6493 non-null   float64       \n",
      "dtypes: datetime64[ns](1), float64(3), int64(5)\n",
      "memory usage: 456.7 KB\n"
     ]
    }
   ],
   "source": [
    "test = pd.read_csv('test.csv',parse_dates = ['datetime'])\n",
    "test.info()"
   ]
  },
  {
   "cell_type": "code",
   "execution_count": 5,
   "metadata": {},
   "outputs": [
    {
     "data": {
      "text/plain": [
       "0       2011-01-01 00:00:00\n",
       "1       2011-01-01 01:00:00\n",
       "2       2011-01-01 02:00:00\n",
       "3       2011-01-01 03:00:00\n",
       "4       2011-01-01 04:00:00\n",
       "                ...        \n",
       "10881   2012-12-19 19:00:00\n",
       "10882   2012-12-19 20:00:00\n",
       "10883   2012-12-19 21:00:00\n",
       "10884   2012-12-19 22:00:00\n",
       "10885   2012-12-19 23:00:00\n",
       "Name: datetime, Length: 10886, dtype: datetime64[ns]"
      ]
     },
     "execution_count": 5,
     "metadata": {},
     "output_type": "execute_result"
    }
   ],
   "source": [
    "train['datetime']"
   ]
  },
  {
   "cell_type": "code",
   "execution_count": 6,
   "metadata": {},
   "outputs": [],
   "source": [
    "train['year'] = train['datetime'].dt.year\n",
    "train['month'] = train['datetime'].dt.month\n",
    "train['day'] = train['datetime'].dt.day\n",
    "train['hour'] = train['datetime'].dt.hour\n",
    "train['minute'] = train['datetime'].dt.minute\n",
    "train['second'] = train['datetime'].dt.second\n",
    "train['dayofweek'] = train['datetime'].dt.dayofweek"
   ]
  },
  {
   "cell_type": "code",
   "execution_count": 7,
   "metadata": {},
   "outputs": [],
   "source": [
    "test['year'] = test['datetime'].dt.year\n",
    "test['month'] = test['datetime'].dt.month\n",
    "test['day'] = test['datetime'].dt.day\n",
    "test['hour'] = test['datetime'].dt.hour\n",
    "test['minute'] = test['datetime'].dt.minute\n",
    "test['second'] = test['datetime'].dt.second\n",
    "test['dayofweek'] = test['datetime'].dt.dayofweek"
   ]
  },
  {
   "cell_type": "code",
   "execution_count": 8,
   "metadata": {},
   "outputs": [
    {
     "data": {
      "text/html": [
       "<div>\n",
       "<style scoped>\n",
       "    .dataframe tbody tr th:only-of-type {\n",
       "        vertical-align: middle;\n",
       "    }\n",
       "\n",
       "    .dataframe tbody tr th {\n",
       "        vertical-align: top;\n",
       "    }\n",
       "\n",
       "    .dataframe thead th {\n",
       "        text-align: right;\n",
       "    }\n",
       "</style>\n",
       "<table border=\"1\" class=\"dataframe\">\n",
       "  <thead>\n",
       "    <tr style=\"text-align: right;\">\n",
       "      <th></th>\n",
       "      <th>datetime</th>\n",
       "      <th>season</th>\n",
       "      <th>holiday</th>\n",
       "      <th>workingday</th>\n",
       "      <th>weather</th>\n",
       "      <th>temp</th>\n",
       "      <th>atemp</th>\n",
       "      <th>humidity</th>\n",
       "      <th>windspeed</th>\n",
       "      <th>year</th>\n",
       "      <th>month</th>\n",
       "      <th>day</th>\n",
       "      <th>hour</th>\n",
       "      <th>minute</th>\n",
       "      <th>second</th>\n",
       "      <th>dayofweek</th>\n",
       "    </tr>\n",
       "  </thead>\n",
       "  <tbody>\n",
       "    <tr>\n",
       "      <th>0</th>\n",
       "      <td>2011-01-20 00:00:00</td>\n",
       "      <td>1</td>\n",
       "      <td>0</td>\n",
       "      <td>1</td>\n",
       "      <td>1</td>\n",
       "      <td>10.66</td>\n",
       "      <td>11.365</td>\n",
       "      <td>56</td>\n",
       "      <td>26.0027</td>\n",
       "      <td>2011</td>\n",
       "      <td>1</td>\n",
       "      <td>20</td>\n",
       "      <td>0</td>\n",
       "      <td>0</td>\n",
       "      <td>0</td>\n",
       "      <td>3</td>\n",
       "    </tr>\n",
       "    <tr>\n",
       "      <th>1</th>\n",
       "      <td>2011-01-20 01:00:00</td>\n",
       "      <td>1</td>\n",
       "      <td>0</td>\n",
       "      <td>1</td>\n",
       "      <td>1</td>\n",
       "      <td>10.66</td>\n",
       "      <td>13.635</td>\n",
       "      <td>56</td>\n",
       "      <td>0.0000</td>\n",
       "      <td>2011</td>\n",
       "      <td>1</td>\n",
       "      <td>20</td>\n",
       "      <td>1</td>\n",
       "      <td>0</td>\n",
       "      <td>0</td>\n",
       "      <td>3</td>\n",
       "    </tr>\n",
       "    <tr>\n",
       "      <th>2</th>\n",
       "      <td>2011-01-20 02:00:00</td>\n",
       "      <td>1</td>\n",
       "      <td>0</td>\n",
       "      <td>1</td>\n",
       "      <td>1</td>\n",
       "      <td>10.66</td>\n",
       "      <td>13.635</td>\n",
       "      <td>56</td>\n",
       "      <td>0.0000</td>\n",
       "      <td>2011</td>\n",
       "      <td>1</td>\n",
       "      <td>20</td>\n",
       "      <td>2</td>\n",
       "      <td>0</td>\n",
       "      <td>0</td>\n",
       "      <td>3</td>\n",
       "    </tr>\n",
       "    <tr>\n",
       "      <th>3</th>\n",
       "      <td>2011-01-20 03:00:00</td>\n",
       "      <td>1</td>\n",
       "      <td>0</td>\n",
       "      <td>1</td>\n",
       "      <td>1</td>\n",
       "      <td>10.66</td>\n",
       "      <td>12.880</td>\n",
       "      <td>56</td>\n",
       "      <td>11.0014</td>\n",
       "      <td>2011</td>\n",
       "      <td>1</td>\n",
       "      <td>20</td>\n",
       "      <td>3</td>\n",
       "      <td>0</td>\n",
       "      <td>0</td>\n",
       "      <td>3</td>\n",
       "    </tr>\n",
       "    <tr>\n",
       "      <th>4</th>\n",
       "      <td>2011-01-20 04:00:00</td>\n",
       "      <td>1</td>\n",
       "      <td>0</td>\n",
       "      <td>1</td>\n",
       "      <td>1</td>\n",
       "      <td>10.66</td>\n",
       "      <td>12.880</td>\n",
       "      <td>56</td>\n",
       "      <td>11.0014</td>\n",
       "      <td>2011</td>\n",
       "      <td>1</td>\n",
       "      <td>20</td>\n",
       "      <td>4</td>\n",
       "      <td>0</td>\n",
       "      <td>0</td>\n",
       "      <td>3</td>\n",
       "    </tr>\n",
       "  </tbody>\n",
       "</table>\n",
       "</div>"
      ],
      "text/plain": [
       "             datetime  season  holiday  workingday  weather   temp   atemp  \\\n",
       "0 2011-01-20 00:00:00       1        0           1        1  10.66  11.365   \n",
       "1 2011-01-20 01:00:00       1        0           1        1  10.66  13.635   \n",
       "2 2011-01-20 02:00:00       1        0           1        1  10.66  13.635   \n",
       "3 2011-01-20 03:00:00       1        0           1        1  10.66  12.880   \n",
       "4 2011-01-20 04:00:00       1        0           1        1  10.66  12.880   \n",
       "\n",
       "   humidity  windspeed  year  month  day  hour  minute  second  dayofweek  \n",
       "0        56    26.0027  2011      1   20     0       0       0          3  \n",
       "1        56     0.0000  2011      1   20     1       0       0          3  \n",
       "2        56     0.0000  2011      1   20     2       0       0          3  \n",
       "3        56    11.0014  2011      1   20     3       0       0          3  \n",
       "4        56    11.0014  2011      1   20     4       0       0          3  "
      ]
     },
     "execution_count": 8,
     "metadata": {},
     "output_type": "execute_result"
    }
   ],
   "source": [
    "test.head()"
   ]
  },
  {
   "cell_type": "code",
   "execution_count": 9,
   "metadata": {},
   "outputs": [
    {
     "data": {
      "text/plain": [
       "(6493, 16)"
      ]
     },
     "execution_count": 9,
     "metadata": {},
     "output_type": "execute_result"
    }
   ],
   "source": [
    "test.shape"
   ]
  },
  {
   "cell_type": "code",
   "execution_count": 10,
   "metadata": {},
   "outputs": [
    {
     "data": {
      "text/plain": [
       "(10886, 19)"
      ]
     },
     "execution_count": 10,
     "metadata": {},
     "output_type": "execute_result"
    }
   ],
   "source": [
    "train.shape"
   ]
  },
  {
   "cell_type": "code",
   "execution_count": 11,
   "metadata": {
    "scrolled": true
   },
   "outputs": [
    {
     "name": "stdout",
     "output_type": "stream",
     "text": [
      "<class 'pandas.core.frame.DataFrame'>\n",
      "Int64Index: 1313 entries, 0 to 10862\n",
      "Data columns (total 19 columns):\n",
      " #   Column      Non-Null Count  Dtype         \n",
      "---  ------      --------------  -----         \n",
      " 0   datetime    1313 non-null   datetime64[ns]\n",
      " 1   season      1313 non-null   int64         \n",
      " 2   holiday     1313 non-null   int64         \n",
      " 3   workingday  1313 non-null   int64         \n",
      " 4   weather     1313 non-null   int64         \n",
      " 5   temp        1313 non-null   float64       \n",
      " 6   atemp       1313 non-null   float64       \n",
      " 7   humidity    1313 non-null   int64         \n",
      " 8   windspeed   1313 non-null   float64       \n",
      " 9   casual      1313 non-null   int64         \n",
      " 10  registered  1313 non-null   int64         \n",
      " 11  count       1313 non-null   int64         \n",
      " 12  year        1313 non-null   int64         \n",
      " 13  month       1313 non-null   int64         \n",
      " 14  day         1313 non-null   int64         \n",
      " 15  hour        1313 non-null   int64         \n",
      " 16  minute      1313 non-null   int64         \n",
      " 17  second      1313 non-null   int64         \n",
      " 18  dayofweek   1313 non-null   int64         \n",
      "dtypes: datetime64[ns](1), float64(3), int64(15)\n",
      "memory usage: 205.2 KB\n",
      "None\n",
      "<class 'pandas.core.frame.DataFrame'>\n",
      "Int64Index: 9573 entries, 5 to 10885\n",
      "Data columns (total 19 columns):\n",
      " #   Column      Non-Null Count  Dtype         \n",
      "---  ------      --------------  -----         \n",
      " 0   datetime    9573 non-null   datetime64[ns]\n",
      " 1   season      9573 non-null   int64         \n",
      " 2   holiday     9573 non-null   int64         \n",
      " 3   workingday  9573 non-null   int64         \n",
      " 4   weather     9573 non-null   int64         \n",
      " 5   temp        9573 non-null   float64       \n",
      " 6   atemp       9573 non-null   float64       \n",
      " 7   humidity    9573 non-null   int64         \n",
      " 8   windspeed   9573 non-null   float64       \n",
      " 9   casual      9573 non-null   int64         \n",
      " 10  registered  9573 non-null   int64         \n",
      " 11  count       9573 non-null   int64         \n",
      " 12  year        9573 non-null   int64         \n",
      " 13  month       9573 non-null   int64         \n",
      " 14  day         9573 non-null   int64         \n",
      " 15  hour        9573 non-null   int64         \n",
      " 16  minute      9573 non-null   int64         \n",
      " 17  second      9573 non-null   int64         \n",
      " 18  dayofweek   9573 non-null   int64         \n",
      "dtypes: datetime64[ns](1), float64(3), int64(15)\n",
      "memory usage: 1.5 MB\n",
      "None\n"
     ]
    }
   ],
   "source": [
    "# train.loc[train['windspeed']==0,'windspeed'] = train['windspeed'].mean()  -> 좋은 방법이 아냐!\n",
    "# 랜덤포레스트를 이용한 풍속 0값을 대체\n",
    "# 풍속 0, not 0으로 분류\n",
    "trainWind0 = train.loc[train.windspeed == 0]\n",
    "trainWindNot0 = train.loc[train.windspeed != 0]\n",
    "print(trainWind0.info())\n",
    "print(trainWindNot0.info())"
   ]
  },
  {
   "cell_type": "code",
   "execution_count": 12,
   "metadata": {},
   "outputs": [],
   "source": [
    "from sklearn.ensemble import RandomForestClassifier"
   ]
  },
  {
   "cell_type": "code",
   "execution_count": 13,
   "metadata": {},
   "outputs": [
    {
     "data": {
      "text/plain": [
       "Index(['datetime', 'season', 'holiday', 'workingday', 'weather', 'temp',\n",
       "       'atemp', 'humidity', 'windspeed', 'casual', 'registered', 'count',\n",
       "       'year', 'month', 'day', 'hour', 'minute', 'second', 'dayofweek'],\n",
       "      dtype='object')"
      ]
     },
     "execution_count": 13,
     "metadata": {},
     "output_type": "execute_result"
    }
   ],
   "source": [
    "train.columns"
   ]
  },
  {
   "cell_type": "code",
   "execution_count": 14,
   "metadata": {},
   "outputs": [],
   "source": [
    "# 입력데이터 -> 랜덤포레스트 모델 -> 출력데이터(windspeed)\n",
    "# 풍속을 예측하는데 사용될 변수(입력)를 선택해야함!\n",
    "def predictWindSpeed(data):  # data의 windspeed값이 0인 애들을 랜덤포레스트 예측 값으로 대체.\n",
    "    dataWind0 = data.loc[data['windspeed'] == 0]\n",
    "    dataWindNot0 = data.loc[data['windspeed'] != 0]\n",
    "    \n",
    "    # wind 예측 변수\n",
    "    wCol = ['season','weather','temp','atemp','humidity','year','month']\n",
    "    \n",
    "    # 회귀모델도 가능!\n",
    "    # wind 예측함수 = w1*season + w2*weather + ... + w7*month + b\n",
    "    \n",
    "    # 출력 데이터 타입이 str이어야 하기에 타입을 str로 바꿈.\n",
    "    dataWindNot0['windspeed'] = dataWindNot0['windspeed'].astype('str')\n",
    "    \n",
    "    # RandomForest 분류기\n",
    "    rfModelWind = RandomForestClassifier()\n",
    "    \n",
    "    # 모델링(학습데이터)\n",
    "    # wind not 0 데이터로 학습시켜 모델을 만든 후, wind 0 데이터를 모델에 입력하면 예측된 풍속 출력됨!\n",
    "    rfModelWind.fit(dataWindNot0[wCol],dataWindNot0['windspeed'] )\n",
    "    \n",
    "    # 모델(rfModelWind)을 이용하여 풍속이 0인 데이터에 대한 풍속 예측!\n",
    "    wind0Values = rfModelWind.predict(dataWind0[wCol])\n",
    "    \n",
    "    predictWind0 = dataWind0\n",
    "    predictWindNot0 = dataWindNot0\n",
    "    \n",
    "    # 풍속 0을 예측된 값으로 변경!\n",
    "    predictWind0['windspeed'] = wind0Values\n",
    "    \n",
    "    # 풍속이 0이 아닌 데이터 프레임에 예측된 값이 저장된 데이터 프레임을 합침.\n",
    "    data = predictWindNot0.append(predictWind0)\n",
    "    \n",
    "    data['windspeed']=data['windspeed'].astype('float')\n",
    "        \n",
    "    data.reset_index(inplace = True)    \n",
    "    data.drop('index',inplace = True, axis = 1)\n",
    "    \n",
    "    return data"
   ]
  },
  {
   "cell_type": "code",
   "execution_count": 15,
   "metadata": {},
   "outputs": [
    {
     "name": "stderr",
     "output_type": "stream",
     "text": [
      "C:\\Users\\joww0\\AppData\\Roaming\\Python\\Python37\\site-packages\\ipykernel_launcher.py:14: SettingWithCopyWarning: \n",
      "A value is trying to be set on a copy of a slice from a DataFrame.\n",
      "Try using .loc[row_indexer,col_indexer] = value instead\n",
      "\n",
      "See the caveats in the documentation: https://pandas.pydata.org/pandas-docs/stable/user_guide/indexing.html#returning-a-view-versus-a-copy\n",
      "  \n",
      "C:\\Users\\joww0\\AppData\\Roaming\\Python\\Python37\\site-packages\\ipykernel_launcher.py:30: SettingWithCopyWarning: \n",
      "A value is trying to be set on a copy of a slice from a DataFrame.\n",
      "Try using .loc[row_indexer,col_indexer] = value instead\n",
      "\n",
      "See the caveats in the documentation: https://pandas.pydata.org/pandas-docs/stable/user_guide/indexing.html#returning-a-view-versus-a-copy\n"
     ]
    }
   ],
   "source": [
    "train = predictWindSpeed(train)\n",
    "# test = predictWindSpeed(test)"
   ]
  },
  {
   "cell_type": "code",
   "execution_count": 16,
   "metadata": {
    "scrolled": true
   },
   "outputs": [
    {
     "name": "stdout",
     "output_type": "stream",
     "text": [
      "<class 'pandas.core.frame.DataFrame'>\n",
      "RangeIndex: 10886 entries, 0 to 10885\n",
      "Data columns (total 19 columns):\n",
      " #   Column      Non-Null Count  Dtype         \n",
      "---  ------      --------------  -----         \n",
      " 0   datetime    10886 non-null  datetime64[ns]\n",
      " 1   season      10886 non-null  int64         \n",
      " 2   holiday     10886 non-null  int64         \n",
      " 3   workingday  10886 non-null  int64         \n",
      " 4   weather     10886 non-null  int64         \n",
      " 5   temp        10886 non-null  float64       \n",
      " 6   atemp       10886 non-null  float64       \n",
      " 7   humidity    10886 non-null  int64         \n",
      " 8   windspeed   10886 non-null  float64       \n",
      " 9   casual      10886 non-null  int64         \n",
      " 10  registered  10886 non-null  int64         \n",
      " 11  count       10886 non-null  int64         \n",
      " 12  year        10886 non-null  int64         \n",
      " 13  month       10886 non-null  int64         \n",
      " 14  day         10886 non-null  int64         \n",
      " 15  hour        10886 non-null  int64         \n",
      " 16  minute      10886 non-null  int64         \n",
      " 17  second      10886 non-null  int64         \n",
      " 18  dayofweek   10886 non-null  int64         \n",
      "dtypes: datetime64[ns](1), float64(3), int64(15)\n",
      "memory usage: 1.6 MB\n"
     ]
    }
   ],
   "source": [
    "train.info()"
   ]
  },
  {
   "cell_type": "code",
   "execution_count": 17,
   "metadata": {
    "scrolled": true
   },
   "outputs": [
    {
     "data": {
      "text/plain": [
       "count    10886.000000\n",
       "mean        14.007961\n",
       "std          7.050134\n",
       "min          6.003200\n",
       "25%          8.998100\n",
       "50%         12.998000\n",
       "75%         19.001200\n",
       "max         56.996900\n",
       "Name: windspeed, dtype: float64"
      ]
     },
     "execution_count": 17,
     "metadata": {},
     "output_type": "execute_result"
    }
   ],
   "source": [
    "train.windspeed.describe()"
   ]
  },
  {
   "cell_type": "code",
   "execution_count": 18,
   "metadata": {},
   "outputs": [],
   "source": [
    "# 연속형 변수 -> 범주형 변수 변환!"
   ]
  },
  {
   "cell_type": "code",
   "execution_count": 19,
   "metadata": {},
   "outputs": [],
   "source": [
    "# RandomForestClassifier , RandomForestRegressor"
   ]
  },
  {
   "cell_type": "code",
   "execution_count": 20,
   "metadata": {},
   "outputs": [],
   "source": [
    "category_fn = ['season','holiday','workingday','weather','year','month','hour','dayofweek']"
   ]
  },
  {
   "cell_type": "code",
   "execution_count": 21,
   "metadata": {},
   "outputs": [],
   "source": [
    "for v in category_fn:\n",
    "    train[v] = train[v].astype('category')\n",
    "    test[v] = train[v].astype('category')"
   ]
  },
  {
   "cell_type": "code",
   "execution_count": 22,
   "metadata": {},
   "outputs": [
    {
     "name": "stdout",
     "output_type": "stream",
     "text": [
      "<class 'pandas.core.frame.DataFrame'>\n",
      "RangeIndex: 10886 entries, 0 to 10885\n",
      "Data columns (total 19 columns):\n",
      " #   Column      Non-Null Count  Dtype         \n",
      "---  ------      --------------  -----         \n",
      " 0   datetime    10886 non-null  datetime64[ns]\n",
      " 1   season      10886 non-null  category      \n",
      " 2   holiday     10886 non-null  category      \n",
      " 3   workingday  10886 non-null  category      \n",
      " 4   weather     10886 non-null  category      \n",
      " 5   temp        10886 non-null  float64       \n",
      " 6   atemp       10886 non-null  float64       \n",
      " 7   humidity    10886 non-null  int64         \n",
      " 8   windspeed   10886 non-null  float64       \n",
      " 9   casual      10886 non-null  int64         \n",
      " 10  registered  10886 non-null  int64         \n",
      " 11  count       10886 non-null  int64         \n",
      " 12  year        10886 non-null  category      \n",
      " 13  month       10886 non-null  category      \n",
      " 14  day         10886 non-null  int64         \n",
      " 15  hour        10886 non-null  category      \n",
      " 16  minute      10886 non-null  int64         \n",
      " 17  second      10886 non-null  int64         \n",
      " 18  dayofweek   10886 non-null  category      \n",
      "dtypes: category(8), datetime64[ns](1), float64(3), int64(7)\n",
      "memory usage: 1022.9 KB\n"
     ]
    }
   ],
   "source": [
    "train.info()"
   ]
  },
  {
   "cell_type": "code",
   "execution_count": 23,
   "metadata": {},
   "outputs": [],
   "source": [
    "from sklearn.metrics import make_scorer"
   ]
  },
  {
   "cell_type": "code",
   "execution_count": 24,
   "metadata": {},
   "outputs": [],
   "source": [
    "def RMSLE(pv, av): # 외부로부터 예측값과 실제값을 전달받아 점수로 환산해줄거야!\n",
    "    # 먼저 넘파이 배열로 변환\n",
    "    pv = np.array(pv)\n",
    "    av = np.array(av)\n",
    "    \n",
    "    # 예측값과 실제값에 1을 더하고 로그를 씌우기\n",
    "    log_predict = np.log(pv+1)\n",
    "    log_actual = np.log(av+1)\n",
    "    \n",
    "    res = log_predict - log_actual\n",
    "    \n",
    "    #제곱\n",
    "    res = np.square(res)\n",
    "    \n",
    "    # 평균\n",
    "    mean_res = res.mean()\n",
    "    \n",
    "    # 루트\n",
    "    score = np.sqrt(mean_res)\n",
    "    \n",
    "    return score"
   ]
  },
  {
   "cell_type": "code",
   "execution_count": 25,
   "metadata": {},
   "outputs": [],
   "source": [
    "rmsle_scorer = make_scorer(RMSLE)"
   ]
  },
  {
   "attachments": {
    "image.png": {
     "image/png": "[encoded data removed]"
    }
   },
   "cell_type": "markdown",
   "metadata": {},
   "source": [
    "- 교차 검증: 모델의 일반화 성능을 측정하기 위해 데이터를 여러겹(fold)으로 나누고, <br>\n",
    "Train, Test 용으로 나뉘어진 폴드를 다양하게 적용하여 모델을 학습 및 평가.(편협적인 모델이 만들어지는 것을 방지 및 일반적인 모델 만들기를 원하니까!) 보통 10겹으로 나눔!\n",
    "![image.png](attachment:image.png)<br>\n",
    "ex) data 100건을 4겹(fold)(겹 당 25건) / 1번째 fold(test), 2~4번째 fold(train) ->2,3,4 돌아가면서 test 나머지는 train <br>\n",
    "따라서 4개의 정확도를 출력함! -> 정확도의 평균(최종 모델 정확도)"
   ]
  },
  {
   "cell_type": "code",
   "execution_count": 26,
   "metadata": {},
   "outputs": [],
   "source": [
    "# k-fold\n",
    "from sklearn.model_selection import KFold\n",
    "from sklearn.model_selection import cross_val_score"
   ]
  },
  {
   "cell_type": "code",
   "execution_count": 27,
   "metadata": {},
   "outputs": [],
   "source": [
    "kfold = KFold(n_splits=10, shuffle=True, random_state=42) # shuffle: 초기에 데이터 섞을래?"
   ]
  },
  {
   "cell_type": "code",
   "execution_count": 28,
   "metadata": {},
   "outputs": [],
   "source": [
    "from sklearn.ensemble import RandomForestRegressor"
   ]
  },
  {
   "cell_type": "code",
   "execution_count": 29,
   "metadata": {},
   "outputs": [],
   "source": [
    "model = RandomForestRegressor(n_estimators=51,\n",
    "                              max_depth=7,\n",
    "                              min_samples_split=8,\n",
    "                     n_jobs=5,\n",
    "                     random_state=42)"
   ]
  },
  {
   "cell_type": "code",
   "execution_count": 30,
   "metadata": {},
   "outputs": [],
   "source": [
    "# 데이터 분리!\n",
    "fn = ['season','holiday','workingday','weather','year','hour','dayofweek','temp',\n",
    "              'atemp','humidity','windspeed',]"
   ]
  },
  {
   "cell_type": "code",
   "execution_count": 31,
   "metadata": {},
   "outputs": [
    {
     "data": {
      "text/plain": [
       "11"
      ]
     },
     "execution_count": 31,
     "metadata": {},
     "output_type": "execute_result"
    }
   ],
   "source": [
    "len(fn)"
   ]
  },
  {
   "cell_type": "code",
   "execution_count": 32,
   "metadata": {},
   "outputs": [
    {
     "data": {
      "text/plain": [
       "(10886, 11)"
      ]
     },
     "execution_count": 32,
     "metadata": {},
     "output_type": "execute_result"
    }
   ],
   "source": [
    "xTrain = train[fn]\n",
    "xTrain.shape"
   ]
  },
  {
   "cell_type": "code",
   "execution_count": 33,
   "metadata": {},
   "outputs": [
    {
     "data": {
      "text/plain": [
       "(6493, 11)"
      ]
     },
     "execution_count": 33,
     "metadata": {},
     "output_type": "execute_result"
    }
   ],
   "source": [
    "xTest = test[fn]\n",
    "xTest.shape"
   ]
  },
  {
   "cell_type": "code",
   "execution_count": 34,
   "metadata": {},
   "outputs": [
    {
     "data": {
      "text/plain": [
       "(10886,)"
      ]
     },
     "execution_count": 34,
     "metadata": {},
     "output_type": "execute_result"
    }
   ],
   "source": [
    "yTrain = train['count']\n",
    "yTrain.shape"
   ]
  },
  {
   "cell_type": "code",
   "execution_count": 35,
   "metadata": {},
   "outputs": [
    {
     "data": {
      "text/plain": [
       "RandomForestRegressor(max_depth=7, min_samples_split=8, n_estimators=51,\n",
       "                      n_jobs=5, random_state=42)"
      ]
     },
     "execution_count": 35,
     "metadata": {},
     "output_type": "execute_result"
    }
   ],
   "source": [
    "model.fit(xTrain, yTrain)"
   ]
  },
  {
   "cell_type": "code",
   "execution_count": 36,
   "metadata": {},
   "outputs": [],
   "source": [
    "pred = model.predict(xTest)"
   ]
  },
  {
   "cell_type": "code",
   "execution_count": 37,
   "metadata": {},
   "outputs": [
    {
     "data": {
      "text/plain": [
       "0.825781443366785"
      ]
     },
     "execution_count": 37,
     "metadata": {},
     "output_type": "execute_result"
    }
   ],
   "source": [
    "pred.shape\n",
    "model.score(xTrain,yTrain)"
   ]
  },
  {
   "cell_type": "code",
   "execution_count": 38,
   "metadata": {},
   "outputs": [],
   "source": [
    "score = cross_val_score(model, xTrain, yTrain, cv = kfold, scoring = rmsle_scorer)"
   ]
  },
  {
   "cell_type": "code",
   "execution_count": 39,
   "metadata": {},
   "outputs": [
    {
     "data": {
      "text/plain": [
       "0.4840011536789273"
      ]
     },
     "execution_count": 39,
     "metadata": {},
     "output_type": "execute_result"
    }
   ],
   "source": [
    "score.mean()"
   ]
  },
  {
   "cell_type": "code",
   "execution_count": 40,
   "metadata": {},
   "outputs": [
    {
     "ename": "SyntaxError",
     "evalue": "invalid syntax (<ipython-input-40-80ba70d264b7>, line 1)",
     "output_type": "error",
     "traceback": [
      "\u001b[1;36m  File \u001b[1;32m\"<ipython-input-40-80ba70d264b7>\"\u001b[1;36m, line \u001b[1;32m1\u001b[0m\n\u001b[1;33m    xTrain이 model에 들어가면 예측 결과가 나옴(pv, yhat) -> RMSLE 함수에 전달\u001b[0m\n\u001b[1;37m                 ^\u001b[0m\n\u001b[1;31mSyntaxError\u001b[0m\u001b[1;31m:\u001b[0m invalid syntax\n"
     ]
    }
   ],
   "source": [
    "xTrain이 model에 들어가면 예측 결과가 나옴(pv, yhat) -> RMSLE 함수에 전달\n",
    "yTrain(av) -> RMSLE 함수에 전달"
   ]
  },
  {
   "cell_type": "code",
   "execution_count": null,
   "metadata": {},
   "outputs": [],
   "source": [
    "bikeSubmit = pd.read_csv('sampleSubmission.csv')\n",
    "bikeSubmit['count'] = pred"
   ]
  },
  {
   "cell_type": "code",
   "execution_count": null,
   "metadata": {},
   "outputs": [],
   "source": [
    "bikeSubmit"
   ]
  },
  {
   "cell_type": "code",
   "execution_count": null,
   "metadata": {},
   "outputs": [],
   "source": [
    "bikeSubmit.to_csv('bikeSubmit.csv',index=False)"
   ]
  },
  {
   "cell_type": "code",
   "execution_count": null,
   "metadata": {},
   "outputs": [],
   "source": [
    "# from sklearn.model_selection import GridSearchCV"
   ]
  },
  {
   "cell_type": "code",
   "execution_count": null,
   "metadata": {},
   "outputs": [],
   "source": [
    "# myparam = { \n",
    "# 'n_estimators':[51,101,151],\n",
    "# 'min_samples_split':[4,6,8,10],\n",
    "# 'max_depth':[3,5,7,9,]}\n",
    "# rfModel = RandomForestClassifier(random_state=924, n_jobs = 2) \n"
   ]
  },
  {
   "cell_type": "code",
   "execution_count": null,
   "metadata": {},
   "outputs": [],
   "source": [
    "# gridCV = GridSearchCV(rfModel, param_grid = myparam, cv = 5, n_jobs = 2)\n",
    "# gridCV.fit(xTrain,yTrain)\n",
    "# print(gridCV.best_params_)\n",
    "# gridCV.best_score_\n",
    "# {'max_depth': 7, 'min_samples_split': 8, 'n_estimators': 51}\n",
    "# 0.022138409188979198"
   ]
  },
  {
   "cell_type": "code",
   "execution_count": null,
   "metadata": {},
   "outputs": [],
   "source": []
  }
 ],
 "metadata": {
  "kernelspec": {
   "display_name": "Python 3",
   "language": "python",
   "name": "python3"
  },
  "language_info": {
   "codemirror_mode": {
    "name": "ipython",
    "version": 3
   },
   "file_extension": ".py",
   "mimetype": "text/x-python",
   "name": "python",
   "nbconvert_exporter": "python",
   "pygments_lexer": "ipython3",
   "version": "3.7.7"
  }
 },
 "nbformat": 4,
 "nbformat_minor": 4
}
