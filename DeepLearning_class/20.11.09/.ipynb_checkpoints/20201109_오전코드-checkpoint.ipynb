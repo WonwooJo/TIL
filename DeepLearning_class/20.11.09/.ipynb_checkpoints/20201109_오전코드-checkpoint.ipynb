{
 "cells": [
  {
   "cell_type": "code",
   "execution_count": 1,
   "metadata": {},
   "outputs": [],
   "source": [
    "import numpy as np\n",
    "import urllib.request"
   ]
  },
  {
   "cell_type": "code",
   "execution_count": 2,
   "metadata": {},
   "outputs": [],
   "source": [
    "urllib.request.urlretrieve(\"http://www.gutenberg.org/files/6130/6130-0.txt\", filename=\"lliad.txt\")\n",
    "f = open('lliad.txt', 'rb')\n",
    "lines=[]\n",
    "for line in f:\n",
    "    line=line.lower() \n",
    "    line=line.decode('ascii', 'ignore') #아스키코드의 범위를 벗어난 특수문자 제거\n",
    "    if len(line) > 0:\n",
    "        lines.append(line)\n",
    "f.close()\n"
   ]
  },
  {
   "cell_type": "code",
   "execution_count": 3,
   "metadata": {},
   "outputs": [
    {
     "data": {
      "text/plain": [
       "['the project gutenberg ebook of the iliad, by homer\\r\\n',\n",
       " '\\r\\n',\n",
       " 'this ebook is for the use of anyone anywhere in the united states and most\\r\\n',\n",
       " 'other parts of the world at no cost and with almost no restrictions\\r\\n',\n",
       " 'whatsoever.  you may copy it, give it away or re-use it under the terms of\\r\\n',\n",
       " 'the project gutenberg license included with this ebook or online at\\r\\n',\n",
       " \"www.gutenberg.org.  if you are not located in the united states, you'll have\\r\\n\",\n",
       " 'to check the laws of the country where you are located before using this ebook.\\r\\n',\n",
       " '\\r\\n',\n",
       " 'title: the iliad\\r\\n']"
      ]
     },
     "execution_count": 3,
     "metadata": {},
     "output_type": "execute_result"
    }
   ],
   "source": [
    "lines[:10]"
   ]
  },
  {
   "cell_type": "code",
   "execution_count": 4,
   "metadata": {},
   "outputs": [
    {
     "name": "stdout",
     "output_type": "stream",
     "text": [
      "1160564\n"
     ]
    }
   ],
   "source": [
    "text=\" \".join(lines)\n",
    "print(len(text)) #글자 개수"
   ]
  },
  {
   "cell_type": "code",
   "execution_count": 8,
   "metadata": {},
   "outputs": [
    {
     "data": {
      "text/plain": [
       "60"
      ]
     },
     "execution_count": 8,
     "metadata": {},
     "output_type": "execute_result"
    }
   ],
   "source": [
    "len(sorted(list(set(text))))"
   ]
  },
  {
   "cell_type": "code",
   "execution_count": 10,
   "metadata": {},
   "outputs": [
    {
     "data": {
      "text/plain": [
       "(1, 5, 1)"
      ]
     },
     "execution_count": 10,
     "metadata": {},
     "output_type": "execute_result"
    }
   ],
   "source": [
    "x.shape #input_shape(batch_shape) : (1, 5, 1)\n",
    "#(데이터(샘플)개수, 시간차원(time step size), LSTM셀에 입력되는 데이터의(feature) 개수)"
   ]
  },
  {
   "cell_type": "code",
   "execution_count": 9,
   "metadata": {},
   "outputs": [
    {
     "name": "stdout",
     "output_type": "stream",
     "text": [
      "Model: \"functional_1\"\n",
      "_________________________________________________________________\n",
      "Layer (type)                 Output Shape              Param #   \n",
      "=================================================================\n",
      "input_1 (InputLayer)         [(None, 5, 1)]            0         \n",
      "_________________________________________________________________\n",
      "lstm (LSTM)                  (None, 3)                 60        \n",
      "_________________________________________________________________\n",
      "dense (Dense)                (None, 1)                 4         \n",
      "=================================================================\n",
      "Total params: 64\n",
      "Trainable params: 64\n",
      "Non-trainable params: 0\n",
      "_________________________________________________________________\n",
      "None\n"
     ]
    },
    {
     "data": {
      "text/plain": [
       "array([[0.75192267]], dtype=float32)"
      ]
     },
     "execution_count": 9,
     "metadata": {},
     "output_type": "execute_result"
    }
   ],
   "source": [
    "from keras.models import Model\n",
    "from keras.layers import Input, Dense, LSTM\n",
    "import numpy as np\n",
    "\n",
    "\n",
    "x = np.array([[[1.], [2.], [3.], [4.], [5.]]])\n",
    "y = np.array([[6.]])\n",
    "\n",
    "\n",
    "xInput = Input(batch_shape=(None, 5, 1))\n",
    "xLstm = LSTM(3)(xInput)\n",
    "xOutput = Dense(1)(xLstm)\n",
    "\n",
    "\n",
    "model = Model(xInput, xOutput)\n",
    "model.compile(loss='mean_squared_error', optimizer='adam')\n",
    "\n",
    "print(model.summary())\n",
    "\n",
    "\n",
    "model.fit(x, y, epochs=50, batch_size=1, verbose=0)\n",
    "model.predict(x, batch_size=1)"
   ]
  },
  {
   "cell_type": "code",
   "execution_count": null,
   "metadata": {},
   "outputs": [],
   "source": []
  },
  {
   "cell_type": "code",
   "execution_count": 37,
   "metadata": {},
   "outputs": [],
   "source": [
    "from keras.datasets import reuters"
   ]
  },
  {
   "cell_type": "code",
   "execution_count": 38,
   "metadata": {},
   "outputs": [],
   "source": [
    "(xTrain, yTrain), (xTest, yTest)=\n",
    "reuters.load_data(num_words=1000, test_split=0.2)"
   ]
  },
  {
   "cell_type": "code",
   "execution_count": 43,
   "metadata": {},
   "outputs": [
    {
     "name": "stdout",
     "output_type": "stream",
     "text": [
      "[1, 2, 2, 8, 43, 10, 447, 5, 25, 207, 270, 5, 2, 111, 16, 369, 186, 90, 67, 7, 89, 5, 19, 102, 6, 19, 124, 15, 90, 67, 84, 22, 482, 26, 7, 48, 4, 49, 8, 864, 39, 209, 154, 6, 151, 6, 83, 11, 15, 22, 155, 11, 15, 7, 48, 9, 2, 2, 504, 6, 258, 6, 272, 11, 15, 22, 134, 44, 11, 15, 16, 8, 197, 2, 90, 67, 52, 29, 209, 30, 32, 132, 6, 109, 15, 17, 12]\n",
      "3\n"
     ]
    }
   ],
   "source": [
    "print(xTrain[0]) #첫번째 로이터 통신사 뉴스 데이터\n",
    "print(yTrain[0]) #3 (뉴스 카테고리)\n",
    "import numpy as np"
   ]
  },
  {
   "cell_type": "code",
   "execution_count": 47,
   "metadata": {},
   "outputs": [],
   "source": [
    "np.min(yTrain)  #0\n",
    "np.max(yTrain)  #45\n",
    "category=np.max(yTrain)+1 #뉴스 카테고리 전체 개수 : 46 개"
   ]
  },
  {
   "cell_type": "code",
   "execution_count": 50,
   "metadata": {},
   "outputs": [
    {
     "data": {
      "text/plain": [
       "2246"
      ]
     },
     "execution_count": 50,
     "metadata": {},
     "output_type": "execute_result"
    }
   ],
   "source": [
    "len(xTrain) #8982개 뉴스 기사(학습)\n",
    "len(xTest) #2246개 뉴스 기사(테스트)"
   ]
  },
  {
   "cell_type": "code",
   "execution_count": 53,
   "metadata": {},
   "outputs": [
    {
     "data": {
      "text/plain": [
       "105"
      ]
     },
     "execution_count": 53,
     "metadata": {},
     "output_type": "execute_result"
    }
   ],
   "source": [
    "len(xTrain[8981])"
   ]
  },
  {
   "cell_type": "code",
   "execution_count": 55,
   "metadata": {},
   "outputs": [],
   "source": [
    "from keras.preprocessing import sequence"
   ]
  },
  {
   "cell_type": "code",
   "execution_count": 58,
   "metadata": {},
   "outputs": [],
   "source": [
    "xTrain=sequence.pad_sequences(xTrain,maxlen=100)\n",
    "xTest=sequence.pad_sequences(xTest,maxlen=100)"
   ]
  },
  {
   "cell_type": "code",
   "execution_count": 60,
   "metadata": {},
   "outputs": [],
   "source": [
    "#xTrain[0]"
   ]
  },
  {
   "cell_type": "code",
   "execution_count": 61,
   "metadata": {},
   "outputs": [],
   "source": [
    "from keras.utils import to_categorical"
   ]
  },
  {
   "cell_type": "code",
   "execution_count": 62,
   "metadata": {},
   "outputs": [],
   "source": [
    "yTrain=to_categorical(yTrain) # 0 1 2 3 4 5 ...45   0+1=>1(?????????????????????)\n",
    "yTest=to_categorical(yTest)"
   ]
  },
  {
   "cell_type": "code",
   "execution_count": 63,
   "metadata": {},
   "outputs": [
    {
     "data": {
      "text/plain": [
       "array([0., 0., 0., 1., 0., 0., 0., 0., 0., 0., 0., 0., 0., 0., 0., 0., 0.,\n",
       "       0., 0., 0., 0., 0., 0., 0., 0., 0., 0., 0., 0., 0., 0., 0., 0., 0.,\n",
       "       0., 0., 0., 0., 0., 0., 0., 0., 0., 0., 0., 0.], dtype=float32)"
      ]
     },
     "execution_count": 63,
     "metadata": {},
     "output_type": "execute_result"
    }
   ],
   "source": [
    "yTrain[0]"
   ]
  },
  {
   "cell_type": "code",
   "execution_count": 64,
   "metadata": {},
   "outputs": [
    {
     "data": {
      "text/plain": [
       "100"
      ]
     },
     "execution_count": 64,
     "metadata": {},
     "output_type": "execute_result"
    }
   ],
   "source": [
    "len(xTrain[0])"
   ]
  },
  {
   "cell_type": "code",
   "execution_count": null,
   "metadata": {},
   "outputs": [],
   "source": [
    "# dtm\n",
    "#               단어1 ... 단어1000\n",
    "# 기사1           5   0  0  1  2  \n",
    "# ...\n",
    "# 기사11200"
   ]
  },
  {
   "cell_type": "code",
   "execution_count": 69,
   "metadata": {},
   "outputs": [],
   "source": [
    "model=Sequential()"
   ]
  },
  {
   "cell_type": "code",
   "execution_count": 70,
   "metadata": {},
   "outputs": [],
   "source": [
    "from keras.layers import Embedding, LSTM, Dense\n",
    "model.add(Embedding(1000, 100)) #[001000000...00000] => [0.2 0.5 -0.1 ... 0.7]\n",
    "#Embedding(불러온 단어의 총 개수, 축소된 차원)\n",
    "model.add(LSTM(100, activation='tanh'))\n",
    "model.add(Dense(46, activation='softmax'))"
   ]
  },
  {
   "cell_type": "code",
   "execution_count": 71,
   "metadata": {},
   "outputs": [],
   "source": [
    "model.compile(loss='categorical_crossentropy',\n",
    "             optimizer='adam',\n",
    "             metrics=['accuracy'])"
   ]
  },
  {
   "cell_type": "code",
   "execution_count": null,
   "metadata": {},
   "outputs": [
    {
     "name": "stdout",
     "output_type": "stream",
     "text": [
      "Epoch 1/30\n",
      "90/90 [==============================] - 34s 381ms/step - loss: 2.5946 - accuracy: 0.3494 - val_loss: 2.2853 - val_accuracy: 0.4920\n",
      "Epoch 2/30\n",
      "90/90 [==============================] - 28s 315ms/step - loss: 2.1039 - accuracy: 0.4800 - val_loss: 1.9866 - val_accuracy: 0.5098\n",
      "Epoch 3/30\n",
      "90/90 [==============================] - 27s 301ms/step - loss: 1.9367 - accuracy: 0.5116 - val_loss: 2.0975 - val_accuracy: 0.5040\n",
      "Epoch 4/30\n",
      "90/90 [==============================] - 27s 299ms/step - loss: 1.8669 - accuracy: 0.5328 - val_loss: 1.7690 - val_accuracy: 0.5583\n",
      "Epoch 5/30\n",
      "90/90 [==============================] - 27s 298ms/step - loss: 1.6816 - accuracy: 0.5723 - val_loss: 1.6917 - val_accuracy: 0.5801\n",
      "Epoch 6/30\n",
      "90/90 [==============================] - 29s 325ms/step - loss: 1.5970 - accuracy: 0.5949 - val_loss: 1.6464 - val_accuracy: 0.5886\n",
      "Epoch 7/30\n",
      "90/90 [==============================] - 28s 314ms/step - loss: 1.5242 - accuracy: 0.6104 - val_loss: 1.5614 - val_accuracy: 0.6091\n",
      "Epoch 8/30\n",
      "90/90 [==============================] - 27s 302ms/step - loss: 1.4649 - accuracy: 0.6236 - val_loss: 1.5410 - val_accuracy: 0.6118\n",
      "Epoch 9/30\n",
      "90/90 [==============================] - 27s 303ms/step - loss: 1.4143 - accuracy: 0.6404 - val_loss: 1.5291 - val_accuracy: 0.6077\n",
      "Epoch 10/30\n",
      "90/90 [==============================] - 27s 302ms/step - loss: 1.3750 - accuracy: 0.6520 - val_loss: 1.4654 - val_accuracy: 0.6256\n",
      "Epoch 11/30\n",
      "74/90 [=======================>......] - ETA: 4s - loss: 1.4402 - accuracy: 0.6436"
     ]
    }
   ],
   "source": [
    "history=model.fit(xTrain, yTrain, batch_size=100, \n",
    "          epochs=30, validation_data=(xTest, yTest))"
   ]
  },
  {
   "cell_type": "code",
   "execution_count": null,
   "metadata": {},
   "outputs": [],
   "source": [
    "print(model.evaluate(xTest, yTest))"
   ]
  },
  {
   "cell_type": "code",
   "execution_count": null,
   "metadata": {},
   "outputs": [],
   "source": []
  },
  {
   "cell_type": "code",
   "execution_count": null,
   "metadata": {},
   "outputs": [],
   "source": []
  }
 ],
 "metadata": {
  "kernelspec": {
   "display_name": "Python 3",
   "language": "python",
   "name": "python3"
  },
  "language_info": {
   "codemirror_mode": {
    "name": "ipython",
    "version": 3
   },
   "file_extension": ".py",
   "mimetype": "text/x-python",
   "name": "python",
   "nbconvert_exporter": "python",
   "pygments_lexer": "ipython3",
   "version": "3.7.7"
  }
 },
 "nbformat": 4,
 "nbformat_minor": 4
}
