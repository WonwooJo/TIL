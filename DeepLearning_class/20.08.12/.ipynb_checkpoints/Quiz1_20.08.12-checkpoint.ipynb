{
 "cells": [
  {
   "cell_type": "markdown",
   "metadata": {},
   "source": [
    "### 보배드림 데이터 프레임 >> 저장\n",
    "#### - 차량명 인승 마력 연식 연료 주행거리 가격\n",
    "##### - https://www.bobaedream.co.kr/cyber/CyberCar.php?gubun=K&page=1&order=S11&view_size=50\n",
    "#### - 100대\n"
   ]
  },
  {
   "cell_type": "code",
   "execution_count": null,
   "metadata": {},
   "outputs": [],
   "source": [
    "#### 차량명                     인승  마력   연식    연료  주행거리  가격\n",
    "#### 현대그랜져 HG300 LPG 모던   5     235  15/11    LPG   20만km  880 만원"
   ]
  },
  {
   "cell_type": "code",
   "execution_count": null,
   "metadata": {},
   "outputs": [],
   "source": [
    "from selenium import webdriver\n",
    "from bs4 import BeautifulSoup\n",
    "from tqdm import tqdm_notebook\n",
    "import time\n",
    "driver = webdriver.Chrome('c:/mychrome/chromedriver.exe') "
   ]
  },
  {
   "cell_type": "code",
   "execution_count": null,
   "metadata": {},
   "outputs": [],
   "source": [
    "for i in range(1,11):\n",
    "    url = 'https://www.bobaedream.co.kr/cyber/CyberCar.php?gubun=K&page={}&order=S11&view_size=50'.format(i)\n",
    "    tqdm_notebook()\n",
    "        # 검색 페이지로 이동\n",
    "        driver.get(url)\n",
    "        # 페이지가 완전히 로딩될 때까지 소요되는 시간 3초로 가정.\n",
    "        time.sleep(3) # 실제 페이지를 완전히 읽을 때 까지 걸리는 시간을 고려해서 진행 바람.\n",
    "\n",
    "        # 현재 페이지 html문서 가져오기\n",
    "        html = driver.page_source\n",
    "        soup = BeautifulSoup(html, 'html.parser')\n",
    "\n",
    "        # 상품 정보 추출\n",
    "        prod_titles = soup.select('p.tit ellipsis > a')\n",
    "        prod_people = soup.select('dd.data-item > a')\n",
    "        prod_force = soup.select('div.mode-cell.title > dl > dd:nth-child(4)')\n",
    "        prod_year = soup.select('div.mode-cell.year > span')\n",
    "        prod_fuel = soup.select('div.mode-cell.fuel > span')\n",
    "        prod_distance = soup.select('div.mode-cell.km > span')\n",
    "        prod_price = soup.select('strong.price-whole.cr')\n",
    "\n",
    "    \n",
    "    \n",
    "    \n",
    "    "
   ]
  },
  {
   "cell_type": "code",
   "execution_count": null,
   "metadata": {},
   "outputs": [],
   "source": []
  },
  {
   "cell_type": "code",
   "execution_count": null,
   "metadata": {},
   "outputs": [],
   "source": []
  },
  {
   "cell_type": "code",
   "execution_count": null,
   "metadata": {},
   "outputs": [],
   "source": []
  }
 ],
 "metadata": {
  "kernelspec": {
   "display_name": "Python 3",
   "language": "python",
   "name": "python3"
  },
  "language_info": {
   "codemirror_mode": {
    "name": "ipython",
    "version": 3
   },
   "file_extension": ".py",
   "mimetype": "text/x-python",
   "name": "python",
   "nbconvert_exporter": "python",
   "pygments_lexer": "ipython3",
   "version": "3.8.3"
  }
 },
 "nbformat": 4,
 "nbformat_minor": 4
}
