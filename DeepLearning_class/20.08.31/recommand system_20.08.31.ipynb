{
 "cells": [
  {
   "cell_type": "code",
   "execution_count": 1,
   "metadata": {},
   "outputs": [],
   "source": [
    "# Collaborative Filtering(협업 필터링) -> 추천시스템\n",
    "# 협업필터링 알고리즘을 기반으로 추천시스템 제작\n",
    "# 두 사람 간 유사도를 기반. -> 예상 평점\n",
    "# user-based 협업 필터링: 사용자 기반 협업필터링\n",
    "# item-based 협업 필터링: 아이템 기반 협업필터링\n",
    "# hybrid-based 협업필터링: 하이브리드 기반 협업필터링\n",
    "\n"
   ]
  },
  {
   "cell_type": "code",
   "execution_count": 6,
   "metadata": {},
   "outputs": [
    {
     "data": {
      "text/plain": [
       "2"
      ]
     },
     "execution_count": 6,
     "metadata": {},
     "output_type": "execute_result"
    }
   ],
   "source": [
    "critics={\n",
    "\n",
    "    'BTS':{'암수살인':5, '바울':4, '할로윈':1.5},\n",
    "\n",
    "    '손흥민':{'바울':5, '할로윈':2},\n",
    "\n",
    "    '레드벨벳':{'암수살인':2.5, '바울':2, '할로윈':1},\n",
    "\n",
    "    '트와이스':{'암수살인':3.5, '바울':4, '할로윈':5}}\n",
    "\n",
    "critics['손흥민']['할로윈']\n",
    "# critics.get('손흥민')"
   ]
  },
  {
   "cell_type": "code",
   "execution_count": 17,
   "metadata": {},
   "outputs": [],
   "source": [
    "import math\n",
    "def sim(i,j):\n",
    "    return math.sqrt(pow(i,2)+pow(j,2))"
   ]
  },
  {
   "cell_type": "code",
   "execution_count": 18,
   "metadata": {},
   "outputs": [
    {
     "data": {
      "text/plain": [
       "11.788289044567353"
      ]
     },
     "execution_count": 18,
     "metadata": {},
     "output_type": "execute_result"
    }
   ],
   "source": [
    "sim(5,4)+sim(2,5)"
   ]
  },
  {
   "cell_type": "code",
   "execution_count": 25,
   "metadata": {},
   "outputs": [
    {
     "name": "stdout",
     "output_type": "stream",
     "text": [
      "3.1622776601683795\n"
     ]
    }
   ],
   "source": [
    "var1 = critics.get('손흥민').get('바울') - critics.get('트와이스').get('바울')\n",
    "var2 = critics.get('손흥민').get('할로윈') - critics.get('트와이스').get('할로윈')\n",
    "print(sim(var1, var2))"
   ]
  },
  {
   "cell_type": "code",
   "execution_count": 36,
   "metadata": {},
   "outputs": [
    {
     "name": "stdout",
     "output_type": "stream",
     "text": [
      "손흥민과 BTS의 거리: 0.4721359549995794\n",
      "손흥민과 레드벨벳의 거리: 0.2402530733520421\n",
      "손흥민과 트와이스의 거리: 0.2402530733520421\n"
     ]
    }
   ],
   "source": [
    "for i in critics:\n",
    "    if i != '손흥민':\n",
    "        var1 = critics.get('손흥민').get('바울') - critics.get(i).get('바울')\n",
    "        var2 = critics.get('손흥민').get('할로윈') - critics.get(i).get('할로윈')\n",
    "        print('손흥민과 {}의 거리: {}'.format(i, 1/(sim(var1, var2)+1)))\n",
    "        "
   ]
  },
  {
   "cell_type": "code",
   "execution_count": null,
   "metadata": {},
   "outputs": [],
   "source": [
    "# 정규화: 각 열을 기준으로 각 열 데이터의 값을 0~1 사이로 오도록 하는 작업\n",
    "# 정규화 = (각 열 데이터 - 각 열 최솟값) / (각 열 최댓값 - 각 열 최솟값)\n"
   ]
  }
 ],
 "metadata": {
  "kernelspec": {
   "display_name": "Python 3",
   "language": "python",
   "name": "python3"
  },
  "language_info": {
   "codemirror_mode": {
    "name": "ipython",
    "version": 3
   },
   "file_extension": ".py",
   "mimetype": "text/x-python",
   "name": "python",
   "nbconvert_exporter": "python",
   "pygments_lexer": "ipython3",
   "version": "3.7.7"
  }
 },
 "nbformat": 4,
 "nbformat_minor": 4
}
