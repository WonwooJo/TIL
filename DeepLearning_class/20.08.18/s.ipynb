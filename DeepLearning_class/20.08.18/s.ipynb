{
 "cells": [
  {
   "cell_type": "markdown",
   "metadata": {},
   "source": [
    "1. 동네예보에서 각 항목별 데이터 스크래핑\n",
    "- 기온\n",
    "- 체감온도\n",
    "- 바람\n",
    "- 습도\n",
    "- 강수확률\n",
    "=> array or dataframe 구성\n",
    "1) 최고 / 최저 기온 출력\n",
    "2) 체감온도 평균 출력\n",
    "3) 바람이 가장 많이 부는 방향은?\n",
    "4) '맑음'에 해당되는 날씨가 가장 오랜 기간동안\n",
    "지속되는 시각을 출력\n",
    "ex) 8월18일(화) 18시~8월19일(수) 24시\n",
    "\n",
    "2. 중기예보에서 각 항목별 데이터 스크래핑\n",
    "- 강수확률 평균\n",
    "https://www.weather.go.kr/weather/main.jsp#midterm-forecast"
   ]
  },
  {
   "cell_type": "code",
   "execution_count": 27,
   "metadata": {},
   "outputs": [],
   "source": [
    "from selenium import webdriver\n",
    "from bs4 import BeautifulSoup\n",
    "import pandas as pd\n",
    "import time"
   ]
  },
  {
   "cell_type": "code",
   "execution_count": 28,
   "metadata": {},
   "outputs": [],
   "source": [
    "browser = webdriver.Chrome(\"C:/mychrome/chromedriver.exe\")\n",
    "url = 'https://www.weather.go.kr/weather/main.jsp#midterm-forecast'\n",
    "browser.get(url)\n",
    "html = browser.page_source"
   ]
  },
  {
   "cell_type": "code",
   "execution_count": 29,
   "metadata": {},
   "outputs": [
    {
     "data": {
      "text/plain": [
       "[]"
      ]
     },
     "execution_count": 29,
     "metadata": {},
     "output_type": "execute_result"
    }
   ],
   "source": [
    "soup = BeautifulSoup(html,'html.parser')\n",
    "soup.select(\"#weather-home-dong-forecast > div.tab01 > div.in-wid > ul:nth-child(5)\")"
   ]
  },
  {
   "cell_type": "code",
   "execution_count": null,
   "metadata": {},
   "outputs": [],
   "source": []
  },
  {
   "cell_type": "code",
   "execution_count": null,
   "metadata": {},
   "outputs": [],
   "source": []
  }
 ],
 "metadata": {
  "kernelspec": {
   "display_name": "Python 3",
   "language": "python",
   "name": "python3"
  },
  "language_info": {
   "codemirror_mode": {
    "name": "ipython",
    "version": 3
   },
   "file_extension": ".py",
   "mimetype": "text/x-python",
   "name": "python",
   "nbconvert_exporter": "python",
   "pygments_lexer": "ipython3",
   "version": "3.8.3"
  }
 },
 "nbformat": 4,
 "nbformat_minor": 4
}
