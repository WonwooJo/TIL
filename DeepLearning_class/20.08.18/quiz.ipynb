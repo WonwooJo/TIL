{
 "cells": [
  {
   "cell_type": "markdown",
   "metadata": {},
   "source": [
    "1. 동네예보에서 각 항목별 데이터 스크래핑\n",
    "- 기온\n",
    "- 체감온도\n",
    "- 바람\n",
    "- 습도\n",
    "- 강수확률\n",
    "=> array or dataframe 구성\n",
    "1) 최고 / 최저 기온 출력\n",
    "2) 체감온도 평균 출력\n",
    "3) 바람이 가장 많이 부는 방향은?\n",
    "4) '맑음'에 해당되는 날씨가 가장 오랜 기간동안\n",
    "지속되는 시각을 출력\n",
    "ex) 8월18일(화) 18시~8월19일(수) 24시\n",
    "\n",
    "2. 중기예보에서 각 항목별 데이터 스크래핑\n",
    "- 강수확률 평균\n",
    "https://www.weather.go.kr/weather/main.jsp#midterm-forecast"
   ]
  },
  {
   "cell_type": "code",
   "execution_count": 3,
   "metadata": {},
   "outputs": [],
   "source": [
    "from selenium import webdriver\n",
    "import urllib.parse as up"
   ]
  },
  {
   "cell_type": "code",
   "execution_count": 5,
   "metadata": {},
   "outputs": [],
   "source": [
    "driver=webdriver.Chrome(\"C:/mychrome/chromedriver.exe\")\n",
    "url=\"https://www.weather.go.kr/weather/main.jsp#midterm-forecast\""
   ]
  },
  {
   "cell_type": "code",
   "execution_count": 6,
   "metadata": {},
   "outputs": [],
   "source": [
    "driver.get(url)"
   ]
  },
  {
   "cell_type": "code",
   "execution_count": 7,
   "metadata": {},
   "outputs": [],
   "source": [
    "from bs4 import BeautifulSoup\n",
    "html=driver.page_source\n",
    "soup=BeautifulSoup(html, \"html.parser\")"
   ]
  },
  {
   "cell_type": "code",
   "execution_count": 64,
   "metadata": {},
   "outputs": [
    {
     "data": {
      "text/plain": [
       "array([['25'],\n",
       "       ['26'],\n",
       "       ['26'],\n",
       "       ['27'],\n",
       "       ['30'],\n",
       "       ['32'],\n",
       "       ['28'],\n",
       "       ['26'],\n",
       "       ['25'],\n",
       "       ['25'],\n",
       "       ['25'],\n",
       "       ['27'],\n",
       "       ['31'],\n",
       "       ['32'],\n",
       "       ['29'],\n",
       "       ['26'],\n",
       "       ['25']], dtype='<U2')"
      ]
     },
     "execution_count": 64,
     "metadata": {},
     "output_type": "execute_result"
    }
   ],
   "source": [
    "import numpy as np\n",
    "temp = soup.select(\"#weather-home-dong-forecast > div.tab01 > div.in-wid > ul:nth-child(5)\")[0].text.strip().split('\\n')\n",
    "tempList = []\n",
    "for i in temp:\n",
    "    j = i.replace('℃','')\n",
    "    tempList.append(j)\n",
    "\n",
    "tempList = np.array(tempList).reshape(17,1)\n",
    "tempList"
   ]
  },
  {
   "cell_type": "code",
   "execution_count": 79,
   "metadata": {},
   "outputs": [
    {
     "data": {
      "text/plain": [
       "array([['29'],\n",
       "       ['30'],\n",
       "       ['30'],\n",
       "       ['30'],\n",
       "       ['32'],\n",
       "       ['33'],\n",
       "       ['30'],\n",
       "       ['29'],\n",
       "       ['29'],\n",
       "       ['29'],\n",
       "       ['29'],\n",
       "       ['30'],\n",
       "       ['33'],\n",
       "       ['33'],\n",
       "       ['31'],\n",
       "       ['29'],\n",
       "       ['29']], dtype='<U2')"
      ]
     },
     "execution_count": 79,
     "metadata": {},
     "output_type": "execute_result"
    }
   ],
   "source": [
    "bodyTempList = []\n",
    "bodyTemp = soup.select(\"#weather-home-dong-forecast > div.tab01 > div.in-wid > ul:nth-child(6)\")[0].text.strip().split('\\n')\n",
    "for i in bodyTemp:\n",
    "    j = i.replace('℃','').replace('(','').replace(')','')\n",
    "    bodyTempList.append(j)\n",
    "\n",
    "bodyTempList = np.array(bodyTempList).reshape(17,1)\n",
    "bodyTempList"
   ]
  },
  {
   "cell_type": "code",
   "execution_count": 81,
   "metadata": {},
   "outputs": [
    {
     "data": {
      "text/plain": [
       "array([['4'],\n",
       "       ['4'],\n",
       "       ['4'],\n",
       "       ['7'],\n",
       "       ['7'],\n",
       "       ['7'],\n",
       "       ['7'],\n",
       "       ['4'],\n",
       "       ['4'],\n",
       "       ['4'],\n",
       "       ['4'],\n",
       "       ['4'],\n",
       "       ['4'],\n",
       "       ['7'],\n",
       "       ['7'],\n",
       "       ['4'],\n",
       "       ['4']], dtype='<U1')"
      ]
     },
     "execution_count": 81,
     "metadata": {},
     "output_type": "execute_result"
    }
   ],
   "source": [
    "windList = []\n",
    "wind = soup.select(\"#weather-home-dong-forecast > div.tab01 > div.in-wid > ul:nth-child(7)\")[0].text.strip().split('\\n')\n",
    "for i in wind:\n",
    "    j = i.replace('km/h','')\n",
    "    windList.append(j)\n",
    "windList = np.array(windList).reshape(17,1)\n",
    "windList"
   ]
  },
  {
   "cell_type": "code",
   "execution_count": 82,
   "metadata": {},
   "outputs": [
    {
     "data": {
      "text/plain": [
       "array([['95'],\n",
       "       ['95'],\n",
       "       ['95'],\n",
       "       ['80'],\n",
       "       ['70'],\n",
       "       ['65'],\n",
       "       ['70'],\n",
       "       ['90'],\n",
       "       ['95'],\n",
       "       ['95'],\n",
       "       ['95'],\n",
       "       ['90'],\n",
       "       ['75'],\n",
       "       ['65'],\n",
       "       ['70'],\n",
       "       ['85'],\n",
       "       ['95']], dtype='<U2')"
      ]
     },
     "execution_count": 82,
     "metadata": {},
     "output_type": "execute_result"
    }
   ],
   "source": [
    "humidityList = []\n",
    "humidity = soup.select(\"#weather-home-dong-forecast > div.tab01 > div.in-wid > ul:nth-child(8)\")[0].text.strip().split('\\n')\n",
    "for i in humidity:\n",
    "    j = i.replace('%','')\n",
    "    humidityList.append(j)\n",
    "    \n",
    "humidityList = np.array(humidityList).reshape(17,1)\n",
    "humidityList"
   ]
  },
  {
   "cell_type": "code",
   "execution_count": 90,
   "metadata": {},
   "outputs": [
    {
     "data": {
      "text/plain": [
       "array([['0'],\n",
       "       ['0'],\n",
       "       ['0'],\n",
       "       ['0'],\n",
       "       ['0'],\n",
       "       ['0'],\n",
       "       ['0'],\n",
       "       ['0'],\n",
       "       ['0'],\n",
       "       ['0'],\n",
       "       ['0'],\n",
       "       ['0'],\n",
       "       ['0'],\n",
       "       ['0'],\n",
       "       ['0'],\n",
       "       ['0'],\n",
       "       ['0']], dtype='<U1')"
      ]
     },
     "execution_count": 90,
     "metadata": {},
     "output_type": "execute_result"
    }
   ],
   "source": [
    "rainList = []\n",
    "rain = soup.select(\"#weather-home-dong-forecast > div.tab01 > div.in-wid > ul:nth-child(10)\")[0].text.strip().split('\\n')\n",
    "for i in rain:\n",
    "    j = i.replace('%','')\n",
    "    rainList.append(j)\n",
    "\n",
    "rainList = np.array(rainList).reshape(16,1)\n",
    "rainList = np.vstack((rainList,'0'))\n",
    "rainList\n",
    "\n"
   ]
  },
  {
   "cell_type": "code",
   "execution_count": 92,
   "metadata": {},
   "outputs": [
    {
     "data": {
      "text/plain": [
       "array([['25', '29', '4', '95', '0'],\n",
       "       ['26', '30', '4', '95', '0'],\n",
       "       ['26', '30', '4', '95', '0'],\n",
       "       ['27', '30', '7', '80', '0'],\n",
       "       ['30', '32', '7', '70', '0'],\n",
       "       ['32', '33', '7', '65', '0'],\n",
       "       ['28', '30', '7', '70', '0'],\n",
       "       ['26', '29', '4', '90', '0'],\n",
       "       ['25', '29', '4', '95', '0'],\n",
       "       ['25', '29', '4', '95', '0'],\n",
       "       ['25', '29', '4', '95', '0'],\n",
       "       ['27', '30', '4', '90', '0'],\n",
       "       ['31', '33', '4', '75', '0'],\n",
       "       ['32', '33', '7', '65', '0'],\n",
       "       ['29', '31', '7', '70', '0'],\n",
       "       ['26', '29', '4', '85', '0'],\n",
       "       ['25', '29', '4', '95', '0']], dtype='<U2')"
      ]
     },
     "execution_count": 92,
     "metadata": {},
     "output_type": "execute_result"
    }
   ],
   "source": [
    "import pandas as pd\n",
    "total_data = np.column_stack((tempList, bodyTempList, windList, humidityList, rainList))\n",
    "total_data"
   ]
  },
  {
   "cell_type": "code",
   "execution_count": 98,
   "metadata": {},
   "outputs": [],
   "source": [
    "columns = ['온도','체감온도','풍속','습도','강수확률']\n",
    "data = pd.DataFrame(total_data, columns = columns)"
   ]
  },
  {
   "cell_type": "code",
   "execution_count": 96,
   "metadata": {},
   "outputs": [
    {
     "data": {
      "text/html": [
       "<div>\n",
       "<style scoped>\n",
       "    .dataframe tbody tr th:only-of-type {\n",
       "        vertical-align: middle;\n",
       "    }\n",
       "\n",
       "    .dataframe tbody tr th {\n",
       "        vertical-align: top;\n",
       "    }\n",
       "\n",
       "    .dataframe thead th {\n",
       "        text-align: right;\n",
       "    }\n",
       "</style>\n",
       "<table border=\"1\" class=\"dataframe\">\n",
       "  <thead>\n",
       "    <tr style=\"text-align: right;\">\n",
       "      <th></th>\n",
       "      <th>온도</th>\n",
       "      <th>체감온도</th>\n",
       "      <th>풍속</th>\n",
       "      <th>습도</th>\n",
       "      <th>강수확률</th>\n",
       "    </tr>\n",
       "  </thead>\n",
       "  <tbody>\n",
       "    <tr>\n",
       "      <th>0</th>\n",
       "      <td>25</td>\n",
       "      <td>29</td>\n",
       "      <td>4</td>\n",
       "      <td>95</td>\n",
       "      <td>0</td>\n",
       "    </tr>\n",
       "    <tr>\n",
       "      <th>1</th>\n",
       "      <td>26</td>\n",
       "      <td>30</td>\n",
       "      <td>4</td>\n",
       "      <td>95</td>\n",
       "      <td>0</td>\n",
       "    </tr>\n",
       "    <tr>\n",
       "      <th>2</th>\n",
       "      <td>26</td>\n",
       "      <td>30</td>\n",
       "      <td>4</td>\n",
       "      <td>95</td>\n",
       "      <td>0</td>\n",
       "    </tr>\n",
       "    <tr>\n",
       "      <th>3</th>\n",
       "      <td>27</td>\n",
       "      <td>30</td>\n",
       "      <td>7</td>\n",
       "      <td>80</td>\n",
       "      <td>0</td>\n",
       "    </tr>\n",
       "    <tr>\n",
       "      <th>4</th>\n",
       "      <td>30</td>\n",
       "      <td>32</td>\n",
       "      <td>7</td>\n",
       "      <td>70</td>\n",
       "      <td>0</td>\n",
       "    </tr>\n",
       "    <tr>\n",
       "      <th>5</th>\n",
       "      <td>32</td>\n",
       "      <td>33</td>\n",
       "      <td>7</td>\n",
       "      <td>65</td>\n",
       "      <td>0</td>\n",
       "    </tr>\n",
       "    <tr>\n",
       "      <th>6</th>\n",
       "      <td>28</td>\n",
       "      <td>30</td>\n",
       "      <td>7</td>\n",
       "      <td>70</td>\n",
       "      <td>0</td>\n",
       "    </tr>\n",
       "    <tr>\n",
       "      <th>7</th>\n",
       "      <td>26</td>\n",
       "      <td>29</td>\n",
       "      <td>4</td>\n",
       "      <td>90</td>\n",
       "      <td>0</td>\n",
       "    </tr>\n",
       "    <tr>\n",
       "      <th>8</th>\n",
       "      <td>25</td>\n",
       "      <td>29</td>\n",
       "      <td>4</td>\n",
       "      <td>95</td>\n",
       "      <td>0</td>\n",
       "    </tr>\n",
       "    <tr>\n",
       "      <th>9</th>\n",
       "      <td>25</td>\n",
       "      <td>29</td>\n",
       "      <td>4</td>\n",
       "      <td>95</td>\n",
       "      <td>0</td>\n",
       "    </tr>\n",
       "    <tr>\n",
       "      <th>10</th>\n",
       "      <td>25</td>\n",
       "      <td>29</td>\n",
       "      <td>4</td>\n",
       "      <td>95</td>\n",
       "      <td>0</td>\n",
       "    </tr>\n",
       "    <tr>\n",
       "      <th>11</th>\n",
       "      <td>27</td>\n",
       "      <td>30</td>\n",
       "      <td>4</td>\n",
       "      <td>90</td>\n",
       "      <td>0</td>\n",
       "    </tr>\n",
       "    <tr>\n",
       "      <th>12</th>\n",
       "      <td>31</td>\n",
       "      <td>33</td>\n",
       "      <td>4</td>\n",
       "      <td>75</td>\n",
       "      <td>0</td>\n",
       "    </tr>\n",
       "    <tr>\n",
       "      <th>13</th>\n",
       "      <td>32</td>\n",
       "      <td>33</td>\n",
       "      <td>7</td>\n",
       "      <td>65</td>\n",
       "      <td>0</td>\n",
       "    </tr>\n",
       "    <tr>\n",
       "      <th>14</th>\n",
       "      <td>29</td>\n",
       "      <td>31</td>\n",
       "      <td>7</td>\n",
       "      <td>70</td>\n",
       "      <td>0</td>\n",
       "    </tr>\n",
       "    <tr>\n",
       "      <th>15</th>\n",
       "      <td>26</td>\n",
       "      <td>29</td>\n",
       "      <td>4</td>\n",
       "      <td>85</td>\n",
       "      <td>0</td>\n",
       "    </tr>\n",
       "    <tr>\n",
       "      <th>16</th>\n",
       "      <td>25</td>\n",
       "      <td>29</td>\n",
       "      <td>4</td>\n",
       "      <td>95</td>\n",
       "      <td>0</td>\n",
       "    </tr>\n",
       "  </tbody>\n",
       "</table>\n",
       "</div>"
      ],
      "text/plain": [
       "    온도 체감온도 풍속  습도 강수확률\n",
       "0   25   29  4  95    0\n",
       "1   26   30  4  95    0\n",
       "2   26   30  4  95    0\n",
       "3   27   30  7  80    0\n",
       "4   30   32  7  70    0\n",
       "5   32   33  7  65    0\n",
       "6   28   30  7  70    0\n",
       "7   26   29  4  90    0\n",
       "8   25   29  4  95    0\n",
       "9   25   29  4  95    0\n",
       "10  25   29  4  95    0\n",
       "11  27   30  4  90    0\n",
       "12  31   33  4  75    0\n",
       "13  32   33  7  65    0\n",
       "14  29   31  7  70    0\n",
       "15  26   29  4  85    0\n",
       "16  25   29  4  95    0"
      ]
     },
     "execution_count": 96,
     "metadata": {},
     "output_type": "execute_result"
    }
   ],
   "source": [
    "data"
   ]
  },
  {
   "cell_type": "code",
   "execution_count": 99,
   "metadata": {},
   "outputs": [
    {
     "ename": "TypeError",
     "evalue": "Invalid datetime unit in metadata string \"[H]\"",
     "output_type": "error",
     "traceback": [
      "\u001b[1;31m---------------------------------------------------------------------------\u001b[0m",
      "\u001b[1;31mTypeError\u001b[0m                                 Traceback (most recent call last)",
      "\u001b[1;32m<ipython-input-99-0e985a379bd9>\u001b[0m in \u001b[0;36m<module>\u001b[1;34m\u001b[0m\n\u001b[1;32m----> 1\u001b[1;33m \u001b[0mnp\u001b[0m\u001b[1;33m.\u001b[0m\u001b[0marange\u001b[0m\u001b[1;33m(\u001b[0m\u001b[1;34m'2020-08-19-24:00'\u001b[0m\u001b[1;33m,\u001b[0m\u001b[1;34m'2020-08-20-24:00'\u001b[0m\u001b[1;33m,\u001b[0m \u001b[0mdtype\u001b[0m \u001b[1;33m=\u001b[0m \u001b[1;34m'datetime64[H]'\u001b[0m\u001b[1;33m)\u001b[0m\u001b[1;33m\u001b[0m\u001b[1;33m\u001b[0m\u001b[0m\n\u001b[0m",
      "\u001b[1;31mTypeError\u001b[0m: Invalid datetime unit in metadata string \"[H]\""
     ]
    }
   ],
   "source": []
  },
  {
   "cell_type": "code",
   "execution_count": null,
   "metadata": {},
   "outputs": [],
   "source": [
    "1) 최고 / 최저 기온 출력 \n",
    "2) 체감온도 평균 출력 \n",
    "3) 바람이 가장 많이 부는 방향은? \n",
    "4) '맑음'에 해당되는 날씨가 가장 오랜 기간동안 지속되는 시각을 출력 \n",
    "ex) 8월18일(화) 18시~8월19일(수) 24시"
   ]
  }
 ],
 "metadata": {
  "celltoolbar": "Raw Cell Format",
  "kernelspec": {
   "display_name": "Python 3",
   "language": "python",
   "name": "python3"
  },
  "language_info": {
   "codemirror_mode": {
    "name": "ipython",
    "version": 3
   },
   "file_extension": ".py",
   "mimetype": "text/x-python",
   "name": "python",
   "nbconvert_exporter": "python",
   "pygments_lexer": "ipython3",
   "version": "3.8.3"
  }
 },
 "nbformat": 4,
 "nbformat_minor": 4
}
