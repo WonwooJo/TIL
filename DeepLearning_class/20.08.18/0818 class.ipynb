{
 "cells": [
  {
   "cell_type": "markdown",
   "metadata": {},
   "source": [
    "https://numpy.org/doc/    <<--- 이거 항상 공부\n",
    "- NumPy 의 버전을 항상 확인해볼 필요가 있다."
   ]
  },
  {
   "cell_type": "code",
   "execution_count": 1,
   "metadata": {},
   "outputs": [],
   "source": [
    "import numpy as np"
   ]
  },
  {
   "cell_type": "code",
   "execution_count": 3,
   "metadata": {},
   "outputs": [
    {
     "data": {
      "text/plain": [
       "'1.18.5'"
      ]
     },
     "execution_count": 3,
     "metadata": {},
     "output_type": "execute_result"
    }
   ],
   "source": [
    "np.__version__"
   ]
  },
  {
   "cell_type": "code",
   "execution_count": 9,
   "metadata": {},
   "outputs": [
    {
     "name": "stdout",
     "output_type": "stream",
     "text": [
      "800 bytes\n"
     ]
    }
   ],
   "source": [
    "z=np.zeros((10,10))\n",
    "z.size # 요소 개수 10*10 = 100개\n",
    "z.itemsize # 8바이트\n",
    "print(\"%d bytes\" % (z.size * z.itemsize))"
   ]
  },
  {
   "cell_type": "code",
   "execution_count": 12,
   "metadata": {},
   "outputs": [
    {
     "data": {
      "text/plain": [
       "array([9, 8, 7, 6, 5, 4, 3, 2, 1, 0])"
      ]
     },
     "execution_count": 12,
     "metadata": {},
     "output_type": "execute_result"
    }
   ],
   "source": [
    "z=np.arange(10)\n",
    "z\n",
    "z[::-1]"
   ]
  },
  {
   "cell_type": "code",
   "execution_count": 14,
   "metadata": {},
   "outputs": [
    {
     "data": {
      "text/plain": [
       "(array([0, 1, 4], dtype=int64),)"
      ]
     },
     "execution_count": 14,
     "metadata": {},
     "output_type": "execute_result"
    }
   ],
   "source": [
    "np.nonzero([1,2,0,0,3]) #0이 아닌 index를 알려줌 (가끔 사용할 일이 있다.)"
   ]
  },
  {
   "cell_type": "code",
   "execution_count": 20,
   "metadata": {},
   "outputs": [
    {
     "name": "stdout",
     "output_type": "stream",
     "text": [
      "0.013873506529568536 0.9830191089384629\n"
     ]
    },
    {
     "data": {
      "text/plain": [
       "0.4916550432607923"
      ]
     },
     "execution_count": 20,
     "metadata": {},
     "output_type": "execute_result"
    }
   ],
   "source": [
    "z=np.random.random((10,10))\n",
    "zmin,zmax=z.min(), z.max()\n",
    "print(zmin, zmax)\n",
    "z.mean()"
   ]
  },
  {
   "cell_type": "code",
   "execution_count": 25,
   "metadata": {},
   "outputs": [
    {
     "data": {
      "text/plain": [
       "array([[0., 0., 0., 0., 0., 0., 0., 0., 0., 0.],\n",
       "       [0., 0., 0., 0., 0., 0., 0., 0., 0., 0.],\n",
       "       [0., 0., 0., 0., 0., 0., 0., 0., 0., 0.],\n",
       "       [0., 0., 0., 0., 0., 0., 0., 0., 0., 0.],\n",
       "       [0., 0., 0., 0., 0., 0., 0., 0., 0., 0.],\n",
       "       [0., 0., 0., 0., 0., 0., 0., 0., 0., 0.],\n",
       "       [0., 0., 0., 0., 0., 0., 0., 0., 0., 0.],\n",
       "       [0., 0., 0., 0., 0., 0., 0., 0., 0., 0.],\n",
       "       [0., 0., 0., 0., 0., 0., 0., 0., 0., 0.],\n",
       "       [0., 0., 0., 0., 0., 0., 0., 0., 0., 0.]])"
      ]
     },
     "execution_count": 25,
     "metadata": {},
     "output_type": "execute_result"
    }
   ],
   "source": [
    "# 10*10 배열 생성\n",
    "# 테두리는 모드 1 내부는 모두0으로 채우세요\n",
    "\n",
    "l=np.zeros((10,10))\n",
    "l"
   ]
  },
  {
   "cell_type": "code",
   "execution_count": 38,
   "metadata": {},
   "outputs": [],
   "source": [
    "ans=np.ones((10,10))"
   ]
  },
  {
   "cell_type": "code",
   "execution_count": 44,
   "metadata": {},
   "outputs": [],
   "source": [
    "ans[1:-1, 1:-1]=0"
   ]
  },
  {
   "cell_type": "code",
   "execution_count": 45,
   "metadata": {},
   "outputs": [
    {
     "data": {
      "text/plain": [
       "array([[1., 1., 1., 1., 1., 1., 1., 1., 1., 1.],\n",
       "       [1., 0., 0., 0., 0., 0., 0., 0., 0., 1.],\n",
       "       [1., 0., 0., 0., 0., 0., 0., 0., 0., 1.],\n",
       "       [1., 0., 0., 0., 0., 0., 0., 0., 0., 1.],\n",
       "       [1., 0., 0., 0., 0., 0., 0., 0., 0., 1.],\n",
       "       [1., 0., 0., 0., 0., 0., 0., 0., 0., 1.],\n",
       "       [1., 0., 0., 0., 0., 0., 0., 0., 0., 1.],\n",
       "       [1., 0., 0., 0., 0., 0., 0., 0., 0., 1.],\n",
       "       [1., 0., 0., 0., 0., 0., 0., 0., 0., 1.],\n",
       "       [1., 1., 1., 1., 1., 1., 1., 1., 1., 1.]])"
      ]
     },
     "execution_count": 45,
     "metadata": {},
     "output_type": "execute_result"
    }
   ],
   "source": [
    "ans"
   ]
  },
  {
   "cell_type": "code",
   "execution_count": 61,
   "metadata": {},
   "outputs": [
    {
     "name": "stdout",
     "output_type": "stream",
     "text": [
      "[[1 2 3]\n",
      " [4 5 6]]\n"
     ]
    },
    {
     "data": {
      "text/plain": [
       "array([[0, 0, 0, 0, 0, 0, 0, 0, 0, 0],\n",
       "       [0, 0, 0, 1, 2, 3, 0, 0, 0, 0],\n",
       "       [0, 0, 0, 4, 5, 6, 0, 0, 0, 0],\n",
       "       [0, 0, 0, 0, 0, 0, 0, 0, 0, 0],\n",
       "       [0, 0, 0, 0, 0, 0, 0, 0, 0, 0]])"
      ]
     },
     "execution_count": 61,
     "metadata": {},
     "output_type": "execute_result"
    }
   ],
   "source": [
    "#padding() -> 패딩 = 배열의 크기를 고정길이로 만드는 작업\n",
    "a=[1,2,3] \n",
    "np.pad(a,1,constant_values=0) #(배열, 크기)   좌우에 0이 채워짐\n",
    "np.pad(a, (2,3), constant_values=0) # 좌 2개, 우 3개 0으로 채워짐\n",
    "np.pad(a, (0,3), constant_values=0) # 우 3개 0으로 채워짐\n",
    "b=np.arange(1,7).reshape(2,3)\n",
    "print(b)\n",
    "np.pad(b, pad_width=1, constant_values=0) #pad_width 는 디폴트로 들어가 있어서 없어도 되지만 가독성을 위해 추가\n",
    "np.pad(b, pad_width=3, constant_values=0)\n",
    "np.pad(b, ((1,1),(2,2)), constant_values=0)\n",
    "#         ((상,하),(좌,우))\n",
    "#이미지 처리할때 패딩을 많이 사용한다. CNN 알고리즘을 처리할때 이미지에대한 특성을 사용할때 크기가 줄어들면,\n",
    "#패딩읕 통해서 원본 이미지 사이즈를 유지하는데 용이함\n",
    "np.pad(b, ((1,2),(3,4)), constant_values=0)"
   ]
  },
  {
   "cell_type": "code",
   "execution_count": 68,
   "metadata": {},
   "outputs": [
    {
     "name": "stdout",
     "output_type": "stream",
     "text": [
      "[[1, 2], [4, 5, 6], [7]]\n"
     ]
    },
    {
     "data": {
      "text/plain": [
       "array([list([1, 2]), list([4, 5, 6]), list([7])], dtype=object)"
      ]
     },
     "execution_count": 68,
     "metadata": {},
     "output_type": "execute_result"
    }
   ],
   "source": [
    "c=[\n",
    "    [1,2],\n",
    "    [4,5,6],\n",
    "    [7]\n",
    "] #이런 열이 맞지 않는 2차원 배열이 있다고 가정\n",
    "print(c)\n",
    "np.array(c) #list -> array     dtype = object    padding을 사용하여 고쳐보자"
   ]
  },
  {
   "cell_type": "code",
   "execution_count": 84,
   "metadata": {},
   "outputs": [
    {
     "data": {
      "text/plain": [
       "array([[1, 2, 0, 0, 0],\n",
       "       [4, 5, 6, 0, 0],\n",
       "       [7, 0, 0, 0, 0]])"
      ]
     },
     "execution_count": 84,
     "metadata": {},
     "output_type": "execute_result"
    }
   ],
   "source": [
    "#************ 모든 행의 길이가 5로 일정하게 통일 *************\n",
    "def twoDArray(c, fixedLength, paddingValue):\n",
    "    rows=[]\n",
    "    for a in c:\n",
    "#         print(a)\n",
    "        rows.append(np.pad(a,(0,fixedLength), constant_values=paddingValue)[:fixedLength]   ) #(0,3), constant_values=0) # 우 3개 0으로 채워짐 처럼 : 왼쪽은 0개 오른쪽은 5개 밑에 정의 된것처럼\n",
    "                 #(np.pad(a,(0,fixedLength), constant_values=paddingValue) <- 배열이니까  [:fixedLength] 로 왼쪽부터 5개 지정가능!\n",
    "#     print(rows)\n",
    "    return np.concatenate(rows, axis=0).reshape(-1,fixedLength)     #concatenate 함수로 합칠수 있다. reshape(-1,fixedLength)=행의 갯수는 모르겠어 근데 열은 알때\n",
    "    \n",
    "twoDArray(c, fixedLength=5, paddingValue=0)"
   ]
  },
  {
   "cell_type": "code",
   "execution_count": 91,
   "metadata": {},
   "outputs": [
    {
     "data": {
      "text/plain": [
       "array([[0., 0., 0., 0., 0., 0., 0., 0., 0., 0.],\n",
       "       [0., 1., 1., 1., 1., 1., 1., 1., 1., 0.],\n",
       "       [0., 1., 1., 1., 1., 1., 1., 1., 1., 0.],\n",
       "       [0., 1., 1., 1., 1., 1., 1., 1., 1., 0.],\n",
       "       [0., 1., 1., 1., 1., 1., 1., 1., 1., 0.],\n",
       "       [0., 1., 1., 1., 1., 1., 1., 1., 1., 0.],\n",
       "       [0., 1., 1., 1., 1., 1., 1., 1., 1., 0.],\n",
       "       [0., 1., 1., 1., 1., 1., 1., 1., 1., 0.],\n",
       "       [0., 1., 1., 1., 1., 1., 1., 1., 1., 0.],\n",
       "       [0., 0., 0., 0., 0., 0., 0., 0., 0., 0.]])"
      ]
     },
     "execution_count": 91,
     "metadata": {},
     "output_type": "execute_result"
    }
   ],
   "source": [
    "# 바깥 테두리가 0, 내부는 1 의 10*10 행렬\n",
    "z=np.zeros((10,10))\n",
    "z[1:-1,1:-1]=1\n",
    "z\n",
    "\n"
   ]
  },
  {
   "cell_type": "code",
   "execution_count": 100,
   "metadata": {},
   "outputs": [
    {
     "data": {
      "text/plain": [
       "array([[0., 0., 0., 0., 0., 0., 0., 0., 0., 0.],\n",
       "       [0., 1., 1., 1., 1., 1., 1., 1., 1., 0.],\n",
       "       [0., 1., 1., 1., 1., 1., 1., 1., 1., 0.],\n",
       "       [0., 1., 1., 1., 1., 1., 1., 1., 1., 0.],\n",
       "       [0., 1., 1., 1., 1., 1., 1., 1., 1., 0.],\n",
       "       [0., 1., 1., 1., 1., 1., 1., 1., 1., 0.],\n",
       "       [0., 1., 1., 1., 1., 1., 1., 1., 1., 0.],\n",
       "       [0., 1., 1., 1., 1., 1., 1., 1., 1., 0.],\n",
       "       [0., 1., 1., 1., 1., 1., 1., 1., 1., 0.],\n",
       "       [0., 0., 0., 0., 0., 0., 0., 0., 0., 0.]])"
      ]
     },
     "execution_count": 100,
     "metadata": {},
     "output_type": "execute_result"
    }
   ],
   "source": [
    "a=np.ones((8,8))\n",
    "np.pad(a,((1,1),(1,1)),constant_values=0)"
   ]
  },
  {
   "cell_type": "code",
   "execution_count": 102,
   "metadata": {
    "scrolled": true
   },
   "outputs": [
    {
     "data": {
      "text/plain": [
       "array([[0., 0., 0., 0., 0., 0., 0., 0., 0., 0.],\n",
       "       [0., 1., 1., 1., 1., 1., 1., 1., 1., 0.],\n",
       "       [0., 1., 1., 1., 1., 1., 1., 1., 1., 0.],\n",
       "       [0., 1., 1., 1., 1., 1., 1., 1., 1., 0.],\n",
       "       [0., 1., 1., 1., 1., 1., 1., 1., 1., 0.],\n",
       "       [0., 1., 1., 1., 1., 1., 1., 1., 1., 0.],\n",
       "       [0., 1., 1., 1., 1., 1., 1., 1., 1., 0.],\n",
       "       [0., 1., 1., 1., 1., 1., 1., 1., 1., 0.],\n",
       "       [0., 1., 1., 1., 1., 1., 1., 1., 1., 0.],\n",
       "       [0., 0., 0., 0., 0., 0., 0., 0., 0., 0.]])"
      ]
     },
     "execution_count": 102,
     "metadata": {},
     "output_type": "execute_result"
    }
   ],
   "source": [
    "# 훨씬 가독성 좋고 옳은 답!\n",
    "b=np.ones((10,10))\n",
    "np.pad(a,((1,1),(1,1)),constant_values=0)[:10]"
   ]
  },
  {
   "cell_type": "markdown",
   "metadata": {},
   "source": [
    "- 대각행렬: 대각성분을 제외한 모든 성분이 0인 정방행렬"
   ]
  },
  {
   "cell_type": "code",
   "execution_count": 110,
   "metadata": {},
   "outputs": [
    {
     "name": "stdout",
     "output_type": "stream",
     "text": [
      "[[0 1 2]\n",
      " [3 4 5]\n",
      " [6 7 8]]\n",
      "==========\n",
      "[0 4 8]\n",
      "==========\n",
      "[[0 0 0]\n",
      " [0 4 0]\n",
      " [0 0 8]]\n"
     ]
    }
   ],
   "source": [
    "x=np.arange(9).reshape(3,3)\n",
    "print(x)\n",
    "print('='*10)\n",
    "print(np.diag(x))\n",
    "print('='*10)\n",
    "print(np.diag(np.diag(x))) #대각행렬을 만들어라 : 대각성분을 제외한 나머지가 0"
   ]
  },
  {
   "cell_type": "code",
   "execution_count": 111,
   "metadata": {},
   "outputs": [
    {
     "data": {
      "text/plain": [
       "array([[3, 0, 0],\n",
       "       [0, 2, 0],\n",
       "       [0, 0, 0]])"
      ]
     },
     "execution_count": 111,
     "metadata": {},
     "output_type": "execute_result"
    }
   ],
   "source": [
    "np.diag([3,2,0])"
   ]
  },
  {
   "cell_type": "code",
   "execution_count": 125,
   "metadata": {},
   "outputs": [
    {
     "name": "stdout",
     "output_type": "stream",
     "text": [
      "[[1 2 3 4 5 6]]\n",
      "[[1]\n",
      " [2]\n",
      " [3]\n",
      " [4]\n",
      " [5]\n",
      " [6]]\n"
     ]
    }
   ],
   "source": [
    "a=np.arange(1,7)\n",
    "a\n",
    "row_vector=a[np.newaxis, :]\n",
    "col_vector=a[: ,np.newaxis]\n",
    "print(row_vector)\n",
    "print(col_vector)"
   ]
  },
  {
   "cell_type": "code",
   "execution_count": 133,
   "metadata": {},
   "outputs": [
    {
     "data": {
      "text/plain": [
       "array([[0, 1, 2, 0, 1, 2, 0, 1, 2],\n",
       "       [0, 1, 2, 0, 1, 2, 0, 1, 2],\n",
       "       [0, 1, 2, 0, 1, 2, 0, 1, 2],\n",
       "       [0, 1, 2, 0, 1, 2, 0, 1, 2]])"
      ]
     },
     "execution_count": 133,
     "metadata": {},
     "output_type": "execute_result"
    }
   ],
   "source": [
    "#타일 : 붙여넣기 편리함\n",
    "a=np.array([0,1,2])\n",
    "a\n",
    "np.tile(a,2)\n",
    "np.tile(a,(4,1))\n",
    "np.tile(a,(4,3))\n",
    "\n",
    "\"\"\"\n",
    "01010101\n",
    "10101010\n",
    "01010101\n",
    "10101010\n",
    "01010101\n",
    "10101010\n",
    "01010101\n",
    "10101010\n",
    "타일 함수이용해서 만들기\n",
    "\"\"\"\n"
   ]
  },
  {
   "cell_type": "code",
   "execution_count": 144,
   "metadata": {},
   "outputs": [],
   "source": []
  },
  {
   "cell_type": "code",
   "execution_count": 156,
   "metadata": {},
   "outputs": [
    {
     "data": {
      "text/plain": [
       "array([[0, 1, 0, 1, 0, 1, 0, 1],\n",
       "       [1, 0, 1, 0, 1, 0, 1, 0],\n",
       "       [0, 1, 0, 1, 0, 1, 0, 1],\n",
       "       [1, 0, 1, 0, 1, 0, 1, 0],\n",
       "       [0, 1, 0, 1, 0, 1, 0, 1],\n",
       "       [1, 0, 1, 0, 1, 0, 1, 0],\n",
       "       [0, 1, 0, 1, 0, 1, 0, 1],\n",
       "       [1, 0, 1, 0, 1, 0, 1, 0]])"
      ]
     },
     "execution_count": 156,
     "metadata": {},
     "output_type": "execute_result"
    }
   ],
   "source": [
    "# 타일함수를 안사용한경우\n",
    "z=np.zeros((8,8), dtype=int)\n",
    "z[1::2, ::2]=1 #2칸씩, 맨앞에서부터 마지막까지 2칸씩 띄기\n",
    "z\n",
    "z[::2, 1::2]=1\n",
    "z"
   ]
  },
  {
   "cell_type": "code",
   "execution_count": 157,
   "metadata": {},
   "outputs": [
    {
     "data": {
      "text/plain": [
       "array([[0, 1, 0, 1, 0, 1, 0, 1],\n",
       "       [1, 0, 1, 0, 1, 0, 1, 0],\n",
       "       [0, 1, 0, 1, 0, 1, 0, 1],\n",
       "       [1, 0, 1, 0, 1, 0, 1, 0],\n",
       "       [0, 1, 0, 1, 0, 1, 0, 1],\n",
       "       [1, 0, 1, 0, 1, 0, 1, 0],\n",
       "       [0, 1, 0, 1, 0, 1, 0, 1],\n",
       "       [1, 0, 1, 0, 1, 0, 1, 0]])"
      ]
     },
     "execution_count": 157,
     "metadata": {},
     "output_type": "execute_result"
    }
   ],
   "source": [
    "# 타일함수를 사용한경우\n",
    "z=np.array([[0,1],[1,0]])\n",
    "np.tile(z,(4,4))"
   ]
  },
  {
   "cell_type": "markdown",
   "metadata": {},
   "source": [
    "### 표준화/정규화"
   ]
  },
  {
   "cell_type": "code",
   "execution_count": 158,
   "metadata": {},
   "outputs": [
    {
     "data": {
      "text/plain": [
       "array([[0.25057309, 0.66072901, 0.33925029, 0.69834013],\n",
       "       [0.04486815, 0.09726056, 0.60604392, 0.60732259],\n",
       "       [0.14012456, 0.29486438, 0.35589253, 0.88949873],\n",
       "       [0.67022606, 0.97026385, 0.44411507, 0.25853165],\n",
       "       [0.73406955, 0.31499772, 0.4754062 , 0.83297478]])"
      ]
     },
     "execution_count": 158,
     "metadata": {},
     "output_type": "execute_result"
    }
   ],
   "source": [
    "#표준화\n",
    "z=np.random.random((5,4))\n",
    "z"
   ]
  },
  {
   "cell_type": "code",
   "execution_count": 161,
   "metadata": {},
   "outputs": [
    {
     "name": "stdout",
     "output_type": "stream",
     "text": [
      "0.4842676414984098\n",
      "[0.36797228 0.4676231  0.4441416  0.65733358]\n",
      "[0.48722313 0.33887381 0.42009505 0.58578416 0.58936206]\n",
      "0.264244013082464\n"
     ]
    }
   ],
   "source": [
    "print(np.mean(z)) #전체 평균\n",
    "print(np.mean(z,axis=0)) #열단위 평균\n",
    "print(np.mean(z,axis=1)) #행단위 평균\n",
    "print(np.std(z)) #표준편차,"
   ]
  },
  {
   "cell_type": "code",
   "execution_count": 164,
   "metadata": {},
   "outputs": [
    {
     "data": {
      "text/plain": [
       "array([[-0.8843892 ,  0.66779702, -0.54880089,  0.81013186],\n",
       "       [-1.66285504, -1.4645822 ,  0.46084782,  0.46568681],\n",
       "       [-1.3023685 , -0.7167741 , -0.48582034,  1.5335488 ],\n",
       "       [ 0.70373749,  1.83919479, -0.15195264, -0.85427099],\n",
       "       [ 0.94534558, -0.64058184, -0.03353507,  1.31964065]])"
      ]
     },
     "execution_count": 164,
     "metadata": {},
     "output_type": "execute_result"
    }
   ],
   "source": [
    "(z-np.mean(z))/np.std(z) #standardization : 표준화 = 평가도구의 규준(norms)을 설정하는 작업으로, 검사를 시행하기 위한 절차 혹은 조건이 일관성이나 동일성을 갖추도록 하는 것. \n",
    "#(전체 각 데이터-전체 데이터 평균)/전체 표준편차\n",
    "#(각 열 데이터 - 각 열 데이터 평균)/ 각 열 데이터 표준편차   <-- 올바른 의미\n",
    "#각 열 데이터 표준화\n",
    "\n",
    "# 토익 토플 수능 국어\n",
    "# 900  800  400 100\n",
    "# 위에 것들을 전처리를 해야 모델이 엉망으로 안나온다."
   ]
  },
  {
   "cell_type": "code",
   "execution_count": 165,
   "metadata": {},
   "outputs": [
    {
     "name": "stdout",
     "output_type": "stream",
     "text": [
      "[[10 11 12 13 14]\n",
      " [15 16 17 18 19]\n",
      " [20 21 22 23 24]\n",
      " [25 26 27 28 29]]\n"
     ]
    }
   ],
   "source": [
    "z=np.arange(10,30).reshape(4,5)\n",
    "print(z)\n",
    "#z 를 각 열 데이터 단위로 표준화 = (각열 데이터-열 데이터 평균)/열 데이터 표준편차\n",
    "#z 를 각 열 데이터 단위로 정규화 = (각열 데이터 -열 최소값)/열 최대값 - 열 최소값"
   ]
  },
  {
   "cell_type": "code",
   "execution_count": 198,
   "metadata": {},
   "outputs": [
    {
     "data": {
      "text/plain": [
       "array([[-1.34164079, -0.4472136 ,  0.4472136 ,  1.34164079],\n",
       "       [-1.34164079, -0.4472136 ,  0.4472136 ,  1.34164079],\n",
       "       [-1.34164079, -0.4472136 ,  0.4472136 ,  1.34164079],\n",
       "       [-1.34164079, -0.4472136 ,  0.4472136 ,  1.34164079],\n",
       "       [-1.34164079, -0.4472136 ,  0.4472136 ,  1.34164079]])"
      ]
     },
     "execution_count": 198,
     "metadata": {},
     "output_type": "execute_result"
    }
   ],
   "source": [
    "#표준화\n",
    "c=np.mean(z, axis=0) #열 데이터 평균 array([17.5, 18.5, 19.5, 20.5, 21.5])\n",
    "s=np.std(z, axis=0) #열 데이터 표준편차 array([5.59016994, 5.59016994, 5.59016994, 5.59016994, 5.59016994])\n",
    "z0=z[0:,0] # 각열 데이터\n",
    "z1=z[0:,1]\n",
    "z2=z[0:,2]\n",
    "z3=z[0:,3]\n",
    "z4=z[0:,4]\n",
    "s0=(z0-c[0])/s[0]\n",
    "s1=(z1-c[1])/s[1]\n",
    "s2=(z2-c[2])/s[2]\n",
    "s3=(z3-c[3])/s[3]\n",
    "s4=(z4-c[4])/s[4]\n",
    "np.array([s0,s1,s2,s3,s4])"
   ]
  },
  {
   "cell_type": "code",
   "execution_count": null,
   "metadata": {},
   "outputs": [],
   "source": [
    "# normalization:정규화 = 데이터를 일정한 규칙에 따라 변형하여 이용하기 쉽게 만드는 일"
   ]
  }
 ],
 "metadata": {
  "kernelspec": {
   "display_name": "Python 3",
   "language": "python",
   "name": "python3"
  },
  "language_info": {
   "codemirror_mode": {
    "name": "ipython",
    "version": 3
   },
   "file_extension": ".py",
   "mimetype": "text/x-python",
   "name": "python",
   "nbconvert_exporter": "python",
   "pygments_lexer": "ipython3",
   "version": "3.8.3"
  }
 },
 "nbformat": 4,
 "nbformat_minor": 4
}
