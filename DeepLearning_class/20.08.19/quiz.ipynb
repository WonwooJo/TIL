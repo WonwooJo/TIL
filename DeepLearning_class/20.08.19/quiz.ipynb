{
 "cells": [
  {
   "cell_type": "markdown",
   "metadata": {},
   "source": [
    "1. n-gram\n",
    "- \"hello\" -> 2-gram ->\n",
    "\"he\",\"el\",\"ll\",\"lo\"\n",
    "=>임의의 단어를 입력 받고, n을 입력 받은 다음,\n",
    "n-gram 출력\n",
    "입력:\n",
    "hello\n",
    "2\n",
    "\"he\",\"el\",\"ll\",\"lo\"\n"
   ]
  },
  {
   "cell_type": "code",
   "execution_count": 37,
   "metadata": {},
   "outputs": [
    {
     "name": "stdout",
     "output_type": "stream",
     "text": [
      "단어를 입력하시오: hello\n",
      "나눌 음절?을 입력하시오: 2\n"
     ]
    }
   ],
   "source": [
    "word = input('단어를 입력하시오: ')\n",
    "n = int(input('나눌 음절?을 입력하시오: '))"
   ]
  },
  {
   "cell_type": "code",
   "execution_count": 38,
   "metadata": {},
   "outputs": [],
   "source": [
    "wordN = len(word) // n\n",
    "wordR = len(word) % n\n"
   ]
  },
  {
   "cell_type": "code",
   "execution_count": 39,
   "metadata": {},
   "outputs": [
    {
     "data": {
      "text/plain": [
       "['he', 'll', 'o']"
      ]
     },
     "execution_count": 39,
     "metadata": {},
     "output_type": "execute_result"
    }
   ],
   "source": [
    "wordList = []\n",
    "if wordR != 0:\n",
    "    for i in range((len(word) // wordN)+1):\n",
    "        wordList.append(word[wordN*i:wordN*(i+1)])\n",
    "        \n",
    "elif wordR == 0:\n",
    "    for i in range(len(word) // wordN):\n",
    "        wordList.append(word[wordN*i:wordN*(i+1)])\n",
    "\n",
    "wordList"
   ]
  },
  {
   "cell_type": "code",
   "execution_count": null,
   "metadata": {},
   "outputs": [],
   "source": []
  },
  {
   "cell_type": "markdown",
   "metadata": {},
   "source": [
    "2. 파일명 포맷팅\n",
    "입력:\n",
    "1.jpg 10.jpg 2.jpg\n",
    "출력:\n",
    "['001.jpg', '010.jpg', '002.jpg']"
   ]
  },
  {
   "cell_type": "code",
   "execution_count": 50,
   "metadata": {},
   "outputs": [
    {
     "name": "stdout",
     "output_type": "stream",
     "text": [
      "파일명: 999.jpg\n"
     ]
    }
   ],
   "source": [
    "name = input('파일명: ')"
   ]
  },
  {
   "cell_type": "code",
   "execution_count": 51,
   "metadata": {},
   "outputs": [
    {
     "name": "stdout",
     "output_type": "stream",
     "text": [
      "999.jpg\n"
     ]
    }
   ],
   "source": [
    "\n",
    "if len(name) == 5:\n",
    "    fileNum = name[0]\n",
    "    print('00{}.jpg'.format(fileNum))\n",
    "\n",
    "elif len(name) == 6:\n",
    "    fileNum = name[0:2]\n",
    "    print('0{}.jpg'.format(fileNum))\n",
    "\n",
    "elif len(name) == 7:\n",
    "    fileNum = name[0:3]\n",
    "    print('{}.jpg'.format(fileNum))"
   ]
  },
  {
   "cell_type": "code",
   "execution_count": null,
   "metadata": {},
   "outputs": [],
   "source": []
  },
  {
   "cell_type": "code",
   "execution_count": 71,
   "metadata": {},
   "outputs": [
    {
     "name": "stdout",
     "output_type": "stream",
     "text": [
      "파일명: 1.jpg 11.jpg 111.jpg\n"
     ]
    }
   ],
   "source": [
    "name = input('파일명: ')"
   ]
  },
  {
   "cell_type": "code",
   "execution_count": 79,
   "metadata": {},
   "outputs": [
    {
     "name": "stdout",
     "output_type": "stream",
     "text": [
      "['1', ' 11', ' 111', '']\n",
      "001.jpg\n",
      "0 11.jpg\n",
      " 111.jpg\n"
     ]
    }
   ],
   "source": [
    "nameList = name.strip().split('.jpg')[:-1]\n",
    "print(nameList)\n",
    "\n",
    "for i in nameList:\n",
    "    if len(i.strip()) == 1:\n",
    "        print('00{}.jpg'.format(i))\n",
    "    elif len(i.strip()) == 2:\n",
    "        print('0{}.jpg'.format(i))\n",
    "    elif len(i.strip()) == 3:\n",
    "        print('{}.jpg'.format(i))\n",
    "        "
   ]
  },
  {
   "cell_type": "code",
   "execution_count": null,
   "metadata": {},
   "outputs": [],
   "source": []
  },
  {
   "cell_type": "code",
   "execution_count": null,
   "metadata": {},
   "outputs": [],
   "source": []
  }
 ],
 "metadata": {
  "kernelspec": {
   "display_name": "Python 3",
   "language": "python",
   "name": "python3"
  },
  "language_info": {
   "codemirror_mode": {
    "name": "ipython",
    "version": 3
   },
   "file_extension": ".py",
   "mimetype": "text/x-python",
   "name": "python",
   "nbconvert_exporter": "python",
   "pygments_lexer": "ipython3",
   "version": "3.8.3"
  }
 },
 "nbformat": 4,
 "nbformat_minor": 4
}
