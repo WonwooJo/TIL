{
 "cells": [
  {
   "cell_type": "code",
   "execution_count": 333,
   "metadata": {},
   "outputs": [],
   "source": [
    "import pandas as pd\n",
    "import numpy as np\n",
    "from datetime import datetime"
   ]
  },
  {
   "cell_type": "markdown",
   "metadata": {},
   "source": [
    "### 2. bike.csv 파일을 읽고 데이터프레임(변수명:df)으로 저장"
   ]
  },
  {
   "cell_type": "code",
   "execution_count": 334,
   "metadata": {},
   "outputs": [
    {
     "name": "stdout",
     "output_type": "stream",
     "text": [
      "<class 'pandas.core.frame.DataFrame'>\n",
      "RangeIndex: 10886 entries, 0 to 10885\n",
      "Data columns (total 12 columns):\n",
      " #   Column      Non-Null Count  Dtype  \n",
      "---  ------      --------------  -----  \n",
      " 0   datetime    10886 non-null  object \n",
      " 1   season      10886 non-null  int64  \n",
      " 2   holiday     10886 non-null  int64  \n",
      " 3   workingday  10886 non-null  int64  \n",
      " 4   weather     10886 non-null  int64  \n",
      " 5   temp        10886 non-null  float64\n",
      " 6   atemp       10886 non-null  float64\n",
      " 7   humidity    10886 non-null  int64  \n",
      " 8   windspeed   10886 non-null  float64\n",
      " 9   casual      10886 non-null  int64  \n",
      " 10  registered  10886 non-null  int64  \n",
      " 11  count       10886 non-null  int64  \n",
      "dtypes: float64(3), int64(8), object(1)\n",
      "memory usage: 1020.7+ KB\n"
     ]
    }
   ],
   "source": [
    "df = pd.read_csv('bike.csv')\n",
    "df.info()"
   ]
  },
  {
   "cell_type": "code",
   "execution_count": 335,
   "metadata": {
    "scrolled": true
   },
   "outputs": [
    {
     "name": "stdout",
     "output_type": "stream",
     "text": [
      "                 datetime  season  holiday  workingday  weather   temp  \\\n",
      "0     2011-01-01 00:00:00       1        0           0        1   9.84   \n",
      "1     2011-01-01 01:00:00       1        0           0        1   9.02   \n",
      "2     2011-01-01 02:00:00       1        0           0        1   9.02   \n",
      "3     2011-01-01 03:00:00       1        0           0        1   9.84   \n",
      "4     2011-01-01 04:00:00       1        0           0        1   9.84   \n",
      "...                   ...     ...      ...         ...      ...    ...   \n",
      "10881 2012-12-19 19:00:00       4        0           1        1  15.58   \n",
      "10882 2012-12-19 20:00:00       4        0           1        1  14.76   \n",
      "10883 2012-12-19 21:00:00       4        0           1        1  13.94   \n",
      "10884 2012-12-19 22:00:00       4        0           1        1  13.94   \n",
      "10885 2012-12-19 23:00:00       4        0           1        1  13.12   \n",
      "\n",
      "        atemp  humidity  windspeed  casual  registered  count  \n",
      "0      14.395        81     0.0000       3          13     16  \n",
      "1      13.635        80     0.0000       8          32     40  \n",
      "2      13.635        80     0.0000       5          27     32  \n",
      "3      14.395        75     0.0000       3          10     13  \n",
      "4      14.395        75     0.0000       0           1      1  \n",
      "...       ...       ...        ...     ...         ...    ...  \n",
      "10881  19.695        50    26.0027       7         329    336  \n",
      "10882  17.425        57    15.0013      10         231    241  \n",
      "10883  15.910        61    15.0013       4         164    168  \n",
      "10884  17.425        61     6.0032      12         117    129  \n",
      "10885  16.665        66     8.9981       4          84     88  \n",
      "\n",
      "[10886 rows x 12 columns]\n",
      "<class 'pandas.core.frame.DataFrame'>\n",
      "RangeIndex: 10886 entries, 0 to 10885\n",
      "Data columns (total 12 columns):\n",
      " #   Column      Non-Null Count  Dtype         \n",
      "---  ------      --------------  -----         \n",
      " 0   datetime    10886 non-null  datetime64[ns]\n",
      " 1   season      10886 non-null  int64         \n",
      " 2   holiday     10886 non-null  int64         \n",
      " 3   workingday  10886 non-null  int64         \n",
      " 4   weather     10886 non-null  int64         \n",
      " 5   temp        10886 non-null  float64       \n",
      " 6   atemp       10886 non-null  float64       \n",
      " 7   humidity    10886 non-null  int64         \n",
      " 8   windspeed   10886 non-null  float64       \n",
      " 9   casual      10886 non-null  int64         \n",
      " 10  registered  10886 non-null  int64         \n",
      " 11  count       10886 non-null  int64         \n",
      "dtypes: datetime64[ns](1), float64(3), int64(8)\n",
      "memory usage: 1020.7 KB\n"
     ]
    }
   ],
   "source": [
    "df = pd.read_csv('bike.csv', parse_dates=['datetime'])\n",
    "print(df)\n",
    "df.info()"
   ]
  },
  {
   "cell_type": "markdown",
   "metadata": {},
   "source": [
    "### 3. season 컬럼\n",
    "\n",
    "- season 종류 별 데이터 건수 출력"
   ]
  },
  {
   "cell_type": "code",
   "execution_count": 336,
   "metadata": {},
   "outputs": [
    {
     "data": {
      "text/plain": [
       "season\n",
       "1    2686\n",
       "2    2733\n",
       "3    2733\n",
       "4    2734\n",
       "Name: datetime, dtype: int64"
      ]
     },
     "execution_count": 336,
     "metadata": {},
     "output_type": "execute_result"
    }
   ],
   "source": [
    "df.groupby('season').count()['datetime']"
   ]
  },
  {
   "cell_type": "markdown",
   "metadata": {},
   "source": [
    "### 4. temp 컬럼\n",
    "\n",
    "- 최대, 최소, 평균, 중앙값, 표준편차 출력\n",
    "\n"
   ]
  },
  {
   "cell_type": "code",
   "execution_count": 337,
   "metadata": {},
   "outputs": [
    {
     "data": {
      "text/plain": [
       "41.0"
      ]
     },
     "execution_count": 337,
     "metadata": {},
     "output_type": "execute_result"
    }
   ],
   "source": [
    "# 최대\n",
    "df['temp'].max()"
   ]
  },
  {
   "cell_type": "code",
   "execution_count": 338,
   "metadata": {},
   "outputs": [
    {
     "data": {
      "text/plain": [
       "0.82"
      ]
     },
     "execution_count": 338,
     "metadata": {},
     "output_type": "execute_result"
    }
   ],
   "source": [
    "# 최소\n",
    "df['temp'].min()"
   ]
  },
  {
   "cell_type": "code",
   "execution_count": 339,
   "metadata": {},
   "outputs": [
    {
     "data": {
      "text/plain": [
       "20.230859819952173"
      ]
     },
     "execution_count": 339,
     "metadata": {},
     "output_type": "execute_result"
    }
   ],
   "source": [
    "# 평균\n",
    "df['temp'].mean()"
   ]
  },
  {
   "cell_type": "code",
   "execution_count": 340,
   "metadata": {},
   "outputs": [
    {
     "data": {
      "text/plain": [
       "20.5"
      ]
     },
     "execution_count": 340,
     "metadata": {},
     "output_type": "execute_result"
    }
   ],
   "source": [
    "# 중앙값\n",
    "df['temp'].median()"
   ]
  },
  {
   "cell_type": "code",
   "execution_count": 341,
   "metadata": {},
   "outputs": [
    {
     "data": {
      "text/plain": [
       "7.791589843987506"
      ]
     },
     "execution_count": 341,
     "metadata": {},
     "output_type": "execute_result"
    }
   ],
   "source": [
    "# 표준편차\n",
    "df['temp'].std()"
   ]
  },
  {
   "cell_type": "markdown",
   "metadata": {},
   "source": [
    "### 4. temp 컬럼\n",
    "\n",
    "- 월별 temp 평균 온도 출력"
   ]
  },
  {
   "cell_type": "code",
   "execution_count": 342,
   "metadata": {
    "scrolled": true
   },
   "outputs": [
    {
     "data": {
      "text/html": [
       "<div>\n",
       "<style scoped>\n",
       "    .dataframe tbody tr th:only-of-type {\n",
       "        vertical-align: middle;\n",
       "    }\n",
       "\n",
       "    .dataframe tbody tr th {\n",
       "        vertical-align: top;\n",
       "    }\n",
       "\n",
       "    .dataframe thead th {\n",
       "        text-align: right;\n",
       "    }\n",
       "</style>\n",
       "<table border=\"1\" class=\"dataframe\">\n",
       "  <thead>\n",
       "    <tr style=\"text-align: right;\">\n",
       "      <th></th>\n",
       "      <th>datetime</th>\n",
       "      <th>season</th>\n",
       "      <th>holiday</th>\n",
       "      <th>workingday</th>\n",
       "      <th>weather</th>\n",
       "      <th>temp</th>\n",
       "      <th>atemp</th>\n",
       "      <th>humidity</th>\n",
       "      <th>windspeed</th>\n",
       "      <th>casual</th>\n",
       "      <th>registered</th>\n",
       "      <th>count</th>\n",
       "    </tr>\n",
       "  </thead>\n",
       "  <tbody>\n",
       "    <tr>\n",
       "      <th>0</th>\n",
       "      <td>2011-01-01 00:00:00</td>\n",
       "      <td>1</td>\n",
       "      <td>0</td>\n",
       "      <td>0</td>\n",
       "      <td>1</td>\n",
       "      <td>9.84</td>\n",
       "      <td>14.395</td>\n",
       "      <td>81</td>\n",
       "      <td>0.0000</td>\n",
       "      <td>3</td>\n",
       "      <td>13</td>\n",
       "      <td>16</td>\n",
       "    </tr>\n",
       "    <tr>\n",
       "      <th>1</th>\n",
       "      <td>2011-01-01 01:00:00</td>\n",
       "      <td>1</td>\n",
       "      <td>0</td>\n",
       "      <td>0</td>\n",
       "      <td>1</td>\n",
       "      <td>9.02</td>\n",
       "      <td>13.635</td>\n",
       "      <td>80</td>\n",
       "      <td>0.0000</td>\n",
       "      <td>8</td>\n",
       "      <td>32</td>\n",
       "      <td>40</td>\n",
       "    </tr>\n",
       "    <tr>\n",
       "      <th>2</th>\n",
       "      <td>2011-01-01 02:00:00</td>\n",
       "      <td>1</td>\n",
       "      <td>0</td>\n",
       "      <td>0</td>\n",
       "      <td>1</td>\n",
       "      <td>9.02</td>\n",
       "      <td>13.635</td>\n",
       "      <td>80</td>\n",
       "      <td>0.0000</td>\n",
       "      <td>5</td>\n",
       "      <td>27</td>\n",
       "      <td>32</td>\n",
       "    </tr>\n",
       "    <tr>\n",
       "      <th>3</th>\n",
       "      <td>2011-01-01 03:00:00</td>\n",
       "      <td>1</td>\n",
       "      <td>0</td>\n",
       "      <td>0</td>\n",
       "      <td>1</td>\n",
       "      <td>9.84</td>\n",
       "      <td>14.395</td>\n",
       "      <td>75</td>\n",
       "      <td>0.0000</td>\n",
       "      <td>3</td>\n",
       "      <td>10</td>\n",
       "      <td>13</td>\n",
       "    </tr>\n",
       "    <tr>\n",
       "      <th>4</th>\n",
       "      <td>2011-01-01 04:00:00</td>\n",
       "      <td>1</td>\n",
       "      <td>0</td>\n",
       "      <td>0</td>\n",
       "      <td>1</td>\n",
       "      <td>9.84</td>\n",
       "      <td>14.395</td>\n",
       "      <td>75</td>\n",
       "      <td>0.0000</td>\n",
       "      <td>0</td>\n",
       "      <td>1</td>\n",
       "      <td>1</td>\n",
       "    </tr>\n",
       "    <tr>\n",
       "      <th>...</th>\n",
       "      <td>...</td>\n",
       "      <td>...</td>\n",
       "      <td>...</td>\n",
       "      <td>...</td>\n",
       "      <td>...</td>\n",
       "      <td>...</td>\n",
       "      <td>...</td>\n",
       "      <td>...</td>\n",
       "      <td>...</td>\n",
       "      <td>...</td>\n",
       "      <td>...</td>\n",
       "      <td>...</td>\n",
       "    </tr>\n",
       "    <tr>\n",
       "      <th>10881</th>\n",
       "      <td>2012-12-19 19:00:00</td>\n",
       "      <td>4</td>\n",
       "      <td>0</td>\n",
       "      <td>1</td>\n",
       "      <td>1</td>\n",
       "      <td>15.58</td>\n",
       "      <td>19.695</td>\n",
       "      <td>50</td>\n",
       "      <td>26.0027</td>\n",
       "      <td>7</td>\n",
       "      <td>329</td>\n",
       "      <td>336</td>\n",
       "    </tr>\n",
       "    <tr>\n",
       "      <th>10882</th>\n",
       "      <td>2012-12-19 20:00:00</td>\n",
       "      <td>4</td>\n",
       "      <td>0</td>\n",
       "      <td>1</td>\n",
       "      <td>1</td>\n",
       "      <td>14.76</td>\n",
       "      <td>17.425</td>\n",
       "      <td>57</td>\n",
       "      <td>15.0013</td>\n",
       "      <td>10</td>\n",
       "      <td>231</td>\n",
       "      <td>241</td>\n",
       "    </tr>\n",
       "    <tr>\n",
       "      <th>10883</th>\n",
       "      <td>2012-12-19 21:00:00</td>\n",
       "      <td>4</td>\n",
       "      <td>0</td>\n",
       "      <td>1</td>\n",
       "      <td>1</td>\n",
       "      <td>13.94</td>\n",
       "      <td>15.910</td>\n",
       "      <td>61</td>\n",
       "      <td>15.0013</td>\n",
       "      <td>4</td>\n",
       "      <td>164</td>\n",
       "      <td>168</td>\n",
       "    </tr>\n",
       "    <tr>\n",
       "      <th>10884</th>\n",
       "      <td>2012-12-19 22:00:00</td>\n",
       "      <td>4</td>\n",
       "      <td>0</td>\n",
       "      <td>1</td>\n",
       "      <td>1</td>\n",
       "      <td>13.94</td>\n",
       "      <td>17.425</td>\n",
       "      <td>61</td>\n",
       "      <td>6.0032</td>\n",
       "      <td>12</td>\n",
       "      <td>117</td>\n",
       "      <td>129</td>\n",
       "    </tr>\n",
       "    <tr>\n",
       "      <th>10885</th>\n",
       "      <td>2012-12-19 23:00:00</td>\n",
       "      <td>4</td>\n",
       "      <td>0</td>\n",
       "      <td>1</td>\n",
       "      <td>1</td>\n",
       "      <td>13.12</td>\n",
       "      <td>16.665</td>\n",
       "      <td>66</td>\n",
       "      <td>8.9981</td>\n",
       "      <td>4</td>\n",
       "      <td>84</td>\n",
       "      <td>88</td>\n",
       "    </tr>\n",
       "  </tbody>\n",
       "</table>\n",
       "<p>10886 rows × 12 columns</p>\n",
       "</div>"
      ],
      "text/plain": [
       "                 datetime  season  holiday  workingday  weather   temp  \\\n",
       "0     2011-01-01 00:00:00       1        0           0        1   9.84   \n",
       "1     2011-01-01 01:00:00       1        0           0        1   9.02   \n",
       "2     2011-01-01 02:00:00       1        0           0        1   9.02   \n",
       "3     2011-01-01 03:00:00       1        0           0        1   9.84   \n",
       "4     2011-01-01 04:00:00       1        0           0        1   9.84   \n",
       "...                   ...     ...      ...         ...      ...    ...   \n",
       "10881 2012-12-19 19:00:00       4        0           1        1  15.58   \n",
       "10882 2012-12-19 20:00:00       4        0           1        1  14.76   \n",
       "10883 2012-12-19 21:00:00       4        0           1        1  13.94   \n",
       "10884 2012-12-19 22:00:00       4        0           1        1  13.94   \n",
       "10885 2012-12-19 23:00:00       4        0           1        1  13.12   \n",
       "\n",
       "        atemp  humidity  windspeed  casual  registered  count  \n",
       "0      14.395        81     0.0000       3          13     16  \n",
       "1      13.635        80     0.0000       8          32     40  \n",
       "2      13.635        80     0.0000       5          27     32  \n",
       "3      14.395        75     0.0000       3          10     13  \n",
       "4      14.395        75     0.0000       0           1      1  \n",
       "...       ...       ...        ...     ...         ...    ...  \n",
       "10881  19.695        50    26.0027       7         329    336  \n",
       "10882  17.425        57    15.0013      10         231    241  \n",
       "10883  15.910        61    15.0013       4         164    168  \n",
       "10884  17.425        61     6.0032      12         117    129  \n",
       "10885  16.665        66     8.9981       4          84     88  \n",
       "\n",
       "[10886 rows x 12 columns]"
      ]
     },
     "execution_count": 342,
     "metadata": {},
     "output_type": "execute_result"
    }
   ],
   "source": [
    "df"
   ]
  },
  {
   "cell_type": "code",
   "execution_count": 343,
   "metadata": {
    "scrolled": true
   },
   "outputs": [
    {
     "data": {
      "text/plain": [
       "datetime\n",
       "2011-01-31     8.633782\n",
       "2011-02-28    11.331076\n",
       "2011-03-31    14.063184\n",
       "2011-04-30    17.776879\n",
       "2011-05-31    21.528596\n",
       "2011-06-30    28.191096\n",
       "2011-07-31    29.967763\n",
       "2011-08-31    29.667456\n",
       "2011-09-30    25.141236\n",
       "2011-10-31    20.903692\n",
       "2011-11-30    16.036754\n",
       "2011-12-31    12.897018\n",
       "2012-01-31    10.987638\n",
       "2012-02-29    12.256747\n",
       "2012-03-31    17.704791\n",
       "2012-04-30    19.661938\n",
       "2012-05-31    23.819561\n",
       "2012-06-30    25.937895\n",
       "2012-07-31    31.715658\n",
       "2012-08-31    29.805921\n",
       "2012-09-30    26.412632\n",
       "2012-10-31    20.963947\n",
       "2012-11-30    14.332879\n",
       "2012-12-31    14.765395\n",
       "Freq: M, Name: temp, dtype: float64"
      ]
     },
     "execution_count": 343,
     "metadata": {},
     "output_type": "execute_result"
    }
   ],
   "source": [
    "df2 = df.set_index('datetime')\n",
    "df2 = df2.resample('M',)\n",
    "df2.mean()['temp']"
   ]
  },
  {
   "cell_type": "markdown",
   "metadata": {},
   "source": [
    "### 4. temp 컬럼\n",
    "- temp 컬럼 값을 0-10, 10-20, 20-30 구간으로 나눈다음, 구간별 데이터 건수를 출력"
   ]
  },
  {
   "cell_type": "code",
   "execution_count": 344,
   "metadata": {},
   "outputs": [
    {
     "data": {
      "text/plain": [
       "0         (0, 10]\n",
       "1         (0, 10]\n",
       "2         (0, 10]\n",
       "3         (0, 10]\n",
       "4         (0, 10]\n",
       "           ...   \n",
       "10881    (10, 20]\n",
       "10882    (10, 20]\n",
       "10883    (10, 20]\n",
       "10884    (10, 20]\n",
       "10885    (10, 20]\n",
       "Name: temp, Length: 10886, dtype: category\n",
       "Categories (3, interval[int64]): [(0, 10] < (10, 20] < (20, 30]]"
      ]
     },
     "execution_count": 344,
     "metadata": {},
     "output_type": "execute_result"
    }
   ],
   "source": [
    "temp_range = pd.cut(df['temp'], bins=[0,10,20,30])\n",
    "temp_range"
   ]
  },
  {
   "cell_type": "code",
   "execution_count": 345,
   "metadata": {},
   "outputs": [
    {
     "data": {
      "text/plain": [
       "(20, 30]    4334\n",
       "(10, 20]    4049\n",
       "(0, 10]     1259\n",
       "Name: temp, dtype: int64"
      ]
     },
     "execution_count": 345,
     "metadata": {},
     "output_type": "execute_result"
    }
   ],
   "source": [
    "pd.value_counts(temp_range)"
   ]
  },
  {
   "cell_type": "markdown",
   "metadata": {},
   "source": [
    "### 5. windspeed 컬럼\n",
    "\n",
    "- 0으로 되어 있는 값의 개수를 세어 출력\n",
    "\n"
   ]
  },
  {
   "cell_type": "code",
   "execution_count": 346,
   "metadata": {},
   "outputs": [
    {
     "data": {
      "text/plain": [
       "1313"
      ]
     },
     "execution_count": 346,
     "metadata": {},
     "output_type": "execute_result"
    }
   ],
   "source": [
    "df['windspeed'].value_counts().iloc[0]"
   ]
  },
  {
   "cell_type": "markdown",
   "metadata": {},
   "source": [
    "### 5. windspeed 컬럼\n",
    "\n",
    "\n",
    "- 월별 windspeed 평균 풍속 출력(0 제외)"
   ]
  },
  {
   "cell_type": "code",
   "execution_count": 347,
   "metadata": {},
   "outputs": [
    {
     "data": {
      "text/plain": [
       "datetime\n",
       "2011-01-31    15.352790\n",
       "2011-02-28    18.013404\n",
       "2011-03-31    16.945745\n",
       "2011-04-30    17.042852\n",
       "2011-05-31    14.299603\n",
       "2011-06-30    13.301040\n",
       "2011-07-31    13.433797\n",
       "2011-08-31    14.192338\n",
       "2011-09-30    12.960583\n",
       "2011-10-31    13.639845\n",
       "2011-11-30    14.650323\n",
       "2011-12-31    13.646063\n",
       "2012-01-31    16.466097\n",
       "2012-02-29    14.195873\n",
       "2012-03-31    16.359860\n",
       "2012-04-30    16.797305\n",
       "2012-05-31    13.671678\n",
       "2012-06-30    13.961868\n",
       "2012-07-31    11.724624\n",
       "2012-08-31    12.975270\n",
       "2012-09-30    13.906166\n",
       "2012-10-31    13.704499\n",
       "2012-11-30    14.896178\n",
       "2012-12-31    12.542191\n",
       "Freq: M, Name: windspeed, dtype: float64"
      ]
     },
     "execution_count": 347,
     "metadata": {},
     "output_type": "execute_result"
    }
   ],
   "source": [
    "df3 = df.set_index('datetime')\n",
    "df3 = df3.replace(0,np.NaN)\n",
    "df3['windspeed'].resample('M').mean()"
   ]
  },
  {
   "cell_type": "markdown",
   "metadata": {},
   "source": [
    "### 6. weather 컬럼\n",
    "\n",
    "- weather 종류 별 데이터 건수 출력"
   ]
  },
  {
   "cell_type": "code",
   "execution_count": 348,
   "metadata": {
    "scrolled": true
   },
   "outputs": [
    {
     "data": {
      "text/plain": [
       "weather\n",
       "1    7192\n",
       "2    2834\n",
       "3     859\n",
       "4       1\n",
       "Name: datetime, dtype: int64"
      ]
     },
     "execution_count": 348,
     "metadata": {},
     "output_type": "execute_result"
    }
   ],
   "source": [
    "df.groupby('weather').count()['datetime']"
   ]
  },
  {
   "cell_type": "markdown",
   "metadata": {},
   "source": [
    "### 7. humidity 컬럼\n",
    "- 2011년 평균 습도 출력"
   ]
  },
  {
   "cell_type": "code",
   "execution_count": 349,
   "metadata": {},
   "outputs": [],
   "source": [
    "df4 = df.set_index('datetime')"
   ]
  },
  {
   "cell_type": "code",
   "execution_count": 350,
   "metadata": {},
   "outputs": [],
   "source": [
    "split_date_2011 = pd.Timestamp('2011-12-19 23:00:00')\n",
    "split_date_2012 = pd.Timestamp('2012-01-01 00:00:00')"
   ]
  },
  {
   "cell_type": "code",
   "execution_count": 351,
   "metadata": {},
   "outputs": [
    {
     "data": {
      "text/plain": [
       "63.40501659904094"
      ]
     },
     "execution_count": 351,
     "metadata": {},
     "output_type": "execute_result"
    }
   ],
   "source": [
    "hum_2011 = df4[:split_date_2011]\n",
    "hum_2011['humidity'].mean()"
   ]
  },
  {
   "cell_type": "markdown",
   "metadata": {},
   "source": [
    "### 7. humidity 컬럼\n",
    "- 2012년 평균 습도 출력"
   ]
  },
  {
   "cell_type": "code",
   "execution_count": 352,
   "metadata": {},
   "outputs": [
    {
     "data": {
      "text/plain": [
       "60.37957540263543"
      ]
     },
     "execution_count": 352,
     "metadata": {},
     "output_type": "execute_result"
    }
   ],
   "source": [
    "hum_2012 = df4[split_date_2012:]\n",
    "hum_2012['humidity'].mean()"
   ]
  },
  {
   "cell_type": "markdown",
   "metadata": {},
   "source": [
    "### 7. humidity 컬럼\n",
    "- 연도와 관계없이 월별 평균 습도 출력\n"
   ]
  },
  {
   "cell_type": "code",
   "execution_count": 353,
   "metadata": {},
   "outputs": [
    {
     "data": {
      "text/plain": [
       "datetime_month\n",
       "1     55.911765\n",
       "2     56.296337\n",
       "3     56.678135\n",
       "4     55.697470\n",
       "5     68.084430\n",
       "6     58.759868\n",
       "7     58.402412\n",
       "8     63.010965\n",
       "9     70.980198\n",
       "10    69.412733\n",
       "11    60.722283\n",
       "12    68.383772\n",
       "Name: humidity, dtype: float64"
      ]
     },
     "execution_count": 353,
     "metadata": {},
     "output_type": "execute_result"
    }
   ],
   "source": [
    "df['datetime_month'] = df['datetime'].dt.month\n",
    "df.groupby('datetime_month').mean()['humidity']"
   ]
  },
  {
   "cell_type": "markdown",
   "metadata": {},
   "source": [
    "### 7. humidity 컬럼\n",
    "\n",
    "\n",
    "- 표준편차(연도별) 출력"
   ]
  },
  {
   "cell_type": "code",
   "execution_count": 354,
   "metadata": {},
   "outputs": [
    {
     "data": {
      "text/plain": [
       "datetime_year\n",
       "2011    19.780518\n",
       "2012    18.578008\n",
       "Name: humidity, dtype: float64"
      ]
     },
     "execution_count": 354,
     "metadata": {},
     "output_type": "execute_result"
    }
   ],
   "source": [
    "df['datetime_year'] = df['datetime'].dt.year\n",
    "df.groupby('datetime_year').std()['humidity']"
   ]
  },
  {
   "cell_type": "markdown",
   "metadata": {},
   "source": [
    "### 8. datetime 컬럼\n",
    "\n",
    "- 월별(01~12) 평균 count 출력\n",
    "\n",
    "- 일별(01~19) 평균 count 출력\n",
    "\n",
    "- 시각별(0~23) 평균 count 출력\n"
   ]
  },
  {
   "cell_type": "code",
   "execution_count": 355,
   "metadata": {
    "scrolled": true
   },
   "outputs": [
    {
     "data": {
      "text/plain": [
       "datetime\n",
       "2011-01-31     54.645012\n",
       "2011-02-28     73.641256\n",
       "2011-03-31     86.849776\n",
       "2011-04-30    111.026374\n",
       "2011-05-31    174.809211\n",
       "2011-06-30    196.877193\n",
       "2011-07-31    203.614035\n",
       "2011-08-31    182.666667\n",
       "2011-09-30    174.622517\n",
       "2011-10-31    174.773626\n",
       "2011-11-30    155.458333\n",
       "2011-12-31    134.173246\n",
       "2012-01-31    124.353201\n",
       "2012-02-29    145.646154\n",
       "2012-03-31    208.276923\n",
       "2012-04-30    257.455947\n",
       "2012-05-31    264.109649\n",
       "2012-06-30    287.186404\n",
       "2012-07-31    267.037281\n",
       "2012-08-31    285.570175\n",
       "2012-09-30    292.598684\n",
       "2012-10-31    280.508772\n",
       "2012-11-30    231.980220\n",
       "2012-12-31    217.054825\n",
       "Freq: M, Name: count, dtype: float64"
      ]
     },
     "execution_count": 355,
     "metadata": {},
     "output_type": "execute_result"
    }
   ],
   "source": [
    "# 월 별 평균 count\n",
    "df5 = df.set_index('datetime')\n",
    "df5 = df5.replace(0,np.NaN)\n",
    "df5['count'].resample('M').mean()"
   ]
  },
  {
   "cell_type": "code",
   "execution_count": 356,
   "metadata": {
    "scrolled": true
   },
   "outputs": [
    {
     "data": {
      "text/plain": [
       "datetime\n",
       "2011-01-01     41.041667\n",
       "2011-01-02     34.826087\n",
       "2011-01-03     61.318182\n",
       "2011-01-04     67.913043\n",
       "2011-01-05     69.565217\n",
       "                 ...    \n",
       "2012-12-15    210.291667\n",
       "2012-12-16    157.750000\n",
       "2012-12-17    191.041667\n",
       "2012-12-18    231.541667\n",
       "2012-12-19    219.458333\n",
       "Freq: D, Name: count, Length: 719, dtype: float64"
      ]
     },
     "execution_count": 356,
     "metadata": {},
     "output_type": "execute_result"
    }
   ],
   "source": [
    "# 일 별 평균 count\n",
    "df6 = df.set_index('datetime')\n",
    "df6 = df6.replace(0,np.NaN)\n",
    "df6['count'].resample('D').mean()"
   ]
  },
  {
   "cell_type": "code",
   "execution_count": 357,
   "metadata": {},
   "outputs": [
    {
     "data": {
      "text/plain": [
       "datetime\n",
       "2011-01-01 00:00:00     16.0\n",
       "2011-01-01 01:00:00     40.0\n",
       "2011-01-01 02:00:00     32.0\n",
       "2011-01-01 03:00:00     13.0\n",
       "2011-01-01 04:00:00      1.0\n",
       "                       ...  \n",
       "2012-12-19 19:00:00    336.0\n",
       "2012-12-19 20:00:00    241.0\n",
       "2012-12-19 21:00:00    168.0\n",
       "2012-12-19 22:00:00    129.0\n",
       "2012-12-19 23:00:00     88.0\n",
       "Freq: H, Name: count, Length: 17256, dtype: float64"
      ]
     },
     "execution_count": 357,
     "metadata": {},
     "output_type": "execute_result"
    }
   ],
   "source": [
    "# 시간 별 평균 count\n",
    "df7 = df.set_index('datetime')\n",
    "df7 = df7.replace(0,np.NaN)\n",
    "df7['count'].resample('H').mean()"
   ]
  },
  {
   "cell_type": "markdown",
   "metadata": {},
   "source": [
    "### 8. datetime 컬럼\n",
    "\n",
    "\n",
    "- 평균 count값이 가장 큰 월 출력\n",
    "\n",
    "- 평균 count값이 가장 큰 시각 출력"
   ]
  },
  {
   "cell_type": "code",
   "execution_count": 358,
   "metadata": {},
   "outputs": [
    {
     "data": {
      "text/plain": [
       "Timestamp('2012-09-30 00:00:00', freq='M')"
      ]
     },
     "execution_count": 358,
     "metadata": {},
     "output_type": "execute_result"
    }
   ],
   "source": [
    "# 평균 count값이 가장 큰 월 출력\n",
    "df7 = df.set_index('datetime')\n",
    "df7 = df7.replace(0,np.NaN)\n",
    "df7['count'].resample('M').mean().idxmax()"
   ]
  },
  {
   "cell_type": "code",
   "execution_count": 359,
   "metadata": {},
   "outputs": [],
   "source": [
    "# 평균 count값이 가장 큰 시각 출력"
   ]
  },
  {
   "cell_type": "code",
   "execution_count": 360,
   "metadata": {},
   "outputs": [
    {
     "data": {
      "text/plain": [
       "Timestamp('2012-09-12 18:00:00', freq='H')"
      ]
     },
     "execution_count": 360,
     "metadata": {},
     "output_type": "execute_result"
    }
   ],
   "source": [
    "df8 = df.set_index('datetime')\n",
    "df8 = df8.replace(0,np.NaN)\n",
    "df8['count'].resample('H').mean().idxmax()"
   ]
  },
  {
   "cell_type": "markdown",
   "metadata": {},
   "source": [
    "### 9. 상관분석 \n",
    "\n",
    "- temp와 count 간 상관 계수 출력\n",
    "\n",
    "- humidity와 count 간 상관 계수 출력\n",
    "\n",
    "- weather와 count 간 상관 계수 출력\n",
    "\n",
    "- windspeed와 count 간 상관 계수 출력\n",
    "\n",
    "- 위 4개의 features 중에서 상관 계수가 가장 큰 feature 출력"
   ]
  },
  {
   "cell_type": "code",
   "execution_count": 414,
   "metadata": {
    "scrolled": true
   },
   "outputs": [
    {
     "name": "stdout",
     "output_type": "stream",
     "text": [
      "0.39445364496725355\n"
     ]
    }
   ],
   "source": [
    "mydict = {}\n",
    "df_T_C = pd.concat([df.temp, df['count']],axis=1)\n",
    "df_T_C_cor = abs(df_T_C.corr().iloc[1][0])\n",
    "mydict['df_T_C_cor'] = df_T_C_cor\n",
    "print(df_T_C_cor)"
   ]
  },
  {
   "cell_type": "code",
   "execution_count": 415,
   "metadata": {},
   "outputs": [
    {
     "name": "stdout",
     "output_type": "stream",
     "text": [
      "0.31737147887659395\n"
     ]
    }
   ],
   "source": [
    "df_h_C = pd.concat([df.humidity, df['count']],axis=1)\n",
    "df_h_C_cor = abs(df_h_C.corr().iloc[1][0])\n",
    "mydict['df_h_C_cor'] = df_h_C_cor\n",
    "print(df_h_C_cor)"
   ]
  },
  {
   "cell_type": "code",
   "execution_count": 416,
   "metadata": {},
   "outputs": [
    {
     "name": "stdout",
     "output_type": "stream",
     "text": [
      "0.12865520103850703\n"
     ]
    }
   ],
   "source": [
    "df_We_C = pd.concat([df.weather, df['count']],axis=1)\n",
    "df_We_C_cor = abs(df_We_C.corr().iloc[1][0])\n",
    "mydict['df_We_C_cor'] = df_We_C_cor\n",
    "print(df_We_C_cor)"
   ]
  },
  {
   "cell_type": "code",
   "execution_count": 417,
   "metadata": {},
   "outputs": [
    {
     "name": "stdout",
     "output_type": "stream",
     "text": [
      "0.10136947021033568\n"
     ]
    }
   ],
   "source": [
    "df_Wi_C = pd.concat([df.windspeed, df['count']],axis=1)\n",
    "df_Wi_C_cor = abs(df_Wi_C.corr().iloc[1][0])\n",
    "mydict['df_Wi_C_cor'] = df_Wi_C_cor\n",
    "print(df_Wi_C_cor)"
   ]
  },
  {
   "cell_type": "code",
   "execution_count": 425,
   "metadata": {},
   "outputs": [
    {
     "name": "stdout",
     "output_type": "stream",
     "text": [
      "Max:  df_T_C_cor 0.39445364496725355\n"
     ]
    }
   ],
   "source": [
    "def f1(x):\n",
    "    return mydict[x]\n",
    "\n",
    "key_max = max(mydict.keys(), key = f1)\n",
    "print('Max: ',key_max, mydict[key_max])"
   ]
  },
  {
   "cell_type": "code",
   "execution_count": null,
   "metadata": {},
   "outputs": [],
   "source": []
  },
  {
   "cell_type": "code",
   "execution_count": null,
   "metadata": {},
   "outputs": [],
   "source": []
  }
 ],
 "metadata": {
  "kernelspec": {
   "display_name": "Python 3",
   "language": "python",
   "name": "python3"
  },
  "language_info": {
   "codemirror_mode": {
    "name": "ipython",
    "version": 3
   },
   "file_extension": ".py",
   "mimetype": "text/x-python",
   "name": "python",
   "nbconvert_exporter": "python",
   "pygments_lexer": "ipython3",
   "version": "3.7.7"
  }
 },
 "nbformat": 4,
 "nbformat_minor": 4
}
