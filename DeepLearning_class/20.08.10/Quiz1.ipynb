1.#오후 연습문제 1(인스타그램에서 '제주도맛집' 키워드에 해당되는 게시글
#50개를 추출하여 results에 저장)
# results=[]

# for i in range(50):오후 4:58 2020-08-10
# data=get_content(driver)
# results.append(data)
# moveNext(driver)

# [[content, date, like, place, tags],
#  [content, date, like, place, tags],
#  [content, date, like, place, tags],
#  ...
#  [content, date, like, place, tags]]
# 총 50개 게시글이 저장됨 => 데이터프레임으로 저장하여 출력
from urllib.request import urlopen
from bs4 import BeautifulSoup
from selenium import webdriver
import time

driver = webdriver.Chrome('C:/PythonTest/mychrome/chromedriver.exe')
url = 'https://www.instagram.com/explore/tags/제주도맛집'
driver.get(url)

def firstBtn(driver):
    firstBtn = driver.find_element_by_css_selector('div._9AhH0')
    firstBtn.click()
    time.sleep(2)

def moveNext(driver):
    rightBtn = driver.find_element_by_css_selector('a.coreSprite')

#react-root > section > main > article > div.EZdmt > div > div > div:nth-child(1) > div:nth-child(1) > a > div.eLAPa > div._9AhH0
firstBtn(driver)