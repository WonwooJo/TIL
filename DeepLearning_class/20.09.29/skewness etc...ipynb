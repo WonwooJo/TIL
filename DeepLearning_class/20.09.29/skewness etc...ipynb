{
 "cells": [
  {
   "cell_type": "code",
   "execution_count": 49,
   "metadata": {},
   "outputs": [
    {
     "data": {
      "text/plain": [
       "'\\n유의 수준  / 유의 확률(p value)\\n\\n귀무 / 대립가설?\\n20대 남자들의 키와 30대 남자들의 키다 다르다\\n20대 와 30대 남자 30명씩 키측정 -> 각 집단 평균(기술통계)\\n표본으로 추론 -> 추론 통계: 가설을 세우고 그 가설을 입증\\n\\n귀무가설(처음 세운 가설): 20대와 30대 남자들의 키가 같을 것\\n대립가설(실험자가 입증해야하는 가설): 20대와 30대 남자들의 키가 다를 것이다.\\n\\n추론통계 -> 귀무가설을 기각!\\n\\nex) 가설: 범죄자가 범인이라는 가설을 입증하고자 한다면 -> 귀무가설: 범죄자는 범인이 아니다.\\n          귀무가설을 기각(범죄자가 범인이다) 입증 자료 수집.\\n\\n실험자가 범할 수 있는 오류\\n    1종 오류: 귀무가설이 참인데 기각을 한 경우(죄가 없는 범인이 죄가 있다고 말한 경우)\\n    2종 오류: 귀무가설이 거짓인데 기각을 하지 않은 경우(죄가 있는 범인이 죄가 없다고 말한 경우)\\n    심각성: 1종 > 2종\\n    \\n유의수준: 1종 오류를 범할 수 있는 최대 허용 한계\\nex) 유의수준 0.05(5%)로 정함 -> 100번 실험해서 1종 오류를 범할 수 있는 최대 허용 한계 5번.\\n    정밀도가 요구되는 실험의 경우 0.01(1%)\\n\\n유의확률: p-value, 1종 오류를 범할 확률\\nex) 0.05(5%) 100번 실험해서 1종 오류를 5번 범한 경우\\n의미? 95% 신뢰도로 귀무가설을 기각한다는 의미.\\n0 < p-values <= 1\\np-value < 유의수준 : 실험이 통계적으로 의미가 있다!\\n\\n상관 분석 시 고려 사항\\n- 산점도(scatter plot): 선형성 확인\\n  곡선형이면? -> 스피어만, 켄달 상관분석\\n- 상관관계가 있다고해서 반드시 인과관계가 있는 것은 아니다.\\n  ex3) 제 3변인(feature)의 문제\\n      서울에서 범죄 발생 건수와 종교 시설의 갯수 -> 양의 상관계수(종교시설이 많을수록 범죄 발생 ↑ )\\n                                              -> 제 3의 변인이 존재)\\n- 극단치(outlier)로 인한 인위적 상관관계가 있을 수 있음.\\n\\n회귀분석(regression): 독립변수(x), 종속변수(y)\\n혼입변수: 모델에는 포함되지 않지만, 종속변수에 영향을 주는 변수.\\n회귀분석: 종속변수가 연속인 경우, 분류는 종속변수 범주인 경우\\n  - 선형회귀분석: 독립변수와 종속변수 사이에 직선적인 형태의 관계가 있다고 가정하고 분석.\\n    직선적인 형태? 독립변수 증가 -> 종속 변수도 비례하여 증가 or 감소\\n    선형회귀모델에서 x라는 독립변수와 y라는 종속변수간의 관계를 수식으로 나타낸다면 \\n    y=wx+b(1차원 방정식, w:weight, b:bias(error))\\n    w: 가중치(or 회귀계수), 독립변수 x가 1증가하면 종속변수 y는 w만큼 증가함.\\n    b: 절편(독립변수가 0일때 종속변수 y의 값)\\n    \\n왜도 / 첨도\\n왜도(skewness): 데이터가 치우쳐져있는 정도 \\n중앙값 > 평균 (오른족 길게 늘어짐): 왜도가 0보다 큰 양수\\n중앙값 < 평균 (왼쪽 길게 늘어짐): 왜도가 0보다 작은 음수\\n좌우가 대칭(정규분포): 왜도가 0\\n\\n첨도: 데이터의 분포가 뾰족한 정도\\n정규분포: 첨도가 0 or 3?\\n중간이 뾰족한 경우: 첨도가 0(3)보다 큰 양수\\n중간이 평평한 경우: 첨도가 0(3)보다 작은 음수\\n\\n'"
      ]
     },
     "execution_count": 49,
     "metadata": {},
     "output_type": "execute_result"
    }
   ],
   "source": [
    "'''\n",
    "유의 수준  / 유의 확률(p value)\n",
    "\n",
    "귀무 / 대립가설?\n",
    "20대 남자들의 키와 30대 남자들의 키다 다르다\n",
    "20대 와 30대 남자 30명씩 키측정 -> 각 집단 평균(기술통계)\n",
    "표본으로 추론 -> 추론 통계: 가설을 세우고 그 가설을 입증\n",
    "\n",
    "귀무가설(처음 세운 가설): 20대와 30대 남자들의 키가 같을 것\n",
    "대립가설(실험자가 입증해야하는 가설): 20대와 30대 남자들의 키가 다를 것이다.\n",
    "\n",
    "추론통계 -> 귀무가설을 기각!\n",
    "\n",
    "ex) 가설: 범죄자가 범인이라는 가설을 입증하고자 한다면 -> 귀무가설: 범죄자는 범인이 아니다.\n",
    "          귀무가설을 기각(범죄자가 범인이다) 입증 자료 수집.\n",
    "\n",
    "실험자가 범할 수 있는 오류\n",
    "    1종 오류: 귀무가설이 참인데 기각을 한 경우(죄가 없는 범인이 죄가 있다고 말한 경우)\n",
    "    2종 오류: 귀무가설이 거짓인데 기각을 하지 않은 경우(죄가 있는 범인이 죄가 없다고 말한 경우)\n",
    "    심각성: 1종 > 2종\n",
    "    \n",
    "유의수준: 1종 오류를 범할 수 있는 최대 허용 한계\n",
    "ex) 유의수준 0.05(5%)로 정함 -> 100번 실험해서 1종 오류를 범할 수 있는 최대 허용 한계 5번.\n",
    "    정밀도가 요구되는 실험의 경우 0.01(1%)\n",
    "\n",
    "유의확률: p-value, 1종 오류를 범할 확률\n",
    "ex) 0.05(5%) 100번 실험해서 1종 오류를 5번 범한 경우\n",
    "의미? 95% 신뢰도로 귀무가설을 기각한다는 의미.\n",
    "0 < p-values <= 1\n",
    "p-value < 유의수준 : 실험이 통계적으로 의미가 있다!\n",
    "\n",
    "상관 분석 시 고려 사항\n",
    "- 산점도(scatter plot): 선형성 확인\n",
    "  곡선형이면? -> 스피어만, 켄달 상관분석\n",
    "- 상관관계가 있다고해서 반드시 인과관계가 있는 것은 아니다.\n",
    "  ex3) 제 3변인(feature)의 문제\n",
    "      서울에서 범죄 발생 건수와 종교 시설의 갯수 -> 양의 상관계수(종교시설이 많을수록 범죄 발생 ↑ )\n",
    "                                              -> 제 3의 변인이 존재)\n",
    "- 극단치(outlier)로 인한 인위적 상관관계가 있을 수 있음.\n",
    "\n",
    "회귀분석(regression): 독립변수(x), 종속변수(y)\n",
    "혼입변수: 모델에는 포함되지 않지만, 종속변수에 영향을 주는 변수.\n",
    "회귀분석: 종속변수가 연속인 경우, 분류는 종속변수 범주인 경우\n",
    "  - 선형회귀분석: 독립변수와 종속변수 사이에 직선적인 형태의 관계가 있다고 가정하고 분석.\n",
    "    직선적인 형태? 독립변수 증가 -> 종속 변수도 비례하여 증가 or 감소\n",
    "    선형회귀모델에서 x라는 독립변수와 y라는 종속변수간의 관계를 수식으로 나타낸다면 \n",
    "    y=wx+b(1차원 방정식, w:weight, b:bias(error))\n",
    "    w: 가중치(or 회귀계수), 독립변수 x가 1증가하면 종속변수 y는 w만큼 증가함.\n",
    "    b: 절편(독립변수가 0일때 종속변수 y의 값)\n",
    "    \n",
    "왜도 / 첨도\n",
    "왜도(skewness): 데이터가 치우쳐져있는 정도 \n",
    "중앙값 > 평균 (오른족 길게 늘어짐): 왜도가 0보다 큰 양수\n",
    "중앙값 < 평균 (왼쪽 길게 늘어짐): 왜도가 0보다 작은 음수\n",
    "좌우가 대칭(정규분포): 왜도가 0\n",
    "\n",
    "첨도: 데이터의 분포가 뾰족한 정도\n",
    "정규분포: 첨도가 0 or 3?\n",
    "중간이 뾰족한 경우: 첨도가 0(3)보다 큰 양수\n",
    "중간이 평평한 경우: 첨도가 0(3)보다 작은 음수\n",
    "\n",
    "'''"
   ]
  },
  {
   "cell_type": "code",
   "execution_count": 50,
   "metadata": {},
   "outputs": [
    {
     "data": {
      "text/plain": [
       "(array(['A', 'AB', 'B', 'O'], dtype='<U2'), array([3, 1, 2, 1], dtype=int64))"
      ]
     },
     "execution_count": 50,
     "metadata": {},
     "output_type": "execute_result"
    }
   ],
   "source": [
    "# 범주형\n",
    "bloodtype=['A','A','A','B','B','AB','O']\n",
    "np.unique(bloodtype,return_counts=True)"
   ]
  },
  {
   "cell_type": "code",
   "execution_count": 51,
   "metadata": {},
   "outputs": [
    {
     "data": {
      "text/plain": [
       "<matplotlib.axes._subplots.AxesSubplot at 0x1f81b4ba2c8>"
      ]
     },
     "execution_count": 51,
     "metadata": {},
     "output_type": "execute_result"
    },
    {
     "data": {
      "image/png": "[encoded data removed]",
      "text/plain": [
       "<Figure size 432x288 with 1 Axes>"
      ]
     },
     "metadata": {
      "needs_background": "light"
     },
     "output_type": "display_data"
    }
   ],
   "source": [
    "pd.Series(bloodtype).value_counts()\n",
    "sns.countplot(bloodtype)\n"
   ]
  },
  {
   "cell_type": "code",
   "execution_count": 52,
   "metadata": {},
   "outputs": [
    {
     "data": {
      "text/plain": [
       "(array([4, 1, 2, 3], dtype=int64), array([1., 3., 5., 7., 9.]))"
      ]
     },
     "execution_count": 52,
     "metadata": {},
     "output_type": "execute_result"
    }
   ],
   "source": [
    "# 연속형 변수\n",
    "x=[1,1,1,2,3,5,5,7,8,9]\n",
    "\n",
    "# 데이터 범위를 4구간으로 쪼갬\n",
    "np.histogram(x,4)"
   ]
  },
  {
   "cell_type": "code",
   "execution_count": 53,
   "metadata": {},
   "outputs": [
    {
     "data": {
      "text/plain": [
       "<matplotlib.axes._subplots.AxesSubplot at 0x1f81b5d6588>"
      ]
     },
     "execution_count": 53,
     "metadata": {},
     "output_type": "execute_result"
    },
    {
     "data": {
      "image/png": "[encoded data removed]",
      "text/plain": [
       "<Figure size 432x288 with 1 Axes>"
      ]
     },
     "metadata": {
      "needs_background": "light"
     },
     "output_type": "display_data"
    }
   ],
   "source": [
    "hist, edges = np.histogram(x,4)\n",
    "edges\n",
    "hist\n",
    "sns.distplot(x, bins=4,)"
   ]
  },
  {
   "cell_type": "code",
   "execution_count": 54,
   "metadata": {},
   "outputs": [
    {
     "data": {
      "text/plain": [
       "200.0"
      ]
     },
     "execution_count": 54,
     "metadata": {},
     "output_type": "execute_result"
    }
   ],
   "source": [
    "# 중심경향(평균, 최빈수, 중앙값): 자료 전체를 대표함!\n",
    "x=[100,100,200,400,500]\n",
    "np.mean(x) # 평균은 극단치(아웃라이어) 영향을 많이 받는다\n",
    "# 소득분포처럼 비대칭인 자료에 대해서는 평균값이 자료를 대표하기 어렵다.\n",
    "# -> 그래서 중위수를 구하지.\n",
    "np.median(x)"
   ]
  },
  {
   "cell_type": "code",
   "execution_count": 55,
   "metadata": {},
   "outputs": [
    {
     "data": {
      "text/plain": [
       "ModeResult(mode=array([100]), count=array([2]))"
      ]
     },
     "execution_count": 55,
     "metadata": {},
     "output_type": "execute_result"
    }
   ],
   "source": [
    "# 최빈수 구하기!\n",
    "from scipy.stats import mode\n",
    "mode(x)"
   ]
  },
  {
   "cell_type": "code",
   "execution_count": 56,
   "metadata": {},
   "outputs": [
    {
     "data": {
      "text/plain": [
       "8.36"
      ]
     },
     "execution_count": 56,
     "metadata": {},
     "output_type": "execute_result"
    }
   ],
   "source": [
    "# 데이터가 흩어진 정도(분산, 표준편차, 사분위)\n",
    "# 자료의 범위\n",
    "np.min(x)\n",
    "np.max(x) - np.min(x) # 자료 범위 (자료의 퍼짐 정도)\n",
    "# 분산: 평균으로부터 자료가 얼만큼 벗어나 있는지를 나타내는 정도\n",
    "# 데이터 - 평균 -> 제곱 -> 평균\n",
    "# 분산이 크다 -> 평균에서 많이 벗어나 있음.\n",
    "x=[1,1,1,2,3,5,5,7,8,9]\n",
    "np.var(x)"
   ]
  },
  {
   "cell_type": "code",
   "execution_count": 57,
   "metadata": {},
   "outputs": [
    {
     "data": {
      "text/plain": [
       "2.891366458960192"
      ]
     },
     "execution_count": 57,
     "metadata": {},
     "output_type": "execute_result"
    }
   ],
   "source": [
    "# 표준편차: 평균에서 데이터가 벗어난 정도를 수치화(분산의 양의 제곱근)\n",
    "# 표준편차를 왜쓰는지...\n",
    "np.std(x)\n",
    "np.sqrt(np.var(x))"
   ]
  },
  {
   "cell_type": "code",
   "execution_count": 58,
   "metadata": {},
   "outputs": [
    {
     "data": {
      "text/plain": [
       "5.25"
      ]
     },
     "execution_count": 58,
     "metadata": {},
     "output_type": "execute_result"
    }
   ],
   "source": [
    "# 사분위수: 전체 데이터를 오름차순 정렬 -> 4등분 -> 각 지점에 해당하는 값(1,2,3,4 분위수)\n",
    "np.quantile(x,.25) # 25%(1사분위수)\n",
    "np.quantile(x,.50) # 50%(2사분위수)\n",
    "np.quantile(x,.75) # 75%(3사분위수)\n",
    "\n",
    "# IQR: 3사분위수(Q3(75%)) - 1사분위수(Q1(25%))\n",
    "np.quantile(x,.75)-np.quantile(x,.25)\n",
    "\n",
    "# 대부분의 자료는 중심 부분에 많이 몰려있는 경향이 있음.\n",
    "# 평균에서 표준편차의 k배만큼 떨어져 있다 -> k 표준편차\n",
    "# 표준편차: 평균에서 떨어진 정도.\n",
    "# IQR: 중간값에서 벗어난 정도."
   ]
  },
  {
   "cell_type": "code",
   "execution_count": 59,
   "metadata": {},
   "outputs": [
    {
     "data": {
      "text/plain": [
       "[<matplotlib.lines.Line2D at 0x1f81b68ce08>]"
      ]
     },
     "execution_count": 59,
     "metadata": {},
     "output_type": "execute_result"
    },
    {
     "data": {
      "image/png": "[encoded data removed]",
      "text/plain": [
       "<Figure size 432x288 with 1 Axes>"
      ]
     },
     "metadata": {
      "needs_background": "light"
     },
     "output_type": "display_data"
    }
   ],
   "source": [
    "# 공분산(covarience): 두 변수가 함께 변화하는 정도를 나타내는 지표\n",
    "\n",
    "x=[7,3,6,6,9,4,3,9,3,5]\n",
    "y=[6,2,4,6,10,5,1,8,4,5]\n",
    "\n",
    "# 산점도(scatter plot)\n",
    "plt.plot(x,y,'o')"
   ]
  },
  {
   "cell_type": "code",
   "execution_count": 60,
   "metadata": {},
   "outputs": [
    {
     "name": "stdout",
     "output_type": "stream",
     "text": [
      "[[5.38888889 5.5       ]\n",
      " [5.5        6.98888889]]\n",
      "**************************************************\n",
      "5.499999999999999\n"
     ]
    }
   ],
   "source": [
    "print(np.cov(x,y))\n",
    "print('*'*50)\n",
    "print(np.cov(x,y)[0,1]) # covarience"
   ]
  },
  {
   "cell_type": "code",
   "execution_count": 61,
   "metadata": {},
   "outputs": [
    {
     "data": {
      "text/plain": [
       "0.8962083932927004"
      ]
     },
     "execution_count": 61,
     "metadata": {},
     "output_type": "execute_result"
    }
   ],
   "source": [
    "# 공분산 해석:\n",
    "# + : 두 변수가 같은 방향으로 변화\n",
    "# - : 두 변수가 반대 방향으로 변화\n",
    "# 0 : 두 변수가 독립(아무 상관 없음\n",
    "# cov(x,y): 5\n",
    "# cov(a,b): 100\n",
    "# ==> x와 y보다 a와 b가 더 크게 변화한다?\n",
    "\n",
    "# 상관계수: 두 변수가 함께 변하는 정도, -1 ~ +1\n",
    "# 일반적으로 피어슨 상관계수를 씀.\n",
    "np.corrcoef(x,y)[0,1]"
   ]
  },
  {
   "cell_type": "code",
   "execution_count": 62,
   "metadata": {},
   "outputs": [
    {
     "data": {
      "text/plain": [
       "0.8962083932927"
      ]
     },
     "execution_count": 62,
     "metadata": {},
     "output_type": "execute_result"
    }
   ],
   "source": [
    "# x와 y의 공분산\n",
    "cov = np.cov(x,y)[0,1]\n",
    "cov\n",
    "\n",
    "# 표준편차\n",
    "xsd =  np.std(x,ddof = 1) # x의 표본 표준편차\n",
    "ysd =  np.std(y,ddof = 1) # y의 표본 표준편차\n",
    "cov/(xsd*ysd) # 피어슨 상관계수 (ddof가 0일때 다른 이유: 표본은 값을 n-1로 나눔 / 모는 n으로 나누고!)"
   ]
  },
  {
   "cell_type": "code",
   "execution_count": 63,
   "metadata": {},
   "outputs": [
    {
     "data": {
      "text/plain": [
       "0.8051175601825398"
      ]
     },
     "execution_count": 63,
     "metadata": {},
     "output_type": "execute_result"
    }
   ],
   "source": [
    "# 상관계수를 제곱하면? 분산(변화량)에서 공유하는 비율.\n",
    "# ex) x, y의 상관계수가 0.7 -> 제곱 = 0.49 (49%)\n",
    "# x의 분산 중 49%를 y와 공유한다는 의미 => x의 분산 중 49%가 y로 설명할 수 있다.\n",
    "\n",
    "# 기본적으로 피어슨 상관계수는 선형적인 관계를 측정한다.\n",
    "#  -> 비선형적인 변화의 경우 잘 측정하지 못함.\n",
    "#     -> 스피어만 상관계수\n",
    "\n",
    "# 스피어만 상관계수\n",
    "# 서열 척도, 비선형적인 관계.\n",
    "import scipy.stats\n",
    "scipy.stats.spearmanr(x,y).correlation\n",
    "\n",
    "# 켄달: 비선형적 & 서열척도(표본이 적을때)\n",
    "scipy.stats.kendalltau(x,y).correlation"
   ]
  },
  {
   "cell_type": "code",
   "execution_count": 64,
   "metadata": {},
   "outputs": [],
   "source": [
    "# 상관계수 통계적 검증\n",
    "x=[7,3,6,6,9,4,3,9,3,5]\n",
    "y=[6,2,4,6,10,5,1,8,4,5]"
   ]
  },
  {
   "cell_type": "code",
   "execution_count": 65,
   "metadata": {},
   "outputs": [
    {
     "data": {
      "text/plain": [
       "(0.8962083932927004, 0.00044718052488489286)"
      ]
     },
     "execution_count": 65,
     "metadata": {},
     "output_type": "execute_result"
    }
   ],
   "source": [
    "scipy.stats.pearsonr(x,y)\n",
    "# 상관계수: 0.89 / p value: 0.00045\n",
    "# p value: 0.05(보통 임계치), 0.005로 해야하지 않느냐는 이슈가 있음\n",
    "# p value < 0.05 -> 통계적으로 유의미하다고 표현함.\n"
   ]
  },
  {
   "cell_type": "code",
   "execution_count": null,
   "metadata": {},
   "outputs": [],
   "source": []
  },
  {
   "cell_type": "code",
   "execution_count": null,
   "metadata": {},
   "outputs": [],
   "source": []
  },
  {
   "cell_type": "code",
   "execution_count": 66,
   "metadata": {},
   "outputs": [],
   "source": [
    "import pandas as pd\n",
    "import numpy as np\n",
    "import matplotlib.pyplot as plt\n",
    "import seaborn as sns"
   ]
  },
  {
   "cell_type": "code",
   "execution_count": 67,
   "metadata": {},
   "outputs": [],
   "source": [
    "df = pd.read_csv(\"cars.csv\")"
   ]
  },
  {
   "cell_type": "code",
   "execution_count": 68,
   "metadata": {},
   "outputs": [
    {
     "data": {
      "text/plain": [
       "<matplotlib.axes._subplots.AxesSubplot at 0x1f81b6d7f08>"
      ]
     },
     "execution_count": 68,
     "metadata": {},
     "output_type": "execute_result"
    },
    {
     "data": {
      "image/png": "[encoded data removed]",
      "text/plain": [
       "<Figure size 432x288 with 1 Axes>"
      ]
     },
     "metadata": {
      "needs_background": "light"
     },
     "output_type": "display_data"
    }
   ],
   "source": [
    "#독립변수:speed, 종속변수:dist\n",
    "#산점도 & 선형적인 패턴 확인\n",
    "sns.regplot('speed', 'dist', lowess=True, data=df)"
   ]
  },
  {
   "cell_type": "code",
   "execution_count": 69,
   "metadata": {},
   "outputs": [
    {
     "data": {
      "text/plain": [
       "Text(0.5, 1.0, 'car dist')"
      ]
     },
     "execution_count": 69,
     "metadata": {},
     "output_type": "execute_result"
    },
    {
     "data": {
      "image/png": "[encoded data removed]",
      "text/plain": [
       "<Figure size 432x288 with 2 Axes>"
      ]
     },
     "metadata": {
      "needs_background": "light"
     },
     "output_type": "display_data"
    }
   ],
   "source": [
    "# 박스 plot -> 극단값 확인\n",
    "fig, (ax1, ax2) = plt.subplots(1,2)\n",
    "sns.boxplot('speed',data=df,ax=ax1,orient='v')\n",
    "ax1.set_title('car speed')\n",
    "\n",
    "sns.boxplot('dist',data=df,ax=ax2,orient='v') # 극단값 존재. 무시 가능?\n",
    "ax1.set_title('car dist')\n",
    "\n",
    "# 선형회귀분석: 독립변수와 종속변수가 정규분포를 따를 때 작동을 잘한다.\n",
    "# 밀도 plot: 정규분포 형태 확인"
   ]
  },
  {
   "cell_type": "code",
   "execution_count": 70,
   "metadata": {},
   "outputs": [
    {
     "data": {
      "text/plain": [
       "Text(0.5, 1.0, 'car dist')"
      ]
     },
     "execution_count": 70,
     "metadata": {},
     "output_type": "execute_result"
    },
    {
     "data": {
      "image/png": "[encoded data removed]",
      "text/plain": [
       "<Figure size 432x288 with 2 Axes>"
      ]
     },
     "metadata": {
      "needs_background": "light"
     },
     "output_type": "display_data"
    }
   ],
   "source": [
    "# 왜도\n",
    "fig, (ax1, ax2) = plt.subplots(1,2)\n",
    "sns.kdeplot(df['speed'],ax=ax1)\n",
    "ax1.set_title('car speed')\n",
    "\n",
    "sns.kdeplot(df['dist'],ax=ax2,) # 약간 왼쪽으로 치우쳤지만 괜찮아.\n",
    "ax1.set_title('car dist')"
   ]
  },
  {
   "cell_type": "code",
   "execution_count": 71,
   "metadata": {},
   "outputs": [
    {
     "data": {
      "text/plain": [
       "0.7824835173114966"
      ]
     },
     "execution_count": 71,
     "metadata": {},
     "output_type": "execute_result"
    }
   ],
   "source": [
    "# 첨도\n",
    "import scipy.stats\n",
    "scipy.stats.skew(df['speed'])\n",
    "scipy.stats.skew(df['dist'])"
   ]
  },
  {
   "cell_type": "code",
   "execution_count": 72,
   "metadata": {},
   "outputs": [],
   "source": [
    "#회귀분석 함수 가져오기|\n",
    "from statsmodels.formula.api import ols"
   ]
  },
  {
   "cell_type": "code",
   "execution_count": 73,
   "metadata": {},
   "outputs": [],
   "source": [
    "res=ols(\"dist~speed\",data=df).fit()#  종속변수 ~ 독립변수, 회귀 모델 생성"
   ]
  },
  {
   "cell_type": "code",
   "execution_count": 74,
   "metadata": {},
   "outputs": [
    {
     "data": {
      "text/html": [
       "<table class=\"simpletable\">\n",
       "<caption>OLS Regression Results</caption>\n",
       "<tr>\n",
       "  <th>Dep. Variable:</th>          <td>dist</td>       <th>  R-squared:         </th> <td>   0.651</td>\n",
       "</tr>\n",
       "<tr>\n",
       "  <th>Model:</th>                   <td>OLS</td>       <th>  Adj. R-squared:    </th> <td>   0.644</td>\n",
       "</tr>\n",
       "<tr>\n",
       "  <th>Method:</th>             <td>Least Squares</td>  <th>  F-statistic:       </th> <td>   89.57</td>\n",
       "</tr>\n",
       "<tr>\n",
       "  <th>Date:</th>             <td>Tue, 29 Sep 2020</td> <th>  Prob (F-statistic):</th> <td>1.49e-12</td>\n",
       "</tr>\n",
       "<tr>\n",
       "  <th>Time:</th>                 <td>17:15:43</td>     <th>  Log-Likelihood:    </th> <td> -206.58</td>\n",
       "</tr>\n",
       "<tr>\n",
       "  <th>No. Observations:</th>      <td>    50</td>      <th>  AIC:               </th> <td>   417.2</td>\n",
       "</tr>\n",
       "<tr>\n",
       "  <th>Df Residuals:</th>          <td>    48</td>      <th>  BIC:               </th> <td>   421.0</td>\n",
       "</tr>\n",
       "<tr>\n",
       "  <th>Df Model:</th>              <td>     1</td>      <th>                     </th>     <td> </td>   \n",
       "</tr>\n",
       "<tr>\n",
       "  <th>Covariance Type:</th>      <td>nonrobust</td>    <th>                     </th>     <td> </td>   \n",
       "</tr>\n",
       "</table>\n",
       "<table class=\"simpletable\">\n",
       "<tr>\n",
       "      <td></td>         <th>coef</th>     <th>std err</th>      <th>t</th>      <th>P>|t|</th>  <th>[0.025</th>    <th>0.975]</th>  \n",
       "</tr>\n",
       "<tr>\n",
       "  <th>Intercept</th> <td>  -17.5791</td> <td>    6.758</td> <td>   -2.601</td> <td> 0.012</td> <td>  -31.168</td> <td>   -3.990</td>\n",
       "</tr>\n",
       "<tr>\n",
       "  <th>speed</th>     <td>    3.9324</td> <td>    0.416</td> <td>    9.464</td> <td> 0.000</td> <td>    3.097</td> <td>    4.768</td>\n",
       "</tr>\n",
       "</table>\n",
       "<table class=\"simpletable\">\n",
       "<tr>\n",
       "  <th>Omnibus:</th>       <td> 8.975</td> <th>  Durbin-Watson:     </th> <td>   1.676</td>\n",
       "</tr>\n",
       "<tr>\n",
       "  <th>Prob(Omnibus):</th> <td> 0.011</td> <th>  Jarque-Bera (JB):  </th> <td>   8.189</td>\n",
       "</tr>\n",
       "<tr>\n",
       "  <th>Skew:</th>          <td> 0.885</td> <th>  Prob(JB):          </th> <td>  0.0167</td>\n",
       "</tr>\n",
       "<tr>\n",
       "  <th>Kurtosis:</th>      <td> 3.893</td> <th>  Cond. No.          </th> <td>    50.7</td>\n",
       "</tr>\n",
       "</table><br/><br/>Warnings:<br/>[1] Standard Errors assume that the covariance matrix of the errors is correctly specified."
      ],
      "text/plain": [
       "<class 'statsmodels.iolib.summary.Summary'>\n",
       "\"\"\"\n",
       "                            OLS Regression Results                            \n",
       "==============================================================================\n",
       "Dep. Variable:                   dist   R-squared:                       0.651\n",
       "Model:                            OLS   Adj. R-squared:                  0.644\n",
       "Method:                 Least Squares   F-statistic:                     89.57\n",
       "Date:                Tue, 29 Sep 2020   Prob (F-statistic):           1.49e-12\n",
       "Time:                        17:15:43   Log-Likelihood:                -206.58\n",
       "No. Observations:                  50   AIC:                             417.2\n",
       "Df Residuals:                      48   BIC:                             421.0\n",
       "Df Model:                           1                                         \n",
       "Covariance Type:            nonrobust                                         \n",
       "==============================================================================\n",
       "                 coef    std err          t      P>|t|      [0.025      0.975]\n",
       "------------------------------------------------------------------------------\n",
       "Intercept    -17.5791      6.758     -2.601      0.012     -31.168      -3.990\n",
       "speed          3.9324      0.416      9.464      0.000       3.097       4.768\n",
       "==============================================================================\n",
       "Omnibus:                        8.975   Durbin-Watson:                   1.676\n",
       "Prob(Omnibus):                  0.011   Jarque-Bera (JB):                8.189\n",
       "Skew:                           0.885   Prob(JB):                       0.0167\n",
       "Kurtosis:                       3.893   Cond. No.                         50.7\n",
       "==============================================================================\n",
       "\n",
       "Warnings:\n",
       "[1] Standard Errors assume that the covariance matrix of the errors is correctly specified.\n",
       "\"\"\""
      ]
     },
     "execution_count": 74,
     "metadata": {},
     "output_type": "execute_result"
    }
   ],
   "source": [
    "res.summary() #회귀 모델 요약 정보\n",
    "\"\"\"\n",
    "R-squared : 모델 설명력, dist의 분산을 speed가 약 65%를 설명\n",
    "\n",
    "Prob (F-statistic) :1.49e-12 통계적 유의미함 ( p<0.05)\n",
    "\n",
    "회귀계수 : \n",
    "dist=-17.5791 + 3.9324*speed\n",
    "\n",
    "speed가 1증가하면, dist는 3.9324 증가한다\n",
    "\n",
    "\n",
    "결론:\n",
    "회귀분석 결과\n",
    "dist에 대하여  speed 로 예측하는 회귀분석을 실시한 결과, 이 회귀모델은 통계적으로 유의미함\n",
    "(F-statistic:89.57, p<0.05)\n",
    "\n",
    "독립변수에 대하여 speed의 회귀계수는 3.9324로, dist에 대하여 유의미한 예측 변수라는 것이 나타남\n",
    "p<0.05\n",
    "\n",
    "\n",
    "\"\"\""
   ]
  },
  {
   "cell_type": "code",
   "execution_count": null,
   "metadata": {},
   "outputs": [],
   "source": []
  },
  {
   "cell_type": "code",
   "execution_count": null,
   "metadata": {},
   "outputs": [],
   "source": []
  }
 ],
 "metadata": {
  "kernelspec": {
   "display_name": "Python 3",
   "language": "python",
   "name": "python3"
  },
  "language_info": {
   "codemirror_mode": {
    "name": "ipython",
    "version": 3
   },
   "file_extension": ".py",
   "mimetype": "text/x-python",
   "name": "python",
   "nbconvert_exporter": "python",
   "pygments_lexer": "ipython3",
   "version": "3.7.7"
  }
 },
 "nbformat": 4,
 "nbformat_minor": 4
}
