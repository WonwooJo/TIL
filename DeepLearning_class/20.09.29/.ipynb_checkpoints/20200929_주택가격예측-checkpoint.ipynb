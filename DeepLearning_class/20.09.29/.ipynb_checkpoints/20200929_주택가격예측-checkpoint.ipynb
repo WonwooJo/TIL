{
 "cells": [
  {
   "cell_type": "code",
   "execution_count": 4,
   "metadata": {},
   "outputs": [],
   "source": [
    "import pandas as pd\n",
    "import numpy as np\n",
    "import matplotlib.pyplot as plt\n",
    "import seaborn as sns"
   ]
  },
  {
   "cell_type": "code",
   "execution_count": 11,
   "metadata": {},
   "outputs": [],
   "source": [
    "train=pd.read_csv(\"train.csv\")\n",
    "test=pd.read_csv(\"test.csv\")"
   ]
  },
  {
   "cell_type": "code",
   "execution_count": 12,
   "metadata": {},
   "outputs": [],
   "source": [
    "#randomforest regression"
   ]
  },
  {
   "cell_type": "code",
   "execution_count": 13,
   "metadata": {},
   "outputs": [
    {
     "data": {
      "text/html": [
       "<div>\n",
       "<style scoped>\n",
       "    .dataframe tbody tr th:only-of-type {\n",
       "        vertical-align: middle;\n",
       "    }\n",
       "\n",
       "    .dataframe tbody tr th {\n",
       "        vertical-align: top;\n",
       "    }\n",
       "\n",
       "    .dataframe thead th {\n",
       "        text-align: right;\n",
       "    }\n",
       "</style>\n",
       "<table border=\"1\" class=\"dataframe\">\n",
       "  <thead>\n",
       "    <tr style=\"text-align: right;\">\n",
       "      <th></th>\n",
       "      <th>Id</th>\n",
       "      <th>MSSubClass</th>\n",
       "      <th>MSZoning</th>\n",
       "      <th>LotFrontage</th>\n",
       "      <th>LotArea</th>\n",
       "      <th>Street</th>\n",
       "      <th>Alley</th>\n",
       "      <th>LotShape</th>\n",
       "      <th>LandContour</th>\n",
       "      <th>Utilities</th>\n",
       "      <th>...</th>\n",
       "      <th>PoolArea</th>\n",
       "      <th>PoolQC</th>\n",
       "      <th>Fence</th>\n",
       "      <th>MiscFeature</th>\n",
       "      <th>MiscVal</th>\n",
       "      <th>MoSold</th>\n",
       "      <th>YrSold</th>\n",
       "      <th>SaleType</th>\n",
       "      <th>SaleCondition</th>\n",
       "      <th>SalePrice</th>\n",
       "    </tr>\n",
       "  </thead>\n",
       "  <tbody>\n",
       "    <tr>\n",
       "      <th>0</th>\n",
       "      <td>1</td>\n",
       "      <td>60</td>\n",
       "      <td>RL</td>\n",
       "      <td>65.0</td>\n",
       "      <td>8450</td>\n",
       "      <td>Pave</td>\n",
       "      <td>NaN</td>\n",
       "      <td>Reg</td>\n",
       "      <td>Lvl</td>\n",
       "      <td>AllPub</td>\n",
       "      <td>...</td>\n",
       "      <td>0</td>\n",
       "      <td>NaN</td>\n",
       "      <td>NaN</td>\n",
       "      <td>NaN</td>\n",
       "      <td>0</td>\n",
       "      <td>2</td>\n",
       "      <td>2008</td>\n",
       "      <td>WD</td>\n",
       "      <td>Normal</td>\n",
       "      <td>208500</td>\n",
       "    </tr>\n",
       "    <tr>\n",
       "      <th>1</th>\n",
       "      <td>2</td>\n",
       "      <td>20</td>\n",
       "      <td>RL</td>\n",
       "      <td>80.0</td>\n",
       "      <td>9600</td>\n",
       "      <td>Pave</td>\n",
       "      <td>NaN</td>\n",
       "      <td>Reg</td>\n",
       "      <td>Lvl</td>\n",
       "      <td>AllPub</td>\n",
       "      <td>...</td>\n",
       "      <td>0</td>\n",
       "      <td>NaN</td>\n",
       "      <td>NaN</td>\n",
       "      <td>NaN</td>\n",
       "      <td>0</td>\n",
       "      <td>5</td>\n",
       "      <td>2007</td>\n",
       "      <td>WD</td>\n",
       "      <td>Normal</td>\n",
       "      <td>181500</td>\n",
       "    </tr>\n",
       "    <tr>\n",
       "      <th>2</th>\n",
       "      <td>3</td>\n",
       "      <td>60</td>\n",
       "      <td>RL</td>\n",
       "      <td>68.0</td>\n",
       "      <td>11250</td>\n",
       "      <td>Pave</td>\n",
       "      <td>NaN</td>\n",
       "      <td>IR1</td>\n",
       "      <td>Lvl</td>\n",
       "      <td>AllPub</td>\n",
       "      <td>...</td>\n",
       "      <td>0</td>\n",
       "      <td>NaN</td>\n",
       "      <td>NaN</td>\n",
       "      <td>NaN</td>\n",
       "      <td>0</td>\n",
       "      <td>9</td>\n",
       "      <td>2008</td>\n",
       "      <td>WD</td>\n",
       "      <td>Normal</td>\n",
       "      <td>223500</td>\n",
       "    </tr>\n",
       "    <tr>\n",
       "      <th>3</th>\n",
       "      <td>4</td>\n",
       "      <td>70</td>\n",
       "      <td>RL</td>\n",
       "      <td>60.0</td>\n",
       "      <td>9550</td>\n",
       "      <td>Pave</td>\n",
       "      <td>NaN</td>\n",
       "      <td>IR1</td>\n",
       "      <td>Lvl</td>\n",
       "      <td>AllPub</td>\n",
       "      <td>...</td>\n",
       "      <td>0</td>\n",
       "      <td>NaN</td>\n",
       "      <td>NaN</td>\n",
       "      <td>NaN</td>\n",
       "      <td>0</td>\n",
       "      <td>2</td>\n",
       "      <td>2006</td>\n",
       "      <td>WD</td>\n",
       "      <td>Abnorml</td>\n",
       "      <td>140000</td>\n",
       "    </tr>\n",
       "    <tr>\n",
       "      <th>4</th>\n",
       "      <td>5</td>\n",
       "      <td>60</td>\n",
       "      <td>RL</td>\n",
       "      <td>84.0</td>\n",
       "      <td>14260</td>\n",
       "      <td>Pave</td>\n",
       "      <td>NaN</td>\n",
       "      <td>IR1</td>\n",
       "      <td>Lvl</td>\n",
       "      <td>AllPub</td>\n",
       "      <td>...</td>\n",
       "      <td>0</td>\n",
       "      <td>NaN</td>\n",
       "      <td>NaN</td>\n",
       "      <td>NaN</td>\n",
       "      <td>0</td>\n",
       "      <td>12</td>\n",
       "      <td>2008</td>\n",
       "      <td>WD</td>\n",
       "      <td>Normal</td>\n",
       "      <td>250000</td>\n",
       "    </tr>\n",
       "  </tbody>\n",
       "</table>\n",
       "<p>5 rows × 81 columns</p>\n",
       "</div>"
      ],
      "text/plain": [
       "   Id  MSSubClass MSZoning  LotFrontage  LotArea Street Alley LotShape  \\\n",
       "0   1          60       RL         65.0     8450   Pave   NaN      Reg   \n",
       "1   2          20       RL         80.0     9600   Pave   NaN      Reg   \n",
       "2   3          60       RL         68.0    11250   Pave   NaN      IR1   \n",
       "3   4          70       RL         60.0     9550   Pave   NaN      IR1   \n",
       "4   5          60       RL         84.0    14260   Pave   NaN      IR1   \n",
       "\n",
       "  LandContour Utilities  ... PoolArea PoolQC Fence MiscFeature MiscVal MoSold  \\\n",
       "0         Lvl    AllPub  ...        0    NaN   NaN         NaN       0      2   \n",
       "1         Lvl    AllPub  ...        0    NaN   NaN         NaN       0      5   \n",
       "2         Lvl    AllPub  ...        0    NaN   NaN         NaN       0      9   \n",
       "3         Lvl    AllPub  ...        0    NaN   NaN         NaN       0      2   \n",
       "4         Lvl    AllPub  ...        0    NaN   NaN         NaN       0     12   \n",
       "\n",
       "  YrSold  SaleType  SaleCondition  SalePrice  \n",
       "0   2008        WD         Normal     208500  \n",
       "1   2007        WD         Normal     181500  \n",
       "2   2008        WD         Normal     223500  \n",
       "3   2006        WD        Abnorml     140000  \n",
       "4   2008        WD         Normal     250000  \n",
       "\n",
       "[5 rows x 81 columns]"
      ]
     },
     "execution_count": 13,
     "metadata": {},
     "output_type": "execute_result"
    }
   ],
   "source": [
    "train.head()\n",
    "#test.head()"
   ]
  },
  {
   "cell_type": "code",
   "execution_count": 16,
   "metadata": {},
   "outputs": [
    {
     "data": {
      "text/plain": [
       "LotFrontage      259\n",
       "Alley           1369\n",
       "MasVnrType         8\n",
       "MasVnrArea         8\n",
       "BsmtQual          37\n",
       "BsmtCond          37\n",
       "BsmtExposure      38\n",
       "BsmtFinType1      37\n",
       "BsmtFinType2      38\n",
       "Electrical         1\n",
       "FireplaceQu      690\n",
       "GarageType        81\n",
       "GarageYrBlt       81\n",
       "GarageFinish      81\n",
       "GarageQual        81\n",
       "GarageCond        81\n",
       "PoolQC          1453\n",
       "Fence           1179\n",
       "MiscFeature     1406\n",
       "dtype: int64"
      ]
     },
     "execution_count": 16,
     "metadata": {},
     "output_type": "execute_result"
    }
   ],
   "source": [
    "train.isnull().sum()[train.isnull().sum()>0]\n",
    "#print(train.info)"
   ]
  },
  {
   "cell_type": "code",
   "execution_count": 17,
   "metadata": {},
   "outputs": [],
   "source": [
    "\n",
    "train=train.drop(['Alley', 'FireplaceQu','PoolQC','Fence','MiscFeature'], axis=1)\n",
    "test=test.drop(['Alley', 'FireplaceQu','PoolQC','Fence','MiscFeature'], axis=1)"
   ]
  },
  {
   "cell_type": "code",
   "execution_count": 18,
   "metadata": {},
   "outputs": [],
   "source": [
    "corr=train.corr()\n",
    "import seaborn as sns\n",
    "import matplotlib.pyplot as plt"
   ]
  },
  {
   "cell_type": "code",
   "execution_count": 27,
   "metadata": {},
   "outputs": [
    {
     "data": {
      "text/plain": [
       "(array([ 0.5,  1.5,  2.5,  3.5,  4.5,  5.5,  6.5,  7.5,  8.5,  9.5, 10.5,\n",
       "        11.5, 12.5, 13.5, 14.5, 15.5, 16.5, 17.5, 18.5, 19.5, 20.5, 21.5,\n",
       "        22.5, 23.5, 24.5, 25.5, 26.5, 27.5, 28.5, 29.5, 30.5, 31.5, 32.5,\n",
       "        33.5, 34.5, 35.5, 36.5, 37.5]),\n",
       " <a list of 38 Text major ticklabel objects>)"
      ]
     },
     "execution_count": 27,
     "metadata": {},
     "output_type": "execute_result"
    },
    {
     "data": {
      "image/png": "[encoded data removed]",
      "text/plain": [
       "<Figure size 720x720 with 2 Axes>"
      ]
     },
     "metadata": {
      "needs_background": "light"
     },
     "output_type": "display_data"
    }
   ],
   "source": [
    "plt.figure(figsize=(10,10))\n",
    "sns.heatmap(corr)\n",
    "plt.xticks(rotation=60, size=7)\n",
    "plt.yticks(rotation=0, size=7)\n",
    "\n",
    "#퀴즈\n",
    "#각 컬럼과 salesprice 컬럼간의 상관계수가 0.5보다 큰 데이터에 대해 히트맵으로 출력하시오"
   ]
  },
  {
   "cell_type": "code",
   "execution_count": 32,
   "metadata": {},
   "outputs": [
    {
     "data": {
      "text/plain": [
       "OverallQual     0.790982\n",
       "GrLivArea       0.708624\n",
       "GarageCars      0.640409\n",
       "GarageArea      0.623431\n",
       "TotalBsmtSF     0.613581\n",
       "1stFlrSF        0.605852\n",
       "FullBath        0.560664\n",
       "TotRmsAbvGrd    0.533723\n",
       "YearBuilt       0.522897\n",
       "YearRemodAdd    0.507101\n",
       "Name: SalePrice, dtype: float64"
      ]
     },
     "execution_count": 32,
     "metadata": {},
     "output_type": "execute_result"
    }
   ],
   "source": [
    "corr.SalePrice\n",
    "\n",
    "#퀴즈1.\n",
    "#SalePrice 값을 기준으로 내림차순 정렬하고, 가장 큰값에 해당하는 10개의 feature 명을 출력\n",
    "\n",
    "\"\"\"\n",
    "상관계수의 절대값의 크기는 직선관계에 가까운 정도\n",
    "부호는 직선관계의 방향\n",
    "corr>0 => 점들이 우상향방향으로 띠를 형성, 직선 기울기 양수\n",
    "corr<0 => 점들이 우하향방향으로 띠를 형성, 직선 기울기 음수\n",
    "\n",
    "자료 형태 : 양적/질적 자료\n",
    "양적 자료 : 수치형 자료 => 연속형, 이산형 자료로 구분\n",
    "질적 자료 : 범주형 자료 => 명목형, 순서형 자료로 구분\n",
    "\n",
    "1) 수치형\n",
    "연속형? 값이 끊어지지 않고 연속적으로 이어지는 자료(키, 몸무게 등)\n",
    "이산형? 정수로 나누어지는 자료(수술 횟수 등)\n",
    "\n",
    "2) 범주형\n",
    "명목형? 범주들 간에 순서적인 의미가 없는 자료(혈액형 등)\n",
    "순서형? 범주들 간에 순서적인 의미가 있는 자료(학점, 아주좋음,좋음,보통... 등)\n",
    "\n",
    "상관계수는 자료 형태에 따라 종류가 나누어짐\n",
    "\n",
    "1)피어슨 상관계수(모수적 방법) : 연속형 & 연속형 상관계수\n",
    "-두 변수가 모두 정규성을 따른다는 가정이 필요(모수적 방법)\n",
    "\n",
    "모수?모집단 통계치(평균, 표준편차, 분산 등)\n",
    "\n",
    "모수적 방법? ( 피어슨 상관분석)\n",
    "중심극한정리? 모집단에서 표본크기가 n인 표본(30개 이상)을 여러 번 추출(예:100번 추출)했을때\n",
    "\n",
    "표본평균분포 : 1번째 추출:표본평균, ... 100번째 추출:표본 평균 들이 이루는 분포\n",
    "중심극한정리는 표본의 크기가 커질수록(30개 이상), 표본 평균들이 이루는 분포가 모집단의 평균과\n",
    "모집단의 표준편차가 정규분포에 가까워진다는 정리\n",
    "\n",
    "2)\n",
    "비모수적 방법? (스피어만 상관분석, 켄달)\n",
    "정규분포를 따르지 않는다고 증명 or 표본이 (30개 미만, 10개 미만) 소규모인 경우에는 정규분포임을\n",
    "가정할 수 없을때 비모수적 방법을 사용.\n",
    "자료를 크기 순으로 배열 -> 순위(서열) 매김 -> 순위 합계를 구해서 합계간의 차이를 비교\n",
    "\n",
    "\n",
    "3)\n",
    "명목형(이산형)&명목형(이산형) : 파이계수\n",
    "두 변수가 모두 binary일때 두 변수간의 상관 계수\n",
    "\n",
    "\n",
    "|상관계수|\n",
    "0.7이상 => 상관관계가 매우 강함\n",
    "0.3이상 => 상관관계가 있음\n",
    "0.1~0.3 => 매우 약한 상관관계가 있음\n",
    "0~0.1 => 무상관\n",
    "\n",
    "척도? 변수 값을 표현하는 수준\n",
    "명명척도(혈액형), 서열척도(순서형,직급), 등간척도(순서 & 간격 일정, 연산 가능)\n",
    "\n",
    "\"\"\"\n",
    "corr.SalePrice.sort_values(ascending = False)[1:11]\n",
    "corr.SalePrice[np.argsort(-corr.SalePrice)][1:11]\n",
    "corr.SalePrice.sort_values(axis=0,ascending=False)[1:11]\n",
    "\n",
    "\n",
    "\n"
   ]
  },
  {
   "cell_type": "code",
   "execution_count": null,
   "metadata": {},
   "outputs": [],
   "source": []
  },
  {
   "cell_type": "code",
   "execution_count": 110,
   "metadata": {},
   "outputs": [
    {
     "data": {
      "text/plain": [
       "<matplotlib.axes._subplots.AxesSubplot at 0x27664949f70>"
      ]
     },
     "execution_count": 110,
     "metadata": {},
     "output_type": "execute_result"
    },
    {
     "data": {
      "image/png": "[encoded data removed]",
      "text/plain": [
       "<Figure size 576x576 with 2 Axes>"
      ]
     },
     "metadata": {
      "needs_background": "light"
     },
     "output_type": "display_data"
    }
   ],
   "source": [
    "rev=corr.SalePrice[corr.SalePrice>0.5]\n",
    "rev\n",
    "rev_cols=list(rev.index.values)\n",
    "rev_cols\n",
    "\n",
    "corr2=train[rev_cols].corr()\n",
    "\n",
    "plt.figure(figsize=(8,8))\n",
    "sns.heatmap(corr2, annot=True, annot_kws={'size':7})"
   ]
  },
  {
   "cell_type": "code",
   "execution_count": null,
   "metadata": {},
   "outputs": [],
   "source": []
  },
  {
   "cell_type": "code",
   "execution_count": 111,
   "metadata": {
    "scrolled": true
   },
   "outputs": [
    {
     "data": {
      "text/html": [
       "<div>\n",
       "<style scoped>\n",
       "    .dataframe tbody tr th:only-of-type {\n",
       "        vertical-align: middle;\n",
       "    }\n",
       "\n",
       "    .dataframe tbody tr th {\n",
       "        vertical-align: top;\n",
       "    }\n",
       "\n",
       "    .dataframe thead th {\n",
       "        text-align: right;\n",
       "    }\n",
       "</style>\n",
       "<table border=\"1\" class=\"dataframe\">\n",
       "  <thead>\n",
       "    <tr style=\"text-align: right;\">\n",
       "      <th></th>\n",
       "      <th>OverallQual</th>\n",
       "      <th>YearBuilt</th>\n",
       "      <th>YearRemodAdd</th>\n",
       "      <th>TotalBsmtSF</th>\n",
       "      <th>1stFlrSF</th>\n",
       "      <th>GrLivArea</th>\n",
       "      <th>FullBath</th>\n",
       "      <th>TotRmsAbvGrd</th>\n",
       "      <th>GarageCars</th>\n",
       "      <th>GarageArea</th>\n",
       "      <th>SalePrice</th>\n",
       "    </tr>\n",
       "  </thead>\n",
       "  <tbody>\n",
       "    <tr>\n",
       "      <th>OverallQual</th>\n",
       "      <td>1.000000</td>\n",
       "      <td>0.572323</td>\n",
       "      <td>0.550684</td>\n",
       "      <td>0.537808</td>\n",
       "      <td>0.476224</td>\n",
       "      <td>0.593007</td>\n",
       "      <td>0.550600</td>\n",
       "      <td>0.427452</td>\n",
       "      <td>0.600671</td>\n",
       "      <td>0.562022</td>\n",
       "      <td>0.790982</td>\n",
       "    </tr>\n",
       "    <tr>\n",
       "      <th>YearBuilt</th>\n",
       "      <td>0.572323</td>\n",
       "      <td>1.000000</td>\n",
       "      <td>0.592855</td>\n",
       "      <td>0.391452</td>\n",
       "      <td>0.281986</td>\n",
       "      <td>0.199010</td>\n",
       "      <td>0.468271</td>\n",
       "      <td>0.095589</td>\n",
       "      <td>0.537850</td>\n",
       "      <td>0.478954</td>\n",
       "      <td>0.522897</td>\n",
       "    </tr>\n",
       "    <tr>\n",
       "      <th>YearRemodAdd</th>\n",
       "      <td>0.550684</td>\n",
       "      <td>0.592855</td>\n",
       "      <td>1.000000</td>\n",
       "      <td>0.291066</td>\n",
       "      <td>0.240379</td>\n",
       "      <td>0.287389</td>\n",
       "      <td>0.439046</td>\n",
       "      <td>0.191740</td>\n",
       "      <td>0.420622</td>\n",
       "      <td>0.371600</td>\n",
       "      <td>0.507101</td>\n",
       "    </tr>\n",
       "    <tr>\n",
       "      <th>TotalBsmtSF</th>\n",
       "      <td>0.537808</td>\n",
       "      <td>0.391452</td>\n",
       "      <td>0.291066</td>\n",
       "      <td>1.000000</td>\n",
       "      <td>0.819530</td>\n",
       "      <td>0.454868</td>\n",
       "      <td>0.323722</td>\n",
       "      <td>0.285573</td>\n",
       "      <td>0.434585</td>\n",
       "      <td>0.486665</td>\n",
       "      <td>0.613581</td>\n",
       "    </tr>\n",
       "    <tr>\n",
       "      <th>1stFlrSF</th>\n",
       "      <td>0.476224</td>\n",
       "      <td>0.281986</td>\n",
       "      <td>0.240379</td>\n",
       "      <td>0.819530</td>\n",
       "      <td>1.000000</td>\n",
       "      <td>0.566024</td>\n",
       "      <td>0.380637</td>\n",
       "      <td>0.409516</td>\n",
       "      <td>0.439317</td>\n",
       "      <td>0.489782</td>\n",
       "      <td>0.605852</td>\n",
       "    </tr>\n",
       "    <tr>\n",
       "      <th>GrLivArea</th>\n",
       "      <td>0.593007</td>\n",
       "      <td>0.199010</td>\n",
       "      <td>0.287389</td>\n",
       "      <td>0.454868</td>\n",
       "      <td>0.566024</td>\n",
       "      <td>1.000000</td>\n",
       "      <td>0.630012</td>\n",
       "      <td>0.825489</td>\n",
       "      <td>0.467247</td>\n",
       "      <td>0.468997</td>\n",
       "      <td>0.708624</td>\n",
       "    </tr>\n",
       "    <tr>\n",
       "      <th>FullBath</th>\n",
       "      <td>0.550600</td>\n",
       "      <td>0.468271</td>\n",
       "      <td>0.439046</td>\n",
       "      <td>0.323722</td>\n",
       "      <td>0.380637</td>\n",
       "      <td>0.630012</td>\n",
       "      <td>1.000000</td>\n",
       "      <td>0.554784</td>\n",
       "      <td>0.469672</td>\n",
       "      <td>0.405656</td>\n",
       "      <td>0.560664</td>\n",
       "    </tr>\n",
       "    <tr>\n",
       "      <th>TotRmsAbvGrd</th>\n",
       "      <td>0.427452</td>\n",
       "      <td>0.095589</td>\n",
       "      <td>0.191740</td>\n",
       "      <td>0.285573</td>\n",
       "      <td>0.409516</td>\n",
       "      <td>0.825489</td>\n",
       "      <td>0.554784</td>\n",
       "      <td>1.000000</td>\n",
       "      <td>0.362289</td>\n",
       "      <td>0.337822</td>\n",
       "      <td>0.533723</td>\n",
       "    </tr>\n",
       "    <tr>\n",
       "      <th>GarageCars</th>\n",
       "      <td>0.600671</td>\n",
       "      <td>0.537850</td>\n",
       "      <td>0.420622</td>\n",
       "      <td>0.434585</td>\n",
       "      <td>0.439317</td>\n",
       "      <td>0.467247</td>\n",
       "      <td>0.469672</td>\n",
       "      <td>0.362289</td>\n",
       "      <td>1.000000</td>\n",
       "      <td>0.882475</td>\n",
       "      <td>0.640409</td>\n",
       "    </tr>\n",
       "    <tr>\n",
       "      <th>GarageArea</th>\n",
       "      <td>0.562022</td>\n",
       "      <td>0.478954</td>\n",
       "      <td>0.371600</td>\n",
       "      <td>0.486665</td>\n",
       "      <td>0.489782</td>\n",
       "      <td>0.468997</td>\n",
       "      <td>0.405656</td>\n",
       "      <td>0.337822</td>\n",
       "      <td>0.882475</td>\n",
       "      <td>1.000000</td>\n",
       "      <td>0.623431</td>\n",
       "    </tr>\n",
       "    <tr>\n",
       "      <th>SalePrice</th>\n",
       "      <td>0.790982</td>\n",
       "      <td>0.522897</td>\n",
       "      <td>0.507101</td>\n",
       "      <td>0.613581</td>\n",
       "      <td>0.605852</td>\n",
       "      <td>0.708624</td>\n",
       "      <td>0.560664</td>\n",
       "      <td>0.533723</td>\n",
       "      <td>0.640409</td>\n",
       "      <td>0.623431</td>\n",
       "      <td>1.000000</td>\n",
       "    </tr>\n",
       "  </tbody>\n",
       "</table>\n",
       "</div>"
      ],
      "text/plain": [
       "              OverallQual  YearBuilt  YearRemodAdd  TotalBsmtSF  1stFlrSF  \\\n",
       "OverallQual      1.000000   0.572323      0.550684     0.537808  0.476224   \n",
       "YearBuilt        0.572323   1.000000      0.592855     0.391452  0.281986   \n",
       "YearRemodAdd     0.550684   0.592855      1.000000     0.291066  0.240379   \n",
       "TotalBsmtSF      0.537808   0.391452      0.291066     1.000000  0.819530   \n",
       "1stFlrSF         0.476224   0.281986      0.240379     0.819530  1.000000   \n",
       "GrLivArea        0.593007   0.199010      0.287389     0.454868  0.566024   \n",
       "FullBath         0.550600   0.468271      0.439046     0.323722  0.380637   \n",
       "TotRmsAbvGrd     0.427452   0.095589      0.191740     0.285573  0.409516   \n",
       "GarageCars       0.600671   0.537850      0.420622     0.434585  0.439317   \n",
       "GarageArea       0.562022   0.478954      0.371600     0.486665  0.489782   \n",
       "SalePrice        0.790982   0.522897      0.507101     0.613581  0.605852   \n",
       "\n",
       "              GrLivArea  FullBath  TotRmsAbvGrd  GarageCars  GarageArea  \\\n",
       "OverallQual    0.593007  0.550600      0.427452    0.600671    0.562022   \n",
       "YearBuilt      0.199010  0.468271      0.095589    0.537850    0.478954   \n",
       "YearRemodAdd   0.287389  0.439046      0.191740    0.420622    0.371600   \n",
       "TotalBsmtSF    0.454868  0.323722      0.285573    0.434585    0.486665   \n",
       "1stFlrSF       0.566024  0.380637      0.409516    0.439317    0.489782   \n",
       "GrLivArea      1.000000  0.630012      0.825489    0.467247    0.468997   \n",
       "FullBath       0.630012  1.000000      0.554784    0.469672    0.405656   \n",
       "TotRmsAbvGrd   0.825489  0.554784      1.000000    0.362289    0.337822   \n",
       "GarageCars     0.467247  0.469672      0.362289    1.000000    0.882475   \n",
       "GarageArea     0.468997  0.405656      0.337822    0.882475    1.000000   \n",
       "SalePrice      0.708624  0.560664      0.533723    0.640409    0.623431   \n",
       "\n",
       "              SalePrice  \n",
       "OverallQual    0.790982  \n",
       "YearBuilt      0.522897  \n",
       "YearRemodAdd   0.507101  \n",
       "TotalBsmtSF    0.613581  \n",
       "1stFlrSF       0.605852  \n",
       "GrLivArea      0.708624  \n",
       "FullBath       0.560664  \n",
       "TotRmsAbvGrd   0.533723  \n",
       "GarageCars     0.640409  \n",
       "GarageArea     0.623431  \n",
       "SalePrice      1.000000  "
      ]
     },
     "execution_count": 111,
     "metadata": {},
     "output_type": "execute_result"
    }
   ],
   "source": [
    "import numpy as np\n",
    "corr=train.corr()\n",
    "corrsales=corr[np.abs(corr['SalePrice'])>0.5].index\n",
    "train=pd.DataFrame(train, columns=corrsales)\n",
    "corr=train.corr()\n",
    "corr"
   ]
  },
  {
   "cell_type": "code",
   "execution_count": 121,
   "metadata": {},
   "outputs": [],
   "source": [
    "rel_vars=corr.SalePrice[corr.SalePrice>0.5]\n",
    "rel_cols=list(rel_vars.index.values)"
   ]
  },
  {
   "cell_type": "code",
   "execution_count": 126,
   "metadata": {},
   "outputs": [
    {
     "data": {
      "text/plain": [
       "<matplotlib.axes._subplots.AxesSubplot at 0x2766555a760>"
      ]
     },
     "execution_count": 126,
     "metadata": {},
     "output_type": "execute_result"
    },
    {
     "data": {
      "image/png": "[encoded data removed]",
      "text/plain": [
       "<Figure size 576x576 with 2 Axes>"
      ]
     },
     "metadata": {
      "needs_background": "light"
     },
     "output_type": "display_data"
    }
   ],
   "source": [
    "corr2=train[rel_cols].corr()\n",
    "\n",
    "plt.figure(figsize=(8,8))\n",
    "sns.heatmap(corr2, annot=True, annot_kws={'size':7})"
   ]
  },
  {
   "cell_type": "code",
   "execution_count": 127,
   "metadata": {},
   "outputs": [
    {
     "data": {
      "text/html": [
       "<div>\n",
       "<style scoped>\n",
       "    .dataframe tbody tr th:only-of-type {\n",
       "        vertical-align: middle;\n",
       "    }\n",
       "\n",
       "    .dataframe tbody tr th {\n",
       "        vertical-align: top;\n",
       "    }\n",
       "\n",
       "    .dataframe thead th {\n",
       "        text-align: right;\n",
       "    }\n",
       "</style>\n",
       "<table border=\"1\" class=\"dataframe\">\n",
       "  <thead>\n",
       "    <tr style=\"text-align: right;\">\n",
       "      <th></th>\n",
       "      <th>OverallQual</th>\n",
       "      <th>YearBuilt</th>\n",
       "      <th>YearRemodAdd</th>\n",
       "      <th>TotalBsmtSF</th>\n",
       "      <th>1stFlrSF</th>\n",
       "      <th>GrLivArea</th>\n",
       "      <th>FullBath</th>\n",
       "      <th>TotRmsAbvGrd</th>\n",
       "      <th>GarageCars</th>\n",
       "      <th>GarageArea</th>\n",
       "      <th>SalePrice</th>\n",
       "    </tr>\n",
       "  </thead>\n",
       "  <tbody>\n",
       "    <tr>\n",
       "      <th>0</th>\n",
       "      <td>7</td>\n",
       "      <td>2003</td>\n",
       "      <td>2003</td>\n",
       "      <td>856</td>\n",
       "      <td>856</td>\n",
       "      <td>1710</td>\n",
       "      <td>2</td>\n",
       "      <td>8</td>\n",
       "      <td>2</td>\n",
       "      <td>548</td>\n",
       "      <td>208500</td>\n",
       "    </tr>\n",
       "    <tr>\n",
       "      <th>1</th>\n",
       "      <td>6</td>\n",
       "      <td>1976</td>\n",
       "      <td>1976</td>\n",
       "      <td>1262</td>\n",
       "      <td>1262</td>\n",
       "      <td>1262</td>\n",
       "      <td>2</td>\n",
       "      <td>6</td>\n",
       "      <td>2</td>\n",
       "      <td>460</td>\n",
       "      <td>181500</td>\n",
       "    </tr>\n",
       "    <tr>\n",
       "      <th>2</th>\n",
       "      <td>7</td>\n",
       "      <td>2001</td>\n",
       "      <td>2002</td>\n",
       "      <td>920</td>\n",
       "      <td>920</td>\n",
       "      <td>1786</td>\n",
       "      <td>2</td>\n",
       "      <td>6</td>\n",
       "      <td>2</td>\n",
       "      <td>608</td>\n",
       "      <td>223500</td>\n",
       "    </tr>\n",
       "    <tr>\n",
       "      <th>3</th>\n",
       "      <td>7</td>\n",
       "      <td>1915</td>\n",
       "      <td>1970</td>\n",
       "      <td>756</td>\n",
       "      <td>961</td>\n",
       "      <td>1717</td>\n",
       "      <td>1</td>\n",
       "      <td>7</td>\n",
       "      <td>3</td>\n",
       "      <td>642</td>\n",
       "      <td>140000</td>\n",
       "    </tr>\n",
       "    <tr>\n",
       "      <th>4</th>\n",
       "      <td>8</td>\n",
       "      <td>2000</td>\n",
       "      <td>2000</td>\n",
       "      <td>1145</td>\n",
       "      <td>1145</td>\n",
       "      <td>2198</td>\n",
       "      <td>2</td>\n",
       "      <td>9</td>\n",
       "      <td>3</td>\n",
       "      <td>836</td>\n",
       "      <td>250000</td>\n",
       "    </tr>\n",
       "    <tr>\n",
       "      <th>...</th>\n",
       "      <td>...</td>\n",
       "      <td>...</td>\n",
       "      <td>...</td>\n",
       "      <td>...</td>\n",
       "      <td>...</td>\n",
       "      <td>...</td>\n",
       "      <td>...</td>\n",
       "      <td>...</td>\n",
       "      <td>...</td>\n",
       "      <td>...</td>\n",
       "      <td>...</td>\n",
       "    </tr>\n",
       "    <tr>\n",
       "      <th>1455</th>\n",
       "      <td>6</td>\n",
       "      <td>1999</td>\n",
       "      <td>2000</td>\n",
       "      <td>953</td>\n",
       "      <td>953</td>\n",
       "      <td>1647</td>\n",
       "      <td>2</td>\n",
       "      <td>7</td>\n",
       "      <td>2</td>\n",
       "      <td>460</td>\n",
       "      <td>175000</td>\n",
       "    </tr>\n",
       "    <tr>\n",
       "      <th>1456</th>\n",
       "      <td>6</td>\n",
       "      <td>1978</td>\n",
       "      <td>1988</td>\n",
       "      <td>1542</td>\n",
       "      <td>2073</td>\n",
       "      <td>2073</td>\n",
       "      <td>2</td>\n",
       "      <td>7</td>\n",
       "      <td>2</td>\n",
       "      <td>500</td>\n",
       "      <td>210000</td>\n",
       "    </tr>\n",
       "    <tr>\n",
       "      <th>1457</th>\n",
       "      <td>7</td>\n",
       "      <td>1941</td>\n",
       "      <td>2006</td>\n",
       "      <td>1152</td>\n",
       "      <td>1188</td>\n",
       "      <td>2340</td>\n",
       "      <td>2</td>\n",
       "      <td>9</td>\n",
       "      <td>1</td>\n",
       "      <td>252</td>\n",
       "      <td>266500</td>\n",
       "    </tr>\n",
       "    <tr>\n",
       "      <th>1458</th>\n",
       "      <td>5</td>\n",
       "      <td>1950</td>\n",
       "      <td>1996</td>\n",
       "      <td>1078</td>\n",
       "      <td>1078</td>\n",
       "      <td>1078</td>\n",
       "      <td>1</td>\n",
       "      <td>5</td>\n",
       "      <td>1</td>\n",
       "      <td>240</td>\n",
       "      <td>142125</td>\n",
       "    </tr>\n",
       "    <tr>\n",
       "      <th>1459</th>\n",
       "      <td>5</td>\n",
       "      <td>1965</td>\n",
       "      <td>1965</td>\n",
       "      <td>1256</td>\n",
       "      <td>1256</td>\n",
       "      <td>1256</td>\n",
       "      <td>1</td>\n",
       "      <td>6</td>\n",
       "      <td>1</td>\n",
       "      <td>276</td>\n",
       "      <td>147500</td>\n",
       "    </tr>\n",
       "  </tbody>\n",
       "</table>\n",
       "<p>1460 rows × 11 columns</p>\n",
       "</div>"
      ],
      "text/plain": [
       "      OverallQual  YearBuilt  YearRemodAdd  TotalBsmtSF  1stFlrSF  GrLivArea  \\\n",
       "0               7       2003          2003          856       856       1710   \n",
       "1               6       1976          1976         1262      1262       1262   \n",
       "2               7       2001          2002          920       920       1786   \n",
       "3               7       1915          1970          756       961       1717   \n",
       "4               8       2000          2000         1145      1145       2198   \n",
       "...           ...        ...           ...          ...       ...        ...   \n",
       "1455            6       1999          2000          953       953       1647   \n",
       "1456            6       1978          1988         1542      2073       2073   \n",
       "1457            7       1941          2006         1152      1188       2340   \n",
       "1458            5       1950          1996         1078      1078       1078   \n",
       "1459            5       1965          1965         1256      1256       1256   \n",
       "\n",
       "      FullBath  TotRmsAbvGrd  GarageCars  GarageArea  SalePrice  \n",
       "0            2             8           2         548     208500  \n",
       "1            2             6           2         460     181500  \n",
       "2            2             6           2         608     223500  \n",
       "3            1             7           3         642     140000  \n",
       "4            2             9           3         836     250000  \n",
       "...        ...           ...         ...         ...        ...  \n",
       "1455         2             7           2         460     175000  \n",
       "1456         2             7           2         500     210000  \n",
       "1457         2             9           1         252     266500  \n",
       "1458         1             5           1         240     142125  \n",
       "1459         1             6           1         276     147500  \n",
       "\n",
       "[1460 rows x 11 columns]"
      ]
     },
     "execution_count": 127,
     "metadata": {},
     "output_type": "execute_result"
    }
   ],
   "source": [
    "train"
   ]
  },
  {
   "cell_type": "code",
   "execution_count": 132,
   "metadata": {},
   "outputs": [],
   "source": [
    "x=train[rel_cols[:-1]].values\n",
    "y=train.iloc[:,-1].values"
   ]
  },
  {
   "cell_type": "code",
   "execution_count": 135,
   "metadata": {},
   "outputs": [],
   "source": [
    "from sklearn.model_selection import train_test_split\n",
    "xtrain, xtest, ytrain, ytest=train_test_split(x,y, test_size=0.2, random_state=0)"
   ]
  },
  {
   "cell_type": "code",
   "execution_count": 136,
   "metadata": {},
   "outputs": [
    {
     "name": "stdout",
     "output_type": "stream",
     "text": [
      "1168\n",
      "292\n",
      "1168\n",
      "292\n"
     ]
    }
   ],
   "source": [
    "print(len(xtrain))\n",
    "print(len(xtest))\n",
    "print(len(ytrain))\n",
    "print(len(ytest))\n"
   ]
  },
  {
   "cell_type": "code",
   "execution_count": null,
   "metadata": {},
   "outputs": [],
   "source": []
  },
  {
   "cell_type": "code",
   "execution_count": null,
   "metadata": {},
   "outputs": [],
   "source": []
  },
  {
   "cell_type": "code",
   "execution_count": null,
   "metadata": {},
   "outputs": [],
   "source": []
  },
  {
   "cell_type": "code",
   "execution_count": null,
   "metadata": {},
   "outputs": [],
   "source": []
  },
  {
   "cell_type": "code",
   "execution_count": null,
   "metadata": {},
   "outputs": [],
   "source": []
  },
  {
   "cell_type": "code",
   "execution_count": null,
   "metadata": {},
   "outputs": [],
   "source": []
  },
  {
   "cell_type": "code",
   "execution_count": 40,
   "metadata": {},
   "outputs": [
    {
     "data": {
      "text/plain": [
       "<matplotlib.axes._subplots.AxesSubplot at 0x2765e3df670>"
      ]
     },
     "execution_count": 40,
     "metadata": {},
     "output_type": "execute_result"
    },
    {
     "data": {
      "image/png": "[encoded data removed]",
      "text/plain": [
       "<Figure size 432x288 with 1 Axes>"
      ]
     },
     "metadata": {
      "needs_background": "light"
     },
     "output_type": "display_data"
    }
   ],
   "source": [
    "#범주형\n",
    "bloodtype=['A','A','A','B','B','AB','O']\n",
    "np.unique(bloodtype)\n",
    "np.unique(bloodtype, return_counts=True)\n",
    "#np.unique(bloodtype, return_counts=True)[1]\n",
    "#np.unique(bloodtype, return_counts=True)[1][0]\n",
    "\n",
    "pd.Series(bloodtype)\n",
    "pd.Series(bloodtype).value_counts()\n",
    "\n",
    "sns.countplot(bloodtype)\n"
   ]
  },
  {
   "cell_type": "code",
   "execution_count": null,
   "metadata": {},
   "outputs": [],
   "source": []
  },
  {
   "cell_type": "code",
   "execution_count": 46,
   "metadata": {},
   "outputs": [
    {
     "data": {
      "text/plain": [
       "<matplotlib.axes._subplots.AxesSubplot at 0x2765ee64610>"
      ]
     },
     "execution_count": 46,
     "metadata": {},
     "output_type": "execute_result"
    },
    {
     "data": {
      "image/png": "[encoded data removed]",
      "text/plain": [
       "<Figure size 432x288 with 1 Axes>"
      ]
     },
     "metadata": {
      "needs_background": "light"
     },
     "output_type": "display_data"
    }
   ],
   "source": [
    "#연속형 변수\n",
    "x=[1,1,1,2,3,5,5,7,8,9]\n",
    "\n",
    "#데이터 범위를 4구간\n",
    "hist, egdes=np.histogram(x,4) #구간 경계 : array([1., 3., 5., 7., 9.])\n",
    "egdes\n",
    "hist\n",
    "\n",
    "sns.distplot(x, bins=4, kde=False)\n"
   ]
  },
  {
   "cell_type": "code",
   "execution_count": 51,
   "metadata": {},
   "outputs": [
    {
     "data": {
      "text/plain": [
       "ModeResult(mode=array([100]), count=array([2]))"
      ]
     },
     "execution_count": 51,
     "metadata": {},
     "output_type": "execute_result"
    }
   ],
   "source": [
    "#중심경향치(평균, 최빈수, 중앙값):자료 전체 대표\n",
    "x=[100,100,200,400,500]\n",
    "np.mean(x) #평균은 극단치(아웃라이어) 영향을 잘 받는다\n",
    "#소득 분포처럼 비대칭인 자료에 대해서는 평균값이 자료를 대표하기 어려움\n",
    "np.median(x) # 중위수는 극단치(아웃라이어) 영향을 잘 받지 않는다\n",
    "\n",
    "from scipy.stats import mode\n",
    "mode(x)"
   ]
  },
  {
   "cell_type": "code",
   "execution_count": 55,
   "metadata": {},
   "outputs": [
    {
     "data": {
      "text/plain": [
       "8.36"
      ]
     },
     "execution_count": 55,
     "metadata": {},
     "output_type": "execute_result"
    }
   ],
   "source": [
    "x=[1,1,1,2,3,5,5,7,8,9]\n",
    "#흩어진 정도(분산, 표준편차, 사분위)\n",
    "np.min(x)\n",
    "np.max(x)-np.min(x) #자료 범위(자료의 퍼짐 정도)\n",
    "#분산?평균으로부터 자료가 얼마나 벗어나 있는지를 나타내는 정도\n",
    "#데이터-평균 -> 제곱 -> 평균\n",
    "#분산이 큼? 데이터가 평균에서 많이 벗어나 있다\n",
    "#분산이 작음? 데이터가 평균 주변에 모여 있다\n",
    "np.var(x)"
   ]
  },
  {
   "cell_type": "code",
   "execution_count": 57,
   "metadata": {},
   "outputs": [
    {
     "data": {
      "text/plain": [
       "2.891366458960192"
      ]
     },
     "execution_count": 57,
     "metadata": {},
     "output_type": "execute_result"
    }
   ],
   "source": [
    "#표준편차?평균에서 데이터가 벗어난 정도를 수치화\n",
    "#분산의 양의 제곱근\n",
    "np.std(x)\n",
    "\n",
    "np.sqrt(np.var(x))"
   ]
  },
  {
   "cell_type": "code",
   "execution_count": null,
   "metadata": {},
   "outputs": [],
   "source": [
    "#IQR:3사분위수(Q3,75%) - 1사분위수(Q1,25%)\n",
    "#사분위수:데이터를 오름차순 정렬 -> 4등분 -> 각 지점에 해당되는 값(1,2,3,4 사분위수)"
   ]
  },
  {
   "cell_type": "code",
   "execution_count": 58,
   "metadata": {},
   "outputs": [
    {
     "data": {
      "text/plain": [
       "[1, 1, 1, 2, 3, 5, 5, 7, 8, 9]"
      ]
     },
     "execution_count": 58,
     "metadata": {},
     "output_type": "execute_result"
    }
   ],
   "source": [
    "x"
   ]
  },
  {
   "cell_type": "code",
   "execution_count": 65,
   "metadata": {},
   "outputs": [
    {
     "data": {
      "text/plain": [
       "5.25"
      ]
     },
     "execution_count": 65,
     "metadata": {},
     "output_type": "execute_result"
    }
   ],
   "source": [
    "np.quantile(x, .25) #25%(1사분위수)\n",
    "np.quantile(x, .5)\n",
    "np.quantile(x, .75)\n",
    "np.median(x)\n",
    "\n",
    "#iqr\n",
    "np.quantile(x, .75)-np.quantile(x, .25)\n",
    "\n",
    "#대부분의 자료는 중심 부분에 많이 몰려있는 경향이 있음\n",
    "#평균에서 표준편차의 k배 만큼 떨어져 있다 -> k 표준편차\n",
    "\n",
    "#표준편차 : 평균에서 떨어진 정도 \n",
    "#IQR : 중간값에서 벗어난 정도"
   ]
  },
  {
   "cell_type": "code",
   "execution_count": 73,
   "metadata": {},
   "outputs": [],
   "source": [
    "#공분산(covariance) : 두 변수가 함께 변화하는 정도를 나타내는 지표\n",
    "x=[7,3,6,6,9,4,3,9,3,5]\n",
    "y=[6,2,4,6,10,5,1,8,4,5]"
   ]
  },
  {
   "cell_type": "code",
   "execution_count": 74,
   "metadata": {},
   "outputs": [
    {
     "data": {
      "text/plain": [
       "[<matplotlib.lines.Line2D at 0x2765eebebb0>]"
      ]
     },
     "execution_count": 74,
     "metadata": {},
     "output_type": "execute_result"
    },
    {
     "data": {
      "image/png": "[encoded data removed]",
      "text/plain": [
       "<Figure size 432x288 with 1 Axes>"
      ]
     },
     "metadata": {
      "needs_background": "light"
     },
     "output_type": "display_data"
    }
   ],
   "source": [
    "#산점도(scatter plot)\n",
    "plt.plot(x,y, 'o')"
   ]
  },
  {
   "cell_type": "code",
   "execution_count": 75,
   "metadata": {},
   "outputs": [
    {
     "name": "stdout",
     "output_type": "stream",
     "text": [
      "[[5.38888889 5.5       ]\n",
      " [5.5        6.98888889]]\n",
      "5.5\n"
     ]
    }
   ],
   "source": [
    "print(np.cov(x,y))\n",
    "print(np.cov(x,y)[0,1])"
   ]
  },
  {
   "cell_type": "code",
   "execution_count": 76,
   "metadata": {},
   "outputs": [
    {
     "data": {
      "text/plain": [
       "4.85"
      ]
     },
     "execution_count": 76,
     "metadata": {},
     "output_type": "execute_result"
    }
   ],
   "source": [
    "np.var(x)"
   ]
  },
  {
   "cell_type": "code",
   "execution_count": 77,
   "metadata": {},
   "outputs": [
    {
     "data": {
      "text/plain": [
       "6.290000000000001"
      ]
     },
     "execution_count": 77,
     "metadata": {},
     "output_type": "execute_result"
    }
   ],
   "source": [
    "np.var(y)"
   ]
  },
  {
   "cell_type": "code",
   "execution_count": null,
   "metadata": {},
   "outputs": [],
   "source": [
    "#공분산 해석:\n",
    "#+: 두 변수가 같은 방향으로 변화\n",
    "#-: 두 변수가 반대 방향으로 변화\n",
    "#0:두 변수가 독립\n",
    "\n",
    "#cov(x,y):5\n",
    "#cov(a,b):1000"
   ]
  },
  {
   "cell_type": "code",
   "execution_count": null,
   "metadata": {},
   "outputs": [],
   "source": []
  },
  {
   "cell_type": "code",
   "execution_count": null,
   "metadata": {},
   "outputs": [],
   "source": [
    "#상관계수 : 두 변수가 함께 변하는 정도, -1~+1"
   ]
  },
  {
   "cell_type": "code",
   "execution_count": 88,
   "metadata": {},
   "outputs": [
    {
     "data": {
      "text/plain": [
       "0.8962083932927005"
      ]
     },
     "execution_count": 88,
     "metadata": {},
     "output_type": "execute_result"
    }
   ],
   "source": [
    "#피어슨 상관계수(일반적)\n",
    "np.corrcoef(x,y)\n",
    "np.corrcoef(x,y)[0,1] #상관계수"
   ]
  },
  {
   "cell_type": "code",
   "execution_count": 89,
   "metadata": {},
   "outputs": [
    {
     "data": {
      "text/plain": [
       "0.8962083932927002"
      ]
     },
     "execution_count": 89,
     "metadata": {},
     "output_type": "execute_result"
    }
   ],
   "source": [
    "#x,y의 공분산\n",
    "cov=np.cov(x,y)[0,1]\n",
    "cov #5.5\n",
    "xsd=np.std(x,ddof= 1)#x의 표본표준편차, 2.202271554554524\n",
    "ysd=np.std(y,ddof= 1)#y의 표본표준편차, 2.507987240796891\n",
    "cov/(xsd*ysd)"
   ]
  },
  {
   "cell_type": "code",
   "execution_count": null,
   "metadata": {},
   "outputs": [],
   "source": [
    "#상관계수를 제곱하면? 분산(변화량)에서 공유하는 비율\n",
    "#ex) x,y의 상관계수가 0.7 -> 제곱하면 0.49(49%)\n",
    "#49%? x의 분산중 49%를 y와 공유한다는 의미임. x의 분산 중 49%가 y 로 설명할 수 있음.\n",
    "\n",
    "#피어슨 상관계수는 선형적인 관계 측정. 비선형적인 변화의 경우에는 잘 측정하지 못함"
   ]
  },
  {
   "cell_type": "code",
   "execution_count": 90,
   "metadata": {},
   "outputs": [
    {
     "data": {
      "text/plain": [
       "0.8972354465472708"
      ]
     },
     "execution_count": 90,
     "metadata": {},
     "output_type": "execute_result"
    }
   ],
   "source": [
    "#스피어만 상관계수\n",
    "#서열척도, 비선형적인 관계\n",
    "import scipy.stats\n",
    "scipy.stats.spearmanr(x,y).correlation"
   ]
  },
  {
   "cell_type": "code",
   "execution_count": 91,
   "metadata": {},
   "outputs": [
    {
     "data": {
      "text/plain": [
       "0.8051175601825398"
      ]
     },
     "execution_count": 91,
     "metadata": {},
     "output_type": "execute_result"
    }
   ],
   "source": [
    "scipy.stats.kendalltau(x,y).correlation\n",
    "#켄달 상관계수: 비선형적 & 서열척도(표본이 작을때)"
   ]
  },
  {
   "cell_type": "code",
   "execution_count": null,
   "metadata": {},
   "outputs": [],
   "source": [
    "#상관계수 통계적 검증"
   ]
  },
  {
   "cell_type": "code",
   "execution_count": 93,
   "metadata": {},
   "outputs": [],
   "source": [
    "x=[7,3,6,6,9,4,3,9,3,5]\n",
    "y=[6,2,4,6,10,5,1,8,4,5]"
   ]
  },
  {
   "cell_type": "code",
   "execution_count": 94,
   "metadata": {},
   "outputs": [],
   "source": [
    "import scipy.stats"
   ]
  },
  {
   "cell_type": "code",
   "execution_count": 95,
   "metadata": {},
   "outputs": [
    {
     "data": {
      "text/plain": [
       "(0.8962083932927005, 0.000447180524884891)"
      ]
     },
     "execution_count": 95,
     "metadata": {},
     "output_type": "execute_result"
    }
   ],
   "source": [
    "scipy.stats.pearsonr(x,y)\n",
    "#상관계수 : 0.89, p value : 0.0004\n",
    "\n",
    "#p value? 0.05(임계치), p값이 0.05보다 작은경우 \"통계적으로 유의미하다\" 표현\n",
    "\"\"\"\n",
    "유의수준, 유의확률(p value), 귀무/대립 가설, 1종/2종 오류\n",
    "\n",
    "귀무/대립 가설?\n",
    "\n",
    "\"20대 남자들의 키와 30대 남자들의 키가 다르다.\"\"\n",
    "\n",
    "20대와 30대 남자들 각 30명씩 -> 키 측정 -> 각 집단 평균(기술통계)\n",
    "\n",
    "표본으로 추론 -> 추론 통계: 가설을 세우고 => 그 가설을 입증\n",
    "\n",
    "귀무 가설 (처음 세운 가설) : 20대 남자들과 30대 남자들의 키가 같을 것이다\n",
    "대립 가설 (실험자가 입증해야 하는 가설) : 20대 남자들의 키와 30대 남자들의 키가 다를 것이다\n",
    "\n",
    "추론 통계 -> 귀무가설을 기각\n",
    "\n",
    "ex) 가설 : 범죄자가 범인이라는 가설을 입증하고자 한다면 -> 귀무가설:\"범죄자는 범인이 아니다.\"\"\n",
    "귀무가설을 기각(범죄자가 범인이다)하기 위해 임증 자료 수집함\n",
    "\n",
    "\n",
    "실험자가 범할 수 있는 오류\n",
    "1종 오류: 귀무가설이 참인데 기각한 경우(죄가 없는 범인이 죄가 있다고 말한 경우)\n",
    "2종 오류: 귀무가설이 거짓인데 기각하지 않은 경우(죄가 있는 범인이 죄가 없다고 말한 경우)\n",
    "\n",
    "1종(심각) >  2종\n",
    "\n",
    "*유의 수준 : 1종 오류를 범할 수 있는 최대 허용 한계\n",
    "ex) 유의수준 : 0.05(5%)로 정함 -> 100번 실험했을 때 1종 오류를 범할 수 있는 최대 허용 한계 5번\n",
    "              => 정밀도 요구되는 실험 : 0.01(1%)\n",
    "              \n",
    "*유의 확률 : p - value,  1종 오류를 범할 확률\n",
    "ex) 0.05(5%) : 100번 실험했을 때 1종 오류를 5번 범한 경우.\n",
    "의미? 95% 신뢰도로 귀무가설을 기각한다는 의미\n",
    "0 <= pvalue <= 1\n",
    "\n",
    "* p-value값이 유의 수준(0.05)보다 낮다 -> 실험이 통계적으로 의미가 있다!!!\n",
    "\n",
    "\"\"\"\n",
    "\n"
   ]
  },
  {
   "cell_type": "code",
   "execution_count": null,
   "metadata": {},
   "outputs": [],
   "source": [
    "\"\"\"\n",
    "상관분석 고려 사항\n",
    "-산점도(선형성(직선) 확인)\n",
    "-곡선형?스피어만, 캔달 상관분석\n",
    "\n",
    "-상관관계가 있다고 해서 반드시 인과관계가 있는 건 아니다.\n",
    "ex)제 3변인의 문제\n",
    "-서울에서 범죄 발생 건수와 종교 시설의 개수  => 양의 상관관계 \n",
    "-극단치로 인한 인위적 상관관계 있을 수 있음\n",
    "\"\"\""
   ]
  },
  {
   "cell_type": "code",
   "execution_count": null,
   "metadata": {},
   "outputs": [],
   "source": [
    "\"\"\"\n",
    "회귀분석(regression) ? 독립변수(x)로 종속변수(y)를 예측하는 것\n",
    "혼입변수?모델에는 포함되지 않지만, 종속변수에 영향을 주는 변수\n",
    "선형회귀분석?독립변수와 종속변수 사이에 직선적인 형태의 관계가 있다고 가정하고 분석\n",
    "회귀분석은 종속변수가 연속인 경우, 분류는 종속변수 범주인 경우\n",
    "\n",
    "직선적인 형태? 독립변수가 증가 => 종속변수도 비례하여 증가 or 감소\n",
    "\n",
    "\n",
    "선형회귀모델에서 x, y 관계 수식 : y=wx+b (w:weight, b:bias)\n",
    "w:가중치 or 회귀계수, \n",
    "독립변수 x가 1증가하면 종속변수 y는 w만큼 증가한다\n",
    "\n",
    "b:절편(독립변수가 0일때 종속변수 y의 값)\n",
    "\n",
    "\n",
    "왜도? 데이터의 치우친 정도. \n",
    "중앙값 > 평균(오른쪽 길게 늘어진 경우): 왜도가 0보다 큰 양수\n",
    "중앙값 < 평균(왼쪽 길게 늘어진 경우): 왜도가 0보다 작은 음수\n",
    "좌우가 대칭(정규분포) : 왜도가 0\n",
    "\n",
    "첨도? 자료의 분포가 뾰족한 정도\n",
    "정규분포 : 첨도가 0 or 3\n",
    "중간이 뾰족한 경우 : 첨도가 0(3)보다 큰 양수\n",
    "중간이 평평한 경우 : 첨도가 0(3)보다 작은 음수\n",
    "\"\"\""
   ]
  },
  {
   "cell_type": "code",
   "execution_count": 5,
   "metadata": {},
   "outputs": [
    {
     "data": {
      "text/plain": [
       "<matplotlib.axes._subplots.AxesSubplot at 0x2246c9d6848>"
      ]
     },
     "execution_count": 5,
     "metadata": {},
     "output_type": "execute_result"
    },
    {
     "data": {
      "image/png": "[encoded data removed]",
      "text/plain": [
       "<Figure size 432x288 with 1 Axes>"
      ]
     },
     "metadata": {
      "needs_background": "light"
     },
     "output_type": "display_data"
    }
   ],
   "source": [
    "df=pd.read_csv(\"cars.csv\")\n",
    "df\n",
    "#독립변수:speed, 종속변수:dist\n",
    "#산점도 & 선형적인 패턴 확인\n",
    "sns.regplot('speed', 'dist', lowess=True, data=df)"
   ]
  },
  {
   "cell_type": "code",
   "execution_count": 6,
   "metadata": {},
   "outputs": [
    {
     "data": {
      "text/plain": [
       "Text(0.5, 1.0, 'car dist')"
      ]
     },
     "execution_count": 6,
     "metadata": {},
     "output_type": "execute_result"
    },
    {
     "data": {
      "image/png": "[encoded data removed]",
      "text/plain": [
       "<Figure size 432x288 with 2 Axes>"
      ]
     },
     "metadata": {
      "needs_background": "light"
     },
     "output_type": "display_data"
    }
   ],
   "source": [
    "#박스플랏 -> 극단값 확인\n",
    "fig, (ax1,ax2)=plt.subplots(1,2) #1행 2열\n",
    "\n",
    "sns.boxplot('speed', data=df, ax=ax1, orient='v')\n",
    "ax1.set_title('car speed')\n",
    "\n",
    "sns.boxplot('dist', data=df, ax=ax2, orient='v')\n",
    "ax1.set_title('car dist')\n",
    "\n",
    "#극단값이 있음"
   ]
  },
  {
   "cell_type": "code",
   "execution_count": 7,
   "metadata": {},
   "outputs": [],
   "source": [
    "#선형회귀분석 : 독립변수와 종속변수가 정규분포를 따를 때 잘 작동\n",
    "#밀도 플랏 : 정규분포 형태 확인"
   ]
  },
  {
   "cell_type": "code",
   "execution_count": 8,
   "metadata": {},
   "outputs": [
    {
     "data": {
      "text/plain": [
       "Text(0.5, 1.0, 'car dist')"
      ]
     },
     "execution_count": 8,
     "metadata": {},
     "output_type": "execute_result"
    },
    {
     "data": {
      "image/png": "[encoded data removed]",
      "text/plain": [
       "<Figure size 432x288 with 2 Axes>"
      ]
     },
     "metadata": {
      "needs_background": "light"
     },
     "output_type": "display_data"
    }
   ],
   "source": [
    "fig, (ax1,ax2)=plt.subplots(1,2) #1행 2열\n",
    "\n",
    "sns.kdeplot(df['speed'], ax=ax1)\n",
    "ax1.set_title('car speed')\n",
    "\n",
    "sns.kdeplot(df['dist'], ax=ax2)\n",
    "ax2.set_title('car dist')"
   ]
  },
  {
   "cell_type": "code",
   "execution_count": 12,
   "metadata": {},
   "outputs": [
    {
     "data": {
      "text/plain": [
       "0.7824835173114966"
      ]
     },
     "execution_count": 12,
     "metadata": {},
     "output_type": "execute_result"
    }
   ],
   "source": [
    "import scipy.stats\n",
    "scipy.stats.skew(df['speed'])\n",
    "scipy.stats.skew(df['dist'])"
   ]
  },
  {
   "cell_type": "code",
   "execution_count": 13,
   "metadata": {},
   "outputs": [],
   "source": [
    "#회귀분석 함수 가져오기|\n",
    "from statsmodels.formula.api import ols"
   ]
  },
  {
   "cell_type": "code",
   "execution_count": 14,
   "metadata": {},
   "outputs": [],
   "source": [
    "res=ols(\"dist~speed\",data=df).fit()#  종속변수 ~ 독립변수, 회귀 모델 생성"
   ]
  },
  {
   "cell_type": "code",
   "execution_count": 16,
   "metadata": {},
   "outputs": [
    {
     "data": {
      "text/html": [
       "<table class=\"simpletable\">\n",
       "<caption>OLS Regression Results</caption>\n",
       "<tr>\n",
       "  <th>Dep. Variable:</th>          <td>dist</td>       <th>  R-squared:         </th> <td>   0.651</td>\n",
       "</tr>\n",
       "<tr>\n",
       "  <th>Model:</th>                   <td>OLS</td>       <th>  Adj. R-squared:    </th> <td>   0.644</td>\n",
       "</tr>\n",
       "<tr>\n",
       "  <th>Method:</th>             <td>Least Squares</td>  <th>  F-statistic:       </th> <td>   89.57</td>\n",
       "</tr>\n",
       "<tr>\n",
       "  <th>Date:</th>             <td>Tue, 29 Sep 2020</td> <th>  Prob (F-statistic):</th> <td>1.49e-12</td>\n",
       "</tr>\n",
       "<tr>\n",
       "  <th>Time:</th>                 <td>14:51:52</td>     <th>  Log-Likelihood:    </th> <td> -206.58</td>\n",
       "</tr>\n",
       "<tr>\n",
       "  <th>No. Observations:</th>      <td>    50</td>      <th>  AIC:               </th> <td>   417.2</td>\n",
       "</tr>\n",
       "<tr>\n",
       "  <th>Df Residuals:</th>          <td>    48</td>      <th>  BIC:               </th> <td>   421.0</td>\n",
       "</tr>\n",
       "<tr>\n",
       "  <th>Df Model:</th>              <td>     1</td>      <th>                     </th>     <td> </td>   \n",
       "</tr>\n",
       "<tr>\n",
       "  <th>Covariance Type:</th>      <td>nonrobust</td>    <th>                     </th>     <td> </td>   \n",
       "</tr>\n",
       "</table>\n",
       "<table class=\"simpletable\">\n",
       "<tr>\n",
       "      <td></td>         <th>coef</th>     <th>std err</th>      <th>t</th>      <th>P>|t|</th>  <th>[0.025</th>    <th>0.975]</th>  \n",
       "</tr>\n",
       "<tr>\n",
       "  <th>Intercept</th> <td>  -17.5791</td> <td>    6.758</td> <td>   -2.601</td> <td> 0.012</td> <td>  -31.168</td> <td>   -3.990</td>\n",
       "</tr>\n",
       "<tr>\n",
       "  <th>speed</th>     <td>    3.9324</td> <td>    0.416</td> <td>    9.464</td> <td> 0.000</td> <td>    3.097</td> <td>    4.768</td>\n",
       "</tr>\n",
       "</table>\n",
       "<table class=\"simpletable\">\n",
       "<tr>\n",
       "  <th>Omnibus:</th>       <td> 8.975</td> <th>  Durbin-Watson:     </th> <td>   1.676</td>\n",
       "</tr>\n",
       "<tr>\n",
       "  <th>Prob(Omnibus):</th> <td> 0.011</td> <th>  Jarque-Bera (JB):  </th> <td>   8.189</td>\n",
       "</tr>\n",
       "<tr>\n",
       "  <th>Skew:</th>          <td> 0.885</td> <th>  Prob(JB):          </th> <td>  0.0167</td>\n",
       "</tr>\n",
       "<tr>\n",
       "  <th>Kurtosis:</th>      <td> 3.893</td> <th>  Cond. No.          </th> <td>    50.7</td>\n",
       "</tr>\n",
       "</table><br/><br/>Warnings:<br/>[1] Standard Errors assume that the covariance matrix of the errors is correctly specified."
      ],
      "text/plain": [
       "<class 'statsmodels.iolib.summary.Summary'>\n",
       "\"\"\"\n",
       "                            OLS Regression Results                            \n",
       "==============================================================================\n",
       "Dep. Variable:                   dist   R-squared:                       0.651\n",
       "Model:                            OLS   Adj. R-squared:                  0.644\n",
       "Method:                 Least Squares   F-statistic:                     89.57\n",
       "Date:                Tue, 29 Sep 2020   Prob (F-statistic):           1.49e-12\n",
       "Time:                        14:51:52   Log-Likelihood:                -206.58\n",
       "No. Observations:                  50   AIC:                             417.2\n",
       "Df Residuals:                      48   BIC:                             421.0\n",
       "Df Model:                           1                                         \n",
       "Covariance Type:            nonrobust                                         \n",
       "==============================================================================\n",
       "                 coef    std err          t      P>|t|      [0.025      0.975]\n",
       "------------------------------------------------------------------------------\n",
       "Intercept    -17.5791      6.758     -2.601      0.012     -31.168      -3.990\n",
       "speed          3.9324      0.416      9.464      0.000       3.097       4.768\n",
       "==============================================================================\n",
       "Omnibus:                        8.975   Durbin-Watson:                   1.676\n",
       "Prob(Omnibus):                  0.011   Jarque-Bera (JB):                8.189\n",
       "Skew:                           0.885   Prob(JB):                       0.0167\n",
       "Kurtosis:                       3.893   Cond. No.                         50.7\n",
       "==============================================================================\n",
       "\n",
       "Warnings:\n",
       "[1] Standard Errors assume that the covariance matrix of the errors is correctly specified.\n",
       "\"\"\""
      ]
     },
     "execution_count": 16,
     "metadata": {},
     "output_type": "execute_result"
    }
   ],
   "source": [
    "res.summary() #회귀 모델 요약 정보\n"
   ]
  },
  {
   "cell_type": "code",
   "execution_count": null,
   "metadata": {},
   "outputs": [],
   "source": [
    "\"\"\"\n",
    "R-squared : 모델 설명력, dist의 분산을 speed가 약 65%를 설명\n",
    "\n",
    "Prob (F-statistic) :1.49e-12 통계적 유의미함 ( p<0.05)\n",
    "\n",
    "회귀계수 : \n",
    "dist=-17.5791 + 3.9324*speed\n",
    "\n",
    "speed가 1증가하면, dist는 3.9324 증가한다\n",
    "\n",
    "\n",
    "결론:\n",
    "회귀분석 결과\n",
    "dist에 대하여  speed 로 예측하는 회귀분석을 실시한 결과, 이 회귀모델은 통계적으로 유의미함\n",
    "(F-statistic:89.57, p<0.05)\n",
    "\n",
    "독립변수에 대하여 speed의 회귀계수는 3.9324로, dist에 대하여 유의미한 예측 변수라는 것이 나타남\n",
    "p<0.05\n",
    "\n",
    "\n",
    "\"\"\"\n"
   ]
  },
  {
   "cell_type": "code",
   "execution_count": null,
   "metadata": {},
   "outputs": [],
   "source": []
  },
  {
   "cell_type": "code",
   "execution_count": null,
   "metadata": {},
   "outputs": [],
   "source": []
  },
  {
   "cell_type": "code",
   "execution_count": null,
   "metadata": {},
   "outputs": [],
   "source": []
  }
 ],
 "metadata": {
  "kernelspec": {
   "display_name": "Python 3",
   "language": "python",
   "name": "python3"
  },
  "language_info": {
   "codemirror_mode": {
    "name": "ipython",
    "version": 3
   },
   "file_extension": ".py",
   "mimetype": "text/x-python",
   "name": "python",
   "nbconvert_exporter": "python",
   "pygments_lexer": "ipython3",
   "version": "3.7.7"
  }
 },
 "nbformat": 4,
 "nbformat_minor": 4
}
