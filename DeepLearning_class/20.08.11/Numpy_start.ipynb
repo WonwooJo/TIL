{
 "cells": [
  {
   "cell_type": "markdown",
   "metadata": {},
   "source": [
    "# Numpy\n",
    "```python\n",
    "import numpy as np\n",
    "```\n",
    "- Numerical Python\n",
    "- 과학 계산을 위한 패키지\n",
    "- 다차원 배열을 기존 자료구조로 한다(n-Dimension array = ndarray)\n",
    "- 브로드캐스팅 기능 지원(그림자 분신술? / 자동으로 데이터에 shape을 연산이 가능한 형태로 확장해줌.)\n",
    "- 기존 파이썬에서는 반복문 작성을 통해 연산을 했지만, \n",
    "  Numpy에서는 반복문 없이 연산 가능 >> 매우 빠른 연산 가능!\n",
    "- 기본적인 선형대수 중요함(2~3일) >> Numpy에서 지원,\n",
    "  난수 생성기 포함(난수: 컴퓨터에서 발생하는 임의의 수, random number)\n",
    "  푸리에 변환(Fourier)\n",
    "- C언어와 연결 가능.\n",
    "- 벡터에서 데이터 가공, 정제, 필터링(boolean), 변형 연산을 빠르게 할 수 있도록 지원\n",
    "- 정렬, 데이터 검색, 집합단위 연산, 통계, 데이터 요약\n",
    "- 병합, 관계 표현\n",
    "\n",
    "- Numpy는 대용량 배열을 효율적으로 처리할 수 있도록 설계됨."
   ]
  },
  {
   "cell_type": "code",
   "execution_count": 1,
   "metadata": {},
   "outputs": [],
   "source": [
    "# 수치연산을 위한 넘파이\n",
    "# 데이터 분석을 위한 판다스\n",
    "# ++ 시각화!\n",
    "# ==>> 리포트 작성 가능.\n",
    "\n",
    "# 산출물 관리 잘하자!\n"
   ]
  },
  {
   "cell_type": "code",
   "execution_count": 21,
   "metadata": {},
   "outputs": [
    {
     "name": "stdout",
     "output_type": "stream",
     "text": [
      "Wall time: 61 ms\n",
      "Wall time: 2.22 s\n"
     ]
    }
   ],
   "source": [
    "import numpy as np\n",
    "myArr = np.arange(1000000) # arange: 메서드  /  arange라는 메서드는 numpy가 가지고 있음. 자료구조가 array\n",
    "myList = list(range(1000000)) # range는 파이썬이 가지고있는 기본적인 함수. 자료구조가 list\n",
    "myArr*2  # 브로드캐스팅: \n",
    "\n",
    "%time for _ in range(30): myArr = myArr*2\n",
    "# 61ms\n",
    "myList2 = [i*2 for i in myList]\n",
    "myList2\n",
    "\n",
    "%time for _ in range(30): myList2 = [i*2 for i in myList]\n",
    "# 2.22s\n",
    "\n",
    "# 넘파이가 훨~씬 계산 속도가 빠르다!!"
   ]
  },
  {
   "cell_type": "code",
   "execution_count": 29,
   "metadata": {},
   "outputs": [
    {
     "data": {
      "text/plain": [
       "dtype('float64')"
      ]
     },
     "execution_count": 29,
     "metadata": {},
     "output_type": "execute_result"
    }
   ],
   "source": [
    "data = np.random.randn(2,3) # random normal distribution \n",
    "# 표준정규분포: 평균 0 / 표준편차 1\n",
    "data*10\n",
    "data + data\n",
    "data.shape # 행렬 구성 확인  (2,3)  ==> 2행 3열\n",
    "data.dtype # 자료형 타입 확인  float64"
   ]
  },
  {
   "cell_type": "code",
   "execution_count": 50,
   "metadata": {},
   "outputs": [
    {
     "data": {
      "text/plain": [
       "dtype('int32')"
      ]
     },
     "execution_count": 50,
     "metadata": {},
     "output_type": "execute_result"
    }
   ],
   "source": [
    "data1 = [1, 1.5, 2, 0]\n",
    "arr1 = np.array(data1)\n",
    "arr1\n",
    "# array([1. , 1.5, 2. , 0. ]) 숫자 뒤에 점이 다 붙어 있음. (float)\n",
    "# array할 때 자동으로 적절한 자료형을 유추한다.\n",
    "data2 = [[1,2,3,],[4,5,6]]\n",
    "arr2 = np.array(data2)\n",
    "arr2.ndim # 몇차원이냐?\n",
    "arr2.shape\n",
    "arr1.dtype\n",
    "arr2.dtype  # dtype: data type 확인!\n",
    "np.zeros(10)  # 0이 10개인 array\n",
    "np.zeros((3,6))  # 3행 6열 array\n",
    "np.zeros((2,3,4))  # 1행에 요소 4개, 1행이 3개, 1행 3개가 2개.\n",
    "arr1 = np.array([1,2,3], dtype = np.float64)  # 데이터의 의미(데이터의 데이터 == 메타데이터)\n",
    "arr1\n",
    "\n",
    "arr2 = np.array([1,2,3], dtype = np.int32)  # 데이터의 의미(데이터의 데이터 == 메타데이터)\n",
    "arr2.dtype"
   ]
  },
  {
   "cell_type": "markdown",
   "metadata": {},
   "source": [
    "#### @numpy\n",
    "- int32: 32비트 정수형(4byte)\n",
    "  int64: 64비트(8byte)\n",
    "- float: 실수형\n",
    "- bool: 논리형(True나 False)\n",
    "- object: 객체\n",
    "- string: 문자열\n",
    "- astype 메서드: dtype을 다른 형식으로 변환(캐스팅)할 때 사용하는 메서드\n",
    "\n",
    "\n"
   ]
  },
  {
   "cell_type": "code",
   "execution_count": 73,
   "metadata": {},
   "outputs": [
    {
     "data": {
      "text/plain": [
       "array([[ True,  True,  True],\n",
       "       [False, False, False]])"
      ]
     },
     "execution_count": 73,
     "metadata": {},
     "output_type": "execute_result"
    }
   ],
   "source": [
    "# 정수 -> 실수 변환\n",
    "arr = np.array([1,2,3])\n",
    "floatArr = arr.astype(np.float64)\n",
    "\n",
    "# 실수 -> 정수 변환\n",
    "arr = np.array([1.2, -2.5, 3.1])\n",
    "intArr = arr.astype(np.int32)\n",
    "intArr\n",
    "arr = np.array(['1.5','-2.7','30'])\n",
    "arr  # array(['1.5', '-2.7', '30'], dtype='<U4')  unicode를 의미함.\n",
    "arr.astype(float)\n",
    "arr = np.array([[1.,2.,3.],[4.,5.,6.]])\n",
    "arr * arr  # 벡터화 연산\n",
    "1/arr\n",
    "arr2 = np.array([[0,1,2],[7,8,9]])\n",
    "arr > arr2\n",
    "\n"
   ]
  },
  {
   "cell_type": "markdown",
   "metadata": {},
   "source": [
    "#### 브로드캐스팅: 크기가 다른 배열간의 연산\n",
    "흠 어떻게 하는거징\n"
   ]
  },
  {
   "cell_type": "code",
   "execution_count": 88,
   "metadata": {},
   "outputs": [
    {
     "data": {
      "text/plain": [
       "array([  0,   1,   2,   3,   4,  12, 999,  12,   8,   9])"
      ]
     },
     "execution_count": 88,
     "metadata": {},
     "output_type": "execute_result"
    }
   ],
   "source": [
    "arr = np.arange(10)\n",
    "arr[5]\n",
    "arr[5:8] = 12\n",
    "arrslice = arr[5:8]\n",
    "arrslice[1] = 999\n",
    "arrslice\n",
    "arr\n",
    "# 따와서 변경시켜도 원본에 적용됨.\n",
    "# arr이라는 원본에서부터 만들어진 사본 arrslice에서 바꿔도 원본이 바뀜.\n"
   ]
  },
  {
   "cell_type": "code",
   "execution_count": 103,
   "metadata": {},
   "outputs": [
    {
     "data": {
      "text/plain": [
       "array([  0,   1,   2,   3,   4, 777, 777, 777,   8,   9])"
      ]
     },
     "execution_count": 103,
     "metadata": {},
     "output_type": "execute_result"
    }
   ],
   "source": [
    "arrslice[0] = 100\n",
    "arr # 원래 파이썬이랑 달라서 헷갈릴 수 있음!!\n",
    "arrslice[:] = 777\n",
    "arrslice  # array([777, 777, 777])\n",
    "arr  # array([  0,   1,   2,   3,   4, 777, 777, 777,   8,   9])\n",
    "arrslice2 = arr[5:8].copy()\n",
    "arrslice2[0] = 333\n",
    "arrslice2\n",
    "arr  # copy를 하면 원래 arr와 연결되지 않는다!!\n",
    "# copy를 안쓰고 참조해서 특정값을 바꾸면 원본또한 바뀌게 되는데,\n",
    "# copy를 쓴다면 원본과는 상관없다.\n",
    "# copy를 하면 메모리가 따로 할당이 됨. \n",
    "# 안하고 참조한다면 메모리는 하나에 할당이되고 경로를 공유? 함. 이런 느낌."
   ]
  },
  {
   "cell_type": "code",
   "execution_count": 111,
   "metadata": {},
   "outputs": [
    {
     "data": {
      "text/plain": [
       "5"
      ]
     },
     "execution_count": 111,
     "metadata": {},
     "output_type": "execute_result"
    }
   ],
   "source": [
    "arr2 = np.array([[1,2],[3,4],[5,6]])\n",
    "arr2[2]  # 1차원 배열이 참조됨.\n",
    "         # 2차원 배열[인덱스]  -> 1차원 배열이 참조됨.\n",
    "         # 만약 5차원 배열[인덱스]  -> 4차원 배열이 참조됨.\n",
    "arr2[2][0]\n",
    "arr2[2,0]"
   ]
  },
  {
   "cell_type": "code",
   "execution_count": 130,
   "metadata": {},
   "outputs": [
    {
     "data": {
      "text/plain": [
       "array([[[ 1,  2,  3,  4],\n",
       "        [ 5,  6,  7,  8],\n",
       "        [ 9, 10, 11, 12]],\n",
       "\n",
       "       [[13, 14, 15, 16],\n",
       "        [17, 18, 19, 20],\n",
       "        [21, 22, 23, 24]]])"
      ]
     },
     "execution_count": 130,
     "metadata": {},
     "output_type": "execute_result"
    }
   ],
   "source": [
    "arr = np.array(list(range(1,25)))\n",
    "arr #(2,3,4)의 array로 변경해볼까?\n",
    "arr3d = arr.reshape(2,3,4)\n",
    "arr3d  # 2*3*4 크기의 배열\n",
    "arr3d[0]  # 3*4 크기의 배열\n",
    "arr3d[0][0]  # 1*4 크기의 배열\n",
    "oldValues = arr3d[0].copy()\n",
    "arr3d[0] = 99\n",
    "arr3d\n",
    "arr3d[0] = oldValues\n",
    "arr3d\n"
   ]
  },
  {
   "cell_type": "code",
   "execution_count": 138,
   "metadata": {},
   "outputs": [
    {
     "data": {
      "text/plain": [
       "19"
      ]
     },
     "execution_count": 138,
     "metadata": {},
     "output_type": "execute_result"
    }
   ],
   "source": [
    "arr3d[1][2][3] # == arr3d[1, 2, 3]\n",
    "arr3d[-1][-2][-2]"
   ]
  },
  {
   "cell_type": "code",
   "execution_count": 142,
   "metadata": {},
   "outputs": [
    {
     "data": {
      "text/plain": [
       "array([17, 18, 19, 20])"
      ]
     },
     "execution_count": 142,
     "metadata": {},
     "output_type": "execute_result"
    }
   ],
   "source": [
    "arr\n",
    "arr[1:10]\n",
    "arr = arr.reshape(6,4)\n",
    "arr[-2]"
   ]
  },
  {
   "cell_type": "code",
   "execution_count": 152,
   "metadata": {},
   "outputs": [
    {
     "data": {
      "text/plain": [
       "[5, 3, 1]"
      ]
     },
     "execution_count": 152,
     "metadata": {},
     "output_type": "execute_result"
    }
   ],
   "source": [
    "a = [1,3,5]\n",
    "b = []\n",
    "for i in range(len(a)-1,-1,-1):\n",
    "    b.extend([a[i]])\n",
    "b\n"
   ]
  },
  {
   "cell_type": "code",
   "execution_count": 155,
   "metadata": {},
   "outputs": [
    {
     "name": "stdout",
     "output_type": "stream",
     "text": [
      "5\n",
      "3\n",
      "1\n"
     ]
    }
   ],
   "source": [
    "for i in reversed(range(len(a))):\n",
    "    print(a[i])"
   ]
  },
  {
   "cell_type": "code",
   "execution_count": 158,
   "metadata": {},
   "outputs": [
    {
     "name": "stdout",
     "output_type": "stream",
     "text": [
      "5\n",
      "3\n",
      "1\n"
     ]
    }
   ],
   "source": [
    "for i in reversed(a):\n",
    "    print(i)\n"
   ]
  },
  {
   "cell_type": "code",
   "execution_count": 164,
   "metadata": {},
   "outputs": [
    {
     "data": {
      "text/plain": [
       "array([[[ 1,  2,  3,  4],\n",
       "        [ 5,  6,  7,  8],\n",
       "        [ 9, 10, 11, 12]],\n",
       "\n",
       "       [[13, 14, 77, 77],\n",
       "        [17, 18, 19, 20],\n",
       "        [21, 22, 23, 24]]])"
      ]
     },
     "execution_count": 164,
     "metadata": {},
     "output_type": "execute_result"
    }
   ],
   "source": [
    "arr3d[0][:2]\n",
    "arr3d[1][:1,2:] = 77\n",
    "arr3d"
   ]
  }
 ],
 "metadata": {
  "kernelspec": {
   "display_name": "Python 3",
   "language": "python",
   "name": "python3"
  },
  "language_info": {
   "codemirror_mode": {
    "name": "ipython",
    "version": 3
   },
   "file_extension": ".py",
   "mimetype": "text/x-python",
   "name": "python",
   "nbconvert_exporter": "python",
   "pygments_lexer": "ipython3",
   "version": "3.8.3"
  }
 },
 "nbformat": 4,
 "nbformat_minor": 4
}
