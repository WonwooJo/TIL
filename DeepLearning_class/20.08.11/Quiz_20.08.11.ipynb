{
 "cells": [
  {
   "cell_type": "markdown",
   "metadata": {},
   "source": [
    "### Quiz 1. 스타벅스 매장 갯수와 사업체 수(종사자 수)와 비교해서 출력."
   ]
  },
  {
   "cell_type": "code",
   "execution_count": 10,
   "metadata": {
    "scrolled": false
   },
   "outputs": [
    {
     "ename": "FileNotFoundError",
     "evalue": "[Errno 2] No such file or directory: 'seoul-metro-line-1.geojson'",
     "output_type": "error",
     "traceback": [
      "\u001b[1;31m---------------------------------------------------------------------------\u001b[0m",
      "\u001b[1;31mFileNotFoundError\u001b[0m                         Traceback (most recent call last)",
      "\u001b[1;32m<ipython-input-10-5eea8369c7b2>\u001b[0m in \u001b[0;36m<module>\u001b[1;34m\u001b[0m\n\u001b[0;32m      8\u001b[0m \u001b[1;33m\u001b[0m\u001b[0m\n\u001b[0;32m      9\u001b[0m \u001b[0msgg_geojson_file_path\u001b[0m \u001b[1;33m=\u001b[0m \u001b[1;34m'seoul-metro-line-1.geojson'\u001b[0m  \u001b[1;31m# key와 value의 쌍으로 이루어 짐\u001b[0m\u001b[1;33m\u001b[0m\u001b[1;33m\u001b[0m\u001b[0m\n\u001b[1;32m---> 10\u001b[1;33m \u001b[0mseoul_sgg_geo\u001b[0m \u001b[1;33m=\u001b[0m \u001b[0mjson\u001b[0m\u001b[1;33m.\u001b[0m\u001b[0mload\u001b[0m\u001b[1;33m(\u001b[0m\u001b[0mopen\u001b[0m\u001b[1;33m(\u001b[0m\u001b[0msgg_geojson_file_path\u001b[0m\u001b[1;33m,\u001b[0m \u001b[0mencoding\u001b[0m \u001b[1;33m=\u001b[0m \u001b[1;34m'utf-8'\u001b[0m\u001b[1;33m)\u001b[0m\u001b[1;33m)\u001b[0m\u001b[1;33m\u001b[0m\u001b[1;33m\u001b[0m\u001b[0m\n\u001b[0m\u001b[0;32m     11\u001b[0m empMap = folium.Map(\n\u001b[0;32m     12\u001b[0m \u001b[0mlocation\u001b[0m \u001b[1;33m=\u001b[0m \u001b[1;33m[\u001b[0m\u001b[1;36m37.573050\u001b[0m\u001b[1;33m,\u001b[0m \u001b[1;36m126.979189\u001b[0m\u001b[1;33m]\u001b[0m\u001b[1;33m,\u001b[0m\u001b[1;33m\u001b[0m\u001b[1;33m\u001b[0m\u001b[0m\n",
      "\u001b[1;31mFileNotFoundError\u001b[0m: [Errno 2] No such file or directory: 'seoul-metro-line-1.geojson'"
     ]
    }
   ],
   "source": [
    "import pandas as pd\n",
    "import folium\n",
    "import json\n",
    "seoul_sgg_stat = pd.read_excel('seoul_sgg_stat.xlsx', encoding='utf-8')\n",
    "seoul_sgg_stat['종사자_만명당_매장수'] = seoul_sgg_stat['스타벅스_매장수'] / (seoul_sgg_stat['종사자수']/10000)\n",
    "seoul_sgg_stat['종사자_만명당_매장수']\n",
    "seoul_sgg_stat\n",
    "\n",
    "sgg_geojson_file_path = 'seoul-metro-line-1.geojson'  # key와 value의 쌍으로 이루어 짐\n",
    "seoul_sgg_geo = json.load(open(sgg_geojson_file_path, encoding = 'utf-8'))\n",
    "empMap = folium.Map(\n",
    "location = [37.573050, 126.979189],\n",
    "    tiles = 'CartoDB dark_matter', \n",
    "    zoom_start = 11)\n",
    "\n",
    "def style_function(feature):\n",
    "    return {'opacity' : 0.7,\n",
    "           'weight' : 1,\n",
    "           'color' : 'white',\n",
    "           'fillOpacity' : 0}\n",
    "\n",
    "folium.GeoJson(\n",
    "seoul_sgg_geo, \n",
    "style_function = style_function\n",
    ").add_to(empMap)\n",
    "    \n",
    "seoul_sgg_stat['종사자_만명당_매장수'].quantile(0.75)\n",
    "threeQTop = seoul_sgg_stat['종사자_만명당_매장수'].quantile(0.75)\n",
    "    \n",
    "for idx in seoul_sgg_stat.index:\n",
    "    lat = seoul_sgg_stat.loc[idx, '위도']\n",
    "    lng = seoul_sgg_stat.loc[idx, '경도']\n",
    "    r = seoul_sgg_stat.loc[idx, '종사자_만명당_매장수']\n",
    "    name = seoul_sgg_stat.loc[idx,'시군구명']\n",
    "    folium.Marker([lat, lng], popup = name).add_to(empMap)\n",
    "    if r > threeQTop:\n",
    "        fillColor = 'red'\n",
    "    else:\n",
    "        fillColor = 'green'\n",
    "    folium.CircleMarker(\n",
    "    location = [lat,lng],\n",
    "        color = '#FFFF00',\n",
    "        fill_color = fillColor,\n",
    "        radius = r*12,\n",
    "        fill_opacity = 0.7,\n",
    "        weight = 1.5\n",
    "    ).add_to(empMap)\n",
    "    \n",
    "empMap"
   ]
  },
  {
   "cell_type": "code",
   "execution_count": 1,
   "metadata": {},
   "outputs": [],
   "source": [
    "import pandas as pd\n",
    "import folium\n",
    "import json"
   ]
  },
  {
   "cell_type": "code",
   "execution_count": 3,
   "metadata": {},
   "outputs": [
    {
     "data": {
      "text/html": [
       "<div style=\"width:100%;\"><div style=\"position:relative;width:100%;height:0;padding-bottom:60%;\"><span style=\"color:#565656\">Make this Notebook Trusted to load map: File -> Trust Notebook</span><iframe src=\"about:blank\" style=\"position:absolute;width:100%;height:100%;left:0;top:0;border:none !important;\" data-html=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 onload=\"this.contentDocument.open();this.contentDocument.write(atob(this.getAttribute('data-html')));this.contentDocument.close();\" allowfullscreen webkitallowfullscreen mozallowfullscreen></iframe></div></div>"
      ],
      "text/plain": [
       "<folium.folium.Map at 0x141639f9a88>"
      ]
     },
     "execution_count": 3,
     "metadata": {},
     "output_type": "execute_result"
    }
   ],
   "source": [
    "empMap = folium.Map(\n",
    "location = [37.573050, 126.979189],\n",
    "    tiles = 'CartoDB dark_matter', \n",
    "    zoom_start = 11)\n",
    "empMap"
   ]
  },
  {
   "cell_type": "code",
   "execution_count": null,
   "metadata": {},
   "outputs": [],
   "source": [
    "def getGeoData(address):\n",
    "    base = \"https://gist.githubusercontent.com/hanbyul-here/c1ecc399372220bff0642f696f383cf9/raw/c22bdb8254e037ae8174921f09d27e402af45fa2/\"\n",
    "    \n",
    "    try:\n",
    "        parameters = \"seoul-metro-line-1.geojson\" % urllib.parse.quote(address)\n",
    "    except:\n",
    "        return None\n",
    "    \n",
    "    url = base + parameters\n",
    "    \n",
    "    retData = get_request_url(url)\n",
    "    if retData == None:\n",
    "        return None\n",
    "\n",
    "    jsonAddress = json.loads(retData)\n",
    "\n",
    "    if 'geometry' in jsonAddress.keys():\n",
    "        latitude = jsonAddress['geometry']['coordinates'][0]\n",
    "        longitude = jsonAddress['geometry']['coordinates'][0]\n",
    "    else:\n",
    "        return None\n",
    "    \n",
    "    return [latitude, longitude]\n",
    "\n",
    "def main():\n",
    "   \n",
    "    #[CODE 3]\n",
    "    map = folium.Map(location=[37.5103, 126.982], zoom_start=12)\n",
    "\n",
    "    filename = 'd:/tmp/서울시 초등학교 현황.csv'\n",
    "    df = pd.DataFrame.from_csv(filename, encoding='CP949', index_col=0, header=0)\n",
    "    geoData = []\n",
    "    \n",
    "    #[CODE 4]\n",
    "    for index, row in df.iterrows():\n",
    "        geoData = getGeoData(row['주소'])\n",
    "        if geoData != None:\n",
    "            folium.Marker(geoData, popup=row['학교명'], icon=folium.Icon(color='red')).add_to(map)\n",
    "    \n",
    "    svFilename = 'd:/tmp/elementary_school.html'\n",
    "    map.save(svFilename)\n",
    "    webbrowser.open(svFilename)  \n",
    "    \n",
    "if __name__ == \"__main__\":\n",
    "    main()"
   ]
  },
  {
   "cell_type": "code",
   "execution_count": null,
   "metadata": {},
   "outputs": [],
   "source": []
  },
  {
   "cell_type": "code",
   "execution_count": null,
   "metadata": {},
   "outputs": [],
   "source": []
  },
  {
   "cell_type": "code",
   "execution_count": null,
   "metadata": {},
   "outputs": [],
   "source": []
  },
  {
   "cell_type": "code",
   "execution_count": null,
   "metadata": {},
   "outputs": [],
   "source": []
  },
  {
   "cell_type": "markdown",
   "metadata": {},
   "source": [
    "### Quiz2\n",
    "- a = [1, 3, 5, 7, 9, 0, 2, 4, 6, 8]\n",
    "- 앞쪽 절반을 출력해 보세요.\n",
    "- 뒤쪽 절반을 출력해 보세요.\n",
    "- 거꾸로 출력해 보세요.\n",
    "- 거꾸로 짝수 번째만 출력해 보세요.\n",
    "- 거꾸로 홀수 번째만 출력해 보세요.\n"
   ]
  },
  {
   "cell_type": "code",
   "execution_count": 6,
   "metadata": {},
   "outputs": [],
   "source": [
    "a = [1, 3, 5, 7, 9, 0, 2, 4, 6, 8]"
   ]
  },
  {
   "cell_type": "code",
   "execution_count": 9,
   "metadata": {},
   "outputs": [
    {
     "name": "stdout",
     "output_type": "stream",
     "text": [
      "[1, 3, 5, 7, 9]\n"
     ]
    }
   ],
   "source": [
    "#1\n",
    "print(a[:5])"
   ]
  },
  {
   "cell_type": "code",
   "execution_count": 17,
   "metadata": {},
   "outputs": [
    {
     "name": "stdout",
     "output_type": "stream",
     "text": [
      "[0, 2, 4, 6, 8]\n"
     ]
    }
   ],
   "source": [
    "#2\n",
    "print(a[5:10])"
   ]
  },
  {
   "cell_type": "code",
   "execution_count": 29,
   "metadata": {},
   "outputs": [
    {
     "data": {
      "text/plain": [
       "[8, 6, 4, 2, 0, 9, 7, 5, 3, 1]"
      ]
     },
     "execution_count": 29,
     "metadata": {},
     "output_type": "execute_result"
    }
   ],
   "source": [
    "#3\n",
    "l1 = []\n",
    "for i in reversed(a):\n",
    "    l1.extend([i])\n",
    "l1"
   ]
  },
  {
   "cell_type": "code",
   "execution_count": 27,
   "metadata": {},
   "outputs": [
    {
     "data": {
      "text/plain": [
       "[8, 6, 4, 2, 0]"
      ]
     },
     "execution_count": 27,
     "metadata": {},
     "output_type": "execute_result"
    }
   ],
   "source": [
    "#4\n",
    "l1 = []\n",
    "for i in reversed(a):\n",
    "    if i % 2 == 0:\n",
    "       l1.extend([i])\n",
    "    else:\n",
    "        pass    \n",
    "l1"
   ]
  },
  {
   "cell_type": "code",
   "execution_count": 28,
   "metadata": {},
   "outputs": [
    {
     "data": {
      "text/plain": [
       "[9, 7, 5, 3, 1]"
      ]
     },
     "execution_count": 28,
     "metadata": {},
     "output_type": "execute_result"
    }
   ],
   "source": [
    "#5\n",
    "l1 = []\n",
    "for i in reversed(a):\n",
    "    if i % 2 == 1:\n",
    "        l1.extend([i])\n",
    "    else:\n",
    "        pass    \n",
    "l1"
   ]
  },
  {
   "cell_type": "markdown",
   "metadata": {},
   "source": [
    "### Quiz3: 애니팡\n",
    "##### 타일판은 5 × 5\n",
    "##### 타일 종류는 1 ~ 4의 네 가지\n",
    "##### 가로나 세로로 3개 이상 같은 타일이 연속될 경우 펑! 사라지고, 그 자리에는 위쪽의 타일들이 내려와서 메꿉니다.\n",
    "##### 내려오면서 비게 된 자리는 0으로 채워집니다.\n",
    "##### 위의 규칙대로 동작하는 프로그램을 작성해주세요.\n",
    "\n",
    "##### 입력 형식\n",
    "##### 아래 예와 같은 5 × 5 숫자 배열을 리스트에 저장한 뒤 문제 해결하세요\n",
    "\n",
    "##### 2 4 1 2 1\n",
    "##### 3 4 2 3 3\n",
    "##### 2 4 1 2 2\n",
    "##### 4 4 4 1 2\n",
    "##### 4 2 3 3 2\n",
    "\n",
    "##### 출력형식\n",
    "##### 같은 타일들을 모두 처리한 후의 최종 5 × 5 숫자 배열\n",
    "\n",
    "##### 0 0 0 0 0\n",
    "##### 2 0 0 0 0\n",
    "##### 3 0 0 0 0\n",
    "##### 2 0 0 2 0\n",
    "##### 4 0 1 3 0"
   ]
  },
  {
   "cell_type": "code",
   "execution_count": 30,
   "metadata": {},
   "outputs": [],
   "source": [
    "import numpy as np\n"
   ]
  },
  {
   "cell_type": "code",
   "execution_count": null,
   "metadata": {},
   "outputs": [],
   "source": []
  }
 ],
 "metadata": {
  "kernelspec": {
   "display_name": "Python 3",
   "language": "python",
   "name": "python3"
  },
  "language_info": {
   "codemirror_mode": {
    "name": "ipython",
    "version": 3
   },
   "file_extension": ".py",
   "mimetype": "text/x-python",
   "name": "python",
   "nbconvert_exporter": "python",
   "pygments_lexer": "ipython3",
   "version": "3.7.7"
  }
 },
 "nbformat": 4,
 "nbformat_minor": 4
}
