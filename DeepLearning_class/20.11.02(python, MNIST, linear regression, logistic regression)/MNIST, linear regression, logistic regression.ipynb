{
 "cells": [
  {
   "cell_type": "code",
   "execution_count": 1,
   "metadata": {},
   "outputs": [],
   "source": [
    "# MNIST 미국 우편물 자동 분류기\n",
    "# 필기체를 받았어."
   ]
  },
  {
   "cell_type": "code",
   "execution_count": 50,
   "metadata": {},
   "outputs": [],
   "source": [
    "from keras.utils import np_utils\n",
    "from keras.datasets import mnist\n",
    "from keras.models import Sequential\n",
    "from keras.layers import Dense, Activation\n",
    "from keras import optimizers\n",
    "import numpy as np"
   ]
  },
  {
   "cell_type": "code",
   "execution_count": 30,
   "metadata": {},
   "outputs": [],
   "source": [
    "# 1) 데이터셋 생성\n",
    "(xTrain, yTrain),(xTest, yTest) = mnist.load_data()"
   ]
  },
  {
   "cell_type": "code",
   "execution_count": 31,
   "metadata": {},
   "outputs": [],
   "source": [
    "# 28X28 pixel로 구성된 이미지가 60,000장 \n",
    "xTrain\n",
    "xTrain = xTrain.reshape(60000,28*28).astype('float32')/255.0\n",
    "xTest = xTest.reshape(10000,28*28).astype('float32')/255.0"
   ]
  },
  {
   "cell_type": "code",
   "execution_count": 32,
   "metadata": {},
   "outputs": [
    {
     "data": {
      "text/plain": [
       "array([5, 0, 4, ..., 5, 6, 8], dtype=uint8)"
      ]
     },
     "execution_count": 32,
     "metadata": {},
     "output_type": "execute_result"
    }
   ],
   "source": [
    "yTrain"
   ]
  },
  {
   "cell_type": "code",
   "execution_count": 33,
   "metadata": {},
   "outputs": [],
   "source": [
    "# OneHotEncoding 자동!!\n",
    "yTrain = np_utils.to_categorical(yTrain)\n",
    "yTest = np_utils.to_categorical(yTest)"
   ]
  },
  {
   "cell_type": "code",
   "execution_count": 34,
   "metadata": {},
   "outputs": [],
   "source": [
    "# 2) 모델 구성\n",
    "model = Sequential()\n",
    "model.add(Dense(units=64,input_dim=28*28,activation='relu')) # 레이어 추가!(Dense(출력노드 64개, 입력데이터의 차원(입력에만))) \n",
    "model.add(Dense(units=10,activation='softmax'))"
   ]
  },
  {
   "cell_type": "code",
   "execution_count": 35,
   "metadata": {},
   "outputs": [],
   "source": [
    "# 3) 학습과정 설정\n",
    "# cost함수, compile 함수\n",
    "model.compile(loss=\"categorical_crossentropy\",optimizer='sgd',metrics=['accuracy'])"
   ]
  },
  {
   "cell_type": "code",
   "execution_count": 36,
   "metadata": {},
   "outputs": [
    {
     "name": "stdout",
     "output_type": "stream",
     "text": [
      "Epoch 1/5\n",
      "1875/1875 [==============================] - 2s 1ms/step - loss: 0.6736 - accuracy: 0.8307\n",
      "Epoch 2/5\n",
      "1875/1875 [==============================] - 2s 940us/step - loss: 0.3378 - accuracy: 0.9057\n",
      "Epoch 3/5\n",
      "1875/1875 [==============================] - 2s 898us/step - loss: 0.2895 - accuracy: 0.9186\n",
      "Epoch 4/5\n",
      "1875/1875 [==============================] - 2s 890us/step - loss: 0.2609 - accuracy: 0.9272\n",
      "Epoch 5/5\n",
      "1875/1875 [==============================] - 2s 947us/step - loss: 0.2395 - accuracy: 0.9323\n"
     ]
    }
   ],
   "source": [
    "# 4) 모델 학습\n",
    "hist = model.fit(xTrain, yTrain, epochs=5, batch_size=32)"
   ]
  },
  {
   "cell_type": "code",
   "execution_count": 37,
   "metadata": {},
   "outputs": [
    {
     "name": "stdout",
     "output_type": "stream",
     "text": [
      "[0.6736010909080505, 0.3378284275531769, 0.28945672512054443, 0.2609385848045349, 0.23945824801921844]\n"
     ]
    }
   ],
   "source": [
    "# 5) 학습과정\n",
    "print(hist.history['loss'])"
   ]
  },
  {
   "cell_type": "code",
   "execution_count": 42,
   "metadata": {},
   "outputs": [
    {
     "name": "stdout",
     "output_type": "stream",
     "text": [
      "313/313 [==============================] - 0s 884us/step - loss: 0.2256 - accuracy: 0.9354\n",
      "모델 평가 결과:  [0.225600928068161, 0.9354000091552734]\n"
     ]
    }
   ],
   "source": [
    "# 6) 모델 평가\n",
    "res = model.evaluate(xTest, yTest, batch_size=32)\n",
    "print(\"모델 평가 결과: \",res) # [cost, accuacy]"
   ]
  },
  {
   "cell_type": "code",
   "execution_count": 47,
   "metadata": {},
   "outputs": [
    {
     "name": "stdout",
     "output_type": "stream",
     "text": [
      "예측 결과 :  [[5.8247493e-05 9.1114964e-07 5.0399080e-04 2.7717180e-03 3.0261326e-06\n",
      "  1.1920545e-04 6.9830655e-08 9.9592578e-01 2.0710198e-05 5.9649127e-04]]\n",
      "1.0000001\n",
      "7\n"
     ]
    }
   ],
   "source": [
    "# 7) 모델 사용\n",
    "# 임의 입력 데이터 → 모델 → 예측값\n",
    "yhat = model.predict(xTest[0:1])\n",
    "print(\"예측 결과 : \",yhat) # → 7\n",
    "print(np.sum(yhat[0]))\n",
    "print(np.argmax(yhat[0]))"
   ]
  },
  {
   "cell_type": "markdown",
   "metadata": {},
   "source": [
    "## 단순선형회귀"
   ]
  },
  {
   "cell_type": "code",
   "execution_count": 54,
   "metadata": {},
   "outputs": [],
   "source": [
    "# 선형회귀\n",
    "x = np.array([1,2,3,4,5,6,7,8,9]) # 공부시간\n",
    "y = np.array([11,20,31,47,52,69,74,89,100]) # 점수"
   ]
  },
  {
   "cell_type": "markdown",
   "metadata": {},
   "source": [
    "### 9.5시간 → 점수 예측?"
   ]
  },
  {
   "cell_type": "code",
   "execution_count": 64,
   "metadata": {},
   "outputs": [],
   "source": [
    "model=Sequential()"
   ]
  },
  {
   "cell_type": "code",
   "execution_count": 65,
   "metadata": {
    "scrolled": true
   },
   "outputs": [],
   "source": [
    "# yhat = wx + b\n",
    "# yhat = w*9.5 + b\n",
    "model.add(Dense(units=1,input_dim=1,activation='linear'))\n",
    "\n",
    "\n",
    "sgd = optimizers.SGD(lr=0.01) # learning rate error를 낮추는 과정에서 업데이트의 간격을 조정\n",
    "model.compile(loss=\"mse\",optimizer='sgd',metrics=['mse'])\n"
   ]
  },
  {
   "cell_type": "code",
   "execution_count": 66,
   "metadata": {
    "scrolled": true
   },
   "outputs": [
    {
     "name": "stdout",
     "output_type": "stream",
     "text": [
      "Epoch 1/100\n",
      "1/1 [==============================] - 0s 997us/step - loss: 4056.2861 - mse: 4056.2861\n",
      "Epoch 2/100\n",
      "1/1 [==============================] - 0s 2ms/step - loss: 504.8679 - mse: 504.8679\n",
      "Epoch 3/100\n",
      "1/1 [==============================] - 0s 988us/step - loss: 67.8800 - mse: 67.8800\n",
      "Epoch 4/100\n",
      "1/1 [==============================] - 0s 1ms/step - loss: 14.0995 - mse: 14.0995\n",
      "Epoch 5/100\n",
      "1/1 [==============================] - 0s 998us/step - loss: 7.4698 - mse: 7.4698\n",
      "Epoch 6/100\n",
      "1/1 [==============================] - 0s 2ms/step - loss: 6.6419 - mse: 6.6419\n",
      "Epoch 7/100\n",
      "1/1 [==============================] - 0s 1ms/step - loss: 6.5279 - mse: 6.5279\n",
      "Epoch 8/100\n",
      "1/1 [==============================] - 0s 997us/step - loss: 6.5018 - mse: 6.5018\n",
      "Epoch 9/100\n",
      "1/1 [==============================] - 0s 996us/step - loss: 6.4867 - mse: 6.4867\n",
      "Epoch 10/100\n",
      "1/1 [==============================] - 0s 3ms/step - loss: 6.4730 - mse: 6.4730\n",
      "Epoch 11/100\n",
      "1/1 [==============================] - 0s 2ms/step - loss: 6.4595 - mse: 6.4595\n",
      "Epoch 12/100\n",
      "1/1 [==============================] - 0s 2ms/step - loss: 6.4462 - mse: 6.4462\n",
      "Epoch 13/100\n",
      "1/1 [==============================] - 0s 2ms/step - loss: 6.4330 - mse: 6.4330\n",
      "Epoch 14/100\n",
      "1/1 [==============================] - 0s 981us/step - loss: 6.4200 - mse: 6.4200\n",
      "Epoch 15/100\n",
      "1/1 [==============================] - 0s 988us/step - loss: 6.4070 - mse: 6.4070\n",
      "Epoch 16/100\n",
      "1/1 [==============================] - 0s 997us/step - loss: 6.3941 - mse: 6.3941\n",
      "Epoch 17/100\n",
      "1/1 [==============================] - 0s 997us/step - loss: 6.3814 - mse: 6.3814\n",
      "Epoch 18/100\n",
      "1/1 [==============================] - 0s 998us/step - loss: 6.3687 - mse: 6.3687\n",
      "Epoch 19/100\n",
      "1/1 [==============================] - 0s 996us/step - loss: 6.3562 - mse: 6.3562\n",
      "Epoch 20/100\n",
      "1/1 [==============================] - 0s 2ms/step - loss: 6.3437 - mse: 6.3437\n",
      "Epoch 21/100\n",
      "1/1 [==============================] - 0s 2ms/step - loss: 6.3314 - mse: 6.3314\n",
      "Epoch 22/100\n",
      "1/1 [==============================] - 0s 1ms/step - loss: 6.3191 - mse: 6.3191\n",
      "Epoch 23/100\n",
      "1/1 [==============================] - 0s 996us/step - loss: 6.3070 - mse: 6.3070\n",
      "Epoch 24/100\n",
      "1/1 [==============================] - 0s 2ms/step - loss: 6.2949 - mse: 6.2949\n",
      "Epoch 25/100\n",
      "1/1 [==============================] - 0s 999us/step - loss: 6.2830 - mse: 6.2830\n",
      "Epoch 26/100\n",
      "1/1 [==============================] - 0s 994us/step - loss: 6.2711 - mse: 6.2711\n",
      "Epoch 27/100\n",
      "1/1 [==============================] - 0s 3ms/step - loss: 6.2594 - mse: 6.2594\n",
      "Epoch 28/100\n",
      "1/1 [==============================] - 0s 1ms/step - loss: 6.2477 - mse: 6.2477\n",
      "Epoch 29/100\n",
      "1/1 [==============================] - 0s 2ms/step - loss: 6.2362 - mse: 6.2362\n",
      "Epoch 30/100\n",
      "1/1 [==============================] - 0s 2ms/step - loss: 6.2247 - mse: 6.2247\n",
      "Epoch 31/100\n",
      "1/1 [==============================] - 0s 997us/step - loss: 6.2133 - mse: 6.2133\n",
      "Epoch 32/100\n",
      "1/1 [==============================] - 0s 996us/step - loss: 6.2021 - mse: 6.2021\n",
      "Epoch 33/100\n",
      "1/1 [==============================] - 0s 2ms/step - loss: 6.1909 - mse: 6.1909\n",
      "Epoch 34/100\n",
      "1/1 [==============================] - 0s 1ms/step - loss: 6.1798 - mse: 6.1798\n",
      "Epoch 35/100\n",
      "1/1 [==============================] - 0s 2ms/step - loss: 6.1688 - mse: 6.1688\n",
      "Epoch 36/100\n",
      "1/1 [==============================] - 0s 3ms/step - loss: 6.1579 - mse: 6.1579\n",
      "Epoch 37/100\n",
      "1/1 [==============================] - 0s 1ms/step - loss: 6.1470 - mse: 6.1470\n",
      "Epoch 38/100\n",
      "1/1 [==============================] - 0s 996us/step - loss: 6.1363 - mse: 6.1363\n",
      "Epoch 39/100\n",
      "1/1 [==============================] - 0s 1ms/step - loss: 6.1256 - mse: 6.1256\n",
      "Epoch 40/100\n",
      "1/1 [==============================] - 0s 2ms/step - loss: 6.1151 - mse: 6.1151\n",
      "Epoch 41/100\n",
      "1/1 [==============================] - 0s 996us/step - loss: 6.1046 - mse: 6.1046\n",
      "Epoch 42/100\n",
      "1/1 [==============================] - 0s 997us/step - loss: 6.0942 - mse: 6.0942\n",
      "Epoch 43/100\n",
      "1/1 [==============================] - 0s 997us/step - loss: 6.0839 - mse: 6.0839\n",
      "Epoch 44/100\n",
      "1/1 [==============================] - 0s 998us/step - loss: 6.0737 - mse: 6.0737\n",
      "Epoch 45/100\n",
      "1/1 [==============================] - 0s 997us/step - loss: 6.0636 - mse: 6.0636\n",
      "Epoch 46/100\n",
      "1/1 [==============================] - 0s 2ms/step - loss: 6.0535 - mse: 6.0535\n",
      "Epoch 47/100\n",
      "1/1 [==============================] - 0s 2ms/step - loss: 6.0436 - mse: 6.0436\n",
      "Epoch 48/100\n",
      "1/1 [==============================] - 0s 996us/step - loss: 6.0337 - mse: 6.0337\n",
      "Epoch 49/100\n",
      "1/1 [==============================] - 0s 998us/step - loss: 6.0239 - mse: 6.0239\n",
      "Epoch 50/100\n",
      "1/1 [==============================] - 0s 2ms/step - loss: 6.0142 - mse: 6.0142\n",
      "Epoch 51/100\n",
      "1/1 [==============================] - 0s 2ms/step - loss: 6.0045 - mse: 6.0045\n",
      "Epoch 52/100\n",
      "1/1 [==============================] - 0s 997us/step - loss: 5.9949 - mse: 5.9949\n",
      "Epoch 53/100\n",
      "1/1 [==============================] - 0s 997us/step - loss: 5.9854 - mse: 5.9854\n",
      "Epoch 54/100\n",
      "1/1 [==============================] - 0s 998us/step - loss: 5.9760 - mse: 5.9760\n",
      "Epoch 55/100\n",
      "1/1 [==============================] - 0s 989us/step - loss: 5.9667 - mse: 5.9667\n",
      "Epoch 56/100\n",
      "1/1 [==============================] - 0s 1ms/step - loss: 5.9575 - mse: 5.9575\n",
      "Epoch 57/100\n",
      "1/1 [==============================] - 0s 998us/step - loss: 5.9483 - mse: 5.9483\n",
      "Epoch 58/100\n",
      "1/1 [==============================] - 0s 2ms/step - loss: 5.9392 - mse: 5.9392\n",
      "Epoch 59/100\n",
      "1/1 [==============================] - 0s 3ms/step - loss: 5.9301 - mse: 5.9301\n",
      "Epoch 60/100\n",
      "1/1 [==============================] - 0s 997us/step - loss: 5.9212 - mse: 5.9212\n",
      "Epoch 61/100\n",
      "1/1 [==============================] - 0s 994us/step - loss: 5.9123 - mse: 5.9123\n",
      "Epoch 62/100\n",
      "1/1 [==============================] - 0s 985us/step - loss: 5.9035 - mse: 5.9035\n",
      "Epoch 63/100\n",
      "1/1 [==============================] - 0s 998us/step - loss: 5.8947 - mse: 5.8947\n",
      "Epoch 64/100\n",
      "1/1 [==============================] - 0s 996us/step - loss: 5.8861 - mse: 5.8861\n",
      "Epoch 65/100\n",
      "1/1 [==============================] - 0s 997us/step - loss: 5.8775 - mse: 5.8775\n",
      "Epoch 66/100\n",
      "1/1 [==============================] - 0s 996us/step - loss: 5.8690 - mse: 5.8690\n",
      "Epoch 67/100\n",
      "1/1 [==============================] - 0s 998us/step - loss: 5.8605 - mse: 5.8605\n",
      "Epoch 68/100\n",
      "1/1 [==============================] - 0s 996us/step - loss: 5.8521 - mse: 5.8521\n",
      "Epoch 69/100\n",
      "1/1 [==============================] - 0s 997us/step - loss: 5.8438 - mse: 5.8438\n",
      "Epoch 70/100\n",
      "1/1 [==============================] - 0s 4ms/step - loss: 5.8356 - mse: 5.8356\n",
      "Epoch 71/100\n",
      "1/1 [==============================] - 0s 998us/step - loss: 5.8274 - mse: 5.8274\n",
      "Epoch 72/100\n",
      "1/1 [==============================] - 0s 2ms/step - loss: 5.8193 - mse: 5.8193\n",
      "Epoch 73/100\n",
      "1/1 [==============================] - 0s 997us/step - loss: 5.8112 - mse: 5.8112\n",
      "Epoch 74/100\n",
      "1/1 [==============================] - ETA: 0s - loss: 5.8032 - mse: 5.803 - 0s 2ms/step - loss: 5.8032 - mse: 5.8032\n",
      "Epoch 75/100\n",
      "1/1 [==============================] - 0s 0s/step - loss: 5.7953 - mse: 5.7953\n",
      "Epoch 76/100\n",
      "1/1 [==============================] - 0s 998us/step - loss: 5.7875 - mse: 5.7875\n",
      "Epoch 77/100\n",
      "1/1 [==============================] - 0s 0s/step - loss: 5.7797 - mse: 5.7797\n",
      "Epoch 78/100\n",
      "1/1 [==============================] - 0s 2ms/step - loss: 5.7720 - mse: 5.7720\n",
      "Epoch 79/100\n",
      "1/1 [==============================] - 0s 996us/step - loss: 5.7643 - mse: 5.7643\n",
      "Epoch 80/100\n",
      "1/1 [==============================] - 0s 2ms/step - loss: 5.7567 - mse: 5.7567\n",
      "Epoch 81/100\n",
      "1/1 [==============================] - 0s 3ms/step - loss: 5.7492 - mse: 5.7492\n",
      "Epoch 82/100\n",
      "1/1 [==============================] - 0s 2ms/step - loss: 5.7417 - mse: 5.7417\n",
      "Epoch 83/100\n",
      "1/1 [==============================] - 0s 3ms/step - loss: 5.7343 - mse: 5.7343\n",
      "Epoch 84/100\n",
      "1/1 [==============================] - 0s 998us/step - loss: 5.7269 - mse: 5.7269\n",
      "Epoch 85/100\n",
      "1/1 [==============================] - 0s 978us/step - loss: 5.7196 - mse: 5.7196\n",
      "Epoch 86/100\n",
      "1/1 [==============================] - 0s 998us/step - loss: 5.7124 - mse: 5.7124\n",
      "Epoch 87/100\n"
     ]
    },
    {
     "name": "stdout",
     "output_type": "stream",
     "text": [
      "1/1 [==============================] - 0s 2ms/step - loss: 5.7052 - mse: 5.7052\n",
      "Epoch 88/100\n",
      "1/1 [==============================] - 0s 997us/step - loss: 5.6981 - mse: 5.6981\n",
      "Epoch 89/100\n",
      "1/1 [==============================] - 0s 996us/step - loss: 5.6911 - mse: 5.6911\n",
      "Epoch 90/100\n",
      "1/1 [==============================] - 0s 997us/step - loss: 5.6841 - mse: 5.6841\n",
      "Epoch 91/100\n",
      "1/1 [==============================] - 0s 997us/step - loss: 5.6771 - mse: 5.6771\n",
      "Epoch 92/100\n",
      "1/1 [==============================] - 0s 1ms/step - loss: 5.6703 - mse: 5.6703\n",
      "Epoch 93/100\n",
      "1/1 [==============================] - 0s 997us/step - loss: 5.6634 - mse: 5.6634\n",
      "Epoch 94/100\n",
      "1/1 [==============================] - 0s 998us/step - loss: 5.6567 - mse: 5.6567\n",
      "Epoch 95/100\n",
      "1/1 [==============================] - 0s 3ms/step - loss: 5.6499 - mse: 5.6499\n",
      "Epoch 96/100\n",
      "1/1 [==============================] - 0s 996us/step - loss: 5.6433 - mse: 5.6433\n",
      "Epoch 97/100\n",
      "1/1 [==============================] - 0s 997us/step - loss: 5.6367 - mse: 5.6367\n",
      "Epoch 98/100\n",
      "1/1 [==============================] - 0s 997us/step - loss: 5.6301 - mse: 5.6301\n",
      "Epoch 99/100\n",
      "1/1 [==============================] - 0s 997us/step - loss: 5.6236 - mse: 5.6236\n",
      "Epoch 100/100\n",
      "1/1 [==============================] - 0s 993us/step - loss: 5.6172 - mse: 5.6172\n"
     ]
    },
    {
     "data": {
      "text/plain": [
       "<tensorflow.python.keras.callbacks.History at 0x264cf6827c8>"
      ]
     },
     "execution_count": 66,
     "metadata": {},
     "output_type": "execute_result"
    }
   ],
   "source": [
    "model.fit(x, y, epochs=100) "
   ]
  },
  {
   "cell_type": "code",
   "execution_count": 67,
   "metadata": {},
   "outputs": [
    {
     "name": "stdout",
     "output_type": "stream",
     "text": [
      "[[104.12591]]\n",
      "[[79.10467]]\n"
     ]
    }
   ],
   "source": [
    "# 예측\n",
    "# 9.5시간 공부하면 몇점나와?\n",
    "# 7.2시간 공부하면 몇점나와?\n",
    "print(model.predict([9.5]))\n",
    "print(model.predict([7.2]))"
   ]
  },
  {
   "cell_type": "code",
   "execution_count": 68,
   "metadata": {},
   "outputs": [
    {
     "data": {
      "text/plain": [
       "[<matplotlib.lines.Line2D at 0x264c79126c8>,\n",
       " <matplotlib.lines.Line2D at 0x264c7fcee08>]"
      ]
     },
     "execution_count": 68,
     "metadata": {},
     "output_type": "execute_result"
    },
    {
     "data": {
      "image/png": "[encoded data removed]",
      "text/plain": [
       "<Figure size 432x288 with 1 Axes>"
      ]
     },
     "metadata": {
      "needs_background": "light"
     },
     "output_type": "display_data"
    }
   ],
   "source": [
    "import matplotlib.pyplot as plt\n",
    "plt.plot(x,model.predict(x),'b',x,y,'k.') # 실제데이터는 검정색 점, 선형 예측은 파란색 직선"
   ]
  },
  {
   "cell_type": "markdown",
   "metadata": {},
   "source": [
    "## 로지스틱 회귀(이진분류)"
   ]
  },
  {
   "cell_type": "code",
   "execution_count": 73,
   "metadata": {},
   "outputs": [
    {
     "data": {
      "text/plain": [
       "[<matplotlib.lines.Line2D at 0x264c78bf808>]"
      ]
     },
     "execution_count": 73,
     "metadata": {},
     "output_type": "execute_result"
    },
    {
     "data": {
      "image/png": "[encoded data removed]",
      "text/plain": [
       "<Figure size 432x288 with 1 Axes>"
      ]
     },
     "metadata": {
      "needs_background": "light"
     },
     "output_type": "display_data"
    }
   ],
   "source": [
    "def mySigmoid(x):\n",
    "    return 1 / (1+np.exp(-x))\n",
    "\n",
    "    \n",
    "x=np.arange(-5,5,0.1) # -5 ~ +4.9\n",
    "y = mySigmoid(x)\n",
    "plt.plot(x,y,'g')\n",
    "plt.plot([0,0],[1,0],':')"
   ]
  },
  {
   "cell_type": "code",
   "execution_count": 78,
   "metadata": {},
   "outputs": [
    {
     "data": {
      "text/plain": [
       "[<matplotlib.lines.Line2D at 0x264c83f1a88>]"
      ]
     },
     "execution_count": 78,
     "metadata": {},
     "output_type": "execute_result"
    },
    {
     "data": {
      "image/png": "[encoded data removed]",
      "text/plain": [
       "<Figure size 432x288 with 1 Axes>"
      ]
     },
     "metadata": {
      "needs_background": "light"
     },
     "output_type": "display_data"
    }
   ],
   "source": [
    "def mySigmoid2(x):\n",
    "    return 1 / (1+np.exp(-x))\n",
    "\n",
    "    \n",
    "x=np.arange(-5,5,0.1) # -5 ~ +4.9\n",
    "y1 = mySigmoid(x) # w=1\n",
    "y2 = mySigmoid(0.5*x) # w=0.5\n",
    "y3 = mySigmoid(2*x) # w=2\n",
    "plt.plot(x,y1,'g')\n",
    "plt.plot(x,y2,'b')\n",
    "plt.plot(x,y3,'r')\n",
    "plt.plot([0,0],[1,0],':')"
   ]
  },
  {
   "cell_type": "code",
   "execution_count": 79,
   "metadata": {},
   "outputs": [],
   "source": [
    "x=np.array([-50,-40,-30,-20,-10,-5,0,5,10,22,31,47,55])\n",
    "y=np.array([0,0,0,0,0,0,0,1,1,1,1,1,1])"
   ]
  },
  {
   "cell_type": "code",
   "execution_count": 80,
   "metadata": {},
   "outputs": [],
   "source": [
    "# x=3, y=? 0 or 1?"
   ]
  },
  {
   "cell_type": "code",
   "execution_count": 82,
   "metadata": {},
   "outputs": [],
   "source": [
    "model=Sequential()\n",
    "model.add(Dense(1,input_dim=1,activation='sigmoid'))"
   ]
  },
  {
   "cell_type": "code",
   "execution_count": 83,
   "metadata": {},
   "outputs": [],
   "source": [
    "#logistic regression → classification\n",
    "sgd = optimizers.SGD(lr=0.01)\n",
    "model.compile(loss=\"binary_crossentropy\",optimizer='sgd',metrics=['binary_accuracy'])"
   ]
  },
  {
   "cell_type": "code",
   "execution_count": 86,
   "metadata": {},
   "outputs": [
    {
     "name": "stdout",
     "output_type": "stream",
     "text": [
      "Epoch 1/5\n",
      "1/1 [==============================] - 0s 1ms/step - loss: 0.0492 - binary_accuracy: 1.0000\n",
      "Epoch 2/5\n",
      "1/1 [==============================] - 0s 996us/step - loss: 0.0492 - binary_accuracy: 1.0000\n",
      "Epoch 3/5\n",
      "1/1 [==============================] - 0s 996us/step - loss: 0.0492 - binary_accuracy: 1.0000\n",
      "Epoch 4/5\n",
      "1/1 [==============================] - 0s 2ms/step - loss: 0.0492 - binary_accuracy: 1.0000\n",
      "Epoch 5/5\n",
      "1/1 [==============================] - 0s 998us/step - loss: 0.0492 - binary_accuracy: 1.0000\n"
     ]
    },
    {
     "data": {
      "text/plain": [
       "<tensorflow.python.keras.callbacks.History at 0x264c87ed708>"
      ]
     },
     "execution_count": 86,
     "metadata": {},
     "output_type": "execute_result"
    }
   ],
   "source": [
    "model.fit(x,y,epochs=5)"
   ]
  },
  {
   "cell_type": "code",
   "execution_count": 89,
   "metadata": {},
   "outputs": [
    {
     "data": {
      "text/plain": [
       "array([[0.7896277 ],\n",
       "       [0.9851662 ],\n",
       "       [0.99643326]], dtype=float32)"
      ]
     },
     "execution_count": 89,
     "metadata": {},
     "output_type": "execute_result"
    },
    {
     "data": {
      "image/png": "[encoded data removed]",
      "text/plain": [
       "<Figure size 432x288 with 1 Axes>"
      ]
     },
     "metadata": {
      "needs_background": "light"
     },
     "output_type": "display_data"
    }
   ],
   "source": [
    "plt.plot(x,model.predict(x),'b',x,y,'k.')\n",
    "model.predict([1,3,4])"
   ]
  },
  {
   "cell_type": "code",
   "execution_count": null,
   "metadata": {},
   "outputs": [],
   "source": []
  }
 ],
 "metadata": {
  "kernelspec": {
   "display_name": "Python 3",
   "language": "python",
   "name": "python3"
  },
  "language_info": {
   "codemirror_mode": {
    "name": "ipython",
    "version": 3
   },
   "file_extension": ".py",
   "mimetype": "text/x-python",
   "name": "python",
   "nbconvert_exporter": "python",
   "pygments_lexer": "ipython3",
   "version": "3.7.7"
  }
 },
 "nbformat": 4,
 "nbformat_minor": 4
}
