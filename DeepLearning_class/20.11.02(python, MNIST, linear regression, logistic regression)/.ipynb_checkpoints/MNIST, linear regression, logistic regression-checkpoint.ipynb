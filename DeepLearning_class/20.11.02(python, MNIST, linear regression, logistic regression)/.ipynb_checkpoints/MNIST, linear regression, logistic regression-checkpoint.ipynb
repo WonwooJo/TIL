{
 "cells": [
  {
   "cell_type": "code",
   "execution_count": 1,
   "metadata": {},
   "outputs": [],
   "source": [
    "# MNIST 미국 우편물 자동 분류기\n",
    "# 필기체를 받았어."
   ]
  },
  {
   "cell_type": "code",
   "execution_count": 3,
   "metadata": {},
   "outputs": [],
   "source": [
    "from keras.utils import np_utils\n",
    "from keras.datasets import mnist\n",
    "from keras.models import Sequential\n",
    "from keras.layers import Dense, Activation"
   ]
  },
  {
   "cell_type": "code",
   "execution_count": 30,
   "metadata": {},
   "outputs": [],
   "source": [
    "# 1) 데이터셋 생성\n",
    "(xTrain, yTrain),(xTest, yTest) = mnist.load_data()"
   ]
  },
  {
   "cell_type": "code",
   "execution_count": 31,
   "metadata": {},
   "outputs": [],
   "source": [
    "# 28X28 pixel로 구성된 이미지가 60,000장 \n",
    "xTrain\n",
    "xTrain = xTrain.reshape(60000,28*28).astype('float32')/255.0\n",
    "xTest = xTest.reshape(10000,28*28).astype('float32')/255.0\n"
   ]
  },
  {
   "cell_type": "code",
   "execution_count": 32,
   "metadata": {},
   "outputs": [
    {
     "data": {
      "text/plain": [
       "array([5, 0, 4, ..., 5, 6, 8], dtype=uint8)"
      ]
     },
     "execution_count": 32,
     "metadata": {},
     "output_type": "execute_result"
    }
   ],
   "source": [
    "yTrain"
   ]
  },
  {
   "cell_type": "code",
   "execution_count": 33,
   "metadata": {},
   "outputs": [],
   "source": [
    "# OneHotEncoding 자동!!\n",
    "yTrain = np_utils.to_categorical(yTrain)\n",
    "yTest = np_utils.to_categorical(yTest)"
   ]
  },
  {
   "cell_type": "code",
   "execution_count": 34,
   "metadata": {},
   "outputs": [],
   "source": [
    "# 2) 모델 구성\n",
    "model = Sequential()\n",
    "model.add(Dense(units=64,input_dim=28*28,activation='relu')) # 레이어 추가!(Dense(출력노드 64개, 입력데이터의 차원(입력에만))) \n",
    "model.add(Dense(units=10,activation='softmax'))"
   ]
  },
  {
   "cell_type": "code",
   "execution_count": 35,
   "metadata": {},
   "outputs": [],
   "source": [
    "# 3) 학습과정 설정\n",
    "# cost함수, compile 함수\n",
    "model.compile(loss=\"categorical_crossentropy\",optimizer='sgd',metrics=['accuracy'])"
   ]
  },
  {
   "cell_type": "code",
   "execution_count": 36,
   "metadata": {},
   "outputs": [
    {
     "name": "stdout",
     "output_type": "stream",
     "text": [
      "Epoch 1/5\n",
      "1875/1875 [==============================] - 2s 1ms/step - loss: 0.6736 - accuracy: 0.8307\n",
      "Epoch 2/5\n",
      "1875/1875 [==============================] - 2s 940us/step - loss: 0.3378 - accuracy: 0.9057\n",
      "Epoch 3/5\n",
      "1875/1875 [==============================] - 2s 898us/step - loss: 0.2895 - accuracy: 0.9186\n",
      "Epoch 4/5\n",
      "1875/1875 [==============================] - 2s 890us/step - loss: 0.2609 - accuracy: 0.9272\n",
      "Epoch 5/5\n",
      "1875/1875 [==============================] - 2s 947us/step - loss: 0.2395 - accuracy: 0.9323\n"
     ]
    }
   ],
   "source": [
    "# 4) 모델 학습\n",
    "hist = model.fit(xTrain, yTrain, epochs=5, batch_size=32)"
   ]
  },
  {
   "cell_type": "code",
   "execution_count": null,
   "metadata": {},
   "outputs": [],
   "source": []
  }
 ],
 "metadata": {
  "kernelspec": {
   "display_name": "Python 3",
   "language": "python",
   "name": "python3"
  },
  "language_info": {
   "codemirror_mode": {
    "name": "ipython",
    "version": 3
   },
   "file_extension": ".py",
   "mimetype": "text/x-python",
   "name": "python",
   "nbconvert_exporter": "python",
   "pygments_lexer": "ipython3",
   "version": "3.7.7"
  }
 },
 "nbformat": 4,
 "nbformat_minor": 4
}
