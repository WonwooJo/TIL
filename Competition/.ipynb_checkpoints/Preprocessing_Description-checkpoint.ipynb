{
 "cells": [
  {
   "cell_type": "code",
   "execution_count": 1,
   "metadata": {},
   "outputs": [],
   "source": [
    "import pandas as pd\n",
    "import numpy as np\n",
    "from sklearn.preprocessing import MinMaxScaler\n",
    "from sklearn.preprocessing import minmax_scale\n",
    "from scipy.stats import zscore\n",
    "from sklearn.preprocessing import StandardScaler, RobustScaler\n",
    "from sklearn.preprocessing import binarize\n",
    "from sklearn.preprocessing import Binarizer\n",
    "import matplotlib.pyplot as plt\n",
    "from datetime import datetime\n",
    "\n",
    "# 한글깨짐방지코드\n",
    "import matplotlib\n",
    "from matplotlib import font_manager, rc\n",
    "import platform\n",
    "if platform.system()==\"Windows\":\n",
    "    font_name=font_manager.FontProperties(fname=\"c:/Windows/Fonts/malgun.ttf\").get_name()\n",
    "    rc('font', family=font_name)\n",
    "matplotlib.rcParams['axes.unicode_minus']=False\n",
    "\n",
    "import warnings\n",
    "warnings.filterwarnings(\"ignore\")\n",
    "\n",
    "# 그래프 라이브러리\n",
    "import seaborn as sns\n",
    "import matplotlib.pyplot as plt\n",
    "\n",
    "# 통계 라이브러리 임포트\n",
    "import scipy.stats as stats"
   ]
  },
  {
   "cell_type": "code",
   "execution_count": 2,
   "metadata": {},
   "outputs": [],
   "source": [
    "Test=pd.read_excel('Evaluation_data.xlsx', skiprows=1,parse_dates=['방송일시'])"
   ]
  },
  {
   "cell_type": "code",
   "execution_count": 30,
   "metadata": {},
   "outputs": [],
   "source": [
    "# 요일 구분\n",
    "list1 = []\n",
    "for i in Test['방송일시']:\n",
    "    list1.append(i.weekday())\n",
    "weekday = pd.Series(list1)\n",
    "\n",
    "Test['요일'] = weekday\n",
    "Test['요일'] = Test['요일'].astype('category')"
   ]
  },
  {
   "cell_type": "code",
   "execution_count": 33,
   "metadata": {},
   "outputs": [],
   "source": [
    "# 요일 분류 → 월~일\n",
    "Test.loc[Test['요일'] == 0, '월'] = True\n",
    "Test.loc[Test['요일'] == 1, '화'] = True\n",
    "Test.loc[Test['요일'] == 2, '수'] = True\n",
    "Test.loc[Test['요일'] == 3, '목'] = True\n",
    "Test.loc[Test['요일'] == 4, '금'] = True\n",
    "Test.loc[Test['요일'] == 5, '토'] = True\n",
    "Test.loc[Test['요일'] == 6, '일'] = True\n",
    "\n",
    "Test['월'].fillna(False, inplace = True)\n",
    "Test['화'].fillna(False, inplace = True)\n",
    "Test['수'].fillna(False, inplace = True)\n",
    "Test['목'].fillna(False, inplace = True)\n",
    "Test['금'].fillna(False, inplace = True)\n",
    "Test['토'].fillna(False, inplace = True)\n",
    "Test['일'].fillna(False, inplace = True)"
   ]
  },
  {
   "cell_type": "code",
   "execution_count": 8,
   "metadata": {},
   "outputs": [],
   "source": [
    "# 2019년 공휴일\n",
    "from datetime import date, datetime\n",
    " \n",
    "MON, TUE, WED, THU, FRI, SAT, SUN = range(7)\n",
    " \n",
    "class holiday2020():\n",
    "    HOLIDAYS = ((1,1), # new Year\n",
    "                (1,24), # new Year0\n",
    "                (1,25), # new Year1\n",
    "                (1,26), # new Year2\n",
    "                (3,1), # 3.1\n",
    "                (4,15), # 21st Vote Day\n",
    "                (4,30), # Buddha Day\n",
    "                (5,5), # Children's Day\n",
    "                (6,6), # Memorial Day\n",
    "                (8,15), # Liberation Day\n",
    "                (9,30), # Thanksgiving0\n",
    "                (10,1), # Thanksgiving1\n",
    "                (10,2), # Thanksgiving2\n",
    "                (10,3), # National Foundation Day\n",
    "                (10,9), # Hangul Day\n",
    "                (12,25)) # Christmas\n",
    " \n",
    "    def is_holiday(self, daytuple):\n",
    "        HOLIDAYS = self.HOLIDAYS\n",
    "        if daytuple in HOLIDAYS:\n",
    "            return 1\n",
    "        else:\n",
    "            return 0"
   ]
  },
  {
   "cell_type": "code",
   "execution_count": 13,
   "metadata": {},
   "outputs": [],
   "source": [
    "l = []\n",
    "if __name__=='__main__':\n",
    "    for i in Test['방송일시']:\n",
    "        now = i\n",
    "        daytuple = ((now.month),(now.day))\n",
    "        nowholiday = holiday2020()\n",
    "        l.append(nowholiday.is_holiday(daytuple))\n",
    "        \n",
    "holiday = pd.Series(l).astype('category')\n",
    "Test['휴일'] = holiday"
   ]
  },
  {
   "cell_type": "code",
   "execution_count": null,
   "metadata": {},
   "outputs": [],
   "source": [
    "# 휴일 / 평일 구분\n",
    "Test.loc[df_new['휴일'] == 1, 'resting_day'] = 1\n",
    "Test.loc[df_new['휴일'] == 0, 'working_day'] = 1\n",
    "\n",
    "Test['working_day'].fillna(0, inplace = True)\n",
    "Test['resting_day'].fillna(0, inplace = True)"
   ]
  },
  {
   "cell_type": "code",
   "execution_count": 12,
   "metadata": {},
   "outputs": [],
   "source": [
    "# 월, 일, 시간 컬럼 생성\n",
    "Test['month'] = Test['방송일시'].dt.month\n",
    "Test['day'] = Test['방송일시'].dt.day\n",
    "Test['hour'] = Test['방송일시'].dt.hour"
   ]
  },
  {
   "cell_type": "code",
   "execution_count": null,
   "metadata": {},
   "outputs": [],
   "source": []
  }
 ],
 "metadata": {
  "kernelspec": {
   "display_name": "Python 3",
   "language": "python",
   "name": "python3"
  },
  "language_info": {
   "codemirror_mode": {
    "name": "ipython",
    "version": 3
   },
   "file_extension": ".py",
   "mimetype": "text/x-python",
   "name": "python",
   "nbconvert_exporter": "python",
   "pygments_lexer": "ipython3",
   "version": "3.7.7"
  }
 },
 "nbformat": 4,
 "nbformat_minor": 4
}
